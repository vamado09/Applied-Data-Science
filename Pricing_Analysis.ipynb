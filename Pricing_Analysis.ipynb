{
  "nbformat": 4,
  "nbformat_minor": 0,
  "metadata": {
    "colab": {
      "provenance": [],
      "toc_visible": true,
      "authorship_tag": "ABX9TyON73Qd2mSZhfyUpHLMYFFj",
      "include_colab_link": true
    },
    "kernelspec": {
      "name": "python3",
      "display_name": "Python 3"
    },
    "language_info": {
      "name": "python"
    }
  },
  "cells": [
    {
      "cell_type": "markdown",
      "metadata": {
        "id": "view-in-github",
        "colab_type": "text"
      },
      "source": [
        "<a href=\"https://colab.research.google.com/github/vamado09/Applied-Data-Science/blob/main/Pricing_Analysis.ipynb\" target=\"_parent\"><img src=\"https://colab.research.google.com/assets/colab-badge.svg\" alt=\"Open In Colab\"/></a>"
      ]
    },
    {
      "cell_type": "code",
      "execution_count": 1,
      "metadata": {
        "id": "LLUq90ViMfEN"
      },
      "outputs": [],
      "source": [
        "import pandas as pd\n",
        "import numpy as np\n",
        "import seaborn as sns\n",
        "import matplotlib.pyplot as plt\n",
        "import matplotlib.dates as mdates"
      ]
    },
    {
      "cell_type": "markdown",
      "source": [
        "# SKU PERFORMANCE"
      ],
      "metadata": {
        "id": "xU5vYKVl6MSF"
      }
    },
    {
      "cell_type": "markdown",
      "source": [
        "SQL Code I need:"
      ],
      "metadata": {
        "id": "yPKRJlJSsuKi"
      }
    },
    {
      "cell_type": "code",
      "source": [
        "#SELECT SKU_NUMBER,\n",
        "#BILLING_DATE,\n",
        "#SUM(NET_SALES) AS TOTAL_NET_SALES,\n",
        "#SUM(UNITS_SOLD)AS TOTAL_UNITS_SOLD,\n",
        "#SUM(NET_SALES)/SUM(UNITS_SOLD) AS AVERAGE_PRICE,\n",
        "#SUM(GROSS_MARGIN) AS TOTAL_GROSS_MARGIN\n",
        "\n",
        "#FROM WFF_US_EDW_DEV.VISUAL.FCT_SALES_ITEMS\n",
        "#WHERE BILLING_DATE BETWEEN 20240601 AND 20240930\n",
        "#AND MOVEMENT_TYPE = 'Sales'\n",
        "#AND SKU_NUMBER = 2654\n",
        "#GROUP BY SKU_NUMBER, BILLING_DATE\n",
        "#ORDER BY BILLING_DATE;"
      ],
      "metadata": {
        "id": "yfSgizy26PXf"
      },
      "execution_count": null,
      "outputs": []
    },
    {
      "cell_type": "markdown",
      "source": [
        "INCORPORATE THE ONE IN ONE DRIVE"
      ],
      "metadata": {
        "id": "WLAe-9E3mqeZ"
      }
    },
    {
      "cell_type": "code",
      "source": [
        "df = pd.read_csv('/content/PLU_2654.csv')\n",
        "df['BILLING_DATE'] = pd.to_datetime(df['BILLING_DATE'], format='%Y%m%d')\n",
        "df.head()"
      ],
      "metadata": {
        "colab": {
          "base_uri": "https://localhost:8080/",
          "height": 204
        },
        "id": "jfH6-sx6uCrJ",
        "outputId": "c4ffe564-817a-4f42-effd-4e62fcb4aea6"
      },
      "execution_count": 2,
      "outputs": [
        {
          "output_type": "execute_result",
          "data": {
            "text/plain": [
              "   SKU_NUMBER BILLING_DATE  TOTAL_NET_SALES  TOTAL_UNITS_SOLD  AVERAGE_PRICE  \\\n",
              "0        2654   2024-06-01           796.47             160.0       4.977938   \n",
              "1        2654   2024-06-02          1258.29             253.0       4.973478   \n",
              "2        2654   2024-06-03          1068.66             215.0       4.970512   \n",
              "3        2654   2024-06-04           624.78             126.0       4.958571   \n",
              "4        2654   2024-06-05           517.16             104.0       4.972692   \n",
              "\n",
              "   TOTAL_COGS  TOTAL_GROSS_MARGIN  \n",
              "0      556.21              240.26  \n",
              "1      880.10              378.19  \n",
              "2      748.60              320.06  \n",
              "3      438.93              185.85  \n",
              "4      361.95              155.21  "
            ],
            "text/html": [
              "\n",
              "  <div id=\"df-1b3187b5-e011-4183-91cc-2f2a81433d47\" class=\"colab-df-container\">\n",
              "    <div>\n",
              "<style scoped>\n",
              "    .dataframe tbody tr th:only-of-type {\n",
              "        vertical-align: middle;\n",
              "    }\n",
              "\n",
              "    .dataframe tbody tr th {\n",
              "        vertical-align: top;\n",
              "    }\n",
              "\n",
              "    .dataframe thead th {\n",
              "        text-align: right;\n",
              "    }\n",
              "</style>\n",
              "<table border=\"1\" class=\"dataframe\">\n",
              "  <thead>\n",
              "    <tr style=\"text-align: right;\">\n",
              "      <th></th>\n",
              "      <th>SKU_NUMBER</th>\n",
              "      <th>BILLING_DATE</th>\n",
              "      <th>TOTAL_NET_SALES</th>\n",
              "      <th>TOTAL_UNITS_SOLD</th>\n",
              "      <th>AVERAGE_PRICE</th>\n",
              "      <th>TOTAL_COGS</th>\n",
              "      <th>TOTAL_GROSS_MARGIN</th>\n",
              "    </tr>\n",
              "  </thead>\n",
              "  <tbody>\n",
              "    <tr>\n",
              "      <th>0</th>\n",
              "      <td>2654</td>\n",
              "      <td>2024-06-01</td>\n",
              "      <td>796.47</td>\n",
              "      <td>160.0</td>\n",
              "      <td>4.977938</td>\n",
              "      <td>556.21</td>\n",
              "      <td>240.26</td>\n",
              "    </tr>\n",
              "    <tr>\n",
              "      <th>1</th>\n",
              "      <td>2654</td>\n",
              "      <td>2024-06-02</td>\n",
              "      <td>1258.29</td>\n",
              "      <td>253.0</td>\n",
              "      <td>4.973478</td>\n",
              "      <td>880.10</td>\n",
              "      <td>378.19</td>\n",
              "    </tr>\n",
              "    <tr>\n",
              "      <th>2</th>\n",
              "      <td>2654</td>\n",
              "      <td>2024-06-03</td>\n",
              "      <td>1068.66</td>\n",
              "      <td>215.0</td>\n",
              "      <td>4.970512</td>\n",
              "      <td>748.60</td>\n",
              "      <td>320.06</td>\n",
              "    </tr>\n",
              "    <tr>\n",
              "      <th>3</th>\n",
              "      <td>2654</td>\n",
              "      <td>2024-06-04</td>\n",
              "      <td>624.78</td>\n",
              "      <td>126.0</td>\n",
              "      <td>4.958571</td>\n",
              "      <td>438.93</td>\n",
              "      <td>185.85</td>\n",
              "    </tr>\n",
              "    <tr>\n",
              "      <th>4</th>\n",
              "      <td>2654</td>\n",
              "      <td>2024-06-05</td>\n",
              "      <td>517.16</td>\n",
              "      <td>104.0</td>\n",
              "      <td>4.972692</td>\n",
              "      <td>361.95</td>\n",
              "      <td>155.21</td>\n",
              "    </tr>\n",
              "  </tbody>\n",
              "</table>\n",
              "</div>\n",
              "    <div class=\"colab-df-buttons\">\n",
              "\n",
              "  <div class=\"colab-df-container\">\n",
              "    <button class=\"colab-df-convert\" onclick=\"convertToInteractive('df-1b3187b5-e011-4183-91cc-2f2a81433d47')\"\n",
              "            title=\"Convert this dataframe to an interactive table.\"\n",
              "            style=\"display:none;\">\n",
              "\n",
              "  <svg xmlns=\"http://www.w3.org/2000/svg\" height=\"24px\" viewBox=\"0 -960 960 960\">\n",
              "    <path d=\"M120-120v-720h720v720H120Zm60-500h600v-160H180v160Zm220 220h160v-160H400v160Zm0 220h160v-160H400v160ZM180-400h160v-160H180v160Zm440 0h160v-160H620v160ZM180-180h160v-160H180v160Zm440 0h160v-160H620v160Z\"/>\n",
              "  </svg>\n",
              "    </button>\n",
              "\n",
              "  <style>\n",
              "    .colab-df-container {\n",
              "      display:flex;\n",
              "      gap: 12px;\n",
              "    }\n",
              "\n",
              "    .colab-df-convert {\n",
              "      background-color: #E8F0FE;\n",
              "      border: none;\n",
              "      border-radius: 50%;\n",
              "      cursor: pointer;\n",
              "      display: none;\n",
              "      fill: #1967D2;\n",
              "      height: 32px;\n",
              "      padding: 0 0 0 0;\n",
              "      width: 32px;\n",
              "    }\n",
              "\n",
              "    .colab-df-convert:hover {\n",
              "      background-color: #E2EBFA;\n",
              "      box-shadow: 0px 1px 2px rgba(60, 64, 67, 0.3), 0px 1px 3px 1px rgba(60, 64, 67, 0.15);\n",
              "      fill: #174EA6;\n",
              "    }\n",
              "\n",
              "    .colab-df-buttons div {\n",
              "      margin-bottom: 4px;\n",
              "    }\n",
              "\n",
              "    [theme=dark] .colab-df-convert {\n",
              "      background-color: #3B4455;\n",
              "      fill: #D2E3FC;\n",
              "    }\n",
              "\n",
              "    [theme=dark] .colab-df-convert:hover {\n",
              "      background-color: #434B5C;\n",
              "      box-shadow: 0px 1px 3px 1px rgba(0, 0, 0, 0.15);\n",
              "      filter: drop-shadow(0px 1px 2px rgba(0, 0, 0, 0.3));\n",
              "      fill: #FFFFFF;\n",
              "    }\n",
              "  </style>\n",
              "\n",
              "    <script>\n",
              "      const buttonEl =\n",
              "        document.querySelector('#df-1b3187b5-e011-4183-91cc-2f2a81433d47 button.colab-df-convert');\n",
              "      buttonEl.style.display =\n",
              "        google.colab.kernel.accessAllowed ? 'block' : 'none';\n",
              "\n",
              "      async function convertToInteractive(key) {\n",
              "        const element = document.querySelector('#df-1b3187b5-e011-4183-91cc-2f2a81433d47');\n",
              "        const dataTable =\n",
              "          await google.colab.kernel.invokeFunction('convertToInteractive',\n",
              "                                                    [key], {});\n",
              "        if (!dataTable) return;\n",
              "\n",
              "        const docLinkHtml = 'Like what you see? Visit the ' +\n",
              "          '<a target=\"_blank\" href=https://colab.research.google.com/notebooks/data_table.ipynb>data table notebook</a>'\n",
              "          + ' to learn more about interactive tables.';\n",
              "        element.innerHTML = '';\n",
              "        dataTable['output_type'] = 'display_data';\n",
              "        await google.colab.output.renderOutput(dataTable, element);\n",
              "        const docLink = document.createElement('div');\n",
              "        docLink.innerHTML = docLinkHtml;\n",
              "        element.appendChild(docLink);\n",
              "      }\n",
              "    </script>\n",
              "  </div>\n",
              "\n",
              "\n",
              "<div id=\"df-5b0bb07a-96bf-41d5-810c-25634732e1a4\">\n",
              "  <button class=\"colab-df-quickchart\" onclick=\"quickchart('df-5b0bb07a-96bf-41d5-810c-25634732e1a4')\"\n",
              "            title=\"Suggest charts\"\n",
              "            style=\"display:none;\">\n",
              "\n",
              "<svg xmlns=\"http://www.w3.org/2000/svg\" height=\"24px\"viewBox=\"0 0 24 24\"\n",
              "     width=\"24px\">\n",
              "    <g>\n",
              "        <path d=\"M19 3H5c-1.1 0-2 .9-2 2v14c0 1.1.9 2 2 2h14c1.1 0 2-.9 2-2V5c0-1.1-.9-2-2-2zM9 17H7v-7h2v7zm4 0h-2V7h2v10zm4 0h-2v-4h2v4z\"/>\n",
              "    </g>\n",
              "</svg>\n",
              "  </button>\n",
              "\n",
              "<style>\n",
              "  .colab-df-quickchart {\n",
              "      --bg-color: #E8F0FE;\n",
              "      --fill-color: #1967D2;\n",
              "      --hover-bg-color: #E2EBFA;\n",
              "      --hover-fill-color: #174EA6;\n",
              "      --disabled-fill-color: #AAA;\n",
              "      --disabled-bg-color: #DDD;\n",
              "  }\n",
              "\n",
              "  [theme=dark] .colab-df-quickchart {\n",
              "      --bg-color: #3B4455;\n",
              "      --fill-color: #D2E3FC;\n",
              "      --hover-bg-color: #434B5C;\n",
              "      --hover-fill-color: #FFFFFF;\n",
              "      --disabled-bg-color: #3B4455;\n",
              "      --disabled-fill-color: #666;\n",
              "  }\n",
              "\n",
              "  .colab-df-quickchart {\n",
              "    background-color: var(--bg-color);\n",
              "    border: none;\n",
              "    border-radius: 50%;\n",
              "    cursor: pointer;\n",
              "    display: none;\n",
              "    fill: var(--fill-color);\n",
              "    height: 32px;\n",
              "    padding: 0;\n",
              "    width: 32px;\n",
              "  }\n",
              "\n",
              "  .colab-df-quickchart:hover {\n",
              "    background-color: var(--hover-bg-color);\n",
              "    box-shadow: 0 1px 2px rgba(60, 64, 67, 0.3), 0 1px 3px 1px rgba(60, 64, 67, 0.15);\n",
              "    fill: var(--button-hover-fill-color);\n",
              "  }\n",
              "\n",
              "  .colab-df-quickchart-complete:disabled,\n",
              "  .colab-df-quickchart-complete:disabled:hover {\n",
              "    background-color: var(--disabled-bg-color);\n",
              "    fill: var(--disabled-fill-color);\n",
              "    box-shadow: none;\n",
              "  }\n",
              "\n",
              "  .colab-df-spinner {\n",
              "    border: 2px solid var(--fill-color);\n",
              "    border-color: transparent;\n",
              "    border-bottom-color: var(--fill-color);\n",
              "    animation:\n",
              "      spin 1s steps(1) infinite;\n",
              "  }\n",
              "\n",
              "  @keyframes spin {\n",
              "    0% {\n",
              "      border-color: transparent;\n",
              "      border-bottom-color: var(--fill-color);\n",
              "      border-left-color: var(--fill-color);\n",
              "    }\n",
              "    20% {\n",
              "      border-color: transparent;\n",
              "      border-left-color: var(--fill-color);\n",
              "      border-top-color: var(--fill-color);\n",
              "    }\n",
              "    30% {\n",
              "      border-color: transparent;\n",
              "      border-left-color: var(--fill-color);\n",
              "      border-top-color: var(--fill-color);\n",
              "      border-right-color: var(--fill-color);\n",
              "    }\n",
              "    40% {\n",
              "      border-color: transparent;\n",
              "      border-right-color: var(--fill-color);\n",
              "      border-top-color: var(--fill-color);\n",
              "    }\n",
              "    60% {\n",
              "      border-color: transparent;\n",
              "      border-right-color: var(--fill-color);\n",
              "    }\n",
              "    80% {\n",
              "      border-color: transparent;\n",
              "      border-right-color: var(--fill-color);\n",
              "      border-bottom-color: var(--fill-color);\n",
              "    }\n",
              "    90% {\n",
              "      border-color: transparent;\n",
              "      border-bottom-color: var(--fill-color);\n",
              "    }\n",
              "  }\n",
              "</style>\n",
              "\n",
              "  <script>\n",
              "    async function quickchart(key) {\n",
              "      const quickchartButtonEl =\n",
              "        document.querySelector('#' + key + ' button');\n",
              "      quickchartButtonEl.disabled = true;  // To prevent multiple clicks.\n",
              "      quickchartButtonEl.classList.add('colab-df-spinner');\n",
              "      try {\n",
              "        const charts = await google.colab.kernel.invokeFunction(\n",
              "            'suggestCharts', [key], {});\n",
              "      } catch (error) {\n",
              "        console.error('Error during call to suggestCharts:', error);\n",
              "      }\n",
              "      quickchartButtonEl.classList.remove('colab-df-spinner');\n",
              "      quickchartButtonEl.classList.add('colab-df-quickchart-complete');\n",
              "    }\n",
              "    (() => {\n",
              "      let quickchartButtonEl =\n",
              "        document.querySelector('#df-5b0bb07a-96bf-41d5-810c-25634732e1a4 button');\n",
              "      quickchartButtonEl.style.display =\n",
              "        google.colab.kernel.accessAllowed ? 'block' : 'none';\n",
              "    })();\n",
              "  </script>\n",
              "</div>\n",
              "\n",
              "    </div>\n",
              "  </div>\n"
            ],
            "application/vnd.google.colaboratory.intrinsic+json": {
              "type": "dataframe",
              "variable_name": "df",
              "summary": "{\n  \"name\": \"df\",\n  \"rows\": 102,\n  \"fields\": [\n    {\n      \"column\": \"SKU_NUMBER\",\n      \"properties\": {\n        \"dtype\": \"number\",\n        \"std\": 0,\n        \"min\": 2654,\n        \"max\": 2654,\n        \"num_unique_values\": 1,\n        \"samples\": [\n          2654\n        ],\n        \"semantic_type\": \"\",\n        \"description\": \"\"\n      }\n    },\n    {\n      \"column\": \"BILLING_DATE\",\n      \"properties\": {\n        \"dtype\": \"date\",\n        \"min\": \"2024-06-01 00:00:00\",\n        \"max\": \"2024-09-10 00:00:00\",\n        \"num_unique_values\": 102,\n        \"samples\": [\n          \"2024-07-01 00:00:00\"\n        ],\n        \"semantic_type\": \"\",\n        \"description\": \"\"\n      }\n    },\n    {\n      \"column\": \"TOTAL_NET_SALES\",\n      \"properties\": {\n        \"dtype\": \"number\",\n        \"std\": 185.2389376315652,\n        \"min\": 393.2,\n        \"max\": 1258.29,\n        \"num_unique_values\": 102,\n        \"samples\": [\n          1085.96\n        ],\n        \"semantic_type\": \"\",\n        \"description\": \"\"\n      }\n    },\n    {\n      \"column\": \"TOTAL_UNITS_SOLD\",\n      \"properties\": {\n        \"dtype\": \"number\",\n        \"std\": 37.81649204344254,\n        \"min\": 79.0,\n        \"max\": 253.0,\n        \"num_unique_values\": 76,\n        \"samples\": [\n          104.0\n        ],\n        \"semantic_type\": \"\",\n        \"description\": \"\"\n      }\n    },\n    {\n      \"column\": \"AVERAGE_PRICE\",\n      \"properties\": {\n        \"dtype\": \"number\",\n        \"std\": 0.038084572116808116,\n        \"min\": 4.70645833333,\n        \"max\": 5.0,\n        \"num_unique_values\": 98,\n        \"samples\": [\n          4.98255319149\n        ],\n        \"semantic_type\": \"\",\n        \"description\": \"\"\n      }\n    },\n    {\n      \"column\": \"TOTAL_COGS\",\n      \"properties\": {\n        \"dtype\": \"number\",\n        \"std\": 132.7112513034581,\n        \"min\": 277.9,\n        \"max\": 880.1,\n        \"num_unique_values\": 102,\n        \"samples\": [\n          782.59\n        ],\n        \"semantic_type\": \"\",\n        \"description\": \"\"\n      }\n    },\n    {\n      \"column\": \"TOTAL_GROSS_MARGIN\",\n      \"properties\": {\n        \"dtype\": \"number\",\n        \"std\": 52.97589327301768,\n        \"min\": 115.3,\n        \"max\": 378.19,\n        \"num_unique_values\": 102,\n        \"samples\": [\n          303.37\n        ],\n        \"semantic_type\": \"\",\n        \"description\": \"\"\n      }\n    }\n  ]\n}"
            }
          },
          "metadata": {},
          "execution_count": 2
        }
      ]
    },
    {
      "cell_type": "code",
      "source": [
        "#df.dtypes"
      ],
      "metadata": {
        "id": "1HTJQgIQylpS"
      },
      "execution_count": 9,
      "outputs": []
    },
    {
      "cell_type": "markdown",
      "source": [
        "# Price Elasticity\n",
        "\n",
        "- ELASTIC: Traditionally, a product is considered to have elastic demand if the absolute value of its price elasticity is greater than 1. This means demand is highly responsive to price changes.\n",
        "\n",
        "- INELASTIC: If the absolute value is less than 1, demand is relatively unresponsive to price changes.\n",
        "\n",
        "- Unit Elastic: An elasticity of exactly -1 means that the percentage change in quantity demanded is equal to the percentage change in price.\n",
        "\n",
        "**Signs:**\n",
        "- Positive Elasticity indicates that as the price increases, demand also increases, which is unusual and typically not expected.\n",
        "\n",
        "- Negative Elasticity is more common and indicates that as the price increases, demand decreases."
      ],
      "metadata": {
        "id": "P4Myea8E1VOe"
      }
    },
    {
      "cell_type": "markdown",
      "source": [
        "Price elasticity is a measure that tells us how the demand for a product changes when its price changes. For example, if we increase the price of a ground beef, will people buy fewer of them? If they buy a lot fewer, we say the ground beef has high price elasticity.\n",
        "\n",
        "-  If a product has high elasticity, even a small price increase might lead to a significant drop in sales. On the other hand, if a product has low elasticity, it means that sales are not very sensitive to price changes, which might allow more flexibility in raising prices without losing customers.\n",
        "\n",
        "So, for my code below I need:\n",
        "\n",
        "- Percentage Changes: We look at how much the price of a product has changed from one day to the next and how much the quantity sold has changed.\n",
        "\n",
        "- Avoiding Errors: Sometimes, when calculating changes, the price might not change from one day to the next, which can lead to errors (like trying to divide by zero). To avoid this, I tweak calculations a bit by adding a very tiny number to the denominator (the number we're dividing by). This way, we never end up dividing by zero.\n",
        "\n",
        "\n",
        "- Cleaning Up Extreme Values: Sometimes, the calculation gives us unrealistic numbers (like saying demand is infinitely sensitive to price changes). We can adjust these by replacing them with more typical values, so they don’t throw off our overall understanding.\n",
        "\n",
        "- Filling in Gaps: If there are any days where the calculation can’t be done (maybe because there’s missing data), we fill in those gaps with average values from other days. This way, we have a complete picture of how price changes affect sales over time.\n"
      ],
      "metadata": {
        "id": "VWflIfKy2OM0"
      }
    },
    {
      "cell_type": "code",
      "source": [
        "def elasticity_demand(elasticity):\n",
        "    if elasticity < -1:\n",
        "        return \"Elastic Demand\"\n",
        "    elif -1 <= elasticity <= 0:\n",
        "        return \"Inelastic Demand\"\n",
        "    else:\n",
        "        return \"Other\""
      ],
      "metadata": {
        "id": "0szoK9Fy4094"
      },
      "execution_count": 3,
      "outputs": []
    },
    {
      "cell_type": "code",
      "source": [
        "# Inspect days with zero price change\n",
        "#zero_price_change = df[df['price_change'] == 0]\n",
        "#print(\"Days with Zero Price Change:\\n\", zero_price_change)\n",
        "\n",
        "# Inspect days with zero demand change\n",
        "#zero_demand_change = df[df['demand_change'] == 0]\n",
        "#print(\"Days with Zero Demand Change:\\n\", zero_demand_change)\n",
        "\n",
        "# Find extreme outliers in sales or prices\n",
        "#high_prices = df[df['AVERAGE_PRICE'] > df['AVERAGE_PRICE'].quantile(0.99)]\n",
        "#low_prices = df[df['AVERAGE_PRICE'] < df['AVERAGE_PRICE'].quantile(0.01)]\n",
        "#high_sales = df[df['TOTAL_UNITS_SOLD'] > df['TOTAL_UNITS_SOLD'].quantile(0.99)]\n",
        "#low_sales = df[df['TOTAL_UNITS_SOLD'] < df['TOTAL_UNITS_SOLD'].quantile(0.01)]\n",
        "\n",
        "#print(\"High Prices:\\n\", high_prices)\n",
        "#print(\"Low Prices:\\n\", low_prices)\n",
        "#print(\"High Sales:\\n\", high_sales)\n",
        "#print(\"Low Sales:\\n\", low_sales)\n"
      ],
      "metadata": {
        "id": "iROZwsVi1wcm"
      },
      "execution_count": 41,
      "outputs": []
    },
    {
      "cell_type": "code",
      "source": [
        "# Calculate percentage changes in price and units sold\n",
        "df['price_change'] = df['AVERAGE_PRICE'].pct_change().fillna(0)\n",
        "df['demand_change'] = df['TOTAL_UNITS_SOLD'].pct_change().fillna(0)\n",
        "\n",
        "# Calculate price elasticity of demand, handling zero price change cases\n",
        "df['price_elasticity'] = np.where(df['price_change'] == 0, 0, df['demand_change'] / df['price_change'])\n",
        "\n",
        "# Handle any remaining infinite values possibly from very small price changes\n",
        "df['price_elasticity'].replace([np.inf, -np.inf], np.nan, inplace=True)\n",
        "df['price_elasticity'].fillna(df['price_elasticity'].median(), inplace=True)\n",
        "\n",
        "# Optionally cap extreme values using quantile-based capping\n",
        "cap_upper = df['price_elasticity'].quantile(0.95)\n",
        "cap_lower = df['price_elasticity'].quantile(0.05)\n",
        "df['price_elasticity'] = np.clip(df['price_elasticity'], cap_lower, cap_upper)\n",
        "\n",
        "df['demand_type'] = df['price_elasticity'].apply(elasticity_demand)\n",
        "df[['BILLING_DATE', 'AVERAGE_PRICE', 'TOTAL_UNITS_SOLD', 'price_elasticity', 'demand_type']]"
      ],
      "metadata": {
        "colab": {
          "base_uri": "https://localhost:8080/",
          "height": 419
        },
        "id": "ngivJbfm1wag",
        "outputId": "39195ceb-f361-4c3d-9673-ae390fe76ee7"
      },
      "execution_count": 4,
      "outputs": [
        {
          "output_type": "execute_result",
          "data": {
            "text/plain": [
              "    BILLING_DATE  AVERAGE_PRICE  TOTAL_UNITS_SOLD  price_elasticity  \\\n",
              "0     2024-06-01       4.977938             160.0          0.000000   \n",
              "1     2024-06-02       4.973478             253.0       -648.860958   \n",
              "2     2024-06-03       4.970512             215.0        251.802178   \n",
              "3     2024-06-04       4.958571             126.0        172.322134   \n",
              "4     2024-06-05       4.972692             104.0        -61.312210   \n",
              "..           ...            ...               ...               ...   \n",
              "97    2024-09-06       5.000000             148.0          0.000000   \n",
              "98    2024-09-07       5.000000             178.0          0.000000   \n",
              "99    2024-09-08       5.000000             171.0          0.000000   \n",
              "100   2024-09-09       4.998476             164.0        134.269006   \n",
              "101   2024-09-10       5.000000             108.0       -880.612876   \n",
              "\n",
              "          demand_type  \n",
              "0    Inelastic Demand  \n",
              "1      Elastic Demand  \n",
              "2               Other  \n",
              "3               Other  \n",
              "4      Elastic Demand  \n",
              "..                ...  \n",
              "97   Inelastic Demand  \n",
              "98   Inelastic Demand  \n",
              "99   Inelastic Demand  \n",
              "100             Other  \n",
              "101    Elastic Demand  \n",
              "\n",
              "[102 rows x 5 columns]"
            ],
            "text/html": [
              "\n",
              "  <div id=\"df-b64f2afd-1fc9-41d9-a58a-45ec46852a42\" class=\"colab-df-container\">\n",
              "    <div>\n",
              "<style scoped>\n",
              "    .dataframe tbody tr th:only-of-type {\n",
              "        vertical-align: middle;\n",
              "    }\n",
              "\n",
              "    .dataframe tbody tr th {\n",
              "        vertical-align: top;\n",
              "    }\n",
              "\n",
              "    .dataframe thead th {\n",
              "        text-align: right;\n",
              "    }\n",
              "</style>\n",
              "<table border=\"1\" class=\"dataframe\">\n",
              "  <thead>\n",
              "    <tr style=\"text-align: right;\">\n",
              "      <th></th>\n",
              "      <th>BILLING_DATE</th>\n",
              "      <th>AVERAGE_PRICE</th>\n",
              "      <th>TOTAL_UNITS_SOLD</th>\n",
              "      <th>price_elasticity</th>\n",
              "      <th>demand_type</th>\n",
              "    </tr>\n",
              "  </thead>\n",
              "  <tbody>\n",
              "    <tr>\n",
              "      <th>0</th>\n",
              "      <td>2024-06-01</td>\n",
              "      <td>4.977938</td>\n",
              "      <td>160.0</td>\n",
              "      <td>0.000000</td>\n",
              "      <td>Inelastic Demand</td>\n",
              "    </tr>\n",
              "    <tr>\n",
              "      <th>1</th>\n",
              "      <td>2024-06-02</td>\n",
              "      <td>4.973478</td>\n",
              "      <td>253.0</td>\n",
              "      <td>-648.860958</td>\n",
              "      <td>Elastic Demand</td>\n",
              "    </tr>\n",
              "    <tr>\n",
              "      <th>2</th>\n",
              "      <td>2024-06-03</td>\n",
              "      <td>4.970512</td>\n",
              "      <td>215.0</td>\n",
              "      <td>251.802178</td>\n",
              "      <td>Other</td>\n",
              "    </tr>\n",
              "    <tr>\n",
              "      <th>3</th>\n",
              "      <td>2024-06-04</td>\n",
              "      <td>4.958571</td>\n",
              "      <td>126.0</td>\n",
              "      <td>172.322134</td>\n",
              "      <td>Other</td>\n",
              "    </tr>\n",
              "    <tr>\n",
              "      <th>4</th>\n",
              "      <td>2024-06-05</td>\n",
              "      <td>4.972692</td>\n",
              "      <td>104.0</td>\n",
              "      <td>-61.312210</td>\n",
              "      <td>Elastic Demand</td>\n",
              "    </tr>\n",
              "    <tr>\n",
              "      <th>...</th>\n",
              "      <td>...</td>\n",
              "      <td>...</td>\n",
              "      <td>...</td>\n",
              "      <td>...</td>\n",
              "      <td>...</td>\n",
              "    </tr>\n",
              "    <tr>\n",
              "      <th>97</th>\n",
              "      <td>2024-09-06</td>\n",
              "      <td>5.000000</td>\n",
              "      <td>148.0</td>\n",
              "      <td>0.000000</td>\n",
              "      <td>Inelastic Demand</td>\n",
              "    </tr>\n",
              "    <tr>\n",
              "      <th>98</th>\n",
              "      <td>2024-09-07</td>\n",
              "      <td>5.000000</td>\n",
              "      <td>178.0</td>\n",
              "      <td>0.000000</td>\n",
              "      <td>Inelastic Demand</td>\n",
              "    </tr>\n",
              "    <tr>\n",
              "      <th>99</th>\n",
              "      <td>2024-09-08</td>\n",
              "      <td>5.000000</td>\n",
              "      <td>171.0</td>\n",
              "      <td>0.000000</td>\n",
              "      <td>Inelastic Demand</td>\n",
              "    </tr>\n",
              "    <tr>\n",
              "      <th>100</th>\n",
              "      <td>2024-09-09</td>\n",
              "      <td>4.998476</td>\n",
              "      <td>164.0</td>\n",
              "      <td>134.269006</td>\n",
              "      <td>Other</td>\n",
              "    </tr>\n",
              "    <tr>\n",
              "      <th>101</th>\n",
              "      <td>2024-09-10</td>\n",
              "      <td>5.000000</td>\n",
              "      <td>108.0</td>\n",
              "      <td>-880.612876</td>\n",
              "      <td>Elastic Demand</td>\n",
              "    </tr>\n",
              "  </tbody>\n",
              "</table>\n",
              "<p>102 rows × 5 columns</p>\n",
              "</div>\n",
              "    <div class=\"colab-df-buttons\">\n",
              "\n",
              "  <div class=\"colab-df-container\">\n",
              "    <button class=\"colab-df-convert\" onclick=\"convertToInteractive('df-b64f2afd-1fc9-41d9-a58a-45ec46852a42')\"\n",
              "            title=\"Convert this dataframe to an interactive table.\"\n",
              "            style=\"display:none;\">\n",
              "\n",
              "  <svg xmlns=\"http://www.w3.org/2000/svg\" height=\"24px\" viewBox=\"0 -960 960 960\">\n",
              "    <path d=\"M120-120v-720h720v720H120Zm60-500h600v-160H180v160Zm220 220h160v-160H400v160Zm0 220h160v-160H400v160ZM180-400h160v-160H180v160Zm440 0h160v-160H620v160ZM180-180h160v-160H180v160Zm440 0h160v-160H620v160Z\"/>\n",
              "  </svg>\n",
              "    </button>\n",
              "\n",
              "  <style>\n",
              "    .colab-df-container {\n",
              "      display:flex;\n",
              "      gap: 12px;\n",
              "    }\n",
              "\n",
              "    .colab-df-convert {\n",
              "      background-color: #E8F0FE;\n",
              "      border: none;\n",
              "      border-radius: 50%;\n",
              "      cursor: pointer;\n",
              "      display: none;\n",
              "      fill: #1967D2;\n",
              "      height: 32px;\n",
              "      padding: 0 0 0 0;\n",
              "      width: 32px;\n",
              "    }\n",
              "\n",
              "    .colab-df-convert:hover {\n",
              "      background-color: #E2EBFA;\n",
              "      box-shadow: 0px 1px 2px rgba(60, 64, 67, 0.3), 0px 1px 3px 1px rgba(60, 64, 67, 0.15);\n",
              "      fill: #174EA6;\n",
              "    }\n",
              "\n",
              "    .colab-df-buttons div {\n",
              "      margin-bottom: 4px;\n",
              "    }\n",
              "\n",
              "    [theme=dark] .colab-df-convert {\n",
              "      background-color: #3B4455;\n",
              "      fill: #D2E3FC;\n",
              "    }\n",
              "\n",
              "    [theme=dark] .colab-df-convert:hover {\n",
              "      background-color: #434B5C;\n",
              "      box-shadow: 0px 1px 3px 1px rgba(0, 0, 0, 0.15);\n",
              "      filter: drop-shadow(0px 1px 2px rgba(0, 0, 0, 0.3));\n",
              "      fill: #FFFFFF;\n",
              "    }\n",
              "  </style>\n",
              "\n",
              "    <script>\n",
              "      const buttonEl =\n",
              "        document.querySelector('#df-b64f2afd-1fc9-41d9-a58a-45ec46852a42 button.colab-df-convert');\n",
              "      buttonEl.style.display =\n",
              "        google.colab.kernel.accessAllowed ? 'block' : 'none';\n",
              "\n",
              "      async function convertToInteractive(key) {\n",
              "        const element = document.querySelector('#df-b64f2afd-1fc9-41d9-a58a-45ec46852a42');\n",
              "        const dataTable =\n",
              "          await google.colab.kernel.invokeFunction('convertToInteractive',\n",
              "                                                    [key], {});\n",
              "        if (!dataTable) return;\n",
              "\n",
              "        const docLinkHtml = 'Like what you see? Visit the ' +\n",
              "          '<a target=\"_blank\" href=https://colab.research.google.com/notebooks/data_table.ipynb>data table notebook</a>'\n",
              "          + ' to learn more about interactive tables.';\n",
              "        element.innerHTML = '';\n",
              "        dataTable['output_type'] = 'display_data';\n",
              "        await google.colab.output.renderOutput(dataTable, element);\n",
              "        const docLink = document.createElement('div');\n",
              "        docLink.innerHTML = docLinkHtml;\n",
              "        element.appendChild(docLink);\n",
              "      }\n",
              "    </script>\n",
              "  </div>\n",
              "\n",
              "\n",
              "<div id=\"df-41b4742d-54cd-4fa6-ba42-c7d87076f7a9\">\n",
              "  <button class=\"colab-df-quickchart\" onclick=\"quickchart('df-41b4742d-54cd-4fa6-ba42-c7d87076f7a9')\"\n",
              "            title=\"Suggest charts\"\n",
              "            style=\"display:none;\">\n",
              "\n",
              "<svg xmlns=\"http://www.w3.org/2000/svg\" height=\"24px\"viewBox=\"0 0 24 24\"\n",
              "     width=\"24px\">\n",
              "    <g>\n",
              "        <path d=\"M19 3H5c-1.1 0-2 .9-2 2v14c0 1.1.9 2 2 2h14c1.1 0 2-.9 2-2V5c0-1.1-.9-2-2-2zM9 17H7v-7h2v7zm4 0h-2V7h2v10zm4 0h-2v-4h2v4z\"/>\n",
              "    </g>\n",
              "</svg>\n",
              "  </button>\n",
              "\n",
              "<style>\n",
              "  .colab-df-quickchart {\n",
              "      --bg-color: #E8F0FE;\n",
              "      --fill-color: #1967D2;\n",
              "      --hover-bg-color: #E2EBFA;\n",
              "      --hover-fill-color: #174EA6;\n",
              "      --disabled-fill-color: #AAA;\n",
              "      --disabled-bg-color: #DDD;\n",
              "  }\n",
              "\n",
              "  [theme=dark] .colab-df-quickchart {\n",
              "      --bg-color: #3B4455;\n",
              "      --fill-color: #D2E3FC;\n",
              "      --hover-bg-color: #434B5C;\n",
              "      --hover-fill-color: #FFFFFF;\n",
              "      --disabled-bg-color: #3B4455;\n",
              "      --disabled-fill-color: #666;\n",
              "  }\n",
              "\n",
              "  .colab-df-quickchart {\n",
              "    background-color: var(--bg-color);\n",
              "    border: none;\n",
              "    border-radius: 50%;\n",
              "    cursor: pointer;\n",
              "    display: none;\n",
              "    fill: var(--fill-color);\n",
              "    height: 32px;\n",
              "    padding: 0;\n",
              "    width: 32px;\n",
              "  }\n",
              "\n",
              "  .colab-df-quickchart:hover {\n",
              "    background-color: var(--hover-bg-color);\n",
              "    box-shadow: 0 1px 2px rgba(60, 64, 67, 0.3), 0 1px 3px 1px rgba(60, 64, 67, 0.15);\n",
              "    fill: var(--button-hover-fill-color);\n",
              "  }\n",
              "\n",
              "  .colab-df-quickchart-complete:disabled,\n",
              "  .colab-df-quickchart-complete:disabled:hover {\n",
              "    background-color: var(--disabled-bg-color);\n",
              "    fill: var(--disabled-fill-color);\n",
              "    box-shadow: none;\n",
              "  }\n",
              "\n",
              "  .colab-df-spinner {\n",
              "    border: 2px solid var(--fill-color);\n",
              "    border-color: transparent;\n",
              "    border-bottom-color: var(--fill-color);\n",
              "    animation:\n",
              "      spin 1s steps(1) infinite;\n",
              "  }\n",
              "\n",
              "  @keyframes spin {\n",
              "    0% {\n",
              "      border-color: transparent;\n",
              "      border-bottom-color: var(--fill-color);\n",
              "      border-left-color: var(--fill-color);\n",
              "    }\n",
              "    20% {\n",
              "      border-color: transparent;\n",
              "      border-left-color: var(--fill-color);\n",
              "      border-top-color: var(--fill-color);\n",
              "    }\n",
              "    30% {\n",
              "      border-color: transparent;\n",
              "      border-left-color: var(--fill-color);\n",
              "      border-top-color: var(--fill-color);\n",
              "      border-right-color: var(--fill-color);\n",
              "    }\n",
              "    40% {\n",
              "      border-color: transparent;\n",
              "      border-right-color: var(--fill-color);\n",
              "      border-top-color: var(--fill-color);\n",
              "    }\n",
              "    60% {\n",
              "      border-color: transparent;\n",
              "      border-right-color: var(--fill-color);\n",
              "    }\n",
              "    80% {\n",
              "      border-color: transparent;\n",
              "      border-right-color: var(--fill-color);\n",
              "      border-bottom-color: var(--fill-color);\n",
              "    }\n",
              "    90% {\n",
              "      border-color: transparent;\n",
              "      border-bottom-color: var(--fill-color);\n",
              "    }\n",
              "  }\n",
              "</style>\n",
              "\n",
              "  <script>\n",
              "    async function quickchart(key) {\n",
              "      const quickchartButtonEl =\n",
              "        document.querySelector('#' + key + ' button');\n",
              "      quickchartButtonEl.disabled = true;  // To prevent multiple clicks.\n",
              "      quickchartButtonEl.classList.add('colab-df-spinner');\n",
              "      try {\n",
              "        const charts = await google.colab.kernel.invokeFunction(\n",
              "            'suggestCharts', [key], {});\n",
              "      } catch (error) {\n",
              "        console.error('Error during call to suggestCharts:', error);\n",
              "      }\n",
              "      quickchartButtonEl.classList.remove('colab-df-spinner');\n",
              "      quickchartButtonEl.classList.add('colab-df-quickchart-complete');\n",
              "    }\n",
              "    (() => {\n",
              "      let quickchartButtonEl =\n",
              "        document.querySelector('#df-41b4742d-54cd-4fa6-ba42-c7d87076f7a9 button');\n",
              "      quickchartButtonEl.style.display =\n",
              "        google.colab.kernel.accessAllowed ? 'block' : 'none';\n",
              "    })();\n",
              "  </script>\n",
              "</div>\n",
              "\n",
              "    </div>\n",
              "  </div>\n"
            ],
            "application/vnd.google.colaboratory.intrinsic+json": {
              "type": "dataframe",
              "summary": "{\n  \"name\": \"df[['BILLING_DATE', 'AVERAGE_PRICE', 'TOTAL_UNITS_SOLD', 'price_elasticity', 'demand_type']]\",\n  \"rows\": 102,\n  \"fields\": [\n    {\n      \"column\": \"BILLING_DATE\",\n      \"properties\": {\n        \"dtype\": \"date\",\n        \"min\": \"2024-06-01 00:00:00\",\n        \"max\": \"2024-09-10 00:00:00\",\n        \"num_unique_values\": 102,\n        \"samples\": [\n          \"2024-07-01 00:00:00\",\n          \"2024-08-07 00:00:00\",\n          \"2024-08-02 00:00:00\"\n        ],\n        \"semantic_type\": \"\",\n        \"description\": \"\"\n      }\n    },\n    {\n      \"column\": \"AVERAGE_PRICE\",\n      \"properties\": {\n        \"dtype\": \"number\",\n        \"std\": 0.038084572116808116,\n        \"min\": 4.70645833333,\n        \"max\": 5.0,\n        \"num_unique_values\": 98,\n        \"samples\": [\n          4.98255319149,\n          4.96828571429,\n          4.99953216374\n        ],\n        \"semantic_type\": \"\",\n        \"description\": \"\"\n      }\n    },\n    {\n      \"column\": \"TOTAL_UNITS_SOLD\",\n      \"properties\": {\n        \"dtype\": \"number\",\n        \"std\": 37.81649204344254,\n        \"min\": 79.0,\n        \"max\": 253.0,\n        \"num_unique_values\": 76,\n        \"samples\": [\n          104.0,\n          179.0,\n          118.0\n        ],\n        \"semantic_type\": \"\",\n        \"description\": \"\"\n      }\n    },\n    {\n      \"column\": \"price_elasticity\",\n      \"properties\": {\n        \"dtype\": \"number\",\n        \"std\": 383.34415526660985,\n        \"min\": -880.6128764379324,\n        \"max\": 863.8120369732134,\n        \"num_unique_values\": 88,\n        \"samples\": [\n          1.0196428317541182,\n          0.0,\n          -2.041264598765233\n        ],\n        \"semantic_type\": \"\",\n        \"description\": \"\"\n      }\n    },\n    {\n      \"column\": \"demand_type\",\n      \"properties\": {\n        \"dtype\": \"category\",\n        \"num_unique_values\": 3,\n        \"samples\": [\n          \"Inelastic Demand\",\n          \"Elastic Demand\",\n          \"Other\"\n        ],\n        \"semantic_type\": \"\",\n        \"description\": \"\"\n      }\n    }\n  ]\n}"
            }
          },
          "metadata": {},
          "execution_count": 4
        }
      ]
    },
    {
      "cell_type": "markdown",
      "source": [
        "# PLU Analysis"
      ],
      "metadata": {
        "id": "INraawPMMUYm"
      }
    },
    {
      "cell_type": "code",
      "source": [
        "past_3months_df = df[df['BILLING_DATE'] < '2024-09-01']\n",
        "current_month_df = df[df['BILLING_DATE'] >= '2024-09-01']"
      ],
      "metadata": {
        "id": "kkfKZq0zJTqC"
      },
      "execution_count": 5,
      "outputs": []
    },
    {
      "cell_type": "markdown",
      "source": [
        "## Calculating Monthly Elasticity\n",
        "\n",
        "Why Monthly Analysis is Effective?\n",
        "\n",
        "- Manageability: Monthly data aggregation reduces noise from daily fluctuations and helps in identifying more stable trends. It simplifies the analysis by focusing on broader patterns, making it easier to observe the impact of price changes on demand over a significant period.\n",
        "\n",
        "- Actionable Insights: Monthly insights are more actionable for strategic decisions. Daily data can be too granular, potentially leading to reactive rather than strategic decisions.\n",
        "\n",
        "- Seasonality and Trends: Analyzing data on a monthly basis allows for the identification of seasonal effects and longer-term trends that might be missed with daily analysis."
      ],
      "metadata": {
        "id": "U1rD9HXnMcXC"
      }
    },
    {
      "cell_type": "code",
      "source": [
        "#def calculate_monthly_elasticity(data):\n",
        "    # Group data by month and calculate average elasticity\n",
        "    #monthly_data = data.groupby(data['BILLING_DATE'].dt.to_period(\"M\")).agg({'price_elasticity': 'mean'}).reset_index()\n",
        "    #monthly_data['Month'] = monthly_data['BILLING_DATE'].dt.to_timestamp()  # Convert Period to Timestamp\n",
        "\n",
        "    # Determine demand type based on elasticity\n",
        "    #monthly_data['demand_type'] = monthly_data['price_elasticity'].apply(lambda x: 'Elastic Demand' if abs(x) > 1 else 'Inelastic Demand')\n",
        "\n",
        "    # Recommend pricing action based on elasticity\n",
        "    #monthly_data['pricing_recommendation'] = monthly_data['price_elasticity'].apply(\n",
        "        #lambda x: 'Increase Price' if x < -1 else ('Decrease Price' if x > 1 else 'Maintain Price')\n",
        "    #)\n",
        "    #return monthly_data[['Month', 'price_elasticity', 'demand_type', 'pricing_recommendation']]"
      ],
      "metadata": {
        "id": "AXk3nH3WH_s0"
      },
      "execution_count": 6,
      "outputs": []
    },
    {
      "cell_type": "markdown",
      "source": [
        "Function to calculate monthly elasticity that better aligns with strategic goals of focusing on sales and customer responsiveness:"
      ],
      "metadata": {
        "id": "IlvXUzhowmeu"
      }
    },
    {
      "cell_type": "code",
      "source": [
        "def calculate_monthly_elasticity(data):\n",
        "    # Group data by month and calculate average elasticity\n",
        "    monthly_data = data.groupby(data['BILLING_DATE'].dt.to_period(\"M\")).agg({'price_elasticity': 'mean'}).reset_index()\n",
        "    monthly_data['Month'] = monthly_data['BILLING_DATE'].dt.to_timestamp()  # Correct conversion of period to timestamp\n",
        "\n",
        "    # Determine demand type based on elasticity\n",
        "    monthly_data['demand_type'] = monthly_data['price_elasticity'].apply(\n",
        "        lambda x: 'Elastic Demand' if abs(x) > 1 else 'Inelastic Demand'\n",
        "    )\n",
        "\n",
        "    # Recommend pricing action based on elasticity\n",
        "    monthly_data['pricing_recommendation'] = monthly_data['price_elasticity'].apply(\n",
        "        lambda x: 'Decrease Price' if x < -1 else ('Increase Price' if x > 1 else 'Maintain Price')\n",
        "    )\n",
        "    return monthly_data[['Month', 'price_elasticity', 'demand_type', 'pricing_recommendation']]\n"
      ],
      "metadata": {
        "id": "vOKLCDblprm2"
      },
      "execution_count": 36,
      "outputs": []
    },
    {
      "cell_type": "markdown",
      "source": [
        "Logic adjusted:\n",
        "\n",
        "- Decrease Price: When elasticity is less than -1, suggesting a price decrease could lead to an increase in sales volume that might more than offset the lower price per unit.\n",
        "\n",
        "- Increase Price: When elasticity is greater than 1, suggesting a price increase as the demand is relatively insensitive, potentially maximizing revenue without significantly reducing sales volume.\n",
        "\n",
        "- Maintain Price: When the elasticity does not significantly deviate from -1, indicating changes in price have a proportionally balanced impact on sales."
      ],
      "metadata": {
        "id": "veqjuAh4wzQ9"
      }
    },
    {
      "cell_type": "code",
      "source": [
        "monthly_elasticity = calculate_monthly_elasticity(past_3months_df)\n",
        "current_month_elasticity = calculate_monthly_elasticity(current_month_df)"
      ],
      "metadata": {
        "id": "TKUUPS-QJU0C"
      },
      "execution_count": 37,
      "outputs": []
    },
    {
      "cell_type": "code",
      "source": [
        "monthly_elasticity"
      ],
      "metadata": {
        "colab": {
          "base_uri": "https://localhost:8080/",
          "height": 142
        },
        "id": "v9zMja08JUyr",
        "outputId": "44858e53-1b4e-49ba-df48-01953a9fc7c6"
      },
      "execution_count": 38,
      "outputs": [
        {
          "output_type": "execute_result",
          "data": {
            "text/plain": [
              "       Month  price_elasticity     demand_type pricing_recommendation\n",
              "0 2024-06-01        -77.290106  Elastic Demand         Decrease Price\n",
              "1 2024-07-01        -23.174339  Elastic Demand         Decrease Price\n",
              "2 2024-08-01         -6.753761  Elastic Demand         Decrease Price"
            ],
            "text/html": [
              "\n",
              "  <div id=\"df-54e435d1-401b-4211-9619-485ee1c3a703\" class=\"colab-df-container\">\n",
              "    <div>\n",
              "<style scoped>\n",
              "    .dataframe tbody tr th:only-of-type {\n",
              "        vertical-align: middle;\n",
              "    }\n",
              "\n",
              "    .dataframe tbody tr th {\n",
              "        vertical-align: top;\n",
              "    }\n",
              "\n",
              "    .dataframe thead th {\n",
              "        text-align: right;\n",
              "    }\n",
              "</style>\n",
              "<table border=\"1\" class=\"dataframe\">\n",
              "  <thead>\n",
              "    <tr style=\"text-align: right;\">\n",
              "      <th></th>\n",
              "      <th>Month</th>\n",
              "      <th>price_elasticity</th>\n",
              "      <th>demand_type</th>\n",
              "      <th>pricing_recommendation</th>\n",
              "    </tr>\n",
              "  </thead>\n",
              "  <tbody>\n",
              "    <tr>\n",
              "      <th>0</th>\n",
              "      <td>2024-06-01</td>\n",
              "      <td>-77.290106</td>\n",
              "      <td>Elastic Demand</td>\n",
              "      <td>Decrease Price</td>\n",
              "    </tr>\n",
              "    <tr>\n",
              "      <th>1</th>\n",
              "      <td>2024-07-01</td>\n",
              "      <td>-23.174339</td>\n",
              "      <td>Elastic Demand</td>\n",
              "      <td>Decrease Price</td>\n",
              "    </tr>\n",
              "    <tr>\n",
              "      <th>2</th>\n",
              "      <td>2024-08-01</td>\n",
              "      <td>-6.753761</td>\n",
              "      <td>Elastic Demand</td>\n",
              "      <td>Decrease Price</td>\n",
              "    </tr>\n",
              "  </tbody>\n",
              "</table>\n",
              "</div>\n",
              "    <div class=\"colab-df-buttons\">\n",
              "\n",
              "  <div class=\"colab-df-container\">\n",
              "    <button class=\"colab-df-convert\" onclick=\"convertToInteractive('df-54e435d1-401b-4211-9619-485ee1c3a703')\"\n",
              "            title=\"Convert this dataframe to an interactive table.\"\n",
              "            style=\"display:none;\">\n",
              "\n",
              "  <svg xmlns=\"http://www.w3.org/2000/svg\" height=\"24px\" viewBox=\"0 -960 960 960\">\n",
              "    <path d=\"M120-120v-720h720v720H120Zm60-500h600v-160H180v160Zm220 220h160v-160H400v160Zm0 220h160v-160H400v160ZM180-400h160v-160H180v160Zm440 0h160v-160H620v160ZM180-180h160v-160H180v160Zm440 0h160v-160H620v160Z\"/>\n",
              "  </svg>\n",
              "    </button>\n",
              "\n",
              "  <style>\n",
              "    .colab-df-container {\n",
              "      display:flex;\n",
              "      gap: 12px;\n",
              "    }\n",
              "\n",
              "    .colab-df-convert {\n",
              "      background-color: #E8F0FE;\n",
              "      border: none;\n",
              "      border-radius: 50%;\n",
              "      cursor: pointer;\n",
              "      display: none;\n",
              "      fill: #1967D2;\n",
              "      height: 32px;\n",
              "      padding: 0 0 0 0;\n",
              "      width: 32px;\n",
              "    }\n",
              "\n",
              "    .colab-df-convert:hover {\n",
              "      background-color: #E2EBFA;\n",
              "      box-shadow: 0px 1px 2px rgba(60, 64, 67, 0.3), 0px 1px 3px 1px rgba(60, 64, 67, 0.15);\n",
              "      fill: #174EA6;\n",
              "    }\n",
              "\n",
              "    .colab-df-buttons div {\n",
              "      margin-bottom: 4px;\n",
              "    }\n",
              "\n",
              "    [theme=dark] .colab-df-convert {\n",
              "      background-color: #3B4455;\n",
              "      fill: #D2E3FC;\n",
              "    }\n",
              "\n",
              "    [theme=dark] .colab-df-convert:hover {\n",
              "      background-color: #434B5C;\n",
              "      box-shadow: 0px 1px 3px 1px rgba(0, 0, 0, 0.15);\n",
              "      filter: drop-shadow(0px 1px 2px rgba(0, 0, 0, 0.3));\n",
              "      fill: #FFFFFF;\n",
              "    }\n",
              "  </style>\n",
              "\n",
              "    <script>\n",
              "      const buttonEl =\n",
              "        document.querySelector('#df-54e435d1-401b-4211-9619-485ee1c3a703 button.colab-df-convert');\n",
              "      buttonEl.style.display =\n",
              "        google.colab.kernel.accessAllowed ? 'block' : 'none';\n",
              "\n",
              "      async function convertToInteractive(key) {\n",
              "        const element = document.querySelector('#df-54e435d1-401b-4211-9619-485ee1c3a703');\n",
              "        const dataTable =\n",
              "          await google.colab.kernel.invokeFunction('convertToInteractive',\n",
              "                                                    [key], {});\n",
              "        if (!dataTable) return;\n",
              "\n",
              "        const docLinkHtml = 'Like what you see? Visit the ' +\n",
              "          '<a target=\"_blank\" href=https://colab.research.google.com/notebooks/data_table.ipynb>data table notebook</a>'\n",
              "          + ' to learn more about interactive tables.';\n",
              "        element.innerHTML = '';\n",
              "        dataTable['output_type'] = 'display_data';\n",
              "        await google.colab.output.renderOutput(dataTable, element);\n",
              "        const docLink = document.createElement('div');\n",
              "        docLink.innerHTML = docLinkHtml;\n",
              "        element.appendChild(docLink);\n",
              "      }\n",
              "    </script>\n",
              "  </div>\n",
              "\n",
              "\n",
              "<div id=\"df-ea2f7a72-107c-4a11-88d0-8106b0a68a39\">\n",
              "  <button class=\"colab-df-quickchart\" onclick=\"quickchart('df-ea2f7a72-107c-4a11-88d0-8106b0a68a39')\"\n",
              "            title=\"Suggest charts\"\n",
              "            style=\"display:none;\">\n",
              "\n",
              "<svg xmlns=\"http://www.w3.org/2000/svg\" height=\"24px\"viewBox=\"0 0 24 24\"\n",
              "     width=\"24px\">\n",
              "    <g>\n",
              "        <path d=\"M19 3H5c-1.1 0-2 .9-2 2v14c0 1.1.9 2 2 2h14c1.1 0 2-.9 2-2V5c0-1.1-.9-2-2-2zM9 17H7v-7h2v7zm4 0h-2V7h2v10zm4 0h-2v-4h2v4z\"/>\n",
              "    </g>\n",
              "</svg>\n",
              "  </button>\n",
              "\n",
              "<style>\n",
              "  .colab-df-quickchart {\n",
              "      --bg-color: #E8F0FE;\n",
              "      --fill-color: #1967D2;\n",
              "      --hover-bg-color: #E2EBFA;\n",
              "      --hover-fill-color: #174EA6;\n",
              "      --disabled-fill-color: #AAA;\n",
              "      --disabled-bg-color: #DDD;\n",
              "  }\n",
              "\n",
              "  [theme=dark] .colab-df-quickchart {\n",
              "      --bg-color: #3B4455;\n",
              "      --fill-color: #D2E3FC;\n",
              "      --hover-bg-color: #434B5C;\n",
              "      --hover-fill-color: #FFFFFF;\n",
              "      --disabled-bg-color: #3B4455;\n",
              "      --disabled-fill-color: #666;\n",
              "  }\n",
              "\n",
              "  .colab-df-quickchart {\n",
              "    background-color: var(--bg-color);\n",
              "    border: none;\n",
              "    border-radius: 50%;\n",
              "    cursor: pointer;\n",
              "    display: none;\n",
              "    fill: var(--fill-color);\n",
              "    height: 32px;\n",
              "    padding: 0;\n",
              "    width: 32px;\n",
              "  }\n",
              "\n",
              "  .colab-df-quickchart:hover {\n",
              "    background-color: var(--hover-bg-color);\n",
              "    box-shadow: 0 1px 2px rgba(60, 64, 67, 0.3), 0 1px 3px 1px rgba(60, 64, 67, 0.15);\n",
              "    fill: var(--button-hover-fill-color);\n",
              "  }\n",
              "\n",
              "  .colab-df-quickchart-complete:disabled,\n",
              "  .colab-df-quickchart-complete:disabled:hover {\n",
              "    background-color: var(--disabled-bg-color);\n",
              "    fill: var(--disabled-fill-color);\n",
              "    box-shadow: none;\n",
              "  }\n",
              "\n",
              "  .colab-df-spinner {\n",
              "    border: 2px solid var(--fill-color);\n",
              "    border-color: transparent;\n",
              "    border-bottom-color: var(--fill-color);\n",
              "    animation:\n",
              "      spin 1s steps(1) infinite;\n",
              "  }\n",
              "\n",
              "  @keyframes spin {\n",
              "    0% {\n",
              "      border-color: transparent;\n",
              "      border-bottom-color: var(--fill-color);\n",
              "      border-left-color: var(--fill-color);\n",
              "    }\n",
              "    20% {\n",
              "      border-color: transparent;\n",
              "      border-left-color: var(--fill-color);\n",
              "      border-top-color: var(--fill-color);\n",
              "    }\n",
              "    30% {\n",
              "      border-color: transparent;\n",
              "      border-left-color: var(--fill-color);\n",
              "      border-top-color: var(--fill-color);\n",
              "      border-right-color: var(--fill-color);\n",
              "    }\n",
              "    40% {\n",
              "      border-color: transparent;\n",
              "      border-right-color: var(--fill-color);\n",
              "      border-top-color: var(--fill-color);\n",
              "    }\n",
              "    60% {\n",
              "      border-color: transparent;\n",
              "      border-right-color: var(--fill-color);\n",
              "    }\n",
              "    80% {\n",
              "      border-color: transparent;\n",
              "      border-right-color: var(--fill-color);\n",
              "      border-bottom-color: var(--fill-color);\n",
              "    }\n",
              "    90% {\n",
              "      border-color: transparent;\n",
              "      border-bottom-color: var(--fill-color);\n",
              "    }\n",
              "  }\n",
              "</style>\n",
              "\n",
              "  <script>\n",
              "    async function quickchart(key) {\n",
              "      const quickchartButtonEl =\n",
              "        document.querySelector('#' + key + ' button');\n",
              "      quickchartButtonEl.disabled = true;  // To prevent multiple clicks.\n",
              "      quickchartButtonEl.classList.add('colab-df-spinner');\n",
              "      try {\n",
              "        const charts = await google.colab.kernel.invokeFunction(\n",
              "            'suggestCharts', [key], {});\n",
              "      } catch (error) {\n",
              "        console.error('Error during call to suggestCharts:', error);\n",
              "      }\n",
              "      quickchartButtonEl.classList.remove('colab-df-spinner');\n",
              "      quickchartButtonEl.classList.add('colab-df-quickchart-complete');\n",
              "    }\n",
              "    (() => {\n",
              "      let quickchartButtonEl =\n",
              "        document.querySelector('#df-ea2f7a72-107c-4a11-88d0-8106b0a68a39 button');\n",
              "      quickchartButtonEl.style.display =\n",
              "        google.colab.kernel.accessAllowed ? 'block' : 'none';\n",
              "    })();\n",
              "  </script>\n",
              "</div>\n",
              "\n",
              "  <div id=\"id_9b129e2e-f91e-4fd9-b267-e8c54db05989\">\n",
              "    <style>\n",
              "      .colab-df-generate {\n",
              "        background-color: #E8F0FE;\n",
              "        border: none;\n",
              "        border-radius: 50%;\n",
              "        cursor: pointer;\n",
              "        display: none;\n",
              "        fill: #1967D2;\n",
              "        height: 32px;\n",
              "        padding: 0 0 0 0;\n",
              "        width: 32px;\n",
              "      }\n",
              "\n",
              "      .colab-df-generate:hover {\n",
              "        background-color: #E2EBFA;\n",
              "        box-shadow: 0px 1px 2px rgba(60, 64, 67, 0.3), 0px 1px 3px 1px rgba(60, 64, 67, 0.15);\n",
              "        fill: #174EA6;\n",
              "      }\n",
              "\n",
              "      [theme=dark] .colab-df-generate {\n",
              "        background-color: #3B4455;\n",
              "        fill: #D2E3FC;\n",
              "      }\n",
              "\n",
              "      [theme=dark] .colab-df-generate:hover {\n",
              "        background-color: #434B5C;\n",
              "        box-shadow: 0px 1px 3px 1px rgba(0, 0, 0, 0.15);\n",
              "        filter: drop-shadow(0px 1px 2px rgba(0, 0, 0, 0.3));\n",
              "        fill: #FFFFFF;\n",
              "      }\n",
              "    </style>\n",
              "    <button class=\"colab-df-generate\" onclick=\"generateWithVariable('monthly_elasticity')\"\n",
              "            title=\"Generate code using this dataframe.\"\n",
              "            style=\"display:none;\">\n",
              "\n",
              "  <svg xmlns=\"http://www.w3.org/2000/svg\" height=\"24px\"viewBox=\"0 0 24 24\"\n",
              "       width=\"24px\">\n",
              "    <path d=\"M7,19H8.4L18.45,9,17,7.55,7,17.6ZM5,21V16.75L18.45,3.32a2,2,0,0,1,2.83,0l1.4,1.43a1.91,1.91,0,0,1,.58,1.4,1.91,1.91,0,0,1-.58,1.4L9.25,21ZM18.45,9,17,7.55Zm-12,3A5.31,5.31,0,0,0,4.9,8.1,5.31,5.31,0,0,0,1,6.5,5.31,5.31,0,0,0,4.9,4.9,5.31,5.31,0,0,0,6.5,1,5.31,5.31,0,0,0,8.1,4.9,5.31,5.31,0,0,0,12,6.5,5.46,5.46,0,0,0,6.5,12Z\"/>\n",
              "  </svg>\n",
              "    </button>\n",
              "    <script>\n",
              "      (() => {\n",
              "      const buttonEl =\n",
              "        document.querySelector('#id_9b129e2e-f91e-4fd9-b267-e8c54db05989 button.colab-df-generate');\n",
              "      buttonEl.style.display =\n",
              "        google.colab.kernel.accessAllowed ? 'block' : 'none';\n",
              "\n",
              "      buttonEl.onclick = () => {\n",
              "        google.colab.notebook.generateWithVariable('monthly_elasticity');\n",
              "      }\n",
              "      })();\n",
              "    </script>\n",
              "  </div>\n",
              "\n",
              "    </div>\n",
              "  </div>\n"
            ],
            "application/vnd.google.colaboratory.intrinsic+json": {
              "type": "dataframe",
              "variable_name": "monthly_elasticity",
              "summary": "{\n  \"name\": \"monthly_elasticity\",\n  \"rows\": 3,\n  \"fields\": [\n    {\n      \"column\": \"Month\",\n      \"properties\": {\n        \"dtype\": \"date\",\n        \"min\": \"2024-06-01 00:00:00\",\n        \"max\": \"2024-08-01 00:00:00\",\n        \"num_unique_values\": 3,\n        \"samples\": [\n          \"2024-06-01 00:00:00\",\n          \"2024-07-01 00:00:00\",\n          \"2024-08-01 00:00:00\"\n        ],\n        \"semantic_type\": \"\",\n        \"description\": \"\"\n      }\n    },\n    {\n      \"column\": \"price_elasticity\",\n      \"properties\": {\n        \"dtype\": \"number\",\n        \"std\": 36.90873314318338,\n        \"min\": -77.29010553424668,\n        \"max\": -6.753760782472598,\n        \"num_unique_values\": 3,\n        \"samples\": [\n          -77.29010553424668,\n          -23.174339187289352,\n          -6.753760782472598\n        ],\n        \"semantic_type\": \"\",\n        \"description\": \"\"\n      }\n    },\n    {\n      \"column\": \"demand_type\",\n      \"properties\": {\n        \"dtype\": \"category\",\n        \"num_unique_values\": 1,\n        \"samples\": [\n          \"Elastic Demand\"\n        ],\n        \"semantic_type\": \"\",\n        \"description\": \"\"\n      }\n    },\n    {\n      \"column\": \"pricing_recommendation\",\n      \"properties\": {\n        \"dtype\": \"category\",\n        \"num_unique_values\": 1,\n        \"samples\": [\n          \"Decrease Price\"\n        ],\n        \"semantic_type\": \"\",\n        \"description\": \"\"\n      }\n    }\n  ]\n}"
            }
          },
          "metadata": {},
          "execution_count": 38
        }
      ]
    },
    {
      "cell_type": "code",
      "source": [
        "current_month_elasticity"
      ],
      "metadata": {
        "colab": {
          "base_uri": "https://localhost:8080/",
          "height": 89
        },
        "id": "w6-Kcn8UJUwG",
        "outputId": "9a61b071-6e14-4003-8ea5-b9b46b0f040c"
      },
      "execution_count": 39,
      "outputs": [
        {
          "output_type": "execute_result",
          "data": {
            "text/plain": [
              "       Month  price_elasticity     demand_type pricing_recommendation\n",
              "0 2024-09-01       -165.617623  Elastic Demand         Decrease Price"
            ],
            "text/html": [
              "\n",
              "  <div id=\"df-2d536d46-74fd-4802-b75f-90b28cbf03bb\" class=\"colab-df-container\">\n",
              "    <div>\n",
              "<style scoped>\n",
              "    .dataframe tbody tr th:only-of-type {\n",
              "        vertical-align: middle;\n",
              "    }\n",
              "\n",
              "    .dataframe tbody tr th {\n",
              "        vertical-align: top;\n",
              "    }\n",
              "\n",
              "    .dataframe thead th {\n",
              "        text-align: right;\n",
              "    }\n",
              "</style>\n",
              "<table border=\"1\" class=\"dataframe\">\n",
              "  <thead>\n",
              "    <tr style=\"text-align: right;\">\n",
              "      <th></th>\n",
              "      <th>Month</th>\n",
              "      <th>price_elasticity</th>\n",
              "      <th>demand_type</th>\n",
              "      <th>pricing_recommendation</th>\n",
              "    </tr>\n",
              "  </thead>\n",
              "  <tbody>\n",
              "    <tr>\n",
              "      <th>0</th>\n",
              "      <td>2024-09-01</td>\n",
              "      <td>-165.617623</td>\n",
              "      <td>Elastic Demand</td>\n",
              "      <td>Decrease Price</td>\n",
              "    </tr>\n",
              "  </tbody>\n",
              "</table>\n",
              "</div>\n",
              "    <div class=\"colab-df-buttons\">\n",
              "\n",
              "  <div class=\"colab-df-container\">\n",
              "    <button class=\"colab-df-convert\" onclick=\"convertToInteractive('df-2d536d46-74fd-4802-b75f-90b28cbf03bb')\"\n",
              "            title=\"Convert this dataframe to an interactive table.\"\n",
              "            style=\"display:none;\">\n",
              "\n",
              "  <svg xmlns=\"http://www.w3.org/2000/svg\" height=\"24px\" viewBox=\"0 -960 960 960\">\n",
              "    <path d=\"M120-120v-720h720v720H120Zm60-500h600v-160H180v160Zm220 220h160v-160H400v160Zm0 220h160v-160H400v160ZM180-400h160v-160H180v160Zm440 0h160v-160H620v160ZM180-180h160v-160H180v160Zm440 0h160v-160H620v160Z\"/>\n",
              "  </svg>\n",
              "    </button>\n",
              "\n",
              "  <style>\n",
              "    .colab-df-container {\n",
              "      display:flex;\n",
              "      gap: 12px;\n",
              "    }\n",
              "\n",
              "    .colab-df-convert {\n",
              "      background-color: #E8F0FE;\n",
              "      border: none;\n",
              "      border-radius: 50%;\n",
              "      cursor: pointer;\n",
              "      display: none;\n",
              "      fill: #1967D2;\n",
              "      height: 32px;\n",
              "      padding: 0 0 0 0;\n",
              "      width: 32px;\n",
              "    }\n",
              "\n",
              "    .colab-df-convert:hover {\n",
              "      background-color: #E2EBFA;\n",
              "      box-shadow: 0px 1px 2px rgba(60, 64, 67, 0.3), 0px 1px 3px 1px rgba(60, 64, 67, 0.15);\n",
              "      fill: #174EA6;\n",
              "    }\n",
              "\n",
              "    .colab-df-buttons div {\n",
              "      margin-bottom: 4px;\n",
              "    }\n",
              "\n",
              "    [theme=dark] .colab-df-convert {\n",
              "      background-color: #3B4455;\n",
              "      fill: #D2E3FC;\n",
              "    }\n",
              "\n",
              "    [theme=dark] .colab-df-convert:hover {\n",
              "      background-color: #434B5C;\n",
              "      box-shadow: 0px 1px 3px 1px rgba(0, 0, 0, 0.15);\n",
              "      filter: drop-shadow(0px 1px 2px rgba(0, 0, 0, 0.3));\n",
              "      fill: #FFFFFF;\n",
              "    }\n",
              "  </style>\n",
              "\n",
              "    <script>\n",
              "      const buttonEl =\n",
              "        document.querySelector('#df-2d536d46-74fd-4802-b75f-90b28cbf03bb button.colab-df-convert');\n",
              "      buttonEl.style.display =\n",
              "        google.colab.kernel.accessAllowed ? 'block' : 'none';\n",
              "\n",
              "      async function convertToInteractive(key) {\n",
              "        const element = document.querySelector('#df-2d536d46-74fd-4802-b75f-90b28cbf03bb');\n",
              "        const dataTable =\n",
              "          await google.colab.kernel.invokeFunction('convertToInteractive',\n",
              "                                                    [key], {});\n",
              "        if (!dataTable) return;\n",
              "\n",
              "        const docLinkHtml = 'Like what you see? Visit the ' +\n",
              "          '<a target=\"_blank\" href=https://colab.research.google.com/notebooks/data_table.ipynb>data table notebook</a>'\n",
              "          + ' to learn more about interactive tables.';\n",
              "        element.innerHTML = '';\n",
              "        dataTable['output_type'] = 'display_data';\n",
              "        await google.colab.output.renderOutput(dataTable, element);\n",
              "        const docLink = document.createElement('div');\n",
              "        docLink.innerHTML = docLinkHtml;\n",
              "        element.appendChild(docLink);\n",
              "      }\n",
              "    </script>\n",
              "  </div>\n",
              "\n",
              "\n",
              "  <div id=\"id_e0261aa8-9608-4481-8afb-5e6ccc180689\">\n",
              "    <style>\n",
              "      .colab-df-generate {\n",
              "        background-color: #E8F0FE;\n",
              "        border: none;\n",
              "        border-radius: 50%;\n",
              "        cursor: pointer;\n",
              "        display: none;\n",
              "        fill: #1967D2;\n",
              "        height: 32px;\n",
              "        padding: 0 0 0 0;\n",
              "        width: 32px;\n",
              "      }\n",
              "\n",
              "      .colab-df-generate:hover {\n",
              "        background-color: #E2EBFA;\n",
              "        box-shadow: 0px 1px 2px rgba(60, 64, 67, 0.3), 0px 1px 3px 1px rgba(60, 64, 67, 0.15);\n",
              "        fill: #174EA6;\n",
              "      }\n",
              "\n",
              "      [theme=dark] .colab-df-generate {\n",
              "        background-color: #3B4455;\n",
              "        fill: #D2E3FC;\n",
              "      }\n",
              "\n",
              "      [theme=dark] .colab-df-generate:hover {\n",
              "        background-color: #434B5C;\n",
              "        box-shadow: 0px 1px 3px 1px rgba(0, 0, 0, 0.15);\n",
              "        filter: drop-shadow(0px 1px 2px rgba(0, 0, 0, 0.3));\n",
              "        fill: #FFFFFF;\n",
              "      }\n",
              "    </style>\n",
              "    <button class=\"colab-df-generate\" onclick=\"generateWithVariable('current_month_elasticity')\"\n",
              "            title=\"Generate code using this dataframe.\"\n",
              "            style=\"display:none;\">\n",
              "\n",
              "  <svg xmlns=\"http://www.w3.org/2000/svg\" height=\"24px\"viewBox=\"0 0 24 24\"\n",
              "       width=\"24px\">\n",
              "    <path d=\"M7,19H8.4L18.45,9,17,7.55,7,17.6ZM5,21V16.75L18.45,3.32a2,2,0,0,1,2.83,0l1.4,1.43a1.91,1.91,0,0,1,.58,1.4,1.91,1.91,0,0,1-.58,1.4L9.25,21ZM18.45,9,17,7.55Zm-12,3A5.31,5.31,0,0,0,4.9,8.1,5.31,5.31,0,0,0,1,6.5,5.31,5.31,0,0,0,4.9,4.9,5.31,5.31,0,0,0,6.5,1,5.31,5.31,0,0,0,8.1,4.9,5.31,5.31,0,0,0,12,6.5,5.46,5.46,0,0,0,6.5,12Z\"/>\n",
              "  </svg>\n",
              "    </button>\n",
              "    <script>\n",
              "      (() => {\n",
              "      const buttonEl =\n",
              "        document.querySelector('#id_e0261aa8-9608-4481-8afb-5e6ccc180689 button.colab-df-generate');\n",
              "      buttonEl.style.display =\n",
              "        google.colab.kernel.accessAllowed ? 'block' : 'none';\n",
              "\n",
              "      buttonEl.onclick = () => {\n",
              "        google.colab.notebook.generateWithVariable('current_month_elasticity');\n",
              "      }\n",
              "      })();\n",
              "    </script>\n",
              "  </div>\n",
              "\n",
              "    </div>\n",
              "  </div>\n"
            ],
            "application/vnd.google.colaboratory.intrinsic+json": {
              "type": "dataframe",
              "variable_name": "current_month_elasticity",
              "summary": "{\n  \"name\": \"current_month_elasticity\",\n  \"rows\": 1,\n  \"fields\": [\n    {\n      \"column\": \"Month\",\n      \"properties\": {\n        \"dtype\": \"date\",\n        \"min\": \"2024-09-01 00:00:00\",\n        \"max\": \"2024-09-01 00:00:00\",\n        \"num_unique_values\": 1,\n        \"samples\": [\n          \"2024-09-01 00:00:00\"\n        ],\n        \"semantic_type\": \"\",\n        \"description\": \"\"\n      }\n    },\n    {\n      \"column\": \"price_elasticity\",\n      \"properties\": {\n        \"dtype\": \"number\",\n        \"std\": null,\n        \"min\": -165.61762293058962,\n        \"max\": -165.61762293058962,\n        \"num_unique_values\": 1,\n        \"samples\": [\n          -165.61762293058962\n        ],\n        \"semantic_type\": \"\",\n        \"description\": \"\"\n      }\n    },\n    {\n      \"column\": \"demand_type\",\n      \"properties\": {\n        \"dtype\": \"string\",\n        \"num_unique_values\": 1,\n        \"samples\": [\n          \"Elastic Demand\"\n        ],\n        \"semantic_type\": \"\",\n        \"description\": \"\"\n      }\n    },\n    {\n      \"column\": \"pricing_recommendation\",\n      \"properties\": {\n        \"dtype\": \"string\",\n        \"num_unique_values\": 1,\n        \"samples\": [\n          \"Decrease Price\"\n        ],\n        \"semantic_type\": \"\",\n        \"description\": \"\"\n      }\n    }\n  ]\n}"
            }
          },
          "metadata": {},
          "execution_count": 39
        }
      ]
    },
    {
      "cell_type": "markdown",
      "source": [
        "## Plotting overall PLU Elasticity Performance"
      ],
      "metadata": {
        "id": "NXUYQRsYK_nn"
      }
    },
    {
      "cell_type": "code",
      "source": [
        "# Plot for complete months\n",
        "fig, ax = plt.subplots(figsize=(12, 7))\n",
        "ax.plot(monthly_elasticity['Month'], monthly_elasticity['price_elasticity'], marker='o', linestyle='-')\n",
        "ax.xaxis.set_major_locator(mdates.MonthLocator())\n",
        "ax.xaxis.set_major_formatter(mdates.DateFormatter('%Y-%m'))\n",
        "\n",
        "# Annotating each point with demand type and recommendation\n",
        "for i, row in monthly_elasticity.iterrows():\n",
        "    ax.annotate(f\"{row['demand_type']}\\n{row['pricing_recommendation']}\",\n",
        "                (row['Month'], row['price_elasticity']),\n",
        "                textcoords=\"offset points\",  # how to position the text\n",
        "                xytext=(0,10),  # distance from text to points (x,y)\n",
        "                ha='center')  # horizontal alignment can be left, right or center\n",
        "\n",
        "plt.title('Monthly Price Elasticity (Completed Months Only)')\n",
        "plt.xlabel('Month')\n",
        "plt.ylabel('Average Price Elasticity')\n",
        "plt.axhline(0, color='red', linestyle='--')\n",
        "plt.grid(True)\n",
        "plt.xticks(rotation=45)\n",
        "plt.tight_layout()\n",
        "plt.show()"
      ],
      "metadata": {
        "colab": {
          "base_uri": "https://localhost:8080/",
          "height": 610
        },
        "id": "XSQiPMnWJUuQ",
        "outputId": "11748d8f-48a4-4da1-a93c-0a38b89f1fb6"
      },
      "execution_count": 40,
      "outputs": [
        {
          "output_type": "display_data",
          "data": {
            "text/plain": [
              "<Figure size 1200x700 with 1 Axes>"
            ],
            "image/png": "[encoded data removed]"
          },
          "metadata": {}
        }
      ]
    },
    {
      "cell_type": "code",
      "source": [
        "all_months_elasticity = pd.concat([monthly_elasticity, current_month_elasticity])"
      ],
      "metadata": {
        "id": "a0i8nFZQLv3o"
      },
      "execution_count": 41,
      "outputs": []
    },
    {
      "cell_type": "code",
      "source": [
        "# Plot for all months\n",
        "fig, ax = plt.subplots(figsize=(14, 8))\n",
        "ax.plot(all_months_elasticity['Month'], all_months_elasticity['price_elasticity'], marker='o', linestyle='-')\n",
        "ax.xaxis.set_major_locator(mdates.MonthLocator())\n",
        "ax.xaxis.set_major_formatter(mdates.DateFormatter('%Y-%m'))\n",
        "\n",
        "# Annotating each point with demand type and recommendation\n",
        "for i, row in all_months_elasticity.iterrows():\n",
        "    ax.annotate(f\"{row['demand_type']}\\n{row['pricing_recommendation']}\",\n",
        "                (row['Month'], row['price_elasticity']),\n",
        "                textcoords=\"offset points\",  # how to position the text\n",
        "                xytext=(0,10),  # distance from text to points (x,y)\n",
        "                ha='center')  # horizontal alignment can be left, right or center\n",
        "\n",
        "plt.title('Overall Monthly Price Elasticity (June to Sept 11)')\n",
        "plt.xlabel('Month')\n",
        "plt.ylabel('Average Price Elasticity')\n",
        "plt.axhline(0, color='red', linestyle='--')\n",
        "plt.grid(True)\n",
        "plt.xticks(rotation=45)\n",
        "plt.tight_layout()\n",
        "plt.show()"
      ],
      "metadata": {
        "colab": {
          "base_uri": "https://localhost:8080/",
          "height": 596
        },
        "id": "QIrl_hn0Lv1j",
        "outputId": "b4af87d8-02e2-40f6-db02-52d9a733c830"
      },
      "execution_count": 42,
      "outputs": [
        {
          "output_type": "display_data",
          "data": {
            "text/plain": [
              "<Figure size 1400x800 with 1 Axes>"
            ],
            "image/png": "[encoded data removed]"
          },
          "metadata": {}
        }
      ]
    },
    {
      "cell_type": "markdown",
      "source": [
        "## Analyzing Sales"
      ],
      "metadata": {
        "id": "dzQBavaWXGIO"
      }
    },
    {
      "cell_type": "code",
      "source": [
        "def calculate_monthly_net_sales(data):\n",
        "    # Group data by month and calculate total net sales\n",
        "    monthly_sales = data.groupby(data['BILLING_DATE'].dt.to_period(\"M\")).agg({'TOTAL_NET_SALES': 'sum'}).reset_index()\n",
        "    monthly_sales['Month'] = monthly_sales['BILLING_DATE'].dt.to_timestamp()  # Convert Period to Timestamp\n",
        "    return monthly_sales[['Month', 'TOTAL_NET_SALES']]\n",
        "\n",
        "# Calculate monthly net sales for complete months and September\n",
        "monthly_net_sales = calculate_monthly_net_sales(past_3months_df)\n",
        "current_month_net_sales = calculate_monthly_net_sales(current_month_df)\n"
      ],
      "metadata": {
        "id": "UDSMCFvRM_6P"
      },
      "execution_count": 19,
      "outputs": []
    },
    {
      "cell_type": "code",
      "source": [
        "# Plot for complete months net sales\n",
        "fig, ax = plt.subplots(figsize=(7, 5))\n",
        "ax.bar(monthly_net_sales['Month'], monthly_net_sales['TOTAL_NET_SALES'], width=20, color='blue', align='center')\n",
        "ax.xaxis.set_major_locator(mdates.MonthLocator())\n",
        "ax.xaxis.set_major_formatter(mdates.DateFormatter('%Y-%m'))\n",
        "\n",
        "plt.title('Monthly Net Sales (Completed Months Only)')\n",
        "plt.xlabel('Month')\n",
        "plt.ylabel('Total Net Sales')\n",
        "plt.grid(True)\n",
        "plt.xticks(rotation=45)\n",
        "plt.tight_layout()\n",
        "plt.show()\n"
      ],
      "metadata": {
        "colab": {
          "base_uri": "https://localhost:8080/",
          "height": 507
        },
        "id": "vNdjtHa6N78M",
        "outputId": "d7d4bb3f-1eee-4d08-9278-53d2ed6c69aa"
      },
      "execution_count": 20,
      "outputs": [
        {
          "output_type": "display_data",
          "data": {
            "text/plain": [
              "<Figure size 700x500 with 1 Axes>"
            ],
            "image/png": "[encoded data removed]"
          },
          "metadata": {}
        }
      ]
    },
    {
      "cell_type": "code",
      "source": [
        "# Check if September data is not empty and then create a plot\n",
        "#if not september_net_sales.empty:\n",
        "    #fig, ax = plt.subplots(figsize=(10, 8))\n",
        "    #ax.bar(september_net_sales['Month'], september_net_sales['TOTAL_NET_SALES'], width=20, color='blue', align='center')\n",
        "    #ax.xaxis.set_major_locator(mdates.MonthLocator())\n",
        "    #ax.xaxis.set_major_formatter(mdates.DateFormatter('%Y-%m'))\n",
        "\n",
        "    #plt.title('Net Sales for September 2024')\n",
        "    #plt.xlabel('Month')\n",
        "    #plt.ylabel('Total Net Sales')\n",
        "    #plt.grid(True)\n",
        "    #plt.xticks(rotation=45)\n",
        "    #plt.tight_layout()\n",
        "    #plt.show()"
      ],
      "metadata": {
        "id": "j5h73YdKN76Y"
      },
      "execution_count": 91,
      "outputs": []
    },
    {
      "cell_type": "code",
      "source": [
        "# Combine the complete months and September data\n",
        "all_months_net_sales = pd.concat([monthly_net_sales, current_month_net_sales])\n",
        "\n",
        "# Create a plot for all months net sales\n",
        "fig, ax = plt.subplots(figsize=(10, 8))\n",
        "ax.bar(all_months_net_sales['Month'], all_months_net_sales['TOTAL_NET_SALES'], width=20, color='blue', align='center')\n",
        "ax.xaxis.set_major_locator(mdates.MonthLocator())\n",
        "ax.xaxis.set_major_formatter(mdates.DateFormatter('%Y-%m'))\n",
        "\n",
        "plt.title('Overall Monthly Net Sales')\n",
        "plt.xlabel('Month')\n",
        "plt.ylabel('Total Net Sales')\n",
        "plt.grid(True)\n",
        "plt.xticks(rotation=45)\n",
        "plt.tight_layout()\n",
        "plt.show()"
      ],
      "metadata": {
        "colab": {
          "base_uri": "https://localhost:8080/",
          "height": 807
        },
        "id": "EdqlvpjiN74A",
        "outputId": "37546585-29ae-4659-8823-61ffc2f13cce"
      },
      "execution_count": 21,
      "outputs": [
        {
          "output_type": "display_data",
          "data": {
            "text/plain": [
              "<Figure size 1000x800 with 1 Axes>"
            ],
            "image/png": "[encoded data removed]"
          },
          "metadata": {}
        }
      ]
    },
    {
      "cell_type": "markdown",
      "source": [
        "## Optimal Price Range that lead to Highest Sales"
      ],
      "metadata": {
        "id": "Q8l0YMrMXipc"
      }
    },
    {
      "cell_type": "code",
      "source": [
        "# Group data by average price and calculate average net sales\n",
        "price_sales = df.groupby('AVERAGE_PRICE').agg({'TOTAL_NET_SALES': 'mean'}).reset_index()\n",
        "\n",
        "# Sort the results to see the top performing prices\n",
        "price_sales_sorted = price_sales.sort_values(by='TOTAL_NET_SALES', ascending=False)"
      ],
      "metadata": {
        "id": "BDqXnUpoPNG8"
      },
      "execution_count": 43,
      "outputs": []
    },
    {
      "cell_type": "markdown",
      "source": [
        "Aggregation of Data:\n",
        "\n",
        "- By grouping the prices into bins and calculating the average net sales for these bins, we can reduce the noise that might be present if we looked at individual price points. This aggregation makes trends more visible\n",
        "\n",
        "- Helps pinpoint the price range that historically leads to the highest sales."
      ],
      "metadata": {
        "id": "PjxzJoO2tIxv"
      }
    },
    {
      "cell_type": "code",
      "source": [
        "# Binning the prices\n",
        "price_sales['price_bin'] = pd.cut(price_sales['AVERAGE_PRICE'], bins=np.linspace(price_sales['AVERAGE_PRICE'].min(), price_sales['AVERAGE_PRICE'].max(), 20))\n",
        "price_sales_grouped = price_sales.groupby('price_bin', observed=True).agg({'TOTAL_NET_SALES':'mean'}).reset_index()\n",
        "\n",
        "# Prepare data for heatmap\n",
        "# Pivot the data for heatmap: 'price_bin' as rows, aggregated 'TOTAL_NET_SALES' needs to be the matrix\n",
        "heatmap_data = price_sales_grouped.pivot_table(index='price_bin', values='TOTAL_NET_SALES', aggfunc=np.mean)\n",
        "\n",
        "# Creating a heatmap\n",
        "plt.figure(figsize=(12, 6))\n",
        "sns.heatmap(heatmap_data, annot=True, fmt=\".0f\", cmap=\"YlGnBu\", cbar_kws={'label': 'Average Net Sales ($)'})\n",
        "plt.title('Heatmap of Average Net Sales by Price Bins')\n",
        "plt.xlabel('Average Net Sales ($)')\n",
        "plt.ylabel('Price Bins ($)')\n",
        "plt.xticks(rotation=45)\n",
        "plt.show()\n",
        "\n"
      ],
      "metadata": {
        "colab": {
          "base_uri": "https://localhost:8080/",
          "height": 698
        },
        "id": "S5wUBoadPxZb",
        "outputId": "9d64e386-bd4b-48cb-dd87-4d4a01699efd"
      },
      "execution_count": 44,
      "outputs": [
        {
          "output_type": "stream",
          "name": "stderr",
          "text": [
            "<ipython-input-44-1666714b08d4>:7: FutureWarning: The provided callable <function mean at 0x78a119537d00> is currently using DataFrameGroupBy.mean. In a future version of pandas, the provided callable will be used directly. To keep current behavior pass the string \"mean\" instead.\n",
            "  heatmap_data = price_sales_grouped.pivot_table(index='price_bin', values='TOTAL_NET_SALES', aggfunc=np.mean)\n"
          ]
        },
        {
          "output_type": "display_data",
          "data": {
            "text/plain": [
              "<Figure size 1200x600 with 2 Axes>"
            ],
            "image/png": "[encoded data removed]"
          },
          "metadata": {}
        }
      ]
    },
    {
      "cell_type": "markdown",
      "source": [
        "Look for the darker or warmer colored cells in the heatmap, as these represent higher average net sales. In our case, the price range between 4.861 and 4.876 showing significant sales suggests this may be an optimal pricing segment."
      ],
      "metadata": {
        "id": "pbKpF9ZAToWK"
      }
    },
    {
      "cell_type": "code",
      "source": [
        "# Ensuring the highest sales are accurately captured\n",
        "price_sales['price_bin'] = pd.cut(price_sales['AVERAGE_PRICE'], bins=np.linspace(price_sales['AVERAGE_PRICE'].min(), price_sales['AVERAGE_PRICE'].max(), 20))\n",
        "price_sales_grouped = price_sales.groupby('price_bin', observed=False).agg({'TOTAL_NET_SALES':'mean'}).reset_index()\n",
        "\n",
        "# Sort by net sales descending\n",
        "price_sales_grouped_sorted = price_sales_grouped.sort_values(by='TOTAL_NET_SALES', ascending=False)\n",
        "optimal_price = price_sales_grouped_sorted.iloc[0]\n",
        "\n",
        "print(f\"The optimal price bin is {optimal_price['price_bin']} which leads to an average net sales of ${optimal_price['TOTAL_NET_SALES']:.2f}.\")\n"
      ],
      "metadata": {
        "colab": {
          "base_uri": "https://localhost:8080/"
        },
        "id": "ikcXwVpOPM-n",
        "outputId": "a6bdffe7-856f-4391-c29b-d450ace82970"
      },
      "execution_count": 45,
      "outputs": [
        {
          "output_type": "stream",
          "name": "stdout",
          "text": [
            "The optimal price bin is (4.861, 4.876] which leads to an average net sales of $1087.17.\n"
          ]
        }
      ]
    },
    {
      "cell_type": "markdown",
      "source": [
        "## Walmart Analysis - Price Suggestion"
      ],
      "metadata": {
        "id": "elapWJpLaBab"
      }
    },
    {
      "cell_type": "code",
      "source": [
        "# Walmart Prices for the last 4 weeks\n",
        "walmart_prices_last_4_weeks = [5.93, 5.63, 5.93, 5.93]\n",
        "\n",
        "# Calculating average Walmart price over the 4 weeks\n",
        "average_walmart_price = sum(walmart_prices_last_4_weeks) / len(walmart_prices_last_4_weeks)\n",
        "\n",
        "\n",
        "# Calculating the price 10% cheaper than the 4-week average Walmart price\n",
        "target_walmart_price = average_walmart_price * 0.90\n",
        "print(f\"Average Walmart Price over 4 weeks: ${average_walmart_price:.2f}\")\n",
        "print(f\"Suggested Price (10% cheaper than Walmart's average): ${target_walmart_price:.2f}\")"
      ],
      "metadata": {
        "colab": {
          "base_uri": "https://localhost:8080/"
        },
        "id": "mgmvRymqZLeB",
        "outputId": "40cc8315-dc3f-4124-a3b8-673a1e9b2131"
      },
      "execution_count": 46,
      "outputs": [
        {
          "output_type": "stream",
          "name": "stdout",
          "text": [
            "Average Walmart Price over 4 weeks: $5.85\n",
            "Suggested Price (10% cheaper than Walmart's average): $5.27\n"
          ]
        }
      ]
    },
    {
      "cell_type": "code",
      "source": [
        "current_price = 5.00 # our current price\n",
        "\n",
        "# Optimal price range from heatmap\n",
        "optimal_price_lower = 4.861\n",
        "optimal_price_upper = 4.876\n",
        "\n",
        "print(f\"Current Price: ${current_price:.2f}\")\n",
        "print(f\"Optimal Price Range: ${optimal_price_lower:.3f} to ${optimal_price_upper:.3f}\")\n",
        "print(f\"Suggested Price (based on Walmart's average): ${target_walmart_price:.2f}\")\n",
        "\n",
        "# Determining final suggestion\n",
        "# using min max to hold the value between the heat map range\n",
        "# min compares between \"final suggested price 10% cheaper\" and f\"inal price suggestion\"\n",
        "# max compares \"final price suggestion\" with \"optimal price upper\" -> it's rounding 4.87\n",
        "final_price_suggestion = max(min(target_walmart_price, optimal_price_upper), optimal_price_lower) # adjusted to fit within your optimal price range identified by the heatmap\n",
        "print(f\"Final Price Suggestion: ${final_price_suggestion:.2f}\")"
      ],
      "metadata": {
        "colab": {
          "base_uri": "https://localhost:8080/"
        },
        "id": "9dZ1w_uzZLb8",
        "outputId": "0ae8102f-af8e-4864-dbb4-c4c04fe887b4"
      },
      "execution_count": 47,
      "outputs": [
        {
          "output_type": "stream",
          "name": "stdout",
          "text": [
            "Current Price: $5.00\n",
            "Optimal Price Range: $4.861 to $4.876\n",
            "Suggested Price (based on Walmart's average): $5.27\n",
            "Final Price Suggestion: $4.88\n"
          ]
        }
      ]
    },
    {
      "cell_type": "markdown",
      "source": [
        "MY INTENTION IS TO:\n",
        "\n",
        "maximize sales volumes based on historical sales data that indicates this range is most favorable."
      ],
      "metadata": {
        "id": "wvEs908h0GCn"
      }
    },
    {
      "cell_type": "markdown",
      "source": [
        "### Walmart - GROSS Margin Analysis"
      ],
      "metadata": {
        "id": "oNxxCwLNbwYT"
      }
    },
    {
      "cell_type": "code",
      "source": [
        "#for index, row in df.iterrows():\n",
        "    #gross_margin = 0.30  # Target gross margin\n",
        "    #cost_of_goods_sold = row['TOTAL_COGS']\n",
        "    #required_price_for_margin = cost_of_goods_sold / (1 - gross_margin)\n",
        "    #final_price_suggestion = 4.88  # final price suggestion\n",
        "\n",
        "    # Formatting the date\n",
        "    #date_str = row['BILLING_DATE'].strftime('%Y-%m-%d')\n",
        "\n",
        "    # Ensuring the final price meets the margin requirement\n",
        "    #if final_price_suggestion < required_price_for_margin:\n",
        "        #print(f\"Warning: On {date_str}, the final suggested price (${final_price_suggestion:.2f}) does not meet the gross margin requirement.\")\n",
        "    #else:\n",
        "        #print(f\"On {date_str}, the final suggested price (${final_price_suggestion:.2f}) meets the gross margin requirement.\")\n"
      ],
      "metadata": {
        "id": "wS_GQXQy0_k8"
      },
      "execution_count": 63,
      "outputs": []
    },
    {
      "cell_type": "markdown",
      "source": [
        "## Costco Analysis - Price Suggestion"
      ],
      "metadata": {
        "id": "8YsBultMaHt0"
      }
    },
    {
      "cell_type": "code",
      "source": [
        "# Example Costco prices for the last 4 weeks (replace with actual data)\n",
        "costco_prices_last_4_weeks = [5.00, 5.02, 4.98, 5.01]  # Replace with actual data\n",
        "\n",
        "# Calculate average Costco price over the last 4 weeks\n",
        "average_costco_price = sum(costco_prices_last_4_weeks) / len(costco_prices_last_4_weeks)\n",
        "print(f\"Average Costco Price over the last 4 weeks: ${average_costco_price:.2f}\")"
      ],
      "metadata": {
        "colab": {
          "base_uri": "https://localhost:8080/"
        },
        "id": "tRIlq2h8ZLZ2",
        "outputId": "26325580-29f3-4f77-b514-4574fecc999c"
      },
      "execution_count": 59,
      "outputs": [
        {
          "output_type": "stream",
          "name": "stdout",
          "text": [
            "Average Costco Price over the last 4 weeks: $5.00\n"
          ]
        }
      ]
    },
    {
      "cell_type": "code",
      "source": [
        "# Calculate the lower and upper bounds of the price range (98% to 103% of Costco's price)\n",
        "lower_costco_bound = average_costco_price * 0.98\n",
        "upper_costco_bound = average_costco_price * 1.03\n",
        "\n",
        "print(f\"Price should be between ${lower_costco_bound:.2f} and ${upper_costco_bound:.2f} to stay competitive with Costco.\")"
      ],
      "metadata": {
        "colab": {
          "base_uri": "https://localhost:8080/"
        },
        "id": "GJHLTKYEZLX2",
        "outputId": "1c467216-6558-474d-f5a1-c1836d37ea22"
      },
      "execution_count": 60,
      "outputs": [
        {
          "output_type": "stream",
          "name": "stdout",
          "text": [
            "Price should be between $4.90 and $5.15 to stay competitive with Costco.\n"
          ]
        }
      ]
    },
    {
      "cell_type": "code",
      "source": [
        "# Your current price\n",
        "current_price = 4.98  # Example current price\n",
        "\n",
        "# Optimal price range from heatmap\n",
        "optimal_price_lower = 4.861\n",
        "optimal_price_upper = 4.876\n",
        "\n",
        "# Compare the Costco price range with your current and optimal price range\n",
        "print(f\"Current Price: ${current_price:.2f}\")\n",
        "print(f\"Optimal Price Range: ${optimal_price_lower:.3f} to ${optimal_price_upper:.3f}\")\n",
        "print(f\"Suggested Price Range (based on Costco's average): ${lower_costco_bound:.2f} to ${upper_costco_bound:.2f}\")\n"
      ],
      "metadata": {
        "colab": {
          "base_uri": "https://localhost:8080/"
        },
        "id": "hWrNmWmIZLVs",
        "outputId": "927527f3-965d-4d43-f575-2c0c6f5f19df"
      },
      "execution_count": 61,
      "outputs": [
        {
          "output_type": "stream",
          "name": "stdout",
          "text": [
            "Current Price: $4.98\n",
            "Optimal Price Range: $4.861 to $4.876\n",
            "Suggested Price Range (based on Costco's average): $4.90 to $5.15\n"
          ]
        }
      ]
    },
    {
      "cell_type": "code",
      "source": [
        "# Final suggested price: Ensure it falls within both the optimal range and the Costco range\n",
        "final_price_suggestion = max(min(upper_costco_bound, optimal_price_upper), lower_costco_bound, optimal_price_lower)\n",
        "\n",
        "print(f\"Final Price Suggestion: ${final_price_suggestion:.2f}\")\n"
      ],
      "metadata": {
        "colab": {
          "base_uri": "https://localhost:8080/"
        },
        "id": "Hw7Pr97mZLTU",
        "outputId": "75a7d988-9dc8-4801-a925-43c61ac0ef67"
      },
      "execution_count": 62,
      "outputs": [
        {
          "output_type": "stream",
          "name": "stdout",
          "text": [
            "Final Price Suggestion: $4.90\n"
          ]
        }
      ]
    },
    {
      "cell_type": "markdown",
      "source": [
        "## Costco - Gross Margin Analysis"
      ],
      "metadata": {
        "id": "y-tB9Pl8dzZx"
      }
    },
    {
      "cell_type": "code",
      "source": [
        "# I WILL NEED TO GET THE TOTAL COST OF GOOD SOLDS INCORPORATED INTO THE SQL QUERY TO EXTRACT FROM SNOWFLAKE\n",
        "for index, row in df.iterrows():\n",
        "    gross_margin = 0.30  # Target gross margin\n",
        "    cost_of_goods_sold = row['TOTAL_COGS']  # Use the actual TOTAL_COGS for SKU\n",
        "\n",
        "    # Calculate the minimum price to maintain gross margin\n",
        "    required_price_for_margin = cost_of_goods_sold / (1 - gross_margin)\n",
        "\n",
        "    final_price_suggestion = 'xxx'  # Replace this with your calculated final price suggestion\n",
        "\n",
        "    # Ensuring the final price meets the margin requirement\n",
        "    if final_price_suggestion < required_price_for_margin:\n",
        "        print(f\"Warning: Final suggested price (${final_price_suggestion:.2f}) does not meet the gross margin requirement.\")\n",
        "    else:\n",
        "        print(f\"Final suggested price (${final_price_suggestion:.2f}) meets the gross margin requirement.\")"
      ],
      "metadata": {
        "id": "M4kx3TPfZLRR"
      },
      "execution_count": null,
      "outputs": []
    },
    {
      "cell_type": "markdown",
      "source": [
        "# Other ideas"
      ],
      "metadata": {
        "id": "O4kvaxuYB_Js"
      }
    },
    {
      "cell_type": "markdown",
      "source": [
        "- Time-Series Analysis: Look at elasticity over time to identify any trends or seasonal patterns.\n",
        "\n",
        "- Consider running A/B testing with different price points within the range to find the optimal balance.\n",
        "\n",
        "- Causal Analysis: Consider factors that might cause high elasticity days, like marketing campaigns or changes in competitor prices.\n",
        "\n",
        "- Statistical Analysis: You might want to conduct further statistical analysis to determine if certain factors (like specific days of the week, monthly cycles, promotions, or other external factors) are associated with high elasticity days. This could help in planning pricing strategies more effectively.\n",
        "\n",
        "- Confounding Factors: Consider if other factors might influence sales, such as promotions, seasonal effects, or market changes, which could also correlate with changes in pricing.\n",
        "\n",
        "- Regression Analysis: For a more statistical approach, consider regression analysis to quantify how much price changes are expected to affect sales, adjusting for other variables.\n",
        "\n",
        "- Correlation Analysis: Consider calculating the correlation coefficient between price and net sales to quantify their linear relationship.\n",
        "\n",
        "\n",
        "- Regression Model: Develop a regression model to predict sales based on price, potentially including other variables like promotional activities, seasonality, or competitor pricing."
      ],
      "metadata": {
        "id": "iM3NKQsZCB5w"
      }
    }
  ]
}
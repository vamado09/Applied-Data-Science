{
  "nbformat": 4,
  "nbformat_minor": 0,
  "metadata": {
    "colab": {
      "provenance": [],
      "authorship_tag": "ABX9TyNewaegNA23Pm5PqqYNmw1G",
      "include_colab_link": true
    },
    "kernelspec": {
      "name": "python3",
      "display_name": "Python 3"
    },
    "language_info": {
      "name": "python"
    }
  },
  "cells": [
    {
      "cell_type": "markdown",
      "metadata": {
        "id": "view-in-github",
        "colab_type": "text"
      },
      "source": [
        "<a href=\"https://colab.research.google.com/github/vamado09/Applied-Data-Science/blob/main/Homework3_VicenteDeLeon.ipynb\" target=\"_parent\"><img src=\"https://colab.research.google.com/assets/colab-badge.svg\" alt=\"Open In Colab\"/></a>"
      ]
    },
    {
      "cell_type": "markdown",
      "source": [
        "Vicente De Leon\n",
        "\n",
        "IU_id: 2001014594\n",
        "\n",
        "APPLIED DATA SCIENCE: 9998"
      ],
      "metadata": {
        "id": "jCQQIhBK1UKO"
      }
    },
    {
      "cell_type": "code",
      "execution_count": 1,
      "metadata": {
        "id": "RIyaQ7mtxNe_"
      },
      "outputs": [],
      "source": [
        "import pandas as pd\n",
        "import numpy as np\n",
        "import math\n",
        "import seaborn as sns\n",
        "import matplotlib.pyplot as plt\n",
        "from scipy.sparse import csr_matrix\n",
        "from sklearn.model_selection import train_test_split\n",
        "from sklearn.metrics.pairwise import cosine_similarity\n",
        "from sklearn.metrics import mean_squared_error\n",
        "\n",
        "\n",
        "%matplotlib inline\n",
        "import warnings\n",
        "warnings.filterwarnings('ignore')"
      ]
    },
    {
      "cell_type": "markdown",
      "source": [
        "# Twitch Dataset\n",
        "\n",
        "Twitch dataset of users consuming streaming content on Twitch. The data collectors retrieved all streamers, and all users in their respective chats, every 10 minutes during 43 days. Start and stop times are provided as integers and represent periods of 10 minutes.\n",
        "\n",
        "Source: https://cseweb.ucsd.edu/~jmcauley/datasets.html#twitch\n",
        "\n",
        "You can get this data, the 100k (not the full), from the data collector's one drive."
      ],
      "metadata": {
        "id": "YLngDSI9xIMy"
      }
    },
    {
      "cell_type": "code",
      "source": [
        "df = pd.read_csv('/content/100k_a.csv')\n",
        "df.head()"
      ],
      "metadata": {
        "colab": {
          "base_uri": "https://localhost:8080/",
          "height": 201
        },
        "id": "LA6N0vzA1us5",
        "outputId": "17573b25-6975-446c-e428-2b6654da57c5"
      },
      "execution_count": 2,
      "outputs": [
        {
          "output_type": "execute_result",
          "data": {
            "text/plain": [
              "   1  33842865744     mithrain  154  156\n",
              "0  1  33846768288        alptv  166  169\n",
              "1  1  33886469056     mithrain  587  588\n",
              "2  1  33887624992         wtcn  589  591\n",
              "3  1  33890145056    jrokezftw  591  594\n",
              "4  1  33903958784  berkriptepe  734  737"
            ],
            "text/html": [
              "\n",
              "  <div id=\"df-af38d975-4b36-47a5-8cc4-c3865c6b8676\" class=\"colab-df-container\">\n",
              "    <div>\n",
              "<style scoped>\n",
              "    .dataframe tbody tr th:only-of-type {\n",
              "        vertical-align: middle;\n",
              "    }\n",
              "\n",
              "    .dataframe tbody tr th {\n",
              "        vertical-align: top;\n",
              "    }\n",
              "\n",
              "    .dataframe thead th {\n",
              "        text-align: right;\n",
              "    }\n",
              "</style>\n",
              "<table border=\"1\" class=\"dataframe\">\n",
              "  <thead>\n",
              "    <tr style=\"text-align: right;\">\n",
              "      <th></th>\n",
              "      <th>1</th>\n",
              "      <th>33842865744</th>\n",
              "      <th>mithrain</th>\n",
              "      <th>154</th>\n",
              "      <th>156</th>\n",
              "    </tr>\n",
              "  </thead>\n",
              "  <tbody>\n",
              "    <tr>\n",
              "      <th>0</th>\n",
              "      <td>1</td>\n",
              "      <td>33846768288</td>\n",
              "      <td>alptv</td>\n",
              "      <td>166</td>\n",
              "      <td>169</td>\n",
              "    </tr>\n",
              "    <tr>\n",
              "      <th>1</th>\n",
              "      <td>1</td>\n",
              "      <td>33886469056</td>\n",
              "      <td>mithrain</td>\n",
              "      <td>587</td>\n",
              "      <td>588</td>\n",
              "    </tr>\n",
              "    <tr>\n",
              "      <th>2</th>\n",
              "      <td>1</td>\n",
              "      <td>33887624992</td>\n",
              "      <td>wtcn</td>\n",
              "      <td>589</td>\n",
              "      <td>591</td>\n",
              "    </tr>\n",
              "    <tr>\n",
              "      <th>3</th>\n",
              "      <td>1</td>\n",
              "      <td>33890145056</td>\n",
              "      <td>jrokezftw</td>\n",
              "      <td>591</td>\n",
              "      <td>594</td>\n",
              "    </tr>\n",
              "    <tr>\n",
              "      <th>4</th>\n",
              "      <td>1</td>\n",
              "      <td>33903958784</td>\n",
              "      <td>berkriptepe</td>\n",
              "      <td>734</td>\n",
              "      <td>737</td>\n",
              "    </tr>\n",
              "  </tbody>\n",
              "</table>\n",
              "</div>\n",
              "    <div class=\"colab-df-buttons\">\n",
              "\n",
              "  <div class=\"colab-df-container\">\n",
              "    <button class=\"colab-df-convert\" onclick=\"convertToInteractive('df-af38d975-4b36-47a5-8cc4-c3865c6b8676')\"\n",
              "            title=\"Convert this dataframe to an interactive table.\"\n",
              "            style=\"display:none;\">\n",
              "\n",
              "  <svg xmlns=\"http://www.w3.org/2000/svg\" height=\"24px\" viewBox=\"0 -960 960 960\">\n",
              "    <path d=\"M120-120v-720h720v720H120Zm60-500h600v-160H180v160Zm220 220h160v-160H400v160Zm0 220h160v-160H400v160ZM180-400h160v-160H180v160Zm440 0h160v-160H620v160ZM180-180h160v-160H180v160Zm440 0h160v-160H620v160Z\"/>\n",
              "  </svg>\n",
              "    </button>\n",
              "\n",
              "  <style>\n",
              "    .colab-df-container {\n",
              "      display:flex;\n",
              "      gap: 12px;\n",
              "    }\n",
              "\n",
              "    .colab-df-convert {\n",
              "      background-color: #E8F0FE;\n",
              "      border: none;\n",
              "      border-radius: 50%;\n",
              "      cursor: pointer;\n",
              "      display: none;\n",
              "      fill: #1967D2;\n",
              "      height: 32px;\n",
              "      padding: 0 0 0 0;\n",
              "      width: 32px;\n",
              "    }\n",
              "\n",
              "    .colab-df-convert:hover {\n",
              "      background-color: #E2EBFA;\n",
              "      box-shadow: 0px 1px 2px rgba(60, 64, 67, 0.3), 0px 1px 3px 1px rgba(60, 64, 67, 0.15);\n",
              "      fill: #174EA6;\n",
              "    }\n",
              "\n",
              "    .colab-df-buttons div {\n",
              "      margin-bottom: 4px;\n",
              "    }\n",
              "\n",
              "    [theme=dark] .colab-df-convert {\n",
              "      background-color: #3B4455;\n",
              "      fill: #D2E3FC;\n",
              "    }\n",
              "\n",
              "    [theme=dark] .colab-df-convert:hover {\n",
              "      background-color: #434B5C;\n",
              "      box-shadow: 0px 1px 3px 1px rgba(0, 0, 0, 0.15);\n",
              "      filter: drop-shadow(0px 1px 2px rgba(0, 0, 0, 0.3));\n",
              "      fill: #FFFFFF;\n",
              "    }\n",
              "  </style>\n",
              "\n",
              "    <script>\n",
              "      const buttonEl =\n",
              "        document.querySelector('#df-af38d975-4b36-47a5-8cc4-c3865c6b8676 button.colab-df-convert');\n",
              "      buttonEl.style.display =\n",
              "        google.colab.kernel.accessAllowed ? 'block' : 'none';\n",
              "\n",
              "      async function convertToInteractive(key) {\n",
              "        const element = document.querySelector('#df-af38d975-4b36-47a5-8cc4-c3865c6b8676');\n",
              "        const dataTable =\n",
              "          await google.colab.kernel.invokeFunction('convertToInteractive',\n",
              "                                                    [key], {});\n",
              "        if (!dataTable) return;\n",
              "\n",
              "        const docLinkHtml = 'Like what you see? Visit the ' +\n",
              "          '<a target=\"_blank\" href=https://colab.research.google.com/notebooks/data_table.ipynb>data table notebook</a>'\n",
              "          + ' to learn more about interactive tables.';\n",
              "        element.innerHTML = '';\n",
              "        dataTable['output_type'] = 'display_data';\n",
              "        await google.colab.output.renderOutput(dataTable, element);\n",
              "        const docLink = document.createElement('div');\n",
              "        docLink.innerHTML = docLinkHtml;\n",
              "        element.appendChild(docLink);\n",
              "      }\n",
              "    </script>\n",
              "  </div>\n",
              "\n",
              "\n",
              "<div id=\"df-3052d20e-2b78-46ca-8ed9-aa559fb3c9b3\">\n",
              "  <button class=\"colab-df-quickchart\" onclick=\"quickchart('df-3052d20e-2b78-46ca-8ed9-aa559fb3c9b3')\"\n",
              "            title=\"Suggest charts\"\n",
              "            style=\"display:none;\">\n",
              "\n",
              "<svg xmlns=\"http://www.w3.org/2000/svg\" height=\"24px\"viewBox=\"0 0 24 24\"\n",
              "     width=\"24px\">\n",
              "    <g>\n",
              "        <path d=\"M19 3H5c-1.1 0-2 .9-2 2v14c0 1.1.9 2 2 2h14c1.1 0 2-.9 2-2V5c0-1.1-.9-2-2-2zM9 17H7v-7h2v7zm4 0h-2V7h2v10zm4 0h-2v-4h2v4z\"/>\n",
              "    </g>\n",
              "</svg>\n",
              "  </button>\n",
              "\n",
              "<style>\n",
              "  .colab-df-quickchart {\n",
              "      --bg-color: #E8F0FE;\n",
              "      --fill-color: #1967D2;\n",
              "      --hover-bg-color: #E2EBFA;\n",
              "      --hover-fill-color: #174EA6;\n",
              "      --disabled-fill-color: #AAA;\n",
              "      --disabled-bg-color: #DDD;\n",
              "  }\n",
              "\n",
              "  [theme=dark] .colab-df-quickchart {\n",
              "      --bg-color: #3B4455;\n",
              "      --fill-color: #D2E3FC;\n",
              "      --hover-bg-color: #434B5C;\n",
              "      --hover-fill-color: #FFFFFF;\n",
              "      --disabled-bg-color: #3B4455;\n",
              "      --disabled-fill-color: #666;\n",
              "  }\n",
              "\n",
              "  .colab-df-quickchart {\n",
              "    background-color: var(--bg-color);\n",
              "    border: none;\n",
              "    border-radius: 50%;\n",
              "    cursor: pointer;\n",
              "    display: none;\n",
              "    fill: var(--fill-color);\n",
              "    height: 32px;\n",
              "    padding: 0;\n",
              "    width: 32px;\n",
              "  }\n",
              "\n",
              "  .colab-df-quickchart:hover {\n",
              "    background-color: var(--hover-bg-color);\n",
              "    box-shadow: 0 1px 2px rgba(60, 64, 67, 0.3), 0 1px 3px 1px rgba(60, 64, 67, 0.15);\n",
              "    fill: var(--button-hover-fill-color);\n",
              "  }\n",
              "\n",
              "  .colab-df-quickchart-complete:disabled,\n",
              "  .colab-df-quickchart-complete:disabled:hover {\n",
              "    background-color: var(--disabled-bg-color);\n",
              "    fill: var(--disabled-fill-color);\n",
              "    box-shadow: none;\n",
              "  }\n",
              "\n",
              "  .colab-df-spinner {\n",
              "    border: 2px solid var(--fill-color);\n",
              "    border-color: transparent;\n",
              "    border-bottom-color: var(--fill-color);\n",
              "    animation:\n",
              "      spin 1s steps(1) infinite;\n",
              "  }\n",
              "\n",
              "  @keyframes spin {\n",
              "    0% {\n",
              "      border-color: transparent;\n",
              "      border-bottom-color: var(--fill-color);\n",
              "      border-left-color: var(--fill-color);\n",
              "    }\n",
              "    20% {\n",
              "      border-color: transparent;\n",
              "      border-left-color: var(--fill-color);\n",
              "      border-top-color: var(--fill-color);\n",
              "    }\n",
              "    30% {\n",
              "      border-color: transparent;\n",
              "      border-left-color: var(--fill-color);\n",
              "      border-top-color: var(--fill-color);\n",
              "      border-right-color: var(--fill-color);\n",
              "    }\n",
              "    40% {\n",
              "      border-color: transparent;\n",
              "      border-right-color: var(--fill-color);\n",
              "      border-top-color: var(--fill-color);\n",
              "    }\n",
              "    60% {\n",
              "      border-color: transparent;\n",
              "      border-right-color: var(--fill-color);\n",
              "    }\n",
              "    80% {\n",
              "      border-color: transparent;\n",
              "      border-right-color: var(--fill-color);\n",
              "      border-bottom-color: var(--fill-color);\n",
              "    }\n",
              "    90% {\n",
              "      border-color: transparent;\n",
              "      border-bottom-color: var(--fill-color);\n",
              "    }\n",
              "  }\n",
              "</style>\n",
              "\n",
              "  <script>\n",
              "    async function quickchart(key) {\n",
              "      const quickchartButtonEl =\n",
              "        document.querySelector('#' + key + ' button');\n",
              "      quickchartButtonEl.disabled = true;  // To prevent multiple clicks.\n",
              "      quickchartButtonEl.classList.add('colab-df-spinner');\n",
              "      try {\n",
              "        const charts = await google.colab.kernel.invokeFunction(\n",
              "            'suggestCharts', [key], {});\n",
              "      } catch (error) {\n",
              "        console.error('Error during call to suggestCharts:', error);\n",
              "      }\n",
              "      quickchartButtonEl.classList.remove('colab-df-spinner');\n",
              "      quickchartButtonEl.classList.add('colab-df-quickchart-complete');\n",
              "    }\n",
              "    (() => {\n",
              "      let quickchartButtonEl =\n",
              "        document.querySelector('#df-3052d20e-2b78-46ca-8ed9-aa559fb3c9b3 button');\n",
              "      quickchartButtonEl.style.display =\n",
              "        google.colab.kernel.accessAllowed ? 'block' : 'none';\n",
              "    })();\n",
              "  </script>\n",
              "</div>\n",
              "\n",
              "    </div>\n",
              "  </div>\n"
            ],
            "application/vnd.google.colaboratory.intrinsic+json": {
              "type": "dataframe",
              "variable_name": "df"
            }
          },
          "metadata": {},
          "execution_count": 2
        }
      ]
    },
    {
      "cell_type": "code",
      "source": [
        "column_names = ['User ID', 'Stream ID', 'Streamer Username', 'Time Start', 'Time Stop']\n",
        "df = pd.read_csv('/content/100k_a.csv', names = column_names, header = None)\n",
        "df.head()"
      ],
      "metadata": {
        "colab": {
          "base_uri": "https://localhost:8080/",
          "height": 201
        },
        "id": "zhwcWJyR6ohS",
        "outputId": "f58f60ca-4906-4c92-ff34-9cffba06f1e0"
      },
      "execution_count": 3,
      "outputs": [
        {
          "output_type": "execute_result",
          "data": {
            "text/plain": [
              "   User ID    Stream ID Streamer Username  Time Start  Time Stop\n",
              "0        1  33842865744          mithrain         154        156\n",
              "1        1  33846768288             alptv         166        169\n",
              "2        1  33886469056          mithrain         587        588\n",
              "3        1  33887624992              wtcn         589        591\n",
              "4        1  33890145056         jrokezftw         591        594"
            ],
            "text/html": [
              "\n",
              "  <div id=\"df-57bfbeb2-1c0c-4f2c-b67f-c4c16507de5e\" class=\"colab-df-container\">\n",
              "    <div>\n",
              "<style scoped>\n",
              "    .dataframe tbody tr th:only-of-type {\n",
              "        vertical-align: middle;\n",
              "    }\n",
              "\n",
              "    .dataframe tbody tr th {\n",
              "        vertical-align: top;\n",
              "    }\n",
              "\n",
              "    .dataframe thead th {\n",
              "        text-align: right;\n",
              "    }\n",
              "</style>\n",
              "<table border=\"1\" class=\"dataframe\">\n",
              "  <thead>\n",
              "    <tr style=\"text-align: right;\">\n",
              "      <th></th>\n",
              "      <th>User ID</th>\n",
              "      <th>Stream ID</th>\n",
              "      <th>Streamer Username</th>\n",
              "      <th>Time Start</th>\n",
              "      <th>Time Stop</th>\n",
              "    </tr>\n",
              "  </thead>\n",
              "  <tbody>\n",
              "    <tr>\n",
              "      <th>0</th>\n",
              "      <td>1</td>\n",
              "      <td>33842865744</td>\n",
              "      <td>mithrain</td>\n",
              "      <td>154</td>\n",
              "      <td>156</td>\n",
              "    </tr>\n",
              "    <tr>\n",
              "      <th>1</th>\n",
              "      <td>1</td>\n",
              "      <td>33846768288</td>\n",
              "      <td>alptv</td>\n",
              "      <td>166</td>\n",
              "      <td>169</td>\n",
              "    </tr>\n",
              "    <tr>\n",
              "      <th>2</th>\n",
              "      <td>1</td>\n",
              "      <td>33886469056</td>\n",
              "      <td>mithrain</td>\n",
              "      <td>587</td>\n",
              "      <td>588</td>\n",
              "    </tr>\n",
              "    <tr>\n",
              "      <th>3</th>\n",
              "      <td>1</td>\n",
              "      <td>33887624992</td>\n",
              "      <td>wtcn</td>\n",
              "      <td>589</td>\n",
              "      <td>591</td>\n",
              "    </tr>\n",
              "    <tr>\n",
              "      <th>4</th>\n",
              "      <td>1</td>\n",
              "      <td>33890145056</td>\n",
              "      <td>jrokezftw</td>\n",
              "      <td>591</td>\n",
              "      <td>594</td>\n",
              "    </tr>\n",
              "  </tbody>\n",
              "</table>\n",
              "</div>\n",
              "    <div class=\"colab-df-buttons\">\n",
              "\n",
              "  <div class=\"colab-df-container\">\n",
              "    <button class=\"colab-df-convert\" onclick=\"convertToInteractive('df-57bfbeb2-1c0c-4f2c-b67f-c4c16507de5e')\"\n",
              "            title=\"Convert this dataframe to an interactive table.\"\n",
              "            style=\"display:none;\">\n",
              "\n",
              "  <svg xmlns=\"http://www.w3.org/2000/svg\" height=\"24px\" viewBox=\"0 -960 960 960\">\n",
              "    <path d=\"M120-120v-720h720v720H120Zm60-500h600v-160H180v160Zm220 220h160v-160H400v160Zm0 220h160v-160H400v160ZM180-400h160v-160H180v160Zm440 0h160v-160H620v160ZM180-180h160v-160H180v160Zm440 0h160v-160H620v160Z\"/>\n",
              "  </svg>\n",
              "    </button>\n",
              "\n",
              "  <style>\n",
              "    .colab-df-container {\n",
              "      display:flex;\n",
              "      gap: 12px;\n",
              "    }\n",
              "\n",
              "    .colab-df-convert {\n",
              "      background-color: #E8F0FE;\n",
              "      border: none;\n",
              "      border-radius: 50%;\n",
              "      cursor: pointer;\n",
              "      display: none;\n",
              "      fill: #1967D2;\n",
              "      height: 32px;\n",
              "      padding: 0 0 0 0;\n",
              "      width: 32px;\n",
              "    }\n",
              "\n",
              "    .colab-df-convert:hover {\n",
              "      background-color: #E2EBFA;\n",
              "      box-shadow: 0px 1px 2px rgba(60, 64, 67, 0.3), 0px 1px 3px 1px rgba(60, 64, 67, 0.15);\n",
              "      fill: #174EA6;\n",
              "    }\n",
              "\n",
              "    .colab-df-buttons div {\n",
              "      margin-bottom: 4px;\n",
              "    }\n",
              "\n",
              "    [theme=dark] .colab-df-convert {\n",
              "      background-color: #3B4455;\n",
              "      fill: #D2E3FC;\n",
              "    }\n",
              "\n",
              "    [theme=dark] .colab-df-convert:hover {\n",
              "      background-color: #434B5C;\n",
              "      box-shadow: 0px 1px 3px 1px rgba(0, 0, 0, 0.15);\n",
              "      filter: drop-shadow(0px 1px 2px rgba(0, 0, 0, 0.3));\n",
              "      fill: #FFFFFF;\n",
              "    }\n",
              "  </style>\n",
              "\n",
              "    <script>\n",
              "      const buttonEl =\n",
              "        document.querySelector('#df-57bfbeb2-1c0c-4f2c-b67f-c4c16507de5e button.colab-df-convert');\n",
              "      buttonEl.style.display =\n",
              "        google.colab.kernel.accessAllowed ? 'block' : 'none';\n",
              "\n",
              "      async function convertToInteractive(key) {\n",
              "        const element = document.querySelector('#df-57bfbeb2-1c0c-4f2c-b67f-c4c16507de5e');\n",
              "        const dataTable =\n",
              "          await google.colab.kernel.invokeFunction('convertToInteractive',\n",
              "                                                    [key], {});\n",
              "        if (!dataTable) return;\n",
              "\n",
              "        const docLinkHtml = 'Like what you see? Visit the ' +\n",
              "          '<a target=\"_blank\" href=https://colab.research.google.com/notebooks/data_table.ipynb>data table notebook</a>'\n",
              "          + ' to learn more about interactive tables.';\n",
              "        element.innerHTML = '';\n",
              "        dataTable['output_type'] = 'display_data';\n",
              "        await google.colab.output.renderOutput(dataTable, element);\n",
              "        const docLink = document.createElement('div');\n",
              "        docLink.innerHTML = docLinkHtml;\n",
              "        element.appendChild(docLink);\n",
              "      }\n",
              "    </script>\n",
              "  </div>\n",
              "\n",
              "\n",
              "<div id=\"df-56f8ee74-3c4c-4739-8b98-ba86d06813b0\">\n",
              "  <button class=\"colab-df-quickchart\" onclick=\"quickchart('df-56f8ee74-3c4c-4739-8b98-ba86d06813b0')\"\n",
              "            title=\"Suggest charts\"\n",
              "            style=\"display:none;\">\n",
              "\n",
              "<svg xmlns=\"http://www.w3.org/2000/svg\" height=\"24px\"viewBox=\"0 0 24 24\"\n",
              "     width=\"24px\">\n",
              "    <g>\n",
              "        <path d=\"M19 3H5c-1.1 0-2 .9-2 2v14c0 1.1.9 2 2 2h14c1.1 0 2-.9 2-2V5c0-1.1-.9-2-2-2zM9 17H7v-7h2v7zm4 0h-2V7h2v10zm4 0h-2v-4h2v4z\"/>\n",
              "    </g>\n",
              "</svg>\n",
              "  </button>\n",
              "\n",
              "<style>\n",
              "  .colab-df-quickchart {\n",
              "      --bg-color: #E8F0FE;\n",
              "      --fill-color: #1967D2;\n",
              "      --hover-bg-color: #E2EBFA;\n",
              "      --hover-fill-color: #174EA6;\n",
              "      --disabled-fill-color: #AAA;\n",
              "      --disabled-bg-color: #DDD;\n",
              "  }\n",
              "\n",
              "  [theme=dark] .colab-df-quickchart {\n",
              "      --bg-color: #3B4455;\n",
              "      --fill-color: #D2E3FC;\n",
              "      --hover-bg-color: #434B5C;\n",
              "      --hover-fill-color: #FFFFFF;\n",
              "      --disabled-bg-color: #3B4455;\n",
              "      --disabled-fill-color: #666;\n",
              "  }\n",
              "\n",
              "  .colab-df-quickchart {\n",
              "    background-color: var(--bg-color);\n",
              "    border: none;\n",
              "    border-radius: 50%;\n",
              "    cursor: pointer;\n",
              "    display: none;\n",
              "    fill: var(--fill-color);\n",
              "    height: 32px;\n",
              "    padding: 0;\n",
              "    width: 32px;\n",
              "  }\n",
              "\n",
              "  .colab-df-quickchart:hover {\n",
              "    background-color: var(--hover-bg-color);\n",
              "    box-shadow: 0 1px 2px rgba(60, 64, 67, 0.3), 0 1px 3px 1px rgba(60, 64, 67, 0.15);\n",
              "    fill: var(--button-hover-fill-color);\n",
              "  }\n",
              "\n",
              "  .colab-df-quickchart-complete:disabled,\n",
              "  .colab-df-quickchart-complete:disabled:hover {\n",
              "    background-color: var(--disabled-bg-color);\n",
              "    fill: var(--disabled-fill-color);\n",
              "    box-shadow: none;\n",
              "  }\n",
              "\n",
              "  .colab-df-spinner {\n",
              "    border: 2px solid var(--fill-color);\n",
              "    border-color: transparent;\n",
              "    border-bottom-color: var(--fill-color);\n",
              "    animation:\n",
              "      spin 1s steps(1) infinite;\n",
              "  }\n",
              "\n",
              "  @keyframes spin {\n",
              "    0% {\n",
              "      border-color: transparent;\n",
              "      border-bottom-color: var(--fill-color);\n",
              "      border-left-color: var(--fill-color);\n",
              "    }\n",
              "    20% {\n",
              "      border-color: transparent;\n",
              "      border-left-color: var(--fill-color);\n",
              "      border-top-color: var(--fill-color);\n",
              "    }\n",
              "    30% {\n",
              "      border-color: transparent;\n",
              "      border-left-color: var(--fill-color);\n",
              "      border-top-color: var(--fill-color);\n",
              "      border-right-color: var(--fill-color);\n",
              "    }\n",
              "    40% {\n",
              "      border-color: transparent;\n",
              "      border-right-color: var(--fill-color);\n",
              "      border-top-color: var(--fill-color);\n",
              "    }\n",
              "    60% {\n",
              "      border-color: transparent;\n",
              "      border-right-color: var(--fill-color);\n",
              "    }\n",
              "    80% {\n",
              "      border-color: transparent;\n",
              "      border-right-color: var(--fill-color);\n",
              "      border-bottom-color: var(--fill-color);\n",
              "    }\n",
              "    90% {\n",
              "      border-color: transparent;\n",
              "      border-bottom-color: var(--fill-color);\n",
              "    }\n",
              "  }\n",
              "</style>\n",
              "\n",
              "  <script>\n",
              "    async function quickchart(key) {\n",
              "      const quickchartButtonEl =\n",
              "        document.querySelector('#' + key + ' button');\n",
              "      quickchartButtonEl.disabled = true;  // To prevent multiple clicks.\n",
              "      quickchartButtonEl.classList.add('colab-df-spinner');\n",
              "      try {\n",
              "        const charts = await google.colab.kernel.invokeFunction(\n",
              "            'suggestCharts', [key], {});\n",
              "      } catch (error) {\n",
              "        console.error('Error during call to suggestCharts:', error);\n",
              "      }\n",
              "      quickchartButtonEl.classList.remove('colab-df-spinner');\n",
              "      quickchartButtonEl.classList.add('colab-df-quickchart-complete');\n",
              "    }\n",
              "    (() => {\n",
              "      let quickchartButtonEl =\n",
              "        document.querySelector('#df-56f8ee74-3c4c-4739-8b98-ba86d06813b0 button');\n",
              "      quickchartButtonEl.style.display =\n",
              "        google.colab.kernel.accessAllowed ? 'block' : 'none';\n",
              "    })();\n",
              "  </script>\n",
              "</div>\n",
              "\n",
              "    </div>\n",
              "  </div>\n"
            ],
            "application/vnd.google.colaboratory.intrinsic+json": {
              "type": "dataframe",
              "variable_name": "df"
            }
          },
          "metadata": {},
          "execution_count": 3
        }
      ]
    },
    {
      "cell_type": "code",
      "source": [
        "df['Duration'] = df['Time Stop'] - df['Time Start']"
      ],
      "metadata": {
        "id": "4LiZS-fQ6zCO"
      },
      "execution_count": 4,
      "outputs": []
    },
    {
      "cell_type": "markdown",
      "source": [
        "The dataset is kind of limited, due to this, the recommender system that will be created is Collaborative Filtering. This Twitch dataset shows potential for this type of recommendation system because of the shared `User ID` and `Streamer Username` interactions. Two ideas I have in mind are for example User 1 has interacted with `mithrain`, `wtcn`, `jrokezftw`, then collaborative filtering can assume other users who interacted with some of these streamers might also like the rest. Also, `mithrain` and `wtcn` are likely connected if many users interact with both. This could help recommened similar streamers to users with overlapping preferences."
      ],
      "metadata": {
        "id": "f1vqILqRyQry"
      }
    },
    {
      "cell_type": "code",
      "source": [
        "unique_user_ids = df['User ID'].unique()\n",
        "print(unique_user_ids)"
      ],
      "metadata": {
        "colab": {
          "base_uri": "https://localhost:8080/"
        },
        "id": "-iM7B_hD3M8W",
        "outputId": "138619c8-b89e-47fb-d2a2-3290b8a646d3"
      },
      "execution_count": null,
      "outputs": [
        {
          "output_type": "stream",
          "name": "stdout",
          "text": [
            "[     1      2      3 ...  99998  99999 100000]\n"
          ]
        }
      ]
    },
    {
      "cell_type": "code",
      "source": [
        "unique_streamer_ids = df['Stream ID'].unique()\n",
        "print(unique_streamer_ids)"
      ],
      "metadata": {
        "colab": {
          "base_uri": "https://localhost:8080/"
        },
        "id": "QbMvdZuO_ERv",
        "outputId": "9289b0dc-66ff-4770-ba39-43cbfc40eb06"
      },
      "execution_count": null,
      "outputs": [
        {
          "output_type": "stream",
          "name": "stdout",
          "text": [
            "[33842865744 33846768288 33886469056 ... 34306191808 34310064496\n",
            " 34412194176]\n"
          ]
        }
      ]
    },
    {
      "cell_type": "code",
      "source": [
        "df.shape[0]"
      ],
      "metadata": {
        "colab": {
          "base_uri": "https://localhost:8080/"
        },
        "id": "L92hKpNYGMiC",
        "outputId": "09cee615-b011-4657-a727-3e569d253998"
      },
      "execution_count": null,
      "outputs": [
        {
          "output_type": "execute_result",
          "data": {
            "text/plain": [
              "3051733"
            ]
          },
          "metadata": {},
          "execution_count": 8
        }
      ]
    },
    {
      "cell_type": "code",
      "source": [
        "df.isnull().sum()"
      ],
      "metadata": {
        "colab": {
          "base_uri": "https://localhost:8080/",
          "height": 234
        },
        "id": "zSkJPIa1GGRU",
        "outputId": "ebb15b7b-082c-4758-aee0-297a8db0e5c5"
      },
      "execution_count": null,
      "outputs": [
        {
          "output_type": "execute_result",
          "data": {
            "text/plain": [
              "User ID              0\n",
              "Stream ID            0\n",
              "Streamer Username    0\n",
              "Time Start           0\n",
              "Time Stop            0\n",
              "dtype: int64"
            ],
            "text/html": [
              "<div>\n",
              "<style scoped>\n",
              "    .dataframe tbody tr th:only-of-type {\n",
              "        vertical-align: middle;\n",
              "    }\n",
              "\n",
              "    .dataframe tbody tr th {\n",
              "        vertical-align: top;\n",
              "    }\n",
              "\n",
              "    .dataframe thead th {\n",
              "        text-align: right;\n",
              "    }\n",
              "</style>\n",
              "<table border=\"1\" class=\"dataframe\">\n",
              "  <thead>\n",
              "    <tr style=\"text-align: right;\">\n",
              "      <th></th>\n",
              "      <th>0</th>\n",
              "    </tr>\n",
              "  </thead>\n",
              "  <tbody>\n",
              "    <tr>\n",
              "      <th>User ID</th>\n",
              "      <td>0</td>\n",
              "    </tr>\n",
              "    <tr>\n",
              "      <th>Stream ID</th>\n",
              "      <td>0</td>\n",
              "    </tr>\n",
              "    <tr>\n",
              "      <th>Streamer Username</th>\n",
              "      <td>0</td>\n",
              "    </tr>\n",
              "    <tr>\n",
              "      <th>Time Start</th>\n",
              "      <td>0</td>\n",
              "    </tr>\n",
              "    <tr>\n",
              "      <th>Time Stop</th>\n",
              "      <td>0</td>\n",
              "    </tr>\n",
              "  </tbody>\n",
              "</table>\n",
              "</div><br><label><b>dtype:</b> int64</label>"
            ]
          },
          "metadata": {},
          "execution_count": 9
        }
      ]
    },
    {
      "cell_type": "code",
      "source": [
        "df.dtypes"
      ],
      "metadata": {
        "colab": {
          "base_uri": "https://localhost:8080/",
          "height": 234
        },
        "id": "2XQUu5YJGYZr",
        "outputId": "445a8405-8de1-447d-d649-15ef2dfe779e"
      },
      "execution_count": null,
      "outputs": [
        {
          "output_type": "execute_result",
          "data": {
            "text/plain": [
              "User ID               int64\n",
              "Stream ID             int64\n",
              "Streamer Username    object\n",
              "Time Start            int64\n",
              "Time Stop             int64\n",
              "dtype: object"
            ],
            "text/html": [
              "<div>\n",
              "<style scoped>\n",
              "    .dataframe tbody tr th:only-of-type {\n",
              "        vertical-align: middle;\n",
              "    }\n",
              "\n",
              "    .dataframe tbody tr th {\n",
              "        vertical-align: top;\n",
              "    }\n",
              "\n",
              "    .dataframe thead th {\n",
              "        text-align: right;\n",
              "    }\n",
              "</style>\n",
              "<table border=\"1\" class=\"dataframe\">\n",
              "  <thead>\n",
              "    <tr style=\"text-align: right;\">\n",
              "      <th></th>\n",
              "      <th>0</th>\n",
              "    </tr>\n",
              "  </thead>\n",
              "  <tbody>\n",
              "    <tr>\n",
              "      <th>User ID</th>\n",
              "      <td>int64</td>\n",
              "    </tr>\n",
              "    <tr>\n",
              "      <th>Stream ID</th>\n",
              "      <td>int64</td>\n",
              "    </tr>\n",
              "    <tr>\n",
              "      <th>Streamer Username</th>\n",
              "      <td>object</td>\n",
              "    </tr>\n",
              "    <tr>\n",
              "      <th>Time Start</th>\n",
              "      <td>int64</td>\n",
              "    </tr>\n",
              "    <tr>\n",
              "      <th>Time Stop</th>\n",
              "      <td>int64</td>\n",
              "    </tr>\n",
              "  </tbody>\n",
              "</table>\n",
              "</div><br><label><b>dtype:</b> object</label>"
            ]
          },
          "metadata": {},
          "execution_count": 10
        }
      ]
    },
    {
      "cell_type": "code",
      "source": [
        "df.describe()"
      ],
      "metadata": {
        "colab": {
          "base_uri": "https://localhost:8080/",
          "height": 291
        },
        "id": "D0eONFixGgiQ",
        "outputId": "e126ac96-aad6-47fd-ae8a-571157b91c7f"
      },
      "execution_count": null,
      "outputs": [
        {
          "output_type": "execute_result",
          "data": {
            "text/plain": [
              "            User ID     Stream ID    Time Start     Time Stop\n",
              "count  3.051733e+06  3.051733e+06  3.051733e+06  3.051733e+06\n",
              "mean   5.032313e+04  3.413002e+10  3.146044e+03  3.149186e+03\n",
              "std    2.889476e+04  1.682242e+08  1.772520e+03  1.772656e+03\n",
              "min    1.000000e+00  3.380153e+10  0.000000e+00  1.000000e+00\n",
              "25%    2.528400e+04  3.398884e+10  1.618000e+03  1.620000e+03\n",
              "50%    5.029900e+04  3.413069e+10  3.174000e+03  3.178000e+03\n",
              "75%    7.545200e+04  3.427399e+10  4.676000e+03  4.679000e+03\n",
              "max    1.000000e+05  3.441642e+10  6.147000e+03  6.148000e+03"
            ],
            "text/html": [
              "\n",
              "  <div id=\"df-f524ebf1-59d6-44f8-9bdb-d816b209f3d2\" class=\"colab-df-container\">\n",
              "    <div>\n",
              "<style scoped>\n",
              "    .dataframe tbody tr th:only-of-type {\n",
              "        vertical-align: middle;\n",
              "    }\n",
              "\n",
              "    .dataframe tbody tr th {\n",
              "        vertical-align: top;\n",
              "    }\n",
              "\n",
              "    .dataframe thead th {\n",
              "        text-align: right;\n",
              "    }\n",
              "</style>\n",
              "<table border=\"1\" class=\"dataframe\">\n",
              "  <thead>\n",
              "    <tr style=\"text-align: right;\">\n",
              "      <th></th>\n",
              "      <th>User ID</th>\n",
              "      <th>Stream ID</th>\n",
              "      <th>Time Start</th>\n",
              "      <th>Time Stop</th>\n",
              "    </tr>\n",
              "  </thead>\n",
              "  <tbody>\n",
              "    <tr>\n",
              "      <th>count</th>\n",
              "      <td>3.051733e+06</td>\n",
              "      <td>3.051733e+06</td>\n",
              "      <td>3.051733e+06</td>\n",
              "      <td>3.051733e+06</td>\n",
              "    </tr>\n",
              "    <tr>\n",
              "      <th>mean</th>\n",
              "      <td>5.032313e+04</td>\n",
              "      <td>3.413002e+10</td>\n",
              "      <td>3.146044e+03</td>\n",
              "      <td>3.149186e+03</td>\n",
              "    </tr>\n",
              "    <tr>\n",
              "      <th>std</th>\n",
              "      <td>2.889476e+04</td>\n",
              "      <td>1.682242e+08</td>\n",
              "      <td>1.772520e+03</td>\n",
              "      <td>1.772656e+03</td>\n",
              "    </tr>\n",
              "    <tr>\n",
              "      <th>min</th>\n",
              "      <td>1.000000e+00</td>\n",
              "      <td>3.380153e+10</td>\n",
              "      <td>0.000000e+00</td>\n",
              "      <td>1.000000e+00</td>\n",
              "    </tr>\n",
              "    <tr>\n",
              "      <th>25%</th>\n",
              "      <td>2.528400e+04</td>\n",
              "      <td>3.398884e+10</td>\n",
              "      <td>1.618000e+03</td>\n",
              "      <td>1.620000e+03</td>\n",
              "    </tr>\n",
              "    <tr>\n",
              "      <th>50%</th>\n",
              "      <td>5.029900e+04</td>\n",
              "      <td>3.413069e+10</td>\n",
              "      <td>3.174000e+03</td>\n",
              "      <td>3.178000e+03</td>\n",
              "    </tr>\n",
              "    <tr>\n",
              "      <th>75%</th>\n",
              "      <td>7.545200e+04</td>\n",
              "      <td>3.427399e+10</td>\n",
              "      <td>4.676000e+03</td>\n",
              "      <td>4.679000e+03</td>\n",
              "    </tr>\n",
              "    <tr>\n",
              "      <th>max</th>\n",
              "      <td>1.000000e+05</td>\n",
              "      <td>3.441642e+10</td>\n",
              "      <td>6.147000e+03</td>\n",
              "      <td>6.148000e+03</td>\n",
              "    </tr>\n",
              "  </tbody>\n",
              "</table>\n",
              "</div>\n",
              "    <div class=\"colab-df-buttons\">\n",
              "\n",
              "  <div class=\"colab-df-container\">\n",
              "    <button class=\"colab-df-convert\" onclick=\"convertToInteractive('df-f524ebf1-59d6-44f8-9bdb-d816b209f3d2')\"\n",
              "            title=\"Convert this dataframe to an interactive table.\"\n",
              "            style=\"display:none;\">\n",
              "\n",
              "  <svg xmlns=\"http://www.w3.org/2000/svg\" height=\"24px\" viewBox=\"0 -960 960 960\">\n",
              "    <path d=\"M120-120v-720h720v720H120Zm60-500h600v-160H180v160Zm220 220h160v-160H400v160Zm0 220h160v-160H400v160ZM180-400h160v-160H180v160Zm440 0h160v-160H620v160ZM180-180h160v-160H180v160Zm440 0h160v-160H620v160Z\"/>\n",
              "  </svg>\n",
              "    </button>\n",
              "\n",
              "  <style>\n",
              "    .colab-df-container {\n",
              "      display:flex;\n",
              "      gap: 12px;\n",
              "    }\n",
              "\n",
              "    .colab-df-convert {\n",
              "      background-color: #E8F0FE;\n",
              "      border: none;\n",
              "      border-radius: 50%;\n",
              "      cursor: pointer;\n",
              "      display: none;\n",
              "      fill: #1967D2;\n",
              "      height: 32px;\n",
              "      padding: 0 0 0 0;\n",
              "      width: 32px;\n",
              "    }\n",
              "\n",
              "    .colab-df-convert:hover {\n",
              "      background-color: #E2EBFA;\n",
              "      box-shadow: 0px 1px 2px rgba(60, 64, 67, 0.3), 0px 1px 3px 1px rgba(60, 64, 67, 0.15);\n",
              "      fill: #174EA6;\n",
              "    }\n",
              "\n",
              "    .colab-df-buttons div {\n",
              "      margin-bottom: 4px;\n",
              "    }\n",
              "\n",
              "    [theme=dark] .colab-df-convert {\n",
              "      background-color: #3B4455;\n",
              "      fill: #D2E3FC;\n",
              "    }\n",
              "\n",
              "    [theme=dark] .colab-df-convert:hover {\n",
              "      background-color: #434B5C;\n",
              "      box-shadow: 0px 1px 3px 1px rgba(0, 0, 0, 0.15);\n",
              "      filter: drop-shadow(0px 1px 2px rgba(0, 0, 0, 0.3));\n",
              "      fill: #FFFFFF;\n",
              "    }\n",
              "  </style>\n",
              "\n",
              "    <script>\n",
              "      const buttonEl =\n",
              "        document.querySelector('#df-f524ebf1-59d6-44f8-9bdb-d816b209f3d2 button.colab-df-convert');\n",
              "      buttonEl.style.display =\n",
              "        google.colab.kernel.accessAllowed ? 'block' : 'none';\n",
              "\n",
              "      async function convertToInteractive(key) {\n",
              "        const element = document.querySelector('#df-f524ebf1-59d6-44f8-9bdb-d816b209f3d2');\n",
              "        const dataTable =\n",
              "          await google.colab.kernel.invokeFunction('convertToInteractive',\n",
              "                                                    [key], {});\n",
              "        if (!dataTable) return;\n",
              "\n",
              "        const docLinkHtml = 'Like what you see? Visit the ' +\n",
              "          '<a target=\"_blank\" href=https://colab.research.google.com/notebooks/data_table.ipynb>data table notebook</a>'\n",
              "          + ' to learn more about interactive tables.';\n",
              "        element.innerHTML = '';\n",
              "        dataTable['output_type'] = 'display_data';\n",
              "        await google.colab.output.renderOutput(dataTable, element);\n",
              "        const docLink = document.createElement('div');\n",
              "        docLink.innerHTML = docLinkHtml;\n",
              "        element.appendChild(docLink);\n",
              "      }\n",
              "    </script>\n",
              "  </div>\n",
              "\n",
              "\n",
              "<div id=\"df-257dcebb-c4c4-42e7-9d6d-f68cd4f1d98a\">\n",
              "  <button class=\"colab-df-quickchart\" onclick=\"quickchart('df-257dcebb-c4c4-42e7-9d6d-f68cd4f1d98a')\"\n",
              "            title=\"Suggest charts\"\n",
              "            style=\"display:none;\">\n",
              "\n",
              "<svg xmlns=\"http://www.w3.org/2000/svg\" height=\"24px\"viewBox=\"0 0 24 24\"\n",
              "     width=\"24px\">\n",
              "    <g>\n",
              "        <path d=\"M19 3H5c-1.1 0-2 .9-2 2v14c0 1.1.9 2 2 2h14c1.1 0 2-.9 2-2V5c0-1.1-.9-2-2-2zM9 17H7v-7h2v7zm4 0h-2V7h2v10zm4 0h-2v-4h2v4z\"/>\n",
              "    </g>\n",
              "</svg>\n",
              "  </button>\n",
              "\n",
              "<style>\n",
              "  .colab-df-quickchart {\n",
              "      --bg-color: #E8F0FE;\n",
              "      --fill-color: #1967D2;\n",
              "      --hover-bg-color: #E2EBFA;\n",
              "      --hover-fill-color: #174EA6;\n",
              "      --disabled-fill-color: #AAA;\n",
              "      --disabled-bg-color: #DDD;\n",
              "  }\n",
              "\n",
              "  [theme=dark] .colab-df-quickchart {\n",
              "      --bg-color: #3B4455;\n",
              "      --fill-color: #D2E3FC;\n",
              "      --hover-bg-color: #434B5C;\n",
              "      --hover-fill-color: #FFFFFF;\n",
              "      --disabled-bg-color: #3B4455;\n",
              "      --disabled-fill-color: #666;\n",
              "  }\n",
              "\n",
              "  .colab-df-quickchart {\n",
              "    background-color: var(--bg-color);\n",
              "    border: none;\n",
              "    border-radius: 50%;\n",
              "    cursor: pointer;\n",
              "    display: none;\n",
              "    fill: var(--fill-color);\n",
              "    height: 32px;\n",
              "    padding: 0;\n",
              "    width: 32px;\n",
              "  }\n",
              "\n",
              "  .colab-df-quickchart:hover {\n",
              "    background-color: var(--hover-bg-color);\n",
              "    box-shadow: 0 1px 2px rgba(60, 64, 67, 0.3), 0 1px 3px 1px rgba(60, 64, 67, 0.15);\n",
              "    fill: var(--button-hover-fill-color);\n",
              "  }\n",
              "\n",
              "  .colab-df-quickchart-complete:disabled,\n",
              "  .colab-df-quickchart-complete:disabled:hover {\n",
              "    background-color: var(--disabled-bg-color);\n",
              "    fill: var(--disabled-fill-color);\n",
              "    box-shadow: none;\n",
              "  }\n",
              "\n",
              "  .colab-df-spinner {\n",
              "    border: 2px solid var(--fill-color);\n",
              "    border-color: transparent;\n",
              "    border-bottom-color: var(--fill-color);\n",
              "    animation:\n",
              "      spin 1s steps(1) infinite;\n",
              "  }\n",
              "\n",
              "  @keyframes spin {\n",
              "    0% {\n",
              "      border-color: transparent;\n",
              "      border-bottom-color: var(--fill-color);\n",
              "      border-left-color: var(--fill-color);\n",
              "    }\n",
              "    20% {\n",
              "      border-color: transparent;\n",
              "      border-left-color: var(--fill-color);\n",
              "      border-top-color: var(--fill-color);\n",
              "    }\n",
              "    30% {\n",
              "      border-color: transparent;\n",
              "      border-left-color: var(--fill-color);\n",
              "      border-top-color: var(--fill-color);\n",
              "      border-right-color: var(--fill-color);\n",
              "    }\n",
              "    40% {\n",
              "      border-color: transparent;\n",
              "      border-right-color: var(--fill-color);\n",
              "      border-top-color: var(--fill-color);\n",
              "    }\n",
              "    60% {\n",
              "      border-color: transparent;\n",
              "      border-right-color: var(--fill-color);\n",
              "    }\n",
              "    80% {\n",
              "      border-color: transparent;\n",
              "      border-right-color: var(--fill-color);\n",
              "      border-bottom-color: var(--fill-color);\n",
              "    }\n",
              "    90% {\n",
              "      border-color: transparent;\n",
              "      border-bottom-color: var(--fill-color);\n",
              "    }\n",
              "  }\n",
              "</style>\n",
              "\n",
              "  <script>\n",
              "    async function quickchart(key) {\n",
              "      const quickchartButtonEl =\n",
              "        document.querySelector('#' + key + ' button');\n",
              "      quickchartButtonEl.disabled = true;  // To prevent multiple clicks.\n",
              "      quickchartButtonEl.classList.add('colab-df-spinner');\n",
              "      try {\n",
              "        const charts = await google.colab.kernel.invokeFunction(\n",
              "            'suggestCharts', [key], {});\n",
              "      } catch (error) {\n",
              "        console.error('Error during call to suggestCharts:', error);\n",
              "      }\n",
              "      quickchartButtonEl.classList.remove('colab-df-spinner');\n",
              "      quickchartButtonEl.classList.add('colab-df-quickchart-complete');\n",
              "    }\n",
              "    (() => {\n",
              "      let quickchartButtonEl =\n",
              "        document.querySelector('#df-257dcebb-c4c4-42e7-9d6d-f68cd4f1d98a button');\n",
              "      quickchartButtonEl.style.display =\n",
              "        google.colab.kernel.accessAllowed ? 'block' : 'none';\n",
              "    })();\n",
              "  </script>\n",
              "</div>\n",
              "\n",
              "    </div>\n",
              "  </div>\n"
            ],
            "application/vnd.google.colaboratory.intrinsic+json": {
              "type": "dataframe",
              "summary": "{\n  \"name\": \"df\",\n  \"rows\": 8,\n  \"fields\": [\n    {\n      \"column\": \"User ID\",\n      \"properties\": {\n        \"dtype\": \"number\",\n        \"std\": 1062717.1701557077,\n        \"min\": 1.0,\n        \"max\": 3051733.0,\n        \"num_unique_values\": 8,\n        \"samples\": [\n          50323.13311944393,\n          50299.0,\n          3051733.0\n        ],\n        \"semantic_type\": \"\",\n        \"description\": \"\"\n      }\n    },\n    {\n      \"column\": \"Stream ID\",\n      \"properties\": {\n        \"dtype\": \"number\",\n        \"std\": 15757612136.667984,\n        \"min\": 3051733.0,\n        \"max\": 34416415136.0,\n        \"num_unique_values\": 8,\n        \"samples\": [\n          34130021867.548218,\n          34130693584.0,\n          3051733.0\n        ],\n        \"semantic_type\": \"\",\n        \"description\": \"\"\n      }\n    },\n    {\n      \"column\": \"Time Start\",\n      \"properties\": {\n        \"dtype\": \"number\",\n        \"std\": 1077915.1142610714,\n        \"min\": 0.0,\n        \"max\": 3051733.0,\n        \"num_unique_values\": 8,\n        \"samples\": [\n          3146.044278120006,\n          3174.0,\n          3051733.0\n        ],\n        \"semantic_type\": \"\",\n        \"description\": \"\"\n      }\n    },\n    {\n      \"column\": \"Time Stop\",\n      \"properties\": {\n        \"dtype\": \"number\",\n        \"std\": 1077914.3937132354,\n        \"min\": 1.0,\n        \"max\": 3051733.0,\n        \"num_unique_values\": 8,\n        \"samples\": [\n          3149.1863324871474,\n          3178.0,\n          3051733.0\n        ],\n        \"semantic_type\": \"\",\n        \"description\": \"\"\n      }\n    }\n  ]\n}"
            }
          },
          "metadata": {},
          "execution_count": 11
        }
      ]
    },
    {
      "cell_type": "markdown",
      "source": [
        "We see that we have no missing values and the data type are appropriate for the columns (IDs and times as integeres and usernames as objects). We also have a wide range of users (100k unique IDs) interactong with various streamers over a dataset of about 3.0M interactions, which provides a good volume for a collborative filtering."
      ],
      "metadata": {
        "id": "RP3-ldI2-0mE"
      }
    },
    {
      "cell_type": "code",
      "source": [
        "sns.histplot(df['Duration'])\n",
        "plt.title('Distribution of Session Durations')\n",
        "plt.show()"
      ],
      "metadata": {
        "colab": {
          "base_uri": "https://localhost:8080/",
          "height": 471
        },
        "id": "6dqWRn5A6juB",
        "outputId": "5ffc33d2-4688-4383-c842-dd3408445a7f"
      },
      "execution_count": null,
      "outputs": [
        {
          "output_type": "display_data",
          "data": {
            "text/plain": [
              "<Figure size 640x480 with 1 Axes>"
            ],
            "image/png": "[encoded data removed]"
          },
          "metadata": {}
        }
      ]
    },
    {
      "cell_type": "markdown",
      "source": [
        "It seemes that most session durations are quite short, with a significant spike at very short durations. This could indicate that many users pop into streams but don't stay long, possibly browsing or checking out different streamers quickly? Who knows.."
      ],
      "metadata": {
        "id": "qlSGQEU1_LK3"
      }
    },
    {
      "cell_type": "code",
      "source": [
        "user_interactions = df.groupby('User ID')['Streamer Username'].count()\n",
        "sns.histplot(user_interactions, bins=30)\n",
        "plt.title('Distribution of User Interactions')\n",
        "plt.show()"
      ],
      "metadata": {
        "colab": {
          "base_uri": "https://localhost:8080/",
          "height": 471
        },
        "id": "8v1Okklk6l9w",
        "outputId": "418b84c6-1955-4ede-f33a-c09c0cddbd5e"
      },
      "execution_count": null,
      "outputs": [
        {
          "output_type": "display_data",
          "data": {
            "text/plain": [
              "<Figure size 640x480 with 1 Axes>"
            ],
            "image/png": "[encoded data removed]"
          },
          "metadata": {}
        }
      ]
    },
    {
      "cell_type": "markdown",
      "source": [
        "It also seemes that the majority of users interact with only a few streamers. This suggests a long tail distribution where a few users are very active while most are less so."
      ],
      "metadata": {
        "id": "z0sM6ONP_bFc"
      }
    },
    {
      "cell_type": "code",
      "source": [
        "streamer_interactions = df.groupby('Streamer Username')['User ID'].count()\n",
        "sns.histplot(streamer_interactions, bins=30)\n",
        "plt.title('Distribution of Streamer Interactions')\n",
        "plt.show()"
      ],
      "metadata": {
        "colab": {
          "base_uri": "https://localhost:8080/",
          "height": 471
        },
        "id": "mrCK3_U76n9n",
        "outputId": "8803f634-1ff2-42ae-d8df-1dfd6e24a910"
      },
      "execution_count": null,
      "outputs": [
        {
          "output_type": "display_data",
          "data": {
            "text/plain": [
              "<Figure size 640x480 with 1 Axes>"
            ],
            "image/png": "[encoded data removed]"
          },
          "metadata": {}
        }
      ]
    },
    {
      "cell_type": "markdown",
      "source": [
        "Just like user interactions, a few streamers receive a disproportionately high amount of traffic, which is typical in platforms like Twitch."
      ],
      "metadata": {
        "id": "klyq603s_qhp"
      }
    },
    {
      "cell_type": "markdown",
      "source": [
        "# Recommender System: Collaborative Filtering\n",
        "\n",
        "Collaborative Filtering recommends items based on similarity measures between users and/or items. The basic assumption behind the algorithm is that users with similar interests have common preferences. `In this type of recommendation system, we don’t use the features of the item to recommend it, rather we classify the users into clusters of similar types and recommend each user according to the preference of its cluster.`\n",
        "\n",
        "This syste, uses a user-item matrix to generate recommendations. This matrix contains the values that indicate a user’s preference towards a given item. These values can represent either explicit feedback (direct user ratings) or implicit feedback (indirect user behavior such as listening, purchasing, watching).\n",
        "\n",
        "There are two types of Collaborative Filtering available:\n",
        "\n",
        "- User-User-based Similarity/Collaborative Filtering\n",
        "- Item-Item-based Similarity/Collaborative Filtering"
      ],
      "metadata": {
        "id": "6-xHptwzClJu"
      }
    },
    {
      "cell_type": "markdown",
      "source": [
        "## Logarithmic Transformation:\n",
        "\n",
        "Since session durations vary and most are very short, we could apply some logarithmic transformation for normalization, which could then by used as weights for the interactions. This will help in reducing the impact of very larget values and making the distribution less skewed.\n",
        "\n",
        "Tips: https://juandelacalle.medium.com/best-tips-and-tricks-when-and-why-to-use-logarithmic-transformations-in-statistical-analysis-9f1d72e83cfc#:~:text=Skewed%20data%20can%20make%20it,symmetrical%20and%20easier%20to%20analyze.\n",
        "\n",
        "\n",
        "I tried running the interaction matrix below, but my session crashed after using all available RAM. I guess this is normal since we're currently handling large datasets, building this type of matrix can indeed consume lots of memory. That's why I will be creating a sparse matrix that only stores non-zero entries (significantly reducing memoery usage)."
      ],
      "metadata": {
        "id": "tfVw0WxOEgPh"
      }
    },
    {
      "cell_type": "code",
      "source": [
        "# df['Log Duration'] = np.log1p(df['Duration'])\n",
        "\n",
        "# Creating a user-item interaction matrix using -> transform durantion\n",
        "# interaction_matrix = df.pivot_table(index = 'User ID', columns = 'Streamer Username', values = 'Log Duration', aggfunc = 'sum', fill_value = 0)\n",
        "# interaction_matrix.head()"
      ],
      "metadata": {
        "id": "G04M5IOnDhM6"
      },
      "execution_count": null,
      "outputs": []
    },
    {
      "cell_type": "code",
      "source": [
        "df['Log Duration'] = np.log1p(df['Time Stop'] - df['Time Start'])\n",
        "\n",
        "# Sparse matrix\n",
        "user_indices = df['User ID'].astype('category').cat.codes # pandas series documentation\n",
        "streamer_indices = df['Streamer Username'].astype('category').cat.codes\n",
        "\n",
        "sparse_matrix = csr_matrix((df['Log Duration'], (user_indices, streamer_indices)), shape=(df['User ID'].nunique(), df['Streamer Username'].nunique()))"
      ],
      "metadata": {
        "id": "RcKJctijDhKy"
      },
      "execution_count": 5,
      "outputs": []
    },
    {
      "cell_type": "code",
      "source": [
        "print(sparse_matrix)"
      ],
      "metadata": {
        "colab": {
          "base_uri": "https://localhost:8080/"
        },
        "id": "YElTaLrHUToL",
        "outputId": "e89b5061-6bfc-448b-aefc-eaf207917b43"
      },
      "execution_count": null,
      "outputs": [
        {
          "output_type": "stream",
          "name": "stdout",
          "text": [
            "  (0, 5331)\t1.3862943611198906\n",
            "  (0, 13842)\t1.3862943611198906\n",
            "  (0, 39233)\t1.3862943611198906\n",
            "  (0, 40426)\t0.6931471805599453\n",
            "  (0, 40828)\t0.6931471805599453\n",
            "  (0, 52824)\t2.7080502011022096\n",
            "  (0, 53860)\t0.6931471805599453\n",
            "  (0, 64456)\t4.0943445622221\n",
            "  (0, 68370)\t2.0794415416798357\n",
            "  (0, 68480)\t2.3025850929940455\n",
            "  (0, 71964)\t8.723231274827507\n",
            "  (0, 92273)\t6.356107660695891\n",
            "  (0, 103339)\t2.772588722239781\n",
            "  (0, 115138)\t2.0794415416798357\n",
            "  (0, 144902)\t2.995732273553991\n",
            "  (0, 148539)\t2.7080502011022096\n",
            "  (0, 155056)\t5.598421958998374\n",
            "  (0, 161054)\t3.1780538303479458\n",
            "  (0, 161322)\t1.791759469228055\n",
            "  (1, 18885)\t4.564348191467836\n",
            "  (1, 22829)\t1.791759469228055\n",
            "  (1, 34327)\t1.791759469228055\n",
            "  (1, 51486)\t0.6931471805599453\n",
            "  (1, 52913)\t1.3862943611198906\n",
            "  (1, 54553)\t0.6931471805599453\n",
            "  :\t:\n",
            "  (99997, 1455)\t0.6931471805599453\n",
            "  (99997, 22849)\t3.1780538303479458\n",
            "  (99997, 23344)\t0.6931471805599453\n",
            "  (99997, 161455)\t0.6931471805599453\n",
            "  (99998, 39529)\t0.6931471805599453\n",
            "  (99998, 40834)\t1.3862943611198906\n",
            "  (99998, 64868)\t0.6931471805599453\n",
            "  (99998, 68762)\t1.3862943611198906\n",
            "  (99998, 74253)\t1.3862943611198906\n",
            "  (99998, 90956)\t3.1780538303479458\n",
            "  (99998, 93232)\t0.6931471805599453\n",
            "  (99998, 100615)\t0.6931471805599453\n",
            "  (99998, 103193)\t0.6931471805599453\n",
            "  (99998, 110321)\t1.3862943611198906\n",
            "  (99998, 116822)\t1.3862943611198906\n",
            "  (99998, 119443)\t0.6931471805599453\n",
            "  (99998, 155033)\t3.4657359027997265\n",
            "  (99999, 26205)\t1.0986122886681096\n",
            "  (99999, 45993)\t1.0986122886681096\n",
            "  (99999, 56500)\t1.0986122886681096\n",
            "  (99999, 88577)\t0.6931471805599453\n",
            "  (99999, 97752)\t0.6931471805599453\n",
            "  (99999, 100217)\t1.3862943611198906\n",
            "  (99999, 116899)\t0.6931471805599453\n",
            "  (99999, 136121)\t1.0986122886681096\n"
          ]
        }
      ]
    },
    {
      "cell_type": "markdown",
      "source": [
        "This matrix represents user interactions with streamers, now let's use this sparse matrix to compute similarities and make some recommendations.After the initial sparse matrix is created, we need to split the data into training, validation, and testing sets!"
      ],
      "metadata": {
        "id": "I-ab_0b5JL5O"
      }
    },
    {
      "cell_type": "markdown",
      "source": [
        "## Train Test Split"
      ],
      "metadata": {
        "id": "mRAIk7vmXm9i"
      }
    },
    {
      "cell_type": "code",
      "source": [
        "nonzero_rows, nonzero_cols = sparse_matrix.nonzero()\n",
        "data_values = sparse_matrix.data\n",
        "\n",
        "indices = np.vstack((nonzero_rows, nonzero_cols)).T # combining row and column indices for splitting data\n",
        "\n",
        "# Train and Test Sets\n",
        "indices_train_val, indices_test, data_train_val, data_test = train_test_split(indices, data_values, test_size = 0.2, random_state = 42)\n",
        "\n",
        "# Let's include validation -> always good to include\n",
        "indices_train, indices_val, data_train, data_val = train_test_split(indices_train_val, data_train_val, test_size=0.2, random_state = 42)"
      ],
      "metadata": {
        "id": "FTtJP-12Wa6P"
      },
      "execution_count": null,
      "outputs": []
    },
    {
      "cell_type": "markdown",
      "source": [
        "Rebuilding sparse matrices:"
      ],
      "metadata": {
        "id": "ugKOlmZf7UGv"
      }
    },
    {
      "cell_type": "code",
      "source": [
        "train_row_indices, train_col_indices = indices_train.T\n",
        "val_row_indices, val_col_indices = indices_val.T\n",
        "test_row_indices, test_col_indices = indices_test.T\n",
        "\n",
        "X_train = csr_matrix((data_train, (train_row_indices, train_col_indices)), shape = sparse_matrix.shape)\n",
        "X_val = csr_matrix((data_val, (val_row_indices, val_col_indices)), shape = sparse_matrix.shape)\n",
        "X_test = csr_matrix((data_test, (test_row_indices, test_col_indices)), shape = sparse_matrix.shape)"
      ],
      "metadata": {
        "id": "21ApmKO07SSX"
      },
      "execution_count": null,
      "outputs": []
    },
    {
      "cell_type": "markdown",
      "source": [
        "## Cosine Similarity\n",
        "\n",
        "$$\n",
        "\\text{cosine similarity}(\\mathbf{A}, \\mathbf{B}) = \\frac{\\mathbf{A} \\cdot \\mathbf{B}}{\\|\\mathbf{A}\\| \\|\\mathbf{B}\\|}\n",
        "$$\n",
        "\n",
        "- sparse from spmatrix Pandas: https://pandas.pydata.org/docs/reference/api/pandas.DataFrame.sparse.from_spmatrix.html"
      ],
      "metadata": {
        "id": "pBxyVXelpOM8"
      }
    },
    {
      "cell_type": "code",
      "source": [
        "cosine_sim = cosine_similarity(X_train.T, dense_output = False)\n",
        "\n",
        "streamer_ids = df['Streamer Username'].astype('category').cat.categories\n",
        "cosine_sim_df = pd.DataFrame.sparse.from_spmatrix(cosine_sim, index=streamer_ids, columns=streamer_ids) # for easier handling\n",
        "\n",
        "cosine_sim_df.head()"
      ],
      "metadata": {
        "colab": {
          "base_uri": "https://localhost:8080/",
          "height": 249
        },
        "id": "Ve9yqrGbWa10",
        "outputId": "3c720a3b-388f-4446-a588-68f42831aedc"
      },
      "execution_count": null,
      "outputs": [
        {
          "output_type": "execute_result",
          "data": {
            "text/plain": [
              "                   0007_hot_kelly_tv  000aikia000  0011am  001_ssmashh_100  \\\n",
              "0007_hot_kelly_tv                1.0            0       0                0   \n",
              "000aikia000                        0            0       0                0   \n",
              "0011am                             0            0     1.0                0   \n",
              "001_ssmashh_100                    0            0       0                0   \n",
              "001live                            0            0       0                0   \n",
              "\n",
              "                   001live  002ivorkdorog  007kingchannel  007zeus  00elu00  \\\n",
              "0007_hot_kelly_tv        0              0               0        0        0   \n",
              "000aikia000              0              0               0        0        0   \n",
              "0011am                   0              0               0        0        0   \n",
              "001_ssmashh_100          0              0               0        0        0   \n",
              "001live                1.0              0               0        0        0   \n",
              "\n",
              "                   00fero00  ...  zzzireael  zzzjpn  zzzksazzz1  \\\n",
              "0007_hot_kelly_tv         0  ...          0       0           0   \n",
              "000aikia000               0  ...          0       0           0   \n",
              "0011am                    0  ...          0       0           0   \n",
              "001_ssmashh_100           0  ...          0       0           0   \n",
              "001live                   0  ...          0       0           0   \n",
              "\n",
              "                   zzzombie_girl  zzztaff  zzztantrikazzz  zzzz1123x2018  \\\n",
              "0007_hot_kelly_tv              0        0               0              0   \n",
              "000aikia000                    0        0               0              0   \n",
              "0011am                         0        0               0              0   \n",
              "001_ssmashh_100                0        0               0              0   \n",
              "001live                        0        0               0              0   \n",
              "\n",
              "                   zzzz758  zzzzydh  zzzzzzzach  \n",
              "0007_hot_kelly_tv        0        0           0  \n",
              "000aikia000              0        0           0  \n",
              "0011am                   0        0           0  \n",
              "001_ssmashh_100          0        0           0  \n",
              "001live                  0        0           0  \n",
              "\n",
              "[5 rows x 162625 columns]"
            ],
            "text/html": [
              "\n",
              "  <div id=\"df-803bb758-9e02-4d47-bac0-6efccb1443a4\" class=\"colab-df-container\">\n",
              "    <div>\n",
              "<style scoped>\n",
              "    .dataframe tbody tr th:only-of-type {\n",
              "        vertical-align: middle;\n",
              "    }\n",
              "\n",
              "    .dataframe tbody tr th {\n",
              "        vertical-align: top;\n",
              "    }\n",
              "\n",
              "    .dataframe thead th {\n",
              "        text-align: right;\n",
              "    }\n",
              "</style>\n",
              "<table border=\"1\" class=\"dataframe\">\n",
              "  <thead>\n",
              "    <tr style=\"text-align: right;\">\n",
              "      <th></th>\n",
              "      <th>0007_hot_kelly_tv</th>\n",
              "      <th>000aikia000</th>\n",
              "      <th>0011am</th>\n",
              "      <th>001_ssmashh_100</th>\n",
              "      <th>001live</th>\n",
              "      <th>002ivorkdorog</th>\n",
              "      <th>007kingchannel</th>\n",
              "      <th>007zeus</th>\n",
              "      <th>00elu00</th>\n",
              "      <th>00fero00</th>\n",
              "      <th>...</th>\n",
              "      <th>zzzireael</th>\n",
              "      <th>zzzjpn</th>\n",
              "      <th>zzzksazzz1</th>\n",
              "      <th>zzzombie_girl</th>\n",
              "      <th>zzztaff</th>\n",
              "      <th>zzztantrikazzz</th>\n",
              "      <th>zzzz1123x2018</th>\n",
              "      <th>zzzz758</th>\n",
              "      <th>zzzzydh</th>\n",
              "      <th>zzzzzzzach</th>\n",
              "    </tr>\n",
              "  </thead>\n",
              "  <tbody>\n",
              "    <tr>\n",
              "      <th>0007_hot_kelly_tv</th>\n",
              "      <td>1.0</td>\n",
              "      <td>0</td>\n",
              "      <td>0</td>\n",
              "      <td>0</td>\n",
              "      <td>0</td>\n",
              "      <td>0</td>\n",
              "      <td>0</td>\n",
              "      <td>0</td>\n",
              "      <td>0</td>\n",
              "      <td>0</td>\n",
              "      <td>...</td>\n",
              "      <td>0</td>\n",
              "      <td>0</td>\n",
              "      <td>0</td>\n",
              "      <td>0</td>\n",
              "      <td>0</td>\n",
              "      <td>0</td>\n",
              "      <td>0</td>\n",
              "      <td>0</td>\n",
              "      <td>0</td>\n",
              "      <td>0</td>\n",
              "    </tr>\n",
              "    <tr>\n",
              "      <th>000aikia000</th>\n",
              "      <td>0</td>\n",
              "      <td>0</td>\n",
              "      <td>0</td>\n",
              "      <td>0</td>\n",
              "      <td>0</td>\n",
              "      <td>0</td>\n",
              "      <td>0</td>\n",
              "      <td>0</td>\n",
              "      <td>0</td>\n",
              "      <td>0</td>\n",
              "      <td>...</td>\n",
              "      <td>0</td>\n",
              "      <td>0</td>\n",
              "      <td>0</td>\n",
              "      <td>0</td>\n",
              "      <td>0</td>\n",
              "      <td>0</td>\n",
              "      <td>0</td>\n",
              "      <td>0</td>\n",
              "      <td>0</td>\n",
              "      <td>0</td>\n",
              "    </tr>\n",
              "    <tr>\n",
              "      <th>0011am</th>\n",
              "      <td>0</td>\n",
              "      <td>0</td>\n",
              "      <td>1.0</td>\n",
              "      <td>0</td>\n",
              "      <td>0</td>\n",
              "      <td>0</td>\n",
              "      <td>0</td>\n",
              "      <td>0</td>\n",
              "      <td>0</td>\n",
              "      <td>0</td>\n",
              "      <td>...</td>\n",
              "      <td>0</td>\n",
              "      <td>0</td>\n",
              "      <td>0</td>\n",
              "      <td>0</td>\n",
              "      <td>0</td>\n",
              "      <td>0</td>\n",
              "      <td>0</td>\n",
              "      <td>0</td>\n",
              "      <td>0</td>\n",
              "      <td>0</td>\n",
              "    </tr>\n",
              "    <tr>\n",
              "      <th>001_ssmashh_100</th>\n",
              "      <td>0</td>\n",
              "      <td>0</td>\n",
              "      <td>0</td>\n",
              "      <td>0</td>\n",
              "      <td>0</td>\n",
              "      <td>0</td>\n",
              "      <td>0</td>\n",
              "      <td>0</td>\n",
              "      <td>0</td>\n",
              "      <td>0</td>\n",
              "      <td>...</td>\n",
              "      <td>0</td>\n",
              "      <td>0</td>\n",
              "      <td>0</td>\n",
              "      <td>0</td>\n",
              "      <td>0</td>\n",
              "      <td>0</td>\n",
              "      <td>0</td>\n",
              "      <td>0</td>\n",
              "      <td>0</td>\n",
              "      <td>0</td>\n",
              "    </tr>\n",
              "    <tr>\n",
              "      <th>001live</th>\n",
              "      <td>0</td>\n",
              "      <td>0</td>\n",
              "      <td>0</td>\n",
              "      <td>0</td>\n",
              "      <td>1.0</td>\n",
              "      <td>0</td>\n",
              "      <td>0</td>\n",
              "      <td>0</td>\n",
              "      <td>0</td>\n",
              "      <td>0</td>\n",
              "      <td>...</td>\n",
              "      <td>0</td>\n",
              "      <td>0</td>\n",
              "      <td>0</td>\n",
              "      <td>0</td>\n",
              "      <td>0</td>\n",
              "      <td>0</td>\n",
              "      <td>0</td>\n",
              "      <td>0</td>\n",
              "      <td>0</td>\n",
              "      <td>0</td>\n",
              "    </tr>\n",
              "  </tbody>\n",
              "</table>\n",
              "<p>5 rows × 162625 columns</p>\n",
              "</div>\n",
              "    <div class=\"colab-df-buttons\">\n",
              "\n",
              "  <div class=\"colab-df-container\">\n",
              "    <button class=\"colab-df-convert\" onclick=\"convertToInteractive('df-803bb758-9e02-4d47-bac0-6efccb1443a4')\"\n",
              "            title=\"Convert this dataframe to an interactive table.\"\n",
              "            style=\"display:none;\">\n",
              "\n",
              "  <svg xmlns=\"http://www.w3.org/2000/svg\" height=\"24px\" viewBox=\"0 -960 960 960\">\n",
              "    <path d=\"M120-120v-720h720v720H120Zm60-500h600v-160H180v160Zm220 220h160v-160H400v160Zm0 220h160v-160H400v160ZM180-400h160v-160H180v160Zm440 0h160v-160H620v160ZM180-180h160v-160H180v160Zm440 0h160v-160H620v160Z\"/>\n",
              "  </svg>\n",
              "    </button>\n",
              "\n",
              "  <style>\n",
              "    .colab-df-container {\n",
              "      display:flex;\n",
              "      gap: 12px;\n",
              "    }\n",
              "\n",
              "    .colab-df-convert {\n",
              "      background-color: #E8F0FE;\n",
              "      border: none;\n",
              "      border-radius: 50%;\n",
              "      cursor: pointer;\n",
              "      display: none;\n",
              "      fill: #1967D2;\n",
              "      height: 32px;\n",
              "      padding: 0 0 0 0;\n",
              "      width: 32px;\n",
              "    }\n",
              "\n",
              "    .colab-df-convert:hover {\n",
              "      background-color: #E2EBFA;\n",
              "      box-shadow: 0px 1px 2px rgba(60, 64, 67, 0.3), 0px 1px 3px 1px rgba(60, 64, 67, 0.15);\n",
              "      fill: #174EA6;\n",
              "    }\n",
              "\n",
              "    .colab-df-buttons div {\n",
              "      margin-bottom: 4px;\n",
              "    }\n",
              "\n",
              "    [theme=dark] .colab-df-convert {\n",
              "      background-color: #3B4455;\n",
              "      fill: #D2E3FC;\n",
              "    }\n",
              "\n",
              "    [theme=dark] .colab-df-convert:hover {\n",
              "      background-color: #434B5C;\n",
              "      box-shadow: 0px 1px 3px 1px rgba(0, 0, 0, 0.15);\n",
              "      filter: drop-shadow(0px 1px 2px rgba(0, 0, 0, 0.3));\n",
              "      fill: #FFFFFF;\n",
              "    }\n",
              "  </style>\n",
              "\n",
              "    <script>\n",
              "      const buttonEl =\n",
              "        document.querySelector('#df-803bb758-9e02-4d47-bac0-6efccb1443a4 button.colab-df-convert');\n",
              "      buttonEl.style.display =\n",
              "        google.colab.kernel.accessAllowed ? 'block' : 'none';\n",
              "\n",
              "      async function convertToInteractive(key) {\n",
              "        const element = document.querySelector('#df-803bb758-9e02-4d47-bac0-6efccb1443a4');\n",
              "        const dataTable =\n",
              "          await google.colab.kernel.invokeFunction('convertToInteractive',\n",
              "                                                    [key], {});\n",
              "        if (!dataTable) return;\n",
              "\n",
              "        const docLinkHtml = 'Like what you see? Visit the ' +\n",
              "          '<a target=\"_blank\" href=https://colab.research.google.com/notebooks/data_table.ipynb>data table notebook</a>'\n",
              "          + ' to learn more about interactive tables.';\n",
              "        element.innerHTML = '';\n",
              "        dataTable['output_type'] = 'display_data';\n",
              "        await google.colab.output.renderOutput(dataTable, element);\n",
              "        const docLink = document.createElement('div');\n",
              "        docLink.innerHTML = docLinkHtml;\n",
              "        element.appendChild(docLink);\n",
              "      }\n",
              "    </script>\n",
              "  </div>\n",
              "\n",
              "\n",
              "<div id=\"df-80f4874e-1bb2-4fa7-a46b-502a94c7a116\">\n",
              "  <button class=\"colab-df-quickchart\" onclick=\"quickchart('df-80f4874e-1bb2-4fa7-a46b-502a94c7a116')\"\n",
              "            title=\"Suggest charts\"\n",
              "            style=\"display:none;\">\n",
              "\n",
              "<svg xmlns=\"http://www.w3.org/2000/svg\" height=\"24px\"viewBox=\"0 0 24 24\"\n",
              "     width=\"24px\">\n",
              "    <g>\n",
              "        <path d=\"M19 3H5c-1.1 0-2 .9-2 2v14c0 1.1.9 2 2 2h14c1.1 0 2-.9 2-2V5c0-1.1-.9-2-2-2zM9 17H7v-7h2v7zm4 0h-2V7h2v10zm4 0h-2v-4h2v4z\"/>\n",
              "    </g>\n",
              "</svg>\n",
              "  </button>\n",
              "\n",
              "<style>\n",
              "  .colab-df-quickchart {\n",
              "      --bg-color: #E8F0FE;\n",
              "      --fill-color: #1967D2;\n",
              "      --hover-bg-color: #E2EBFA;\n",
              "      --hover-fill-color: #174EA6;\n",
              "      --disabled-fill-color: #AAA;\n",
              "      --disabled-bg-color: #DDD;\n",
              "  }\n",
              "\n",
              "  [theme=dark] .colab-df-quickchart {\n",
              "      --bg-color: #3B4455;\n",
              "      --fill-color: #D2E3FC;\n",
              "      --hover-bg-color: #434B5C;\n",
              "      --hover-fill-color: #FFFFFF;\n",
              "      --disabled-bg-color: #3B4455;\n",
              "      --disabled-fill-color: #666;\n",
              "  }\n",
              "\n",
              "  .colab-df-quickchart {\n",
              "    background-color: var(--bg-color);\n",
              "    border: none;\n",
              "    border-radius: 50%;\n",
              "    cursor: pointer;\n",
              "    display: none;\n",
              "    fill: var(--fill-color);\n",
              "    height: 32px;\n",
              "    padding: 0;\n",
              "    width: 32px;\n",
              "  }\n",
              "\n",
              "  .colab-df-quickchart:hover {\n",
              "    background-color: var(--hover-bg-color);\n",
              "    box-shadow: 0 1px 2px rgba(60, 64, 67, 0.3), 0 1px 3px 1px rgba(60, 64, 67, 0.15);\n",
              "    fill: var(--button-hover-fill-color);\n",
              "  }\n",
              "\n",
              "  .colab-df-quickchart-complete:disabled,\n",
              "  .colab-df-quickchart-complete:disabled:hover {\n",
              "    background-color: var(--disabled-bg-color);\n",
              "    fill: var(--disabled-fill-color);\n",
              "    box-shadow: none;\n",
              "  }\n",
              "\n",
              "  .colab-df-spinner {\n",
              "    border: 2px solid var(--fill-color);\n",
              "    border-color: transparent;\n",
              "    border-bottom-color: var(--fill-color);\n",
              "    animation:\n",
              "      spin 1s steps(1) infinite;\n",
              "  }\n",
              "\n",
              "  @keyframes spin {\n",
              "    0% {\n",
              "      border-color: transparent;\n",
              "      border-bottom-color: var(--fill-color);\n",
              "      border-left-color: var(--fill-color);\n",
              "    }\n",
              "    20% {\n",
              "      border-color: transparent;\n",
              "      border-left-color: var(--fill-color);\n",
              "      border-top-color: var(--fill-color);\n",
              "    }\n",
              "    30% {\n",
              "      border-color: transparent;\n",
              "      border-left-color: var(--fill-color);\n",
              "      border-top-color: var(--fill-color);\n",
              "      border-right-color: var(--fill-color);\n",
              "    }\n",
              "    40% {\n",
              "      border-color: transparent;\n",
              "      border-right-color: var(--fill-color);\n",
              "      border-top-color: var(--fill-color);\n",
              "    }\n",
              "    60% {\n",
              "      border-color: transparent;\n",
              "      border-right-color: var(--fill-color);\n",
              "    }\n",
              "    80% {\n",
              "      border-color: transparent;\n",
              "      border-right-color: var(--fill-color);\n",
              "      border-bottom-color: var(--fill-color);\n",
              "    }\n",
              "    90% {\n",
              "      border-color: transparent;\n",
              "      border-bottom-color: var(--fill-color);\n",
              "    }\n",
              "  }\n",
              "</style>\n",
              "\n",
              "  <script>\n",
              "    async function quickchart(key) {\n",
              "      const quickchartButtonEl =\n",
              "        document.querySelector('#' + key + ' button');\n",
              "      quickchartButtonEl.disabled = true;  // To prevent multiple clicks.\n",
              "      quickchartButtonEl.classList.add('colab-df-spinner');\n",
              "      try {\n",
              "        const charts = await google.colab.kernel.invokeFunction(\n",
              "            'suggestCharts', [key], {});\n",
              "      } catch (error) {\n",
              "        console.error('Error during call to suggestCharts:', error);\n",
              "      }\n",
              "      quickchartButtonEl.classList.remove('colab-df-spinner');\n",
              "      quickchartButtonEl.classList.add('colab-df-quickchart-complete');\n",
              "    }\n",
              "    (() => {\n",
              "      let quickchartButtonEl =\n",
              "        document.querySelector('#df-80f4874e-1bb2-4fa7-a46b-502a94c7a116 button');\n",
              "      quickchartButtonEl.style.display =\n",
              "        google.colab.kernel.accessAllowed ? 'block' : 'none';\n",
              "    })();\n",
              "  </script>\n",
              "</div>\n",
              "\n",
              "    </div>\n",
              "  </div>\n"
            ],
            "application/vnd.google.colaboratory.intrinsic+json": {
              "type": "dataframe",
              "variable_name": "cosine_sim_df"
            }
          },
          "metadata": {},
          "execution_count": 7
        }
      ]
    },
    {
      "cell_type": "markdown",
      "source": [
        "Let's see what's going on:"
      ],
      "metadata": {
        "id": "aNl0lTK3eFx9"
      }
    },
    {
      "cell_type": "code",
      "source": [
        "# Small subset of the interaction matrix\n",
        "plt.figure(figsize=(10, 8))\n",
        "plt.spy(X_train[:100, :100], markersize = 1)\n",
        "plt.title('Sparsity in the Training Interaction Matrix')\n",
        "plt.xlabel('Streamers')\n",
        "plt.ylabel('Users')\n",
        "plt.show()"
      ],
      "metadata": {
        "colab": {
          "base_uri": "https://localhost:8080/",
          "height": 722
        },
        "id": "AQSz618Ac92g",
        "outputId": "735b161e-6b61-4eca-de04-18c082f12ee0"
      },
      "execution_count": null,
      "outputs": [
        {
          "output_type": "display_data",
          "data": {
            "text/plain": [
              "<Figure size 1000x800 with 1 Axes>"
            ],
            "image/png": "[encoded data removed]"
          },
          "metadata": {}
        }
      ]
    },
    {
      "cell_type": "markdown",
      "source": [
        "The above visualization, shows that Cosine Similarity isn't returning good results due to the extreme sparsity of the Twitch dataset. I intially thought of doing Collaborative Filtering here, however this is a case of extreme data sparsity. I can't do User-Based either because my session crashes due to the high computational demand plus, I could say the X_train matrix has 90% or even more sparsity. With spares data, most streamers don't have overlapping audiences, so this will crash.\n",
        "\n",
        "I will have to jump into other alternatives to similarity - based filtering. I will need to search for a method that does not require explicit utem-item or user-user similarities, which could potentially effective for sparse datasets like this one."
      ],
      "metadata": {
        "id": "Phlw2NCaeSYw"
      }
    },
    {
      "cell_type": "code",
      "source": [
        "# Getting a sample of real user indices from the dataset\n",
        "real_user_indices = df['User ID'].astype('category').cat.codes.unique()\n",
        "print('Sample User Indices:', real_user_indices[:5])  # first 5 user indices"
      ],
      "metadata": {
        "colab": {
          "base_uri": "https://localhost:8080/"
        },
        "id": "87yls5nmd6SQ",
        "outputId": "32f89678-6c25-406b-caf9-1b5a2938b965"
      },
      "execution_count": null,
      "outputs": [
        {
          "output_type": "stream",
          "name": "stdout",
          "text": [
            "Sample User Indices: [0 1 2 3 4]\n"
          ]
        }
      ]
    },
    {
      "cell_type": "markdown",
      "source": [
        "# PySpark: Starting All Over\n",
        "\n",
        "After multiple attempts and failed experiments using SVD and neural networks to build a recommendation system (even resulting in 0.00 for both Recall and F-1 scores) I grew frustrated with frequent session crashes! As a result, I decided to change direction and apply what I learned in the Big Data Application course I took about a year ago. In this new approach, I will be using Apache Spark along with a subset of the Twitch dataset. This seems like a much more reliable method, let's see how it goes. One thing I learned is that Cosine Similarity seeemes not do well with sparse data....\n",
        "\n",
        "Source: https://spark.apache.org/docs/latest/api/python/reference/pyspark.pandas/index.html\n",
        "\n",
        "Great resource: https://medium.com/@brunoborges_38708/recommender-system-using-als-in-pyspark-10329e1d1ee1\n",
        "\n",
        "geeks for geeks: https://www.geeksforgeeks.org/recommender-system-using-pyspark-python/"
      ],
      "metadata": {
        "id": "dtmIVj55X8SX"
      }
    },
    {
      "cell_type": "code",
      "source": [
        "!pip install pyspark"
      ],
      "metadata": {
        "id": "xMIy0wyI_t6l",
        "colab": {
          "base_uri": "https://localhost:8080/"
        },
        "outputId": "d79fa348-d7d6-4b97-f0c7-d1117cdebaff"
      },
      "execution_count": 1,
      "outputs": [
        {
          "output_type": "stream",
          "name": "stdout",
          "text": [
            "Requirement already satisfied: pyspark in /usr/local/lib/python3.10/dist-packages (3.5.3)\n",
            "Requirement already satisfied: py4j==0.10.9.7 in /usr/local/lib/python3.10/dist-packages (from pyspark) (0.10.9.7)\n"
          ]
        }
      ]
    },
    {
      "cell_type": "code",
      "source": [
        "from pyspark.sql import SparkSession\n",
        "from pyspark.sql import DataFrame\n",
        "from pyspark.sql.functions import col\n",
        "from pyspark.sql.functions import log1p\n",
        "from pyspark.ml.feature import StringIndexer\n",
        "from pyspark.ml.recommendation import ALS\n",
        "from pyspark.ml.evaluation import RegressionEvaluator\n",
        "from pyspark.sql.functions import min, max\n",
        "from pyspark.sql.functions import udf\n",
        "from pyspark.sql.types import FloatType"
      ],
      "metadata": {
        "id": "FPQroRYoioyc"
      },
      "execution_count": 4,
      "outputs": []
    },
    {
      "cell_type": "code",
      "source": [
        "spark = SparkSession.builder \\\n",
        "    .appName('HW3 Recommendation System') \\\n",
        "    .getOrCreate()"
      ],
      "metadata": {
        "id": "BGlYd39X_t4O"
      },
      "execution_count": 5,
      "outputs": []
    },
    {
      "cell_type": "markdown",
      "source": [
        "The above recommendation system with PySpark was a very useful for this experimenation. I will convert the User ID and Streamer Username to numeric indices as well as calculating the log duration. Just like we did before, I'm going to be calculating the duration and applying logarithmic transformation to the duration to handle scale disparities and improve model performance."
      ],
      "metadata": {
        "id": "Fi_PeH4XaAhJ"
      }
    },
    {
      "cell_type": "code",
      "source": [
        "sdf = spark.createDataFrame(df)"
      ],
      "metadata": {
        "id": "lduoiiQ1lBny"
      },
      "execution_count": 6,
      "outputs": []
    },
    {
      "cell_type": "markdown",
      "source": [
        "The `log1p` transformation requires positive input. If Duration is zero or negative, it will cause errors (crazy errors)."
      ],
      "metadata": {
        "id": "ok-WXeZnmcY3"
      }
    },
    {
      "cell_type": "code",
      "source": [
        "sdf = sdf.withColumn('Duration', col('Time Stop') - col('Time Start'))\n",
        "sdf = sdf.filter(col('Duration') > 0)  # filterinh out invalid durations\n",
        "sdf = sdf.withColumn('Log Duration', log1p(col('Duration')))\n",
        "sdf = sdf.withColumnRenamed('Log Duration', 'log_duration')\n",
        "sdf = sdf.withColumn('rating', col('log_duration').cast('float'))\n",
        "\n",
        "# StringIndexer\n",
        "user_indexer = StringIndexer(inputCol = 'User ID', outputCol = 'userId')\n",
        "sdf = user_indexer.fit(sdf).transform(sdf)\n",
        "\n",
        "item_indexer = StringIndexer(inputCol = 'Streamer Username', outputCol = 'itemId')\n",
        "sdf = item_indexer.fit(sdf).transform(sdf)\n",
        "\n",
        "# Dropping nulls in key columns\n",
        "sdf = sdf.dropna(subset = ['userId', 'itemId', 'rating'])"
      ],
      "metadata": {
        "id": "ux5j6WZalBls"
      },
      "execution_count": 7,
      "outputs": []
    },
    {
      "cell_type": "markdown",
      "source": [
        "I will create a smaller dataframe for quick testing. Although Apache Spark is designed to handle big data, Colab's free tier provides only 12.7 GB of RAM. At this point, I’m not willing to take the risk, which is why I will work with a smaller chunk of data for experimentation. I've been facing way too much session crashes."
      ],
      "metadata": {
        "id": "21QufRyEmnF_"
      }
    },
    {
      "cell_type": "code",
      "source": [
        "subset_sdf = sdf.sample(withReplacement = False, fraction = 0.1, seed = 42)\n",
        "X_train, y_test = subset_sdf.randomSplit([0.8, 0.2], seed = 42)"
      ],
      "metadata": {
        "id": "1ILUqatllBjX"
      },
      "execution_count": 8,
      "outputs": []
    },
    {
      "cell_type": "markdown",
      "source": [
        "## PySpark ALS\n",
        "\n",
        "Collaborative filtering is commonly used for recommender systems. These techniques aim to fill in the missing entries of a user-item association matrix. spark.ml currently supports model-based collaborative filtering, in which users and products are described by a small set of latent factors that can be used to predict missing entries. spark.ml uses the alternating least squares (ALS) algorithm to learn these latent factors.\n",
        "\n",
        "`Cold start strategy`\n",
        "\n",
        "When making predictions using an ALSModel, it is common to encounter users and/or items in the test dataset that were not present during training the model. This typically occurs in two scenarios:\n",
        "\n",
        "- In production, for new users or items that have no rating history and on which the model has not been trained (this is the “cold start problem”).\n",
        "\n",
        "- During cross-validation, the data is split between training and evaluation sets. When using simple random splits as in Spark’s CrossValidator or TrainValidationSplit, it is actually very common to encounter users and/or items in the evaluation set that are not in the training set\n",
        "\n",
        "Setting Cold Strategy to `drop`.\n",
        "\n",
        "ALS PySpark Documentation: https://spark.apache.org/docs/latest/ml-collaborative-filtering.html\n",
        "\n",
        "Resource: https://www.geeksforgeeks.org/recommender-system-using-pyspark-python/"
      ],
      "metadata": {
        "id": "iw6OSmA7cjyr"
      }
    },
    {
      "cell_type": "code",
      "source": [
        "als = ALS(maxIter = 5,\n",
        "          regParam = 0.01,\n",
        "          userCol = 'userId',\n",
        "          itemCol = 'itemId',\n",
        "          ratingCol = 'rating',\n",
        "          coldStartStrategy = 'drop',\n",
        "          nonnegative = True) # I wan non negative predictions -> this will help\n",
        "\n",
        "model = als.fit(X_train)"
      ],
      "metadata": {
        "id": "T-t7mKZea2LB"
      },
      "execution_count": 9,
      "outputs": []
    },
    {
      "cell_type": "markdown",
      "source": [
        "![Screenshot 2024-11-24 at 3.23.14 PM.png](data:image/png;base64,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)"
      ],
      "metadata": {
        "id": "aym1bFf-18wf"
      }
    },
    {
      "cell_type": "code",
      "source": [
        "predictions = model.transform(y_test)\n",
        "predictions = predictions.na.fill(0, ['prediction']) # to handle any NaN predictions due to the Cold Strategy problems\n",
        "\n",
        "evaluator = RegressionEvaluator(metricName = 'rmse', labelCol = 'rating', predictionCol = 'prediction')\n",
        "rmse = evaluator.evaluate(predictions)\n",
        "\n",
        "print(f\"Root mean square error = {rmse}\")"
      ],
      "metadata": {
        "colab": {
          "base_uri": "https://localhost:8080/"
        },
        "id": "Qyr9gYn6a2I6",
        "outputId": "a7392ee8-9699-47df-ed10-191ddca6c773"
      },
      "execution_count": 12,
      "outputs": [
        {
          "output_type": "stream",
          "name": "stdout",
          "text": [
            "Root mean square error = 0.9173257501525796\n"
          ]
        }
      ]
    },
    {
      "cell_type": "code",
      "source": [
        "df = predictions.select('rating', 'prediction').toPandas()\n",
        "\n",
        "plt.scatter(df['rating'], df['prediction'], alpha = 0.5)\n",
        "plt.plot([0, 5], [0, 5], 'r--')  # Reference line\n",
        "plt.xlabel('Actual Rating')\n",
        "plt.ylabel('Predicted Rating')\n",
        "plt.title('Actual vs Predicted Ratings')\n",
        "plt.show()"
      ],
      "metadata": {
        "colab": {
          "base_uri": "https://localhost:8080/",
          "height": 471
        },
        "id": "9yQnxtein47f",
        "outputId": "5168a46c-fc05-42fa-aada-5852e5842086"
      },
      "execution_count": 15,
      "outputs": [
        {
          "output_type": "display_data",
          "data": {
            "text/plain": [
              "<Figure size 640x480 with 1 Axes>"
            ],
            "image/png": "[encoded data removed]"
          },
          "metadata": {}
        }
      ]
    },
    {
      "cell_type": "markdown",
      "source": [
        "The visualization shows that the model seemes to struggles to consistently predict low values accurately. It also seemes to overestimate ratings and for the actual ratings closer to the maximum, predictions tend to fall below the actual values. The model is less effective at capturing the true relationship between input features and rating, especially for low actual values.\n",
        "\n",
        "The RMSE score of 0.917 shows as a moderate error relative to the rating scale."
      ],
      "metadata": {
        "id": "sEfkFSTEovaI"
      }
    },
    {
      "cell_type": "markdown",
      "source": [
        "## Item Based Recommendation"
      ],
      "metadata": {
        "id": "sp-GsNhI2Z2h"
      }
    },
    {
      "cell_type": "code",
      "source": [
        "itemRecs = model.recommendForAllItems(5) # let's do 5 recommendations\n",
        "itemRecs.show(truncate = False)"
      ],
      "metadata": {
        "colab": {
          "base_uri": "https://localhost:8080/"
        },
        "id": "KihCCWvUxQLB",
        "outputId": "380b0bc8-ade8-4c49-c06f-ec968b125abf"
      },
      "execution_count": 10,
      "outputs": [
        {
          "output_type": "stream",
          "name": "stdout",
          "text": [
            "+------+----------------------------------------------------------------------------------------------------+\n",
            "|itemId|recommendations                                                                                     |\n",
            "+------+----------------------------------------------------------------------------------------------------+\n",
            "|1     |[{10374, 3.7239594}, {41505, 3.334052}, {59514, 3.2131264}, {7321, 3.168027}, {79484, 3.1380966}]   |\n",
            "|3     |[{12109, 3.9837198}, {51887, 3.8680894}, {31401, 3.7807112}, {46787, 3.712934}, {74954, 3.5974905}] |\n",
            "|5     |[{51849, 3.7059326}, {12766, 3.2664027}, {15060, 3.198071}, {42441, 3.009997}, {35763, 2.8651676}]  |\n",
            "|6     |[{42722, 3.6318262}, {83637, 3.3431003}, {19966, 3.241619}, {34928, 3.2375567}, {29176, 3.0843897}] |\n",
            "|9     |[{6259, 3.5437129}, {19923, 3.395429}, {9390, 3.2694778}, {6433, 3.213045}, {7565, 3.153066}]       |\n",
            "|12    |[{21849, 3.488797}, {19966, 3.4756336}, {47306, 3.340583}, {55764, 3.016676}, {7321, 2.967362}]     |\n",
            "|13    |[{26479, 3.5878837}, {51887, 3.1609879}, {15060, 3.109289}, {21845, 3.0974483}, {16692, 3.0651782}] |\n",
            "|15    |[{35495, 3.4189537}, {21849, 3.416739}, {25809, 3.133624}, {4612, 2.7876692}, {37514, 2.7042966}]   |\n",
            "|16    |[{9390, 3.4405804}, {19923, 3.280279}, {6259, 3.2561054}, {44364, 3.1148214}, {3336, 3.0392113}]    |\n",
            "|17    |[{29176, 3.6841452}, {17095, 3.4860508}, {51887, 3.4639301}, {28780, 3.4361541}, {32740, 3.3809118}]|\n",
            "|19    |[{22738, 3.642222}, {14312, 3.61511}, {51849, 3.429001}, {21955, 3.2692416}, {20832, 3.2480736}]    |\n",
            "|20    |[{29176, 3.7927892}, {26094, 3.3870134}, {21556, 3.2887733}, {51887, 3.2865202}, {20198, 3.184961}] |\n",
            "|22    |[{32913, 4.000975}, {14312, 3.739201}, {25917, 3.5792592}, {35763, 3.4631627}, {10374, 3.4588618}]  |\n",
            "|26    |[{45414, 4.31611}, {15044, 4.0658684}, {21516, 3.3261714}, {5739, 3.3106892}, {47701, 3.2534168}]   |\n",
            "|27    |[{21849, 5.30353}, {10126, 4.8575754}, {32238, 4.7610836}, {35495, 4.665782}, {26479, 4.5635324}]   |\n",
            "|28    |[{15060, 4.6637306}, {21845, 4.400819}, {21310, 4.275512}, {17510, 4.271513}, {51887, 4.238929}]    |\n",
            "|31    |[{21849, 4.467818}, {26479, 3.5570607}, {35005, 3.5439658}, {17095, 3.4949787}, {32238, 3.439791}]  |\n",
            "|34    |[{35495, 3.338521}, {21849, 3.2026944}, {52091, 3.0775948}, {26479, 2.9955478}, {37514, 2.9740376}] |\n",
            "|35    |[{3336, 4.1605167}, {24305, 4.141531}, {58710, 4.0994077}, {9390, 4.0962296}, {78407, 3.9714634}]   |\n",
            "|37    |[{26822, 2.908128}, {32913, 2.885457}, {29176, 2.825723}, {20862, 2.7636209}, {45414, 2.7210035}]   |\n",
            "+------+----------------------------------------------------------------------------------------------------+\n",
            "only showing top 20 rows\n",
            "\n"
          ]
        }
      ]
    },
    {
      "cell_type": "markdown",
      "source": [
        "- userId: The ID of a user recommended for this item.\n",
        "- rating: The predicted rating the user would give to the item.\n",
        "\n",
        "\n",
        "WE have top 5 user that most likely to interact with itemId based on their preferences and the latent factors learned by the model.\n",
        "\n",
        "For example, User 10374 would rate itemId = 1 as 3.7239594 etc."
      ],
      "metadata": {
        "id": "ldFJKmn22jYj"
      }
    },
    {
      "cell_type": "markdown",
      "source": [
        "## User Based Recommendation"
      ],
      "metadata": {
        "id": "w-QM5Aj92czN"
      }
    },
    {
      "cell_type": "code",
      "source": [
        "userRecs = model.recommendForAllUsers(5) # let's do 5 recommendations\n",
        "userRecs.show(truncate = False)"
      ],
      "metadata": {
        "colab": {
          "base_uri": "https://localhost:8080/"
        },
        "id": "pMb7SteFxSyg",
        "outputId": "bf9b97a3-a053-41d4-a0fc-c6c3734443a1"
      },
      "execution_count": 11,
      "outputs": [
        {
          "output_type": "stream",
          "name": "stdout",
          "text": [
            "+------+----------------------------------------------------------------------------------------------------+\n",
            "|userId|recommendations                                                                                     |\n",
            "+------+----------------------------------------------------------------------------------------------------+\n",
            "|1     |[{59999, 3.8387432}, {22777, 3.7258933}, {31303, 3.6728919}, {17295, 3.67007}, {11364, 3.627035}]   |\n",
            "|3     |[{11364, 7.869738}, {31303, 7.513164}, {25366, 6.7037096}, {13691, 6.57034}, {5725, 6.5213737}]     |\n",
            "|5     |[{120955, 8.795002}, {18672, 7.687268}, {20455, 7.2688766}, {10154, 6.9279833}, {17295, 6.621632}]  |\n",
            "|6     |[{6702, 7.451129}, {20728, 6.31297}, {36779, 5.847843}, {40533, 5.6698155}, {115221, 5.432984}]     |\n",
            "|9     |[{20728, 10.041211}, {56561, 7.8058076}, {13691, 7.725658}, {16472, 7.7157187}, {26516, 7.5271354}] |\n",
            "|12    |[{107631, 6.7092943}, {4641, 5.6783514}, {4256, 5.6137114}, {17295, 5.566579}, {29707, 5.291094}]   |\n",
            "|13    |[{18672, 6.422635}, {27494, 5.7464643}, {14647, 5.652691}, {46584, 5.609646}, {6426, 5.419283}]     |\n",
            "|15    |[{64560, 9.015625}, {120955, 8.82946}, {17295, 8.811313}, {14055, 8.591801}, {107631, 8.473679}]    |\n",
            "|16    |[{25301, 7.8779144}, {24374, 7.0069513}, {63154, 6.6103005}, {45687, 6.4906993}, {97801, 6.4313903}]|\n",
            "|17    |[{16472, 12.821018}, {88494, 12.192699}, {50694, 10.246584}, {17295, 10.129915}, {13134, 9.57433}]  |\n",
            "|19    |[{49153, 8.28894}, {29707, 7.9297066}, {61116, 7.823125}, {20573, 7.609334}, {13561, 7.512865}]     |\n",
            "|20    |[{31303, 5.389492}, {11364, 4.7080355}, {5725, 4.597109}, {13691, 4.5256915}, {63154, 4.3891764}]   |\n",
            "|22    |[{23603, 8.208133}, {107631, 7.8384147}, {17295, 7.174296}, {13561, 7.0626945}, {12974, 7.061705}]  |\n",
            "|26    |[{49153, 7.1786675}, {6702, 7.1459675}, {20573, 6.5196323}, {27973, 6.1191077}, {12762, 5.9650044}] |\n",
            "|27    |[{20728, 6.004971}, {6702, 5.9969373}, {111808, 5.808985}, {9832, 5.7637863}, {59999, 5.6533046}]   |\n",
            "|28    |[{6702, 7.155023}, {20728, 6.602515}, {46056, 6.3491454}, {45687, 6.3167315}, {14856, 6.0003166}]   |\n",
            "|31    |[{8034, 13.193771}, {18891, 13.063025}, {4342, 11.60942}, {13795, 11.139559}, {10154, 11.008394}]   |\n",
            "|34    |[{16472, 6.047425}, {17295, 5.9296494}, {88494, 5.709871}, {50694, 4.8222175}, {4348, 4.81089}]     |\n",
            "|35    |[{13561, 7.068611}, {4841, 6.966462}, {113332, 6.9546814}, {23603, 6.922246}, {38814, 6.846423}]    |\n",
            "|37    |[{17295, 5.218259}, {31303, 5.0963063}, {13561, 4.9666815}, {63154, 4.8049235}, {120955, 4.536286}] |\n",
            "+------+----------------------------------------------------------------------------------------------------+\n",
            "only showing top 20 rows\n",
            "\n"
          ]
        }
      ]
    },
    {
      "cell_type": "markdown",
      "source": [
        "Same approach is being followed here, User 1 would rate itemId = 59999 as 33.8387432 etc.."
      ],
      "metadata": {
        "id": "rGImTey53J_v"
      }
    },
    {
      "cell_type": "markdown",
      "source": [
        "## Additional Experimentation: Normalization and ALS Rating Weights Simulation\n",
        "\n",
        "Let's try normalizing the data first and also using weights. From what I've read, it seems ALS doesn't orginally support weights. However, we could simulate weighting by creating a weighted rating column?"
      ],
      "metadata": {
        "id": "x8mycIgiqMM7"
      }
    },
    {
      "cell_type": "code",
      "source": [
        "# Calculating th min and max of the rating column\n",
        "rating_min = sdf.agg(min(col('rating'))).collect()[0][0]\n",
        "rating_max = sdf.agg(max(col('rating'))).collect()[0][0]\n",
        "\n",
        "# Normalizing ratings to a [0, 1] range\n",
        "sdf = sdf.withColumn('rating_normalized', (col('rating') - rating_min) / (rating_max - rating_min))"
      ],
      "metadata": {
        "id": "nxpXxyYtovLo"
      },
      "execution_count": 9,
      "outputs": []
    },
    {
      "cell_type": "code",
      "source": [
        "# Calculating counts for each rating value\n",
        "rating_counts = sdf.groupBy('rating_normalized').count().collect()\n",
        "\n",
        "# Computing weights\n",
        "total_count = sum(row['count'] for row in rating_counts)\n",
        "rating_weights = {row['rating_normalized']: total_count / row['count'] for row in rating_counts}\n",
        "\n",
        "# Adding a weight column based on normalized rating\n",
        "weight_udf = udf(lambda r: rating_weights.get(r, 1.0), FloatType())\n",
        "sdf = sdf.withColumn('weight', weight_udf(col('rating_normalized')))"
      ],
      "metadata": {
        "id": "u736BLJOo2np"
      },
      "execution_count": 10,
      "outputs": []
    },
    {
      "cell_type": "code",
      "source": [
        "sdf = sdf.withColumn('weighted_rating', col('rating_normalized') * col('weight'))"
      ],
      "metadata": {
        "id": "Vrdl0r88vJKV"
      },
      "execution_count": 14,
      "outputs": []
    },
    {
      "cell_type": "code",
      "source": [
        "subset_sdf = sdf.sample(withReplacement = False, fraction = 0.1, seed = 42)\n",
        "X_train, y_test = subset_sdf.randomSplit([0.8, 0.2], seed = 42)"
      ],
      "metadata": {
        "id": "AnXca6gno2ln"
      },
      "execution_count": 15,
      "outputs": []
    },
    {
      "cell_type": "code",
      "source": [
        "# I want to check and see if the columns I needed (like weighted rating) were succesfully created\n",
        "sdf.printSchema()\n",
        "sdf.show(5)"
      ],
      "metadata": {
        "colab": {
          "base_uri": "https://localhost:8080/"
        },
        "id": "khPYztuOubYW",
        "outputId": "29ab20e9-3da5-493d-f466-43f79c54f0fc"
      },
      "execution_count": 16,
      "outputs": [
        {
          "output_type": "stream",
          "name": "stdout",
          "text": [
            "root\n",
            " |-- User ID: long (nullable = true)\n",
            " |-- Stream ID: long (nullable = true)\n",
            " |-- Streamer Username: string (nullable = true)\n",
            " |-- Time Start: long (nullable = true)\n",
            " |-- Time Stop: long (nullable = true)\n",
            " |-- Duration: long (nullable = true)\n",
            " |-- log_duration: double (nullable = true)\n",
            " |-- rating: float (nullable = true)\n",
            " |-- userId: double (nullable = false)\n",
            " |-- itemId: double (nullable = false)\n",
            " |-- rating_normalized: double (nullable = true)\n",
            " |-- weight: float (nullable = true)\n",
            " |-- weighted_rating: double (nullable = true)\n",
            "\n",
            "+-------+-----------+-----------------+----------+---------+--------+------------------+---------+-------+------+-------------------+---------+------------------+\n",
            "|User ID|  Stream ID|Streamer Username|Time Start|Time Stop|Duration|      log_duration|   rating| userId|itemId|  rating_normalized|   weight|   weighted_rating|\n",
            "+-------+-----------+-----------------+----------+---------+--------+------------------+---------+-------+------+-------------------+---------+------------------+\n",
            "|      1|33842865744|         mithrain|       154|      156|       2|1.0986122886681096|1.0986123|18737.0|  41.0|0.10418392452882896|6.1248784|0.6381138696536192|\n",
            "|      1|33846768288|            alptv|       166|      169|       3|1.3862943611198906|1.3862944|18737.0|1933.0| 0.1781035879731023|11.561434|2.0591328404890192|\n",
            "|      1|33886469056|         mithrain|       587|      588|       1|0.6931471805599453|0.6931472|18737.0|  41.0|                0.0|1.9563758|               0.0|\n",
            "|      1|33887624992|             wtcn|       589|      591|       2|1.0986122886681096|1.0986123|18737.0|  77.0|0.10418392452882896|6.1248784|0.6381138696536192|\n",
            "|      1|33890145056|        jrokezftw|       591|      594|       3|1.3862943611198906|1.3862944|18737.0| 226.0| 0.1781035879731023|11.561434|2.0591328404890192|\n",
            "+-------+-----------+-----------------+----------+---------+--------+------------------+---------+-------+------+-------------------+---------+------------------+\n",
            "only showing top 5 rows\n",
            "\n"
          ]
        }
      ]
    },
    {
      "cell_type": "code",
      "source": [
        "als = ALS(\n",
        "    maxIter = 5,\n",
        "    regParam = 0.01,\n",
        "    userCol = 'userId',\n",
        "    itemCol = 'itemId',\n",
        "    ratingCol = 'weighted_rating',\n",
        "    coldStartStrategy = 'drop',\n",
        "    nonnegative = True\n",
        ")\n",
        "\n",
        "model = als.fit(X_train)"
      ],
      "metadata": {
        "id": "asMgAomco2jf"
      },
      "execution_count": 17,
      "outputs": []
    },
    {
      "cell_type": "code",
      "source": [
        "predictions = model.transform(y_test)\n",
        "predictions = predictions.na.fill(0, ['prediction'])\n",
        "\n",
        "\n",
        "evaluator = RegressionEvaluator(\n",
        "    metricName = 'rmse',\n",
        "    labelCol = 'rating_normalized',\n",
        "    predictionCol = 'prediction'\n",
        ")\n",
        "\n",
        "\n",
        "rmse = evaluator.evaluate(predictions)\n",
        "print(f\"Root Mean Square Error after normalization and weighting = {rmse}\")"
      ],
      "metadata": {
        "colab": {
          "base_uri": "https://localhost:8080/"
        },
        "id": "RSBNQ7cSo2hG",
        "outputId": "092cea12-99eb-4221-d62e-17c11fd45daf"
      },
      "execution_count": 18,
      "outputs": [
        {
          "output_type": "stream",
          "name": "stdout",
          "text": [
            "Root Mean Square Error after normalization and weighting = 1724.8493546464308\n"
          ]
        }
      ]
    },
    {
      "cell_type": "markdown",
      "source": [
        "Failed, this is way too off.\n",
        "\n",
        "I'm going to stick to the original RMSE of 0.9173257501525796. While this RMSE is not perfect, it might sugest the model captures some meaningful patterns in the data."
      ],
      "metadata": {
        "id": "40cwJ4rKw3Qg"
      }
    },
    {
      "cell_type": "markdown",
      "source": [
        "# Citation:"
      ],
      "metadata": {
        "id": "UiNjeutU2tMV"
      }
    },
    {
      "cell_type": "markdown",
      "source": [
        "Recommendation on Live-Streaming Platforms: Dynamic Availability and Repeat Consumption\n",
        "Jérémie Rappaz, Julian McAuley and Karl Aberer\n",
        "RecSys, 2021"
      ],
      "metadata": {
        "id": "9udaPC9r2uoA"
      }
    },
    {
      "cell_type": "markdown",
      "source": [
        "## Sources:\n",
        "\n",
        "- Recommendation System: https://www.geeksforgeeks.org/recommendation-system-in-python/\n",
        "\n",
        "- Intro to LaTex: https://colab.research.google.com/github/bebi103a/bebi103a.github.io/blob/main/lessons/00/intro_to_latex.ipynb\n",
        "\n",
        "- Cosine Similarity: https://naomy-gomes.medium.com/the-cosine-similarity-and-its-use-in-recommendation-systems-cb2ebd811ce1\n",
        "\n",
        "- Cosine Similarity: https://en.wikipedia.org/wiki/Cosine_similarity\n",
        "\n",
        "- Pandas Sparse Matrix: https://pandas.pydata.org/docs/reference/api/pandas.DataFrame.sparse.from_spmatrix.html\n",
        "\n",
        "- Collaborative Filtering: https://www.analyticsvidhya.com/blog/2022/02/introduction-to-collaborative-filtering/\n",
        "\n",
        "- Collaborative Filtering: https://towardsdatascience.com/recommendation-system-part-1-use-of-collaborative-filtering-and-hybrid-collaborative-content-in-6137ba64ad58\n",
        "\n",
        "- Collaborative Filtering: https://www.geeksforgeeks.org/collaborative-filtering-ml/\n",
        "\n",
        "- Logarithmic Transformation: https://www.statology.org/transform-data-in-python/\n",
        "\n",
        "- SciPy Sparde data: https://www.w3schools.com/python/scipy/scipy_sparse_data.php\n",
        "\n",
        "- Bulding Sparse matrix: https://www.geeksforgeeks.org/how-to-create-a-sparse-matrix-in-python/\n",
        "\n",
        "- SciPy recommendation: https://docs.scipy.org/doc/scipy/reference/sparse.html\n",
        "\n",
        "- Pandas Series documentation: https://pandas.pydata.org/docs/reference/api/pandas.Series.cat.codes.html\n",
        "\n",
        "- Item Based Collaborative Filtering: https://towardsdatascience.com/comprehensive-guide-on-item-based-recommendation-systems-d67e40e2b75d\n",
        "\n",
        "- SKlearn Cosine Similarity: https://scikit-learn.org/dev/modules/generated/sklearn.metrics.pairwise.cosine_similarity.html\n",
        "\n",
        "- PySpark: https://spark.apache.org/docs/latest/api/python/reference/pyspark.pandas/index.html\n",
        "\n",
        "- Reccomendation system using PySpark ALS model: https://medium.com/@brunoborges_38708/recommender-system-using-als-in-pyspark-10329e1d1ee1\n",
        "\n",
        "- PySpark ALS: https://medium.com/@jonahflateman/building-a-recommender-system-in-pyspark-using-als-18e1dd9e38e6\n",
        "\n",
        "- PySpark ALS: https://www.geeksforgeeks.org/recommender-system-using-pyspark-python/\n",
        "\n",
        "- PySpark subset sample: https://spark.apache.org/docs/latest/api/python/reference/pyspark.sql/api/pyspark.sql.DataFrame.sample.html\n",
        "\n",
        "PySpark basic syntax: https://spark.apache.org/docs/latest/sql-ref-syntax.html\n",
        "\n",
        "- Regressor: https://spark.apache.org/docs/latest/api/python/reference/api/pyspark.ml.evaluation.RegressionEvaluator.html\n",
        "\n",
        "- Also, notebook from the Big Data course were used in this homework."
      ],
      "metadata": {
        "id": "yTtgm3yA21BG"
      }
    }
  ]
}
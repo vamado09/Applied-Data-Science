{
 "cells": [
  {
   "cell_type": "code",
   "execution_count": 1,
   "id": "c9969d58-828b-42c1-bf41-159b71d37fea",
   "metadata": {},
   "outputs": [],
   "source": [
    "import pandas as pd\n",
    "import numpy as np\n",
    "import matplotlib.pyplot as plt\n",
    "import statsmodels.api as sm\n",
    "import statsmodels.formula.api as smf\n",
    "import scipy.stats as stats\n",
    "from sklearn.cluster import KMeans\n",
    "from sklearn.preprocessing import StandardScaler\n",
    "from sklearn.model_selection import train_test_split\n",
    "from sklearn.metrics import mean_squared_error, r2_score, mean_absolute_error\n",
    "from sklearn.ensemble import RandomForestRegressor\n",
    "\n",
    "%matplotlib inline\n",
    "import warnings\n",
    "warnings.filterwarnings('ignore')"
   ]
  },
  {
   "cell_type": "markdown",
   "id": "12e769ae-ef92-4379-b15f-b898ca4d3991",
   "metadata": {},
   "source": [
    "# Dummy Pricing Dataset:\n",
    "\n",
    "This simple dataset was generated to simulate pricing, inventory, sales, and transaction-related data for a specific PLU (SKU number). The data demonstrates realism in how net sales are derived from price per pound, volume sold in pounds, and applied discounts. The gross margin field reflects profitability based on pricing and the cost of goods sold (COGS). Competitor prices were randomly generated within a reasonable range, based on product categories, to simulate market conditions. All columns were manually inspected to ensure the dataset's realism for this exercise. For a project of this nature, generating a dummy dataset like this was the most practical and effective approach.\n",
    "\n",
    "- PLU: unique product identifier.\n",
    "- Product category and Description: product details.\n",
    "- Calendar Year and Calendar Week: date data.\n",
    "- COGS: Cos of Good Sold, which is the cost per lb.\n",
    "- Volume of Units Sold in lbs: total weight being sold.\n",
    "- DOHs (Days on Hand): available inventory.\n",
    "- WF Prices: pricing.\n",
    "- Competitor Pricing: pricing. \n",
    "- Net Sales: total revenue.\n",
    "- Gross Margin %: calculated profit margin.\n",
    "- Discounts: discounts applied to sales.\n",
    "- Volume of Units: number of units sold.\n",
    "- Transactions: number of unique transactions."
   ]
  },
  {
   "cell_type": "code",
   "execution_count": 3,
   "id": "d14fb007-5755-46e0-8a4c-28698adb9c7d",
   "metadata": {},
   "outputs": [
    {
     "data": {
      "text/html": [
       "<div>\n",
       "<style scoped>\n",
       "    .dataframe tbody tr th:only-of-type {\n",
       "        vertical-align: middle;\n",
       "    }\n",
       "\n",
       "    .dataframe tbody tr th {\n",
       "        vertical-align: top;\n",
       "    }\n",
       "\n",
       "    .dataframe thead th {\n",
       "        text-align: right;\n",
       "    }\n",
       "</style>\n",
       "<table border=\"1\" class=\"dataframe\">\n",
       "  <thead>\n",
       "    <tr style=\"text-align: right;\">\n",
       "      <th></th>\n",
       "      <th>PLU</th>\n",
       "      <th>Product Category</th>\n",
       "      <th>Product Description</th>\n",
       "      <th>Calendar Year</th>\n",
       "      <th>Calendar Week</th>\n",
       "      <th>COGS</th>\n",
       "      <th>Volume of Units Sold in lbs</th>\n",
       "      <th>Days on Hand (inventory)</th>\n",
       "      <th>Competitor Prices</th>\n",
       "      <th>WF Prices</th>\n",
       "      <th>Net Sales</th>\n",
       "      <th>Gross Margin %</th>\n",
       "      <th>Discounts</th>\n",
       "      <th>Volume of Units</th>\n",
       "      <th>Transactions</th>\n",
       "    </tr>\n",
       "  </thead>\n",
       "  <tbody>\n",
       "    <tr>\n",
       "      <th>0</th>\n",
       "      <td>1155</td>\n",
       "      <td>Beef</td>\n",
       "      <td>Outside Skirt</td>\n",
       "      <td>2024</td>\n",
       "      <td>1</td>\n",
       "      <td>6.36</td>\n",
       "      <td>139.0</td>\n",
       "      <td>8</td>\n",
       "      <td>9.99</td>\n",
       "      <td>9.88</td>\n",
       "      <td>1373.32</td>\n",
       "      <td>0.36</td>\n",
       "      <td>0.54</td>\n",
       "      <td>93</td>\n",
       "      <td>93</td>\n",
       "    </tr>\n",
       "    <tr>\n",
       "      <th>1</th>\n",
       "      <td>1155</td>\n",
       "      <td>Beef</td>\n",
       "      <td>Outside Skirt</td>\n",
       "      <td>2024</td>\n",
       "      <td>2</td>\n",
       "      <td>5.38</td>\n",
       "      <td>104.0</td>\n",
       "      <td>11</td>\n",
       "      <td>10.00</td>\n",
       "      <td>10.48</td>\n",
       "      <td>1089.92</td>\n",
       "      <td>0.49</td>\n",
       "      <td>1.79</td>\n",
       "      <td>70</td>\n",
       "      <td>18</td>\n",
       "    </tr>\n",
       "    <tr>\n",
       "      <th>2</th>\n",
       "      <td>1155</td>\n",
       "      <td>Beef</td>\n",
       "      <td>Outside Skirt</td>\n",
       "      <td>2024</td>\n",
       "      <td>3</td>\n",
       "      <td>5.48</td>\n",
       "      <td>106.0</td>\n",
       "      <td>7</td>\n",
       "      <td>10.00</td>\n",
       "      <td>10.48</td>\n",
       "      <td>1110.88</td>\n",
       "      <td>0.48</td>\n",
       "      <td>0.53</td>\n",
       "      <td>71</td>\n",
       "      <td>18</td>\n",
       "    </tr>\n",
       "    <tr>\n",
       "      <th>3</th>\n",
       "      <td>1155</td>\n",
       "      <td>Beef</td>\n",
       "      <td>Outside Skirt</td>\n",
       "      <td>2024</td>\n",
       "      <td>4</td>\n",
       "      <td>6.55</td>\n",
       "      <td>83.0</td>\n",
       "      <td>12</td>\n",
       "      <td>10.00</td>\n",
       "      <td>9.98</td>\n",
       "      <td>828.34</td>\n",
       "      <td>0.34</td>\n",
       "      <td>1.28</td>\n",
       "      <td>56</td>\n",
       "      <td>56</td>\n",
       "    </tr>\n",
       "    <tr>\n",
       "      <th>4</th>\n",
       "      <td>1155</td>\n",
       "      <td>Beef</td>\n",
       "      <td>Outside Skirt</td>\n",
       "      <td>2024</td>\n",
       "      <td>5</td>\n",
       "      <td>6.95</td>\n",
       "      <td>134.0</td>\n",
       "      <td>14</td>\n",
       "      <td>8.99</td>\n",
       "      <td>9.98</td>\n",
       "      <td>1337.32</td>\n",
       "      <td>0.30</td>\n",
       "      <td>1.94</td>\n",
       "      <td>90</td>\n",
       "      <td>90</td>\n",
       "    </tr>\n",
       "  </tbody>\n",
       "</table>\n",
       "</div>"
      ],
      "text/plain": [
       "    PLU Product Category Product Description  Calendar Year  Calendar Week  \\\n",
       "0  1155             Beef       Outside Skirt           2024              1   \n",
       "1  1155             Beef       Outside Skirt           2024              2   \n",
       "2  1155             Beef       Outside Skirt           2024              3   \n",
       "3  1155             Beef       Outside Skirt           2024              4   \n",
       "4  1155             Beef       Outside Skirt           2024              5   \n",
       "\n",
       "   COGS  Volume of Units Sold in lbs  Days on Hand (inventory)  \\\n",
       "0  6.36                        139.0                         8   \n",
       "1  5.38                        104.0                        11   \n",
       "2  5.48                        106.0                         7   \n",
       "3  6.55                         83.0                        12   \n",
       "4  6.95                        134.0                        14   \n",
       "\n",
       "   Competitor Prices  WF Prices  Net Sales  Gross Margin %  Discounts  \\\n",
       "0               9.99       9.88    1373.32            0.36       0.54   \n",
       "1              10.00      10.48    1089.92            0.49       1.79   \n",
       "2              10.00      10.48    1110.88            0.48       0.53   \n",
       "3              10.00       9.98     828.34            0.34       1.28   \n",
       "4               8.99       9.98    1337.32            0.30       1.94   \n",
       "\n",
       "   Volume of Units  Transactions  \n",
       "0               93            93  \n",
       "1               70            18  \n",
       "2               71            18  \n",
       "3               56            56  \n",
       "4               90            90  "
      ]
     },
     "execution_count": 3,
     "metadata": {},
     "output_type": "execute_result"
    }
   ],
   "source": [
    "df = pd.read_csv('fake_wf.csv')\n",
    "df.head()"
   ]
  },
  {
   "cell_type": "code",
   "execution_count": 3,
   "id": "3366e997-8857-48a4-a3ce-01c9608313d2",
   "metadata": {},
   "outputs": [
    {
     "data": {
      "text/html": [
       "<div>\n",
       "<style scoped>\n",
       "    .dataframe tbody tr th:only-of-type {\n",
       "        vertical-align: middle;\n",
       "    }\n",
       "\n",
       "    .dataframe tbody tr th {\n",
       "        vertical-align: top;\n",
       "    }\n",
       "\n",
       "    .dataframe thead th {\n",
       "        text-align: right;\n",
       "    }\n",
       "</style>\n",
       "<table border=\"1\" class=\"dataframe\">\n",
       "  <thead>\n",
       "    <tr style=\"text-align: right;\">\n",
       "      <th></th>\n",
       "      <th>PLU</th>\n",
       "      <th>Calendar Year</th>\n",
       "      <th>Calendar Week</th>\n",
       "      <th>COGS</th>\n",
       "      <th>Volume of Units Sold in lbs</th>\n",
       "      <th>Days on Hand (inventory)</th>\n",
       "      <th>Competitor Prices</th>\n",
       "      <th>WF Prices</th>\n",
       "      <th>Net Sales</th>\n",
       "      <th>Gross Margin %</th>\n",
       "      <th>Discounts</th>\n",
       "      <th>Volume of Units</th>\n",
       "      <th>Transactions</th>\n",
       "    </tr>\n",
       "  </thead>\n",
       "  <tbody>\n",
       "    <tr>\n",
       "      <th>count</th>\n",
       "      <td>52.0</td>\n",
       "      <td>52.0</td>\n",
       "      <td>52.000000</td>\n",
       "      <td>52.000000</td>\n",
       "      <td>52.000000</td>\n",
       "      <td>52.000000</td>\n",
       "      <td>52.000000</td>\n",
       "      <td>52.000000</td>\n",
       "      <td>52.000000</td>\n",
       "      <td>52.000000</td>\n",
       "      <td>52.000000</td>\n",
       "      <td>52.000000</td>\n",
       "      <td>52.000000</td>\n",
       "    </tr>\n",
       "    <tr>\n",
       "      <th>mean</th>\n",
       "      <td>1155.0</td>\n",
       "      <td>2024.0</td>\n",
       "      <td>26.500000</td>\n",
       "      <td>6.116346</td>\n",
       "      <td>97.863462</td>\n",
       "      <td>9.769231</td>\n",
       "      <td>10.032308</td>\n",
       "      <td>10.670385</td>\n",
       "      <td>1048.686923</td>\n",
       "      <td>0.419808</td>\n",
       "      <td>1.427885</td>\n",
       "      <td>65.615385</td>\n",
       "      <td>30.634615</td>\n",
       "    </tr>\n",
       "    <tr>\n",
       "      <th>std</th>\n",
       "      <td>0.0</td>\n",
       "      <td>0.0</td>\n",
       "      <td>15.154757</td>\n",
       "      <td>0.616273</td>\n",
       "      <td>21.480352</td>\n",
       "      <td>3.317307</td>\n",
       "      <td>1.723705</td>\n",
       "      <td>1.214497</td>\n",
       "      <td>284.505832</td>\n",
       "      <td>0.090283</td>\n",
       "      <td>0.496487</td>\n",
       "      <td>14.344711</td>\n",
       "      <td>22.815568</td>\n",
       "    </tr>\n",
       "    <tr>\n",
       "      <th>min</th>\n",
       "      <td>1155.0</td>\n",
       "      <td>2024.0</td>\n",
       "      <td>1.000000</td>\n",
       "      <td>5.020000</td>\n",
       "      <td>70.000000</td>\n",
       "      <td>5.000000</td>\n",
       "      <td>7.990000</td>\n",
       "      <td>8.480000</td>\n",
       "      <td>628.600000</td>\n",
       "      <td>0.190000</td>\n",
       "      <td>0.530000</td>\n",
       "      <td>47.000000</td>\n",
       "      <td>10.000000</td>\n",
       "    </tr>\n",
       "    <tr>\n",
       "      <th>25%</th>\n",
       "      <td>1155.0</td>\n",
       "      <td>2024.0</td>\n",
       "      <td>13.750000</td>\n",
       "      <td>5.637500</td>\n",
       "      <td>81.250000</td>\n",
       "      <td>7.000000</td>\n",
       "      <td>8.990000</td>\n",
       "      <td>9.980000</td>\n",
       "      <td>849.415000</td>\n",
       "      <td>0.340000</td>\n",
       "      <td>1.057500</td>\n",
       "      <td>54.500000</td>\n",
       "      <td>14.000000</td>\n",
       "    </tr>\n",
       "    <tr>\n",
       "      <th>50%</th>\n",
       "      <td>1155.0</td>\n",
       "      <td>2024.0</td>\n",
       "      <td>26.500000</td>\n",
       "      <td>6.220000</td>\n",
       "      <td>97.000000</td>\n",
       "      <td>10.000000</td>\n",
       "      <td>9.990000</td>\n",
       "      <td>10.480000</td>\n",
       "      <td>1020.430000</td>\n",
       "      <td>0.435000</td>\n",
       "      <td>1.390000</td>\n",
       "      <td>65.000000</td>\n",
       "      <td>18.500000</td>\n",
       "    </tr>\n",
       "    <tr>\n",
       "      <th>75%</th>\n",
       "      <td>1155.0</td>\n",
       "      <td>2024.0</td>\n",
       "      <td>39.250000</td>\n",
       "      <td>6.677500</td>\n",
       "      <td>107.250000</td>\n",
       "      <td>13.000000</td>\n",
       "      <td>10.000000</td>\n",
       "      <td>10.980000</td>\n",
       "      <td>1165.260000</td>\n",
       "      <td>0.490000</td>\n",
       "      <td>1.840000</td>\n",
       "      <td>72.000000</td>\n",
       "      <td>44.000000</td>\n",
       "    </tr>\n",
       "    <tr>\n",
       "      <th>max</th>\n",
       "      <td>1155.0</td>\n",
       "      <td>2024.0</td>\n",
       "      <td>52.000000</td>\n",
       "      <td>6.990000</td>\n",
       "      <td>151.300000</td>\n",
       "      <td>15.000000</td>\n",
       "      <td>13.990000</td>\n",
       "      <td>12.980000</td>\n",
       "      <td>1963.870000</td>\n",
       "      <td>0.590000</td>\n",
       "      <td>2.460000</td>\n",
       "      <td>101.000000</td>\n",
       "      <td>93.000000</td>\n",
       "    </tr>\n",
       "  </tbody>\n",
       "</table>\n",
       "</div>"
      ],
      "text/plain": [
       "          PLU  Calendar Year  Calendar Week       COGS  \\\n",
       "count    52.0           52.0      52.000000  52.000000   \n",
       "mean   1155.0         2024.0      26.500000   6.116346   \n",
       "std       0.0            0.0      15.154757   0.616273   \n",
       "min    1155.0         2024.0       1.000000   5.020000   \n",
       "25%    1155.0         2024.0      13.750000   5.637500   \n",
       "50%    1155.0         2024.0      26.500000   6.220000   \n",
       "75%    1155.0         2024.0      39.250000   6.677500   \n",
       "max    1155.0         2024.0      52.000000   6.990000   \n",
       "\n",
       "       Volume of Units Sold in lbs  Days on Hand (inventory)  \\\n",
       "count                    52.000000                 52.000000   \n",
       "mean                     97.863462                  9.769231   \n",
       "std                      21.480352                  3.317307   \n",
       "min                      70.000000                  5.000000   \n",
       "25%                      81.250000                  7.000000   \n",
       "50%                      97.000000                 10.000000   \n",
       "75%                     107.250000                 13.000000   \n",
       "max                     151.300000                 15.000000   \n",
       "\n",
       "       Competitor Prices  WF Prices    Net Sales  Gross Margin %  Discounts  \\\n",
       "count          52.000000  52.000000    52.000000       52.000000  52.000000   \n",
       "mean           10.032308  10.670385  1048.686923        0.419808   1.427885   \n",
       "std             1.723705   1.214497   284.505832        0.090283   0.496487   \n",
       "min             7.990000   8.480000   628.600000        0.190000   0.530000   \n",
       "25%             8.990000   9.980000   849.415000        0.340000   1.057500   \n",
       "50%             9.990000  10.480000  1020.430000        0.435000   1.390000   \n",
       "75%            10.000000  10.980000  1165.260000        0.490000   1.840000   \n",
       "max            13.990000  12.980000  1963.870000        0.590000   2.460000   \n",
       "\n",
       "       Volume of Units  Transactions  \n",
       "count        52.000000     52.000000  \n",
       "mean         65.615385     30.634615  \n",
       "std          14.344711     22.815568  \n",
       "min          47.000000     10.000000  \n",
       "25%          54.500000     14.000000  \n",
       "50%          65.000000     18.500000  \n",
       "75%          72.000000     44.000000  \n",
       "max         101.000000     93.000000  "
      ]
     },
     "execution_count": 3,
     "metadata": {},
     "output_type": "execute_result"
    }
   ],
   "source": [
    "df.describe()"
   ]
  },
  {
   "cell_type": "code",
   "execution_count": 4,
   "id": "1be76fc3-1ec3-4d2a-b847-4c89d7cec601",
   "metadata": {},
   "outputs": [
    {
     "data": {
      "text/html": [
       "<div>\n",
       "<style scoped>\n",
       "    .dataframe tbody tr th:only-of-type {\n",
       "        vertical-align: middle;\n",
       "    }\n",
       "\n",
       "    .dataframe tbody tr th {\n",
       "        vertical-align: top;\n",
       "    }\n",
       "\n",
       "    .dataframe thead th {\n",
       "        text-align: right;\n",
       "    }\n",
       "</style>\n",
       "<table border=\"1\" class=\"dataframe\">\n",
       "  <thead>\n",
       "    <tr style=\"text-align: right;\">\n",
       "      <th></th>\n",
       "      <th>PLU</th>\n",
       "      <th>Calendar Year</th>\n",
       "      <th>Calendar Week</th>\n",
       "      <th>COGS</th>\n",
       "      <th>Volume of Units Sold in lbs</th>\n",
       "      <th>Days on Hand (inventory)</th>\n",
       "      <th>Competitor Prices</th>\n",
       "      <th>WF Prices</th>\n",
       "      <th>Net Sales</th>\n",
       "      <th>Gross Margin %</th>\n",
       "      <th>Discounts</th>\n",
       "      <th>Volume of Units</th>\n",
       "      <th>Transactions</th>\n",
       "    </tr>\n",
       "  </thead>\n",
       "  <tbody>\n",
       "    <tr>\n",
       "      <th>PLU</th>\n",
       "      <td>NaN</td>\n",
       "      <td>NaN</td>\n",
       "      <td>NaN</td>\n",
       "      <td>NaN</td>\n",
       "      <td>NaN</td>\n",
       "      <td>NaN</td>\n",
       "      <td>NaN</td>\n",
       "      <td>NaN</td>\n",
       "      <td>NaN</td>\n",
       "      <td>NaN</td>\n",
       "      <td>NaN</td>\n",
       "      <td>NaN</td>\n",
       "      <td>NaN</td>\n",
       "    </tr>\n",
       "    <tr>\n",
       "      <th>Calendar Year</th>\n",
       "      <td>NaN</td>\n",
       "      <td>NaN</td>\n",
       "      <td>NaN</td>\n",
       "      <td>NaN</td>\n",
       "      <td>NaN</td>\n",
       "      <td>NaN</td>\n",
       "      <td>NaN</td>\n",
       "      <td>NaN</td>\n",
       "      <td>NaN</td>\n",
       "      <td>NaN</td>\n",
       "      <td>NaN</td>\n",
       "      <td>NaN</td>\n",
       "      <td>NaN</td>\n",
       "    </tr>\n",
       "    <tr>\n",
       "      <th>Calendar Week</th>\n",
       "      <td>NaN</td>\n",
       "      <td>NaN</td>\n",
       "      <td>1.000000</td>\n",
       "      <td>-0.034799</td>\n",
       "      <td>-0.093787</td>\n",
       "      <td>-0.082296</td>\n",
       "      <td>0.351438</td>\n",
       "      <td>0.280768</td>\n",
       "      <td>0.070785</td>\n",
       "      <td>0.207155</td>\n",
       "      <td>0.319169</td>\n",
       "      <td>-0.101651</td>\n",
       "      <td>-0.340394</td>\n",
       "    </tr>\n",
       "    <tr>\n",
       "      <th>COGS</th>\n",
       "      <td>NaN</td>\n",
       "      <td>NaN</td>\n",
       "      <td>-0.034799</td>\n",
       "      <td>1.000000</td>\n",
       "      <td>0.150218</td>\n",
       "      <td>0.086284</td>\n",
       "      <td>0.076994</td>\n",
       "      <td>-0.023128</td>\n",
       "      <td>0.107680</td>\n",
       "      <td>-0.693563</td>\n",
       "      <td>0.004447</td>\n",
       "      <td>0.151417</td>\n",
       "      <td>0.043859</td>\n",
       "    </tr>\n",
       "    <tr>\n",
       "      <th>Volume of Units Sold in lbs</th>\n",
       "      <td>NaN</td>\n",
       "      <td>NaN</td>\n",
       "      <td>-0.093787</td>\n",
       "      <td>0.150218</td>\n",
       "      <td>1.000000</td>\n",
       "      <td>0.120019</td>\n",
       "      <td>0.354191</td>\n",
       "      <td>0.173773</td>\n",
       "      <td>0.897033</td>\n",
       "      <td>0.011391</td>\n",
       "      <td>0.087994</td>\n",
       "      <td>0.999833</td>\n",
       "      <td>0.414661</td>\n",
       "    </tr>\n",
       "    <tr>\n",
       "      <th>Days on Hand (inventory)</th>\n",
       "      <td>NaN</td>\n",
       "      <td>NaN</td>\n",
       "      <td>-0.082296</td>\n",
       "      <td>0.086284</td>\n",
       "      <td>0.120019</td>\n",
       "      <td>1.000000</td>\n",
       "      <td>0.049337</td>\n",
       "      <td>-0.092545</td>\n",
       "      <td>0.071435</td>\n",
       "      <td>-0.094427</td>\n",
       "      <td>0.123393</td>\n",
       "      <td>0.117181</td>\n",
       "      <td>-0.012017</td>\n",
       "    </tr>\n",
       "    <tr>\n",
       "      <th>Competitor Prices</th>\n",
       "      <td>NaN</td>\n",
       "      <td>NaN</td>\n",
       "      <td>0.351438</td>\n",
       "      <td>0.076994</td>\n",
       "      <td>0.354191</td>\n",
       "      <td>0.049337</td>\n",
       "      <td>1.000000</td>\n",
       "      <td>0.805985</td>\n",
       "      <td>0.653576</td>\n",
       "      <td>0.502747</td>\n",
       "      <td>0.307049</td>\n",
       "      <td>0.352194</td>\n",
       "      <td>0.103777</td>\n",
       "    </tr>\n",
       "    <tr>\n",
       "      <th>WF Prices</th>\n",
       "      <td>NaN</td>\n",
       "      <td>NaN</td>\n",
       "      <td>0.280768</td>\n",
       "      <td>-0.023128</td>\n",
       "      <td>0.173773</td>\n",
       "      <td>-0.092545</td>\n",
       "      <td>0.805985</td>\n",
       "      <td>1.000000</td>\n",
       "      <td>0.579873</td>\n",
       "      <td>0.726551</td>\n",
       "      <td>0.338837</td>\n",
       "      <td>0.173447</td>\n",
       "      <td>0.080611</td>\n",
       "    </tr>\n",
       "    <tr>\n",
       "      <th>Net Sales</th>\n",
       "      <td>NaN</td>\n",
       "      <td>NaN</td>\n",
       "      <td>0.070785</td>\n",
       "      <td>0.107680</td>\n",
       "      <td>0.897033</td>\n",
       "      <td>0.071435</td>\n",
       "      <td>0.653576</td>\n",
       "      <td>0.579873</td>\n",
       "      <td>1.000000</td>\n",
       "      <td>0.326953</td>\n",
       "      <td>0.226133</td>\n",
       "      <td>0.896501</td>\n",
       "      <td>0.368476</td>\n",
       "    </tr>\n",
       "    <tr>\n",
       "      <th>Gross Margin %</th>\n",
       "      <td>NaN</td>\n",
       "      <td>NaN</td>\n",
       "      <td>0.207155</td>\n",
       "      <td>-0.693563</td>\n",
       "      <td>0.011391</td>\n",
       "      <td>-0.094427</td>\n",
       "      <td>0.502747</td>\n",
       "      <td>0.726551</td>\n",
       "      <td>0.326953</td>\n",
       "      <td>1.000000</td>\n",
       "      <td>0.248019</td>\n",
       "      <td>0.010540</td>\n",
       "      <td>0.026238</td>\n",
       "    </tr>\n",
       "    <tr>\n",
       "      <th>Discounts</th>\n",
       "      <td>NaN</td>\n",
       "      <td>NaN</td>\n",
       "      <td>0.319169</td>\n",
       "      <td>0.004447</td>\n",
       "      <td>0.087994</td>\n",
       "      <td>0.123393</td>\n",
       "      <td>0.307049</td>\n",
       "      <td>0.338837</td>\n",
       "      <td>0.226133</td>\n",
       "      <td>0.248019</td>\n",
       "      <td>1.000000</td>\n",
       "      <td>0.085562</td>\n",
       "      <td>0.141213</td>\n",
       "    </tr>\n",
       "    <tr>\n",
       "      <th>Volume of Units</th>\n",
       "      <td>NaN</td>\n",
       "      <td>NaN</td>\n",
       "      <td>-0.101651</td>\n",
       "      <td>0.151417</td>\n",
       "      <td>0.999833</td>\n",
       "      <td>0.117181</td>\n",
       "      <td>0.352194</td>\n",
       "      <td>0.173447</td>\n",
       "      <td>0.896501</td>\n",
       "      <td>0.010540</td>\n",
       "      <td>0.085562</td>\n",
       "      <td>1.000000</td>\n",
       "      <td>0.416663</td>\n",
       "    </tr>\n",
       "    <tr>\n",
       "      <th>Transactions</th>\n",
       "      <td>NaN</td>\n",
       "      <td>NaN</td>\n",
       "      <td>-0.340394</td>\n",
       "      <td>0.043859</td>\n",
       "      <td>0.414661</td>\n",
       "      <td>-0.012017</td>\n",
       "      <td>0.103777</td>\n",
       "      <td>0.080611</td>\n",
       "      <td>0.368476</td>\n",
       "      <td>0.026238</td>\n",
       "      <td>0.141213</td>\n",
       "      <td>0.416663</td>\n",
       "      <td>1.000000</td>\n",
       "    </tr>\n",
       "  </tbody>\n",
       "</table>\n",
       "</div>"
      ],
      "text/plain": [
       "                             PLU  Calendar Year  Calendar Week      COGS  \\\n",
       "PLU                          NaN            NaN            NaN       NaN   \n",
       "Calendar Year                NaN            NaN            NaN       NaN   \n",
       "Calendar Week                NaN            NaN       1.000000 -0.034799   \n",
       "COGS                         NaN            NaN      -0.034799  1.000000   \n",
       "Volume of Units Sold in lbs  NaN            NaN      -0.093787  0.150218   \n",
       "Days on Hand (inventory)     NaN            NaN      -0.082296  0.086284   \n",
       "Competitor Prices            NaN            NaN       0.351438  0.076994   \n",
       "WF Prices                    NaN            NaN       0.280768 -0.023128   \n",
       "Net Sales                    NaN            NaN       0.070785  0.107680   \n",
       "Gross Margin %               NaN            NaN       0.207155 -0.693563   \n",
       "Discounts                    NaN            NaN       0.319169  0.004447   \n",
       "Volume of Units              NaN            NaN      -0.101651  0.151417   \n",
       "Transactions                 NaN            NaN      -0.340394  0.043859   \n",
       "\n",
       "                             Volume of Units Sold in lbs  \\\n",
       "PLU                                                  NaN   \n",
       "Calendar Year                                        NaN   \n",
       "Calendar Week                                  -0.093787   \n",
       "COGS                                            0.150218   \n",
       "Volume of Units Sold in lbs                     1.000000   \n",
       "Days on Hand (inventory)                        0.120019   \n",
       "Competitor Prices                               0.354191   \n",
       "WF Prices                                       0.173773   \n",
       "Net Sales                                       0.897033   \n",
       "Gross Margin %                                  0.011391   \n",
       "Discounts                                       0.087994   \n",
       "Volume of Units                                 0.999833   \n",
       "Transactions                                    0.414661   \n",
       "\n",
       "                             Days on Hand (inventory)  Competitor Prices  \\\n",
       "PLU                                               NaN                NaN   \n",
       "Calendar Year                                     NaN                NaN   \n",
       "Calendar Week                               -0.082296           0.351438   \n",
       "COGS                                         0.086284           0.076994   \n",
       "Volume of Units Sold in lbs                  0.120019           0.354191   \n",
       "Days on Hand (inventory)                     1.000000           0.049337   \n",
       "Competitor Prices                            0.049337           1.000000   \n",
       "WF Prices                                   -0.092545           0.805985   \n",
       "Net Sales                                    0.071435           0.653576   \n",
       "Gross Margin %                              -0.094427           0.502747   \n",
       "Discounts                                    0.123393           0.307049   \n",
       "Volume of Units                              0.117181           0.352194   \n",
       "Transactions                                -0.012017           0.103777   \n",
       "\n",
       "                             WF Prices  Net Sales  Gross Margin %  Discounts  \\\n",
       "PLU                                NaN        NaN             NaN        NaN   \n",
       "Calendar Year                      NaN        NaN             NaN        NaN   \n",
       "Calendar Week                 0.280768   0.070785        0.207155   0.319169   \n",
       "COGS                         -0.023128   0.107680       -0.693563   0.004447   \n",
       "Volume of Units Sold in lbs   0.173773   0.897033        0.011391   0.087994   \n",
       "Days on Hand (inventory)     -0.092545   0.071435       -0.094427   0.123393   \n",
       "Competitor Prices             0.805985   0.653576        0.502747   0.307049   \n",
       "WF Prices                     1.000000   0.579873        0.726551   0.338837   \n",
       "Net Sales                     0.579873   1.000000        0.326953   0.226133   \n",
       "Gross Margin %                0.726551   0.326953        1.000000   0.248019   \n",
       "Discounts                     0.338837   0.226133        0.248019   1.000000   \n",
       "Volume of Units               0.173447   0.896501        0.010540   0.085562   \n",
       "Transactions                  0.080611   0.368476        0.026238   0.141213   \n",
       "\n",
       "                             Volume of Units  Transactions  \n",
       "PLU                                      NaN           NaN  \n",
       "Calendar Year                            NaN           NaN  \n",
       "Calendar Week                      -0.101651     -0.340394  \n",
       "COGS                                0.151417      0.043859  \n",
       "Volume of Units Sold in lbs         0.999833      0.414661  \n",
       "Days on Hand (inventory)            0.117181     -0.012017  \n",
       "Competitor Prices                   0.352194      0.103777  \n",
       "WF Prices                           0.173447      0.080611  \n",
       "Net Sales                           0.896501      0.368476  \n",
       "Gross Margin %                      0.010540      0.026238  \n",
       "Discounts                           0.085562      0.141213  \n",
       "Volume of Units                     1.000000      0.416663  \n",
       "Transactions                        0.416663      1.000000  "
      ]
     },
     "execution_count": 4,
     "metadata": {},
     "output_type": "execute_result"
    }
   ],
   "source": [
    "df.corr()"
   ]
  },
  {
   "cell_type": "markdown",
   "id": "a538b849-5a61-4da5-9e96-84699d1b9384",
   "metadata": {},
   "source": [
    "# Key Question 1: \n",
    " **How can price elasticity coefficients be used to predict changes in demand for key product categories after price adjustment?**\n",
    " \n",
    "To answer this question, we need to:\n",
    "- Calculate Price Elasticity of Demand\n",
    "- Simulate Demand Changes"
   ]
  },
  {
   "cell_type": "markdown",
   "id": "02ad06d9-58bd-4a30-b3b2-ad6c381e101e",
   "metadata": {},
   "source": [
    "## PED (Price Elasticity of Demand)\n",
    "\n",
    "$$\n",
    "E_d = \\frac{\\% \\text{ Change in Quantity Demanded}}{\\% \\text{ Change in Price}}\n",
    "$$\n",
    "\n",
    "This is the measurement of the change in the demand for a product as a result of a change in its price. If a price change creates a large change in demand, that is known as elastic demand. If a price change creates a small change in demand, that is an inelastic demand.\n",
    "\n",
    "PED values: \n",
    "\n",
    "- Greater than 1: elastic demand (sales are sensitive to price changes). \n",
    "- Less than 1: Inelastic demand (sales are less sensitive to price changes). \n",
    "- Equal to 1: Unitary demand (sales change proportionally with price changes). \n",
    "- Absolute values are considered. \n"
   ]
  },
  {
   "cell_type": "markdown",
   "id": "2bb659dd-3571-4ee4-9d14-421880d0a76e",
   "metadata": {},
   "source": [
    "Let's visualize WF prices vs Competition:"
   ]
  },
  {
   "cell_type": "code",
   "execution_count": 30,
   "id": "d1d38463-27b9-45af-b411-dd12821169d0",
   "metadata": {},
   "outputs": [
    {
     "data": {
      "image/png": "[encoded data removed]",
      "text/plain": [
       "<Figure size 1500x700 with 1 Axes>"
      ]
     },
     "metadata": {},
     "output_type": "display_data"
    }
   ],
   "source": [
    "# Calculating key price points\n",
    "min_comp_price = df['Competitor Prices'].min()\n",
    "mean_comp_price = df['Competitor Prices'].mean()\n",
    "max_comp_price = df['Competitor Prices'].max()\n",
    "\n",
    "min_week = df.loc[df['Competitor Prices'] == min_comp_price, 'Calendar Week'].values[0] # finding the week corresponding to min competitor price\n",
    "max_week = df.loc[df['Competitor Prices'] == max_comp_price, 'Calendar Week'].values[0] # finding the week corresponding to max competitor price\n",
    "\n",
    "plt.figure(figsize = (15, 7))\n",
    "plt.plot(df['Calendar Week'], df['WF Prices'], marker = 'o', linestyle = '-', color = 'blue', label = 'WF Prices')\n",
    "plt.plot(df['Calendar Week'], df['Competitor Prices'], marker = 'o', linestyle = '--', color = 'red', label = 'Competitor Prices')\n",
    "\n",
    "# Adding the purple arrows for min, mean, and max prices\n",
    "plt.annotate(\n",
    "    f\"Min: ${min_comp_price:.2f}\\nWeek: {min_week}\",\n",
    "    xy = (min_week, min_comp_price),  # pointing at the minimum value\n",
    "    xytext = (min_week, min_comp_price - 1.5),  # text further below the min point\n",
    "    arrowprops = dict(facecolor = 'purple', arrowstyle='->'),\n",
    "    fontsize = 12, color = 'purple', ha = 'center'\n",
    ")\n",
    "\n",
    "plt.annotate(\n",
    "    f\"Mean: ${mean_comp_price:.2f}\",\n",
    "    xy = (6, mean_comp_price),  # positioning the mean annotation manually at week 6\n",
    "    xytext = (6, mean_comp_price + 0.5),\n",
    "    arrowprops = dict(facecolor = 'purple', arrowstyle = '->'),\n",
    "    fontsize = 12, color = 'purple', ha = 'center'\n",
    ")\n",
    "\n",
    "plt.annotate(\n",
    "    f\"Max: ${max_comp_price:.2f}\\nWeek: {max_week}\",\n",
    "    xy = (max_week, max_comp_price),  # pointing at the maximum value\n",
    "    xytext = (max_week, max_comp_price + 0.5),  # text directly above the max point\n",
    "    arrowprops = dict(facecolor = 'black', arrowstyle = '->'),\n",
    "    fontsize = 12, color = 'purple', ha = 'center'\n",
    ")\n",
    "\n",
    "# IMPORTANT: -> Adjust the layout to create more space USING BOTTOM = 0.2\n",
    "plt.subplots_adjust(bottom = 0.2)\n",
    "\n",
    "\n",
    "plt.title('WF Prices vs Competitor Prices', fontsize = 16)\n",
    "plt.xlabel('Calendar Week', fontsize = 12)\n",
    "plt.ylabel('Prices ($)', fontsize = 12)\n",
    "plt.xticks(df['Calendar Week'], rotation = 90)\n",
    "plt.legend()\n",
    "\n",
    "plt.tight_layout()\n",
    "plt.show()"
   ]
  },
  {
   "cell_type": "markdown",
   "id": "3f689d18-a2d4-4ee3-aa5c-15bd7adac201",
   "metadata": {},
   "source": [
    "- Competitor prices remain more consistent week to week, with fewer fluctuations compared to WF (dynamic pricing).\n",
    "- We can see spikes in WF prices around holidays like week 26 (4th of July), week 48 (Thanksgiving), week 52 (Christmas) etc.\n",
    "\n",
    "If you take a look at the above graph, we can see that there's a case of **multicollinearity** between WF prices and competition due to pricing strategies. This is a situation where two or more independent variables are highly correlated with each other, making it difficult to isolate the individual effect of each variable on the dependent variable, often leading to unreliable and unstable regression coefficient estimates!\n",
    "\n",
    "**Here, to calculate the PED, the focus should be in volume not in sales. Why? PED measures the responsiveness of quantity demanded to changes in price. Using sales instead of volume can be misleading because sales revenue is already influenced by the price. We have to remember that PED is specifically designed to capture how customer purchasing behavior (quantity demanded) responds to price changes, irrespective of revenue or profit considerations.**\n",
    "\n",
    "In the real world, demand is influenced by multple variabels beyond price changes and customer behavior. \n",
    "Variables or key drivers that can influence demand:\n",
    "- Competitor Prices (if competitor prices drop, customers may shift away regardless of loyalty).\n",
    "- Discounts, promotions, campaings.\n",
    "- Seasonality (holidays).\n",
    "- Macroeconomic Factors.\n",
    "- Stock availability (even if demand is high, stock outs will reduce actual sales)."
   ]
  },
  {
   "cell_type": "code",
   "execution_count": 29,
   "id": "efa4a084-80ff-4953-b1d6-59364f0f16f5",
   "metadata": {},
   "outputs": [
    {
     "data": {
      "image/png": "[encoded data removed]",
      "text/plain": [
       "<Figure size 1200x600 with 2 Axes>"
      ]
     },
     "metadata": {},
     "output_type": "display_data"
    }
   ],
   "source": [
    "max_sales_row = df.loc[df['Net Sales'].idxmax()]  # Row with max Net Sales\n",
    "max_sales_price = max_sales_row['WF Prices']\n",
    "max_sales_week = max_sales_row['Calendar Week']\n",
    "max_sales_value = max_sales_row['Net Sales']\n",
    "\n",
    "fig, ax1 = plt.subplots(figsize = (12, 6))\n",
    "\n",
    "\n",
    "color = 'blue'\n",
    "ax1.set_xlabel('Calendar Week')\n",
    "ax1.set_ylabel('WF Prices ($)', color = color)\n",
    "ax1.plot(df['Calendar Week'], df['WF Prices'], marker = 'o', color = color, label = 'WF Prices')\n",
    "ax1.tick_params(axis = 'y', labelcolor = color)\n",
    "\n",
    "ax2 = ax1.twinx()\n",
    "color = 'lightcoral'\n",
    "ax2.set_ylabel('Net Sales ($)', color = color)\n",
    "ax2.bar(df['Calendar Week'], df['Net Sales'], color = color, alpha = 0.6, label = 'Net Sales')\n",
    "ax2.tick_params(axis = 'y', labelcolor = color)\n",
    "\n",
    "ax2.annotate(\n",
    "    f\"Max Sales\\nPrice: ${max_sales_price:.2f}\",\n",
    "    xy = (max_sales_week, max_sales_value),  # arrow tip\n",
    "    xytext = (max_sales_week, max_sales_value + 200),  # arrow start\n",
    "    arrowprops = dict(facecolor = 'red', shrink = 0.05, width = 2, headwidth = 8),\n",
    "    fontsize = 12, color = 'red', ha = 'center'\n",
    ")\n",
    "\n",
    "\n",
    "plt.title('WF Prices vs Net Sales (Max Sales)', fontsize = 16)\n",
    "fig.tight_layout()\n",
    "\n",
    "plt.show()"
   ]
  },
  {
   "cell_type": "markdown",
   "id": "f52d669d-0f7f-48fa-9c3f-8d82af480b3d",
   "metadata": {},
   "source": [
    "### Log - log Transformations\n",
    "\n",
    "$$\n",
    "\\ln(Q_t) = \\alpha + \\beta \\ln(P_t) + \\epsilon_t\n",
    "$$\n",
    "\n",
    "The Log-Log transformation often helps in linearizing nonlinear relationships, stabilizing variance, and making the data conform more closely to the normality assumptuion of linear regression. This technique is used to model relationship between variables when both  the dependent variable and one or more independent variables are log transformed. For PED, log-log regression is particularly useful because the elasticity of demand is the percentage change in quantity demanded resulting from a percentage change in price. By taking the logarithm of both quantity and price, the regression coefficient of the price variable directly represents the elasticity (direct estimation).\n"
   ]
  },
  {
   "cell_type": "markdown",
   "id": "805f7007-a55b-43d1-89ba-2fa82b06e243",
   "metadata": {},
   "source": [
    "### Other Models - Experimentations\n",
    "\n",
    "After a few years of experimenting with neural networks, dimensionality reduction, and complex machine learning algorithms, I came to understand that simplicity is key. The dataset I’m using contains straightforward information with all the necessary fields to calculate Price Elasticity of Demand (PED) and simulate demand changes. After experiencing failure with non-linear models such as random forests and decision trees (due to severe overfitting), I decided to explore Ridge Regression, Lasso Regression, and Elastic Net. However, each performed worse than its predecessor.\n",
    "\n",
    "I will not include these experiments in this research to avoid unnecessary length. The aim is to understand the basics of something that has never been done before, which is why I’m sticking to the original linear regression model from Stats Model."
   ]
  },
  {
   "cell_type": "markdown",
   "id": "07e5728a-a6a6-4d80-9aa4-db90f6b1c790",
   "metadata": {},
   "source": [
    "### Linear Regression - Stats Model"
   ]
  },
  {
   "cell_type": "code",
   "execution_count": 6,
   "id": "a8fe84a6-cadd-4c2a-b4d7-cc747e0a97fb",
   "metadata": {},
   "outputs": [],
   "source": [
    "df['price_ratio'] = df['WF Prices'] / df['Competitor Prices'] # creating indexes\n",
    "\n",
    "df['log_price_ratio'] = np.log(df['price_ratio'])\n",
    "# df['log_price_ratio'] = np.log1p(df['price_ratio']) to avoid log(0) -> adding small constant\n",
    "\n",
    "df['log_volume'] = np.log(df['Volume of Units Sold in lbs'])"
   ]
  },
  {
   "cell_type": "markdown",
   "id": "70d35561-7c63-45a7-a73b-533b8c931903",
   "metadata": {},
   "source": [
    "$$\n",
    "\\text{log_price_ratio} = \\log\\left(\\frac{\\text{My Prices}}{\\text{Competitor Prices}}\\right)\n",
    "$$"
   ]
  },
  {
   "cell_type": "markdown",
   "id": "b3fcd8dc-929e-49b5-9a4b-6ac3b812bfeb",
   "metadata": {},
   "source": [
    "**For linear regression, my goal is to isolate and estimate price elasticity, using only the index (log_price_ratio) as the independent variable makes sense. At work, this is one my main drivers because it shows how relatively cheap or expensive our products are. Elasticity can then reveal how sensitive demand is to this relative change. Also, this independent feature makes it way much more robust than just using our prices alone, which doesn't account for external factors.**\n",
    "\n",
    "The log transformation of price_ratio and Volume of Units Sold in lbs seen below is enough to linearize the relationship for a basic elasticity analysis. This is our only \"preprocessing step\" here."
   ]
  },
  {
   "cell_type": "code",
   "execution_count": 7,
   "id": "b26d0a50-fe2b-46c5-9466-4f1250823140",
   "metadata": {},
   "outputs": [
    {
     "name": "stdout",
     "output_type": "stream",
     "text": [
      "                            OLS Regression Results                            \n",
      "==============================================================================\n",
      "Dep. Variable:             log_volume   R-squared:                       0.147\n",
      "Model:                            OLS   Adj. R-squared:                  0.130\n",
      "Method:                 Least Squares   F-statistic:                     8.640\n",
      "Date:                Mon, 09 Dec 2024   Prob (F-statistic):            0.00497\n",
      "Time:                        22:20:32   Log-Likelihood:                 11.318\n",
      "No. Observations:                  52   AIC:                            -18.64\n",
      "Df Residuals:                      50   BIC:                            -14.73\n",
      "Df Model:                           1                                         \n",
      "Covariance Type:            nonrobust                                         \n",
      "===================================================================================\n",
      "                      coef    std err          t      P>|t|      [0.025      0.975]\n",
      "-----------------------------------------------------------------------------------\n",
      "const               4.6171      0.034    137.805      0.000       4.550       4.684\n",
      "log_price_ratio    -0.8186      0.278     -2.939      0.005      -1.378      -0.259\n",
      "==============================================================================\n",
      "Omnibus:                        5.635   Durbin-Watson:                   1.932\n",
      "Prob(Omnibus):                  0.060   Jarque-Bera (JB):                2.517\n",
      "Skew:                           0.229   Prob(JB):                        0.284\n",
      "Kurtosis:                       2.024   Cond. No.                         10.2\n",
      "==============================================================================\n",
      "\n",
      "Notes:\n",
      "[1] Standard Errors assume that the covariance matrix of the errors is correctly specified.\n"
     ]
    }
   ],
   "source": [
    "X = df[['log_price_ratio']]  # price index for basic elasticity estimation (feature)\n",
    "y = df[['log_volume']]  # log transform volume for elasticity (target)\n",
    "\n",
    "X = sm.add_constant(X) # adding the constant\n",
    "model = sm.OLS(y, X).fit()\n",
    "print(model.summary())"
   ]
  },
  {
   "cell_type": "markdown",
   "id": "54ff9acc-1d3c-45f1-a2cc-14e418ab077b",
   "metadata": {},
   "source": [
    "The R-squared is low, this is not unusual for simple models like this, especially when only one variable is included. Additionally, the adjusted R-squared is close to the R-squared, confirming that this predictor has a measurable impact. Also, the p-value (p < 0.05) confirms that \"log_price_ratio\" significantly predicts changes in the volume of units sold. P = 0.005 just shows the relationship between price ratio and volume sold is unlikely due to random chance."
   ]
  },
  {
   "cell_type": "code",
   "execution_count": 8,
   "id": "9d83cc2b-12ee-4d1c-a629-0c4e7583c645",
   "metadata": {},
   "outputs": [
    {
     "name": "stdout",
     "output_type": "stream",
     "text": [
      "Price Elasticity Coefficient: -0.8185910844791444\n"
     ]
    }
   ],
   "source": [
    "# Coefficient for log_price_ratio:\n",
    "\n",
    "elasticity_coefficient = model.params['log_price_ratio']\n",
    "print(f\"Price Elasticity Coefficient: {elasticity_coefficient}\")"
   ]
  },
  {
   "cell_type": "markdown",
   "id": "528d4110-a871-4def-8353-41d64d1439d2",
   "metadata": {},
   "source": [
    "**From the above coefficient, we can infer that A 1% increase in the price ratio (Wild Fork price relative to competitor price) leads to a 0.8186% decrease in the volume of units sold. This is consistent with the concept of inelastic demand (Elasticity < 1). In the case of PLU 1155 (outsde skirt), customers are somewhat insensitive to price changes. It is important to remember that when demand is inelastic, the lost of revenue from fewer unitss sold is outweighted by the higher price per unit.**"
   ]
  },
  {
   "cell_type": "markdown",
   "id": "8d5de316-bede-4223-8f00-f0d4039bd213",
   "metadata": {},
   "source": [
    "Visualizing performance:"
   ]
  },
  {
   "cell_type": "code",
   "execution_count": 9,
   "id": "96f066c7-3a8f-4e5c-9031-0cf8788e52ee",
   "metadata": {},
   "outputs": [
    {
     "data": {
      "image/png": "[encoded data removed]",
      "text/plain": [
       "<Figure size 640x480 with 1 Axes>"
      ]
     },
     "metadata": {},
     "output_type": "display_data"
    }
   ],
   "source": [
    "plt.scatter(X['log_price_ratio'], y, alpha = 0.7, label = 'Data')\n",
    "\n",
    "reg_line = model.predict(X) # regression line\n",
    "plt.plot(X['log_price_ratio'], reg_line, color = 'red', label = 'Regression Line')\n",
    "\n",
    "plt.xlabel('log(Price Ratio)')\n",
    "plt.ylabel('log(Volume of Units Sold)')\n",
    "plt.title('Log-Log Relationship: Price vs. Volume')\n",
    "plt.legend()\n",
    "plt.show()"
   ]
  },
  {
   "cell_type": "markdown",
   "id": "63e590ae-01a6-42e6-b71c-8b14653709a0",
   "metadata": {},
   "source": [
    "The above visualization shows a negative slope. The red regression line slopes downward, which reflects the negative relationship between price and quantity demanded. This aligns with economic theory: as prices increase, demand decreases. This slope of the regression line corresponds to our elasticity coefficient of -0.8185910844791444. The overall trend aligns with the log-log regression model, supporting the model's validity for calculating PED.\n",
    "\n",
    "**The negative slope confirms the inverse relationship between price and demand.**"
   ]
  },
  {
   "cell_type": "code",
   "execution_count": 12,
   "id": "2c178cd9-4795-414f-9008-6035df76016d",
   "metadata": {},
   "outputs": [
    {
     "data": {
      "image/png": "[encoded data removed]",
      "text/plain": [
       "<Figure size 640x480 with 1 Axes>"
      ]
     },
     "metadata": {},
     "output_type": "display_data"
    }
   ],
   "source": [
    "residuals = y.values.flatten() - model.predict(X)\n",
    "\n",
    "stats.probplot(residuals, dist = 'norm', plot = plt)\n",
    "plt.title('Q-Q Plot for Residuals')\n",
    "\n",
    "plt.show()"
   ]
  },
  {
   "cell_type": "markdown",
   "id": "a1ac5dbd-3f30-4701-b8ae-f81715bb1fc9",
   "metadata": {},
   "source": [
    "Most points lie close to the diagonal, indicating that the residuals are approximately normal (residuals follow a normal distribution). This suggests the model's assumption of normality are satisfied."
   ]
  },
  {
   "cell_type": "markdown",
   "id": "77e3964d-c58e-465c-ba54-9d2ce6cf03bc",
   "metadata": {},
   "source": [
    "### Simulating Demand"
   ]
  },
  {
   "cell_type": "code",
   "execution_count": 15,
   "id": "9ec506df-97c6-42eb-830e-e78d9a7e9ca8",
   "metadata": {},
   "outputs": [
    {
     "name": "stdout",
     "output_type": "stream",
     "text": [
      "Original vs Simulated Demand and Percentage Change:\n",
      "    Volume of Units Sold in lbs  volume_simulated  percent_change_demand\n",
      "0                         139.0         87.218820             -37.252647\n",
      "1                         104.0         87.290282             -16.067037\n",
      "2                         106.0         87.290282             -17.650678\n",
      "3                          83.0         87.290282               5.169014\n",
      "4                         134.0         80.004422             -40.295208\n",
      "5                         115.0         87.218820             -24.157548\n",
      "6                         137.0         87.218820             -36.336628\n",
      "7                          98.0         87.218820             -11.001204\n",
      "8                          83.0         87.218820               5.082916\n",
      "9                         101.0         87.218820             -13.644732\n",
      "10                        104.0         72.642630             -30.151318\n",
      "11                         75.0         72.642630              -3.143160\n",
      "12                        101.0         72.642630             -28.076604\n",
      "13                        110.0         87.218820             -20.710163\n",
      "14                         95.0         87.218820              -8.190716\n",
      "15                         70.0         87.290282              24.700402\n",
      "16                        100.0         87.290282             -12.709718\n",
      "17                         97.0         87.290282             -10.010019\n",
      "18                         74.0         87.290282              17.959840\n",
      "19                         78.0         87.290282              11.910618\n",
      "20                         82.0         80.004422              -2.433632\n",
      "21                         99.0         80.004422             -19.187453\n",
      "22                         77.0         80.004422               3.901847\n",
      "23                         70.0         80.004422              14.292031\n",
      "24                         97.0         87.218820             -10.083691\n",
      "25                        129.0         87.218820             -32.388511\n",
      "26                        145.6        108.066615             -25.778424\n",
      "27                         70.0         87.290282              24.700402\n",
      "28                        107.0         87.290282             -18.420297\n",
      "29                        100.0         87.290282             -12.709718\n",
      "30                         75.0         80.077263               6.769684\n",
      "31                         82.0         80.077263              -2.344801\n",
      "32                        124.0         80.077263             -35.421562\n",
      "33                         70.0         80.077263              14.396090\n",
      "34                         79.0         94.303159              19.371087\n",
      "35                         91.0         94.303159               3.629845\n",
      "36                         94.0         87.218820              -7.214021\n",
      "37                        105.0         87.218820             -16.934457\n",
      "38                        114.0         87.218820             -23.492263\n",
      "39                         89.0         87.218820              -2.001326\n",
      "40                        102.0         72.717045             -28.708779\n",
      "41                        116.0         72.717045             -37.312892\n",
      "42                         82.0         72.717045             -11.320677\n",
      "43                         70.0         72.717045               3.881493\n",
      "44                         70.0         72.717045               3.881493\n",
      "45                         78.0         72.717045              -6.773019\n",
      "46                         96.0        114.902896              19.690517\n",
      "47                        135.0        114.902896             -14.886743\n",
      "48                         88.0        114.902896              30.571473\n",
      "49                         89.0        114.902896              29.104378\n",
      "50                        108.0        114.902896               6.391571\n",
      "51                        151.3        114.902896             -24.056248\n",
      "\n",
      "Average Percentage Change in Demand: -7.61%\n"
     ]
    }
   ],
   "source": [
    "new_price = 11.98\n",
    "\n",
    "df['log_price_ratio_simulated'] = np.log(new_price / df['Competitor Prices']) # recalculating log_price_ratio using the new price\n",
    "\n",
    "# Predicting log-transformed demand for the simulated price using the coefficient from the OLS Model\n",
    "intercept = model.params['const']\n",
    "elasticity_coefficient = model.params['log_price_ratio']\n",
    "\n",
    "# Predicting log_volume with the new price ratio\n",
    "df['log_volume_simulated'] = intercept + elasticity_coefficient * df['log_price_ratio_simulated']\n",
    "\n",
    "# Transforming back to original scale for volume\n",
    "df['volume_simulated'] = np.exp(df['log_volume_simulated'])\n",
    "\n",
    "# Comparing original vs. simulated demand\n",
    "df['percent_change_demand'] = (df['volume_simulated'] - df['Volume of Units Sold in lbs']) / df['Volume of Units Sold in lbs'] * 100\n",
    "\n",
    "# Calculating the average percentage change in demand\n",
    "average_change = df['percent_change_demand'].mean()\n",
    "\n",
    "print('Original vs Simulated Demand and Percentage Change:')\n",
    "print(df[['Volume of Units Sold in lbs', 'volume_simulated', 'percent_change_demand']])\n",
    "print(f\"\\nAverage Percentage Change in Demand: {average_change:.2f}%\")"
   ]
  },
  {
   "cell_type": "markdown",
   "id": "f6e756a0-ba8e-4b50-bc81-f646cb5eda19",
   "metadata": {},
   "source": [
    "Observations from above results:\n",
    "- volume_simulated column shows the predicted demand based on $11.98/lb.\n",
    "- Demand decreases for most observations due to the higher prices (which aligns with -0.8186).\n",
    "- percentage_change_demand is negative for most observations, reflecting a drop in demand due to the price increase.\n",
    "- Across all observations, demand decreases by approximately 7.61% on avg due to the price increase.\n",
    "- The smmall number of positive changes are likely due to the seasons (holidays).\n",
    "\n",
    "I'm pretty sure using the real dataset will get me interesting insights. However, interactions between WF prices and Competition must be study in this section.\n",
    "\n",
    "The Stats Model OLS linear regression is capable of making predictions just like a machine learning algoritm when requirements are met:\n",
    "- Q-Q plot shows that residuals are approximately normal.\n",
    "- No significant multicollinearity between volume in lbs and indexes.\n",
    "- Statistically significant elasticity coefficient of -0.8186.\n",
    "- The new price of $11.98/lb is not a crazy price and is within the range of the historical prices (more reliable prediction).\n",
    "- The OLS model seems to avoids crazy complexities and overfitting risks often presented in machine learning algorithms.\n",
    "\n",
    "The OLS model will not capture non-linear relationships like decision trees and random forests, which is why it is important to analyze and understand relationships at the beginning. In my case, all other features within the dataset did not contribute to improving non-linear models, and the predictions were worse. No significant positive results were found after using these models (possibly due to the limitations of my dummy dataset)."
   ]
  },
  {
   "cell_type": "markdown",
   "id": "80e8eebe-1e33-41ce-9731-41812666a29a",
   "metadata": {},
   "source": [
    "**Can price elasticity coefficients be used to predict changes in demand for key product categories after price adjustment?**\n",
    "\n",
    "**Yes, the coefficient of -0.8186 was calculated using a linear regression model from Stats Model. This coefficient directly measures how demand responds to changes in price. Additionally, we simulated demand using a new price per pound and compared the original demand to the simulated demand, resulting in some expected changes. Data visualization also confirmed that the model met linear assumptions, making the predictions statistically reliable. Things to consider from now on:**\n",
    "- New prices must remain within the historical price range.\n",
    "- External factors, such as seasonality, must remain stable.\n",
    "- Regression model assumptions must always be met for this model and its predictions to work."
   ]
  },
  {
   "cell_type": "markdown",
   "id": "6a879f68-d0ec-4f2f-aa44-73708763856b",
   "metadata": {},
   "source": [
    "# Key Question 2:\n",
    "\n",
    "**Is it possible to conduct a sensitivity analysis to simulate pricing scenarios and their impact on the Days on Hand (DOH)?**\n",
    "\n",
    "$$\n",
    "\\text{DOH} = \\frac{\\text{Inventory}}{\\text{Daily Sales Rate}}\n",
    "$$\n",
    "\n",
    "The daily sales rate can be obtained from predicted demand:\n",
    "\n",
    "$$\n",
    "\\text{Daily Sales Rate} = \\frac{\\text{Predicted Demand}}{\\text{Days in Period}}\n",
    "$$\n",
    "\n",
    "\n",
    "**We could definetly use the linear regression model to predict changes in demand for different pricing scenarios**. We could recalculate the log_price_ratio for each price and simulate demand and use this predicted demand to calculate the daily sales rate for each scenario.\n"
   ]
  },
  {
   "cell_type": "markdown",
   "id": "1a2d4e26-94aa-4554-a657-821fea1fc8fb",
   "metadata": {},
   "source": [
    "## Price Sensitivty Analysis"
   ]
  },
  {
   "cell_type": "code",
   "execution_count": 6,
   "id": "edecb28d-fae2-4375-92bb-6b36a3e32303",
   "metadata": {},
   "outputs": [
    {
     "data": {
      "text/html": [
       "<div>\n",
       "<style scoped>\n",
       "    .dataframe tbody tr th:only-of-type {\n",
       "        vertical-align: middle;\n",
       "    }\n",
       "\n",
       "    .dataframe tbody tr th {\n",
       "        vertical-align: top;\n",
       "    }\n",
       "\n",
       "    .dataframe thead th {\n",
       "        text-align: right;\n",
       "    }\n",
       "</style>\n",
       "<table border=\"1\" class=\"dataframe\">\n",
       "  <thead>\n",
       "    <tr style=\"text-align: right;\">\n",
       "      <th></th>\n",
       "      <th>Price</th>\n",
       "      <th>Predicted Demand</th>\n",
       "      <th>Daily Sales Rate</th>\n",
       "      <th>DOH</th>\n",
       "    </tr>\n",
       "  </thead>\n",
       "  <tbody>\n",
       "    <tr>\n",
       "      <th>0</th>\n",
       "      <td>8.98</td>\n",
       "      <td>5750.557886</td>\n",
       "      <td>821.508269</td>\n",
       "      <td>1.217273</td>\n",
       "    </tr>\n",
       "    <tr>\n",
       "      <th>1</th>\n",
       "      <td>10.98</td>\n",
       "      <td>4877.819119</td>\n",
       "      <td>696.831303</td>\n",
       "      <td>1.435068</td>\n",
       "    </tr>\n",
       "    <tr>\n",
       "      <th>2</th>\n",
       "      <td>12.98</td>\n",
       "      <td>4253.405143</td>\n",
       "      <td>607.629306</td>\n",
       "      <td>1.645740</td>\n",
       "    </tr>\n",
       "  </tbody>\n",
       "</table>\n",
       "</div>"
      ],
      "text/plain": [
       "   Price  Predicted Demand  Daily Sales Rate       DOH\n",
       "0   8.98       5750.557886        821.508269  1.217273\n",
       "1  10.98       4877.819119        696.831303  1.435068\n",
       "2  12.98       4253.405143        607.629306  1.645740"
      ]
     },
     "execution_count": 6,
     "metadata": {},
     "output_type": "execute_result"
    }
   ],
   "source": [
    "price_scenarios = [8.98, 10.98, 12.98]  # different prices (depends also on competition)\n",
    "\n",
    "current_inventory = 1000  # current inventory level in lbs (this is what I really want)\n",
    "days_in_period = 7 # 7 days\n",
    "\n",
    "sensitivity_results = pd.DataFrame(columns = ['Price', 'Predicted Demand', 'Daily Sales Rate', 'DOH']) # dataframe to store results\n",
    "\n",
    "for new_price in price_scenarios:\n",
    "    df['log_price_ratio_simulated'] = np.log(new_price / df['Competitor Prices']) # recalculating the log_price_ratio (log index)\n",
    "\n",
    "    # Predicting demand\n",
    "    df['log_volume_simulated'] = model.params['const'] + model.params['log_price_ratio'] * df['log_price_ratio_simulated']\n",
    "    df['volume_simulated'] = np.exp(df['log_volume_simulated'])  # converting back from log scale\n",
    "    total_predicted_demand = df['volume_simulated'].sum()  # total demand for the period\n",
    "\n",
    "    # Calculating daily sales rate and DOH\n",
    "    daily_sales_rate = total_predicted_demand / days_in_period # daily sales\n",
    "    doh = current_inventory / daily_sales_rate # DOH\n",
    "\n",
    "    # Results\n",
    "    sensitivity_results = sensitivity_results.append({\n",
    "        'Price': new_price,\n",
    "        'Predicted Demand': total_predicted_demand,\n",
    "        'Daily Sales Rate': daily_sales_rate,\n",
    "        'DOH': doh\n",
    "    }, ignore_index = True)\n",
    "\n",
    "sensitivity_results"
   ]
  },
  {
   "cell_type": "markdown",
   "id": "486c85a4-da39-472f-9e67-6a06c3d42a60",
   "metadata": {},
   "source": [
    "The above results show that as the price increase from 8.98/lb to 12.98/lb the predicted demand decreases from 5,750 units to 4,253 as expected due to the negative price elasticity. This aligns with the economic idea that higher prices reduce demand, especially for elastic or moderately inelastic goods. We can analyze the daily sales rate the same way (8.98/lb -> 822 units/day and 12.98 -> 608 units/day) which is logical because daily sales obtain from total demand over a fixed period (7 days). The DOH calculations also make sense because higher prices reduce demand, which slows inventory turnover, leading to more days of inventory on hand. The real data will give me very good insights!"
   ]
  },
  {
   "cell_type": "code",
   "execution_count": 7,
   "id": "97fb5f7f-b4be-4195-84f8-ebcf01662cc0",
   "metadata": {},
   "outputs": [
    {
     "data": {
      "image/png": "[encoded data removed]",
      "text/plain": [
       "<Figure size 640x480 with 1 Axes>"
      ]
     },
     "metadata": {},
     "output_type": "display_data"
    }
   ],
   "source": [
    "plt.plot(sensitivity_results['Price'], sensitivity_results['DOH'], marker = 'o')\n",
    "plt.xlabel('Price')\n",
    "plt.ylabel('Days on Hand (DOH)')\n",
    "plt.title('Price Sensitivity Analysis on DOH')\n",
    "plt.grid()\n",
    "\n",
    "plt.show()"
   ]
  },
  {
   "cell_type": "markdown",
   "id": "f676b1c7-334d-41a4-81cd-4efb422b9ffd",
   "metadata": {},
   "source": [
    "The above graph shows a posiitve linear relationship between price and DOH. As the pricr increases, inventory takes longer to clear leading to higher DOH. This is just to understand the trade off between pricing and inventory turnover. Obviously, if the goal is to optimize inventory turnover (minimizing DOH) then a lower price point like $8.98/lb is more favorable. At a higher price, slower inventory turnover means we might need less frequent restocking, but there's still the risk of overstocking if demand drops significantly.\n",
    "\n",
    "We could do a quick revenue calculation to understand the trade off between pricing, demand, and total revenue:"
   ]
  },
  {
   "cell_type": "code",
   "execution_count": 8,
   "id": "154b3ed9-2889-43b7-b58f-155b9b2f7da0",
   "metadata": {},
   "outputs": [
    {
     "data": {
      "text/html": [
       "<div>\n",
       "<style scoped>\n",
       "    .dataframe tbody tr th:only-of-type {\n",
       "        vertical-align: middle;\n",
       "    }\n",
       "\n",
       "    .dataframe tbody tr th {\n",
       "        vertical-align: top;\n",
       "    }\n",
       "\n",
       "    .dataframe thead th {\n",
       "        text-align: right;\n",
       "    }\n",
       "</style>\n",
       "<table border=\"1\" class=\"dataframe\">\n",
       "  <thead>\n",
       "    <tr style=\"text-align: right;\">\n",
       "      <th></th>\n",
       "      <th>Price</th>\n",
       "      <th>Predicted Demand</th>\n",
       "      <th>Daily Sales Rate</th>\n",
       "      <th>DOH</th>\n",
       "      <th>Revenue</th>\n",
       "    </tr>\n",
       "  </thead>\n",
       "  <tbody>\n",
       "    <tr>\n",
       "      <th>0</th>\n",
       "      <td>8.98</td>\n",
       "      <td>5750.557886</td>\n",
       "      <td>821.508269</td>\n",
       "      <td>1.217273</td>\n",
       "      <td>51640.009814</td>\n",
       "    </tr>\n",
       "    <tr>\n",
       "      <th>1</th>\n",
       "      <td>10.98</td>\n",
       "      <td>4877.819119</td>\n",
       "      <td>696.831303</td>\n",
       "      <td>1.435068</td>\n",
       "      <td>53558.453925</td>\n",
       "    </tr>\n",
       "    <tr>\n",
       "      <th>2</th>\n",
       "      <td>12.98</td>\n",
       "      <td>4253.405143</td>\n",
       "      <td>607.629306</td>\n",
       "      <td>1.645740</td>\n",
       "      <td>55209.198758</td>\n",
       "    </tr>\n",
       "  </tbody>\n",
       "</table>\n",
       "</div>"
      ],
      "text/plain": [
       "   Price  Predicted Demand  Daily Sales Rate       DOH       Revenue\n",
       "0   8.98       5750.557886        821.508269  1.217273  51640.009814\n",
       "1  10.98       4877.819119        696.831303  1.435068  53558.453925\n",
       "2  12.98       4253.405143        607.629306  1.645740  55209.198758"
      ]
     },
     "execution_count": 8,
     "metadata": {},
     "output_type": "execute_result"
    }
   ],
   "source": [
    "df['simulated_revenue'] = df['volume_simulated'] * new_price\n",
    "sensitivity_results['Revenue'] = [price * demand for price, demand in zip(sensitivity_results['Price'], sensitivity_results['Predicted Demand'])]\n",
    "\n",
    "sensitivity_results"
   ]
  },
  {
   "cell_type": "markdown",
   "id": "204e033c-f439-464e-ab9c-d0a7adc26fa0",
   "metadata": {},
   "source": [
    "Revenue: \n",
    "\n",
    "$$\n",
    "\\text{Revenue} = \\text{Price} \\times \\text{Demand}\n",
    "$$\n",
    "\n",
    "\n",
    "\n",
    "Want to calculate profit margin at each price point? Let's incorporate COGS (Cost of Good Sold).\n",
    "\n",
    "$$\n",
    "\\text{Profit Margin (%)} = \\frac{\\text{Revenue} - \\text{Total COGS}}{\\text{Revenue}} \\times 100\n",
    "$$\n"
   ]
  },
  {
   "cell_type": "code",
   "execution_count": 10,
   "id": "de4a7488-cdc2-4155-96b2-1800e80b36be",
   "metadata": {},
   "outputs": [
    {
     "data": {
      "text/html": [
       "<div>\n",
       "<style scoped>\n",
       "    .dataframe tbody tr th:only-of-type {\n",
       "        vertical-align: middle;\n",
       "    }\n",
       "\n",
       "    .dataframe tbody tr th {\n",
       "        vertical-align: top;\n",
       "    }\n",
       "\n",
       "    .dataframe thead th {\n",
       "        text-align: right;\n",
       "    }\n",
       "</style>\n",
       "<table border=\"1\" class=\"dataframe\">\n",
       "  <thead>\n",
       "    <tr style=\"text-align: right;\">\n",
       "      <th></th>\n",
       "      <th>Price</th>\n",
       "      <th>Predicted Demand</th>\n",
       "      <th>Daily Sales Rate</th>\n",
       "      <th>DOH</th>\n",
       "      <th>Profit Margin</th>\n",
       "      <th>Revenue</th>\n",
       "    </tr>\n",
       "  </thead>\n",
       "  <tbody>\n",
       "    <tr>\n",
       "      <th>0</th>\n",
       "      <td>8.98</td>\n",
       "      <td>5750.557886</td>\n",
       "      <td>821.508269</td>\n",
       "      <td>1.217273</td>\n",
       "      <td>33.184855</td>\n",
       "      <td>51640.009814</td>\n",
       "    </tr>\n",
       "    <tr>\n",
       "      <th>1</th>\n",
       "      <td>10.98</td>\n",
       "      <td>4877.819119</td>\n",
       "      <td>696.831303</td>\n",
       "      <td>1.435068</td>\n",
       "      <td>45.355191</td>\n",
       "      <td>53558.453925</td>\n",
       "    </tr>\n",
       "    <tr>\n",
       "      <th>2</th>\n",
       "      <td>12.98</td>\n",
       "      <td>4253.405143</td>\n",
       "      <td>607.629306</td>\n",
       "      <td>1.645740</td>\n",
       "      <td>53.775039</td>\n",
       "      <td>55209.198758</td>\n",
       "    </tr>\n",
       "  </tbody>\n",
       "</table>\n",
       "</div>"
      ],
      "text/plain": [
       "   Price  Predicted Demand  Daily Sales Rate       DOH  Profit Margin  \\\n",
       "0   8.98       5750.557886        821.508269  1.217273      33.184855   \n",
       "1  10.98       4877.819119        696.831303  1.435068      45.355191   \n",
       "2  12.98       4253.405143        607.629306  1.645740      53.775039   \n",
       "\n",
       "        Revenue  \n",
       "0  51640.009814  \n",
       "1  53558.453925  \n",
       "2  55209.198758  "
      ]
     },
     "execution_count": 10,
     "metadata": {},
     "output_type": "execute_result"
    }
   ],
   "source": [
    "price_scenarios = [8.98, 10.98, 12.98]  # different prices (depends also on competition)\n",
    "\n",
    "current_inventory = 1000  # current inventory level in lbs (this is what I really want)\n",
    "days_in_period = 7 # 7 days\n",
    "COGS = 6.00 # cogs per plu\n",
    "\n",
    "sensitivity_results = pd.DataFrame(columns = ['Price', 'Predicted Demand', 'Daily Sales Rate', 'DOH']) # dataframe to store results\n",
    "\n",
    "for new_price in price_scenarios:\n",
    "    df['log_price_ratio_simulated'] = np.log(new_price / df['Competitor Prices']) # recalculating the log_price_ratio (log index)\n",
    "\n",
    "    # Predicting demand\n",
    "    df['log_volume_simulated'] = model.params['const'] + model.params['log_price_ratio'] * df['log_price_ratio_simulated']\n",
    "    df['volume_simulated'] = np.exp(df['log_volume_simulated'])  # converting back from log scale\n",
    "    total_predicted_demand = df['volume_simulated'].sum()  # total demand for the period\n",
    "\n",
    "    # Calculating daily sales rate and DOH\n",
    "    daily_sales_rate = total_predicted_demand / days_in_period # daily sales\n",
    "    doh = current_inventory / daily_sales_rate # DOH\n",
    "    \n",
    "    # Calculating revenue and profit margin\n",
    "    total_revenue = new_price * total_predicted_demand # total revenue\n",
    "    total_cogs = COGS * total_predicted_demand # total cogs\n",
    "    profit_margin = (total_revenue - total_cogs) / total_revenue * 100\n",
    "\n",
    "    sensitivity_results = sensitivity_results.append({\n",
    "        'Price': new_price,\n",
    "        'Predicted Demand': total_predicted_demand,\n",
    "        'Daily Sales Rate': daily_sales_rate,\n",
    "        'DOH': doh,\n",
    "        'Revenue': total_revenue,\n",
    "        'Profit Margin': profit_margin\n",
    "    }, ignore_index = True)\n",
    "\n",
    "\n",
    "sensitivity_results"
   ]
  },
  {
   "cell_type": "markdown",
   "id": "8bf3dd14-c2d7-4a1d-aa9b-5918f1e2b851",
   "metadata": {},
   "source": [
    "As a Pricing Analyst, my primary responsibility is to focus on the customer, so margin is not my main concern. On the other hand, this metric is extremely important to the Product Development team."
   ]
  },
  {
   "cell_type": "markdown",
   "id": "656add1b-be4f-4ad4-adc9-38f7b9685770",
   "metadata": {},
   "source": [
    "## Average Basket Size\n",
    "\n",
    "We can ccalculate the average basket size with price sensitivity to understand how pricing impacts different patterns.\n",
    "\n",
    "AVG Basket Size:\n",
    "\n",
    "$$\\text{avg_basket_size} = \\frac{\\text{Transactions}}{\\text{Volume of Units Sold in lbs}}$$"
   ]
  },
  {
   "cell_type": "markdown",
   "id": "23c03883-47e0-49bd-a8ea-ce44cf1b568c",
   "metadata": {},
   "source": [
    "- Price sensitive customers: Tend to reduce purchases when prices increase.\n",
    "- Bulk buyers: Tend to buy more in fewer transactions, increasing the average basket size.\n",
    "- Loyal customers: Continue purchasing regardless of price changes.\n",
    "\n",
    "\n",
    "Cluster customers using techniques like K-Means base don variables like:\n",
    "- Frequency of transactions.\n",
    "- AVG speding per transaction.\n",
    "- Total volume purchased.\n",
    "\n",
    "We could segment basket sizes across different customer groups and analyze how pricing changes impact each segment."
   ]
  },
  {
   "cell_type": "code",
   "execution_count": 4,
   "id": "fcffb691-d0ad-4a7f-909c-8ed099e341df",
   "metadata": {},
   "outputs": [],
   "source": [
    "df['Avg_Spend'] = df['Net Sales'] / df['Transactions']  # avg spending per transaction\n",
    "df['Basket_Size'] = df['Volume of Units Sold in lbs'] / df['Transactions']  # avg basket size calculation\n",
    "\n",
    "# Normalizing the data\n",
    "scaler = StandardScaler()\n",
    "features = ['Transactions', 'Avg_Spend', 'Volume of Units Sold in lbs', 'Basket_Size', 'Gross Margin %']\n",
    "normalized_data = scaler.fit_transform(df[features])\n",
    "\n",
    "# K-Means cluster\n",
    "kmeans = KMeans(n_clusters = 3, random_state = 42)  # 3 clusters based on the three above scenarios (price sensitive, bulk, loyal)\n",
    "df['Cluster'] = kmeans.fit_predict(normalized_data)"
   ]
  },
  {
   "cell_type": "code",
   "execution_count": 5,
   "id": "ccbb0a64-e273-48f4-84eb-bc42895a99d8",
   "metadata": {},
   "outputs": [
    {
     "data": {
      "text/html": [
       "<div>\n",
       "<style scoped>\n",
       "    .dataframe tbody tr th:only-of-type {\n",
       "        vertical-align: middle;\n",
       "    }\n",
       "\n",
       "    .dataframe tbody tr th {\n",
       "        vertical-align: top;\n",
       "    }\n",
       "\n",
       "    .dataframe thead th {\n",
       "        text-align: right;\n",
       "    }\n",
       "</style>\n",
       "<table border=\"1\" class=\"dataframe\">\n",
       "  <thead>\n",
       "    <tr style=\"text-align: right;\">\n",
       "      <th></th>\n",
       "      <th>Cluster</th>\n",
       "      <th>Transactions</th>\n",
       "      <th>Avg_Spend</th>\n",
       "      <th>Basket_Size</th>\n",
       "      <th>Volume of Units Sold in lbs</th>\n",
       "      <th>Gross Margin %</th>\n",
       "      <th>Days on Hand (inventory)</th>\n",
       "    </tr>\n",
       "  </thead>\n",
       "  <tbody>\n",
       "    <tr>\n",
       "      <th>0</th>\n",
       "      <td>0</td>\n",
       "      <td>60.866667</td>\n",
       "      <td>19.909866</td>\n",
       "      <td>1.786944</td>\n",
       "      <td>102.506667</td>\n",
       "      <td>0.448667</td>\n",
       "      <td>9.466667</td>\n",
       "    </tr>\n",
       "    <tr>\n",
       "      <th>1</th>\n",
       "      <td>1</td>\n",
       "      <td>14.958333</td>\n",
       "      <td>68.959992</td>\n",
       "      <td>6.311987</td>\n",
       "      <td>92.179167</td>\n",
       "      <td>0.456250</td>\n",
       "      <td>9.833333</td>\n",
       "    </tr>\n",
       "    <tr>\n",
       "      <th>2</th>\n",
       "      <td>2</td>\n",
       "      <td>24.692308</td>\n",
       "      <td>44.400031</td>\n",
       "      <td>4.511548</td>\n",
       "      <td>103.000000</td>\n",
       "      <td>0.319231</td>\n",
       "      <td>10.000000</td>\n",
       "    </tr>\n",
       "  </tbody>\n",
       "</table>\n",
       "</div>"
      ],
      "text/plain": [
       "   Cluster  Transactions  Avg_Spend  Basket_Size  Volume of Units Sold in lbs  \\\n",
       "0        0     60.866667  19.909866     1.786944                   102.506667   \n",
       "1        1     14.958333  68.959992     6.311987                    92.179167   \n",
       "2        2     24.692308  44.400031     4.511548                   103.000000   \n",
       "\n",
       "   Gross Margin %  Days on Hand (inventory)  \n",
       "0        0.448667                  9.466667  \n",
       "1        0.456250                  9.833333  \n",
       "2        0.319231                 10.000000  "
      ]
     },
     "execution_count": 5,
     "metadata": {},
     "output_type": "execute_result"
    }
   ],
   "source": [
    "cluster_comparison = df.groupby('Cluster')[[\n",
    "    'Transactions', 'Avg_Spend', 'Basket_Size', \n",
    "    'Volume of Units Sold in lbs', 'Gross Margin %', \n",
    "    'Days on Hand (inventory)'\n",
    "]].mean()\n",
    "\n",
    "cluster_comparison = cluster_comparison.reset_index()\n",
    "cluster_comparison"
   ]
  },
  {
   "cell_type": "markdown",
   "id": "d1bf226f-0227-4405-9959-34488fef3965",
   "metadata": {},
   "source": [
    "- Cluster 0: high frequency/low spend customers. These customers make many transactions (60.87 on avg) but spend less per transaction (Avg_Spend = $19.91) and purchase smaller quantities (Basket_Size = 1.79). Their lower spending per transaction indicates that they might be price sensitive or prefer smaller, frequent purchases.\n",
    "\n",
    "- Cluster 1:low frequency/high spending customers. They make fewer transactions (14.96 on average) but spend significantly more per transaction (Avg_Spend = $68.96) and purchase larger quantities (Basket_Size = 6.31). These customers are likely less price sensitive and are willing to pay more for quality or convenience.\n",
    "\n",
    "- Cluster 1: moderate/mid spend customers. They make a moderate number of transactions (24.69) with a decent average spend (Avg_Spend = $44.40) and basket size (Basket_Size = 4.51). However, their gross margin (31.92%) is the lowest, indicating that they might be more price-sensitive than other clusters.\n",
    "\n",
    "\n",
    "We could craft special recommendation for each cluster based on the above performance (promotions, loyalty programs, special discounts etc)."
   ]
  },
  {
   "cell_type": "markdown",
   "id": "44066578-fcf6-4609-8dc7-e0c3eec2f4cc",
   "metadata": {},
   "source": [
    "**Is it possible to conduct a sensitivity analysis to simulate pricing scenarios and their impact on the Days on Hand (DOH)? Yes, it is possible to conduct a sensitivity analysis to simulate pricing scenarios and their impact on DOH. Using the PED linear regression model from Stats Model, we demonstrated how different price points affect DOH, demand, and revenue which will help making informed pricing and inventory decisions.**"
   ]
  },
  {
   "cell_type": "markdown",
   "id": "d26d7b04-f329-4acc-ab41-b68a22bec5f8",
   "metadata": {},
   "source": [
    "## Additional Question: What happened to Pumpkin Pie?\n",
    "\n",
    "Thanksgiving has products that have high demand during Week 47 and Week 48 (Thanksgiving) of the year. Let's say the pumpkin pie faces sales challenges? Last year we sold more pie than the current year. Due to this, price has undergone few reductions to try and move that overstock inventory fast. What happened to this item is an scenario of seasonality and inventory management challenge. Customer were likely willing to pay higher price becase the product matched their holiday needs. This is a seasonality effect, where demand naturally increases during specific periods, in this case thanksgviing.\n",
    "\n",
    "Overstock resulted in:\n",
    "- Increased on DOH\n",
    "- Forced markdown to clear inventory, potentially affecting profit margins\n",
    "\n",
    "Pumpkin pie might be a price sensitive product (elastic), were high price might lead to sharp drops in demand outside the peak holiday period (right after Thanksgiving).\n",
    "\n",
    "Future approaches:\n",
    "- Identify peak sales periods.\n",
    "- Predict teh expected drop off after Thanksgiving.\n",
    "- Sensitivity analysis using regression model to simulate pricing scenario impact.\n",
    "\n",
    "We could use the regression model and incorporate historical data from previous years to predict future demand and inventory requirements. This approach will leverage seasonality, historical trends, and the price elasticity model to predict demand and optimize inventory planning and management."
   ]
  },
  {
   "cell_type": "markdown",
   "id": "219b008f-44b9-4bb5-8f3c-017066b2a902",
   "metadata": {},
   "source": [
    "# Key Question 3:\n",
    "\n",
    "**What are the most impactful features for sales prediction, and how can feature selection techniques improve model performance? Testing Linear vs Non-Linear Models.**"
   ]
  },
  {
   "cell_type": "code",
   "execution_count": 2,
   "id": "6edb2847-ed25-4548-99a6-74e169338853",
   "metadata": {},
   "outputs": [
    {
     "data": {
      "text/html": [
       "<div>\n",
       "<style scoped>\n",
       "    .dataframe tbody tr th:only-of-type {\n",
       "        vertical-align: middle;\n",
       "    }\n",
       "\n",
       "    .dataframe tbody tr th {\n",
       "        vertical-align: top;\n",
       "    }\n",
       "\n",
       "    .dataframe thead th {\n",
       "        text-align: right;\n",
       "    }\n",
       "</style>\n",
       "<table border=\"1\" class=\"dataframe\">\n",
       "  <thead>\n",
       "    <tr style=\"text-align: right;\">\n",
       "      <th></th>\n",
       "      <th>PLU</th>\n",
       "      <th>Product Category</th>\n",
       "      <th>Product Description</th>\n",
       "      <th>Calendar Year</th>\n",
       "      <th>Calendar Week</th>\n",
       "      <th>COGS</th>\n",
       "      <th>Volume of Units Sold in lbs</th>\n",
       "      <th>Days on Hand (inventory)</th>\n",
       "      <th>Competitor Prices</th>\n",
       "      <th>WF Prices</th>\n",
       "      <th>Net Sales</th>\n",
       "      <th>Gross Margin %</th>\n",
       "      <th>Discounts</th>\n",
       "      <th>Volume of Units</th>\n",
       "      <th>Transactions</th>\n",
       "      <th>Volume of Units Sold in lbs (2023)</th>\n",
       "    </tr>\n",
       "  </thead>\n",
       "  <tbody>\n",
       "    <tr>\n",
       "      <th>0</th>\n",
       "      <td>1155</td>\n",
       "      <td>Beef</td>\n",
       "      <td>Outside Skirt</td>\n",
       "      <td>2024</td>\n",
       "      <td>1</td>\n",
       "      <td>6.36</td>\n",
       "      <td>139.0</td>\n",
       "      <td>8</td>\n",
       "      <td>9.99</td>\n",
       "      <td>9.88</td>\n",
       "      <td>1373.32</td>\n",
       "      <td>0.36</td>\n",
       "      <td>0.54</td>\n",
       "      <td>93</td>\n",
       "      <td>93</td>\n",
       "      <td>136</td>\n",
       "    </tr>\n",
       "    <tr>\n",
       "      <th>1</th>\n",
       "      <td>1155</td>\n",
       "      <td>Beef</td>\n",
       "      <td>Outside Skirt</td>\n",
       "      <td>2024</td>\n",
       "      <td>2</td>\n",
       "      <td>5.38</td>\n",
       "      <td>104.0</td>\n",
       "      <td>11</td>\n",
       "      <td>10.00</td>\n",
       "      <td>10.48</td>\n",
       "      <td>1089.92</td>\n",
       "      <td>0.49</td>\n",
       "      <td>1.79</td>\n",
       "      <td>70</td>\n",
       "      <td>18</td>\n",
       "      <td>113</td>\n",
       "    </tr>\n",
       "    <tr>\n",
       "      <th>2</th>\n",
       "      <td>1155</td>\n",
       "      <td>Beef</td>\n",
       "      <td>Outside Skirt</td>\n",
       "      <td>2024</td>\n",
       "      <td>3</td>\n",
       "      <td>5.48</td>\n",
       "      <td>106.0</td>\n",
       "      <td>7</td>\n",
       "      <td>10.00</td>\n",
       "      <td>10.48</td>\n",
       "      <td>1110.88</td>\n",
       "      <td>0.48</td>\n",
       "      <td>0.53</td>\n",
       "      <td>71</td>\n",
       "      <td>18</td>\n",
       "      <td>111</td>\n",
       "    </tr>\n",
       "    <tr>\n",
       "      <th>3</th>\n",
       "      <td>1155</td>\n",
       "      <td>Beef</td>\n",
       "      <td>Outside Skirt</td>\n",
       "      <td>2024</td>\n",
       "      <td>4</td>\n",
       "      <td>6.55</td>\n",
       "      <td>83.0</td>\n",
       "      <td>12</td>\n",
       "      <td>10.00</td>\n",
       "      <td>9.98</td>\n",
       "      <td>828.34</td>\n",
       "      <td>0.34</td>\n",
       "      <td>1.28</td>\n",
       "      <td>56</td>\n",
       "      <td>56</td>\n",
       "      <td>85</td>\n",
       "    </tr>\n",
       "    <tr>\n",
       "      <th>4</th>\n",
       "      <td>1155</td>\n",
       "      <td>Beef</td>\n",
       "      <td>Outside Skirt</td>\n",
       "      <td>2024</td>\n",
       "      <td>5</td>\n",
       "      <td>6.95</td>\n",
       "      <td>134.0</td>\n",
       "      <td>14</td>\n",
       "      <td>8.99</td>\n",
       "      <td>9.98</td>\n",
       "      <td>1337.32</td>\n",
       "      <td>0.30</td>\n",
       "      <td>1.94</td>\n",
       "      <td>90</td>\n",
       "      <td>90</td>\n",
       "      <td>125</td>\n",
       "    </tr>\n",
       "  </tbody>\n",
       "</table>\n",
       "</div>"
      ],
      "text/plain": [
       "    PLU Product Category Product Description  Calendar Year  Calendar Week  \\\n",
       "0  1155             Beef       Outside Skirt           2024              1   \n",
       "1  1155             Beef       Outside Skirt           2024              2   \n",
       "2  1155             Beef       Outside Skirt           2024              3   \n",
       "3  1155             Beef       Outside Skirt           2024              4   \n",
       "4  1155             Beef       Outside Skirt           2024              5   \n",
       "\n",
       "   COGS  Volume of Units Sold in lbs  Days on Hand (inventory)  \\\n",
       "0  6.36                        139.0                         8   \n",
       "1  5.38                        104.0                        11   \n",
       "2  5.48                        106.0                         7   \n",
       "3  6.55                         83.0                        12   \n",
       "4  6.95                        134.0                        14   \n",
       "\n",
       "   Competitor Prices  WF Prices  Net Sales  Gross Margin %  Discounts  \\\n",
       "0               9.99       9.88    1373.32            0.36       0.54   \n",
       "1              10.00      10.48    1089.92            0.49       1.79   \n",
       "2              10.00      10.48    1110.88            0.48       0.53   \n",
       "3              10.00       9.98     828.34            0.34       1.28   \n",
       "4               8.99       9.98    1337.32            0.30       1.94   \n",
       "\n",
       "   Volume of Units  Transactions  Volume of Units Sold in lbs (2023)  \n",
       "0               93            93                                 136  \n",
       "1               70            18                                 113  \n",
       "2               71            18                                 111  \n",
       "3               56            56                                  85  \n",
       "4               90            90                                 125  "
      ]
     },
     "execution_count": 2,
     "metadata": {},
     "output_type": "execute_result"
    }
   ],
   "source": [
    "df = pd.read_csv('fake_wf2.csv') # contains volume in lbs from 2023\n",
    "df.head()"
   ]
  },
  {
   "cell_type": "markdown",
   "id": "a550a73a-2ff1-4281-8a25-6c3b44a056c7",
   "metadata": {},
   "source": [
    "**We could also add a small contsnat of +1 to avoid log(0) in the future**.\n",
    "\n",
    "I decided to generate a new dataset using ChatGPT that includes the volume sold in lbs for the year 2023. This new column will simulate the past year's demand for 2023, with the intent of feeding more features into the models. To achieve this, I asked ChatGPT to estimate the past-year demand based on the volume of units in lbs for 2024, adjusted with a random variability of ±10%. This adjustment simulates 2023's demand with minor variability of ±10% to represent realistic fluctuations from the previous year.\n",
    "\n",
    "Additionally, I will incorporate other new features into the model, such as \"avg_basket_size\" and \"seasonality.\" We will log-transform fields like competitor prices, WF prices, net sales, and COGS. Adding more features to the models could potentially lead to much more accurate results. Let’s see if this approach provides valuable insights, unlike the previous failed experiments in the PED section.\n",
    "\n",
    "AVG Basket Analysis:\n",
    "\n",
    "$$\\text{avg_basket_size} = \\frac{\\text{Transactions}}{\\text{Volume of Units Sold in lbs}}$$\n"
   ]
  },
  {
   "cell_type": "markdown",
   "id": "2049bc59-3017-43db-8c88-d423729d51c7",
   "metadata": {},
   "source": [
    "## Feature Engineering"
   ]
  },
  {
   "cell_type": "code",
   "execution_count": 3,
   "id": "8305bf0d-641e-498e-a1c3-4cf7435f2379",
   "metadata": {},
   "outputs": [],
   "source": [
    "df['log_price_ratio'] = np.log1p(df['Competitor Prices'] / df['WF Prices'])\n",
    "df['past_year_demand'] = df['Volume of Units Sold in lbs'] - df['Volume of Units Sold in lbs (2023)']\n",
    "df['avg_basket_size'] = df['Transactions'] / df['Volume of Units']"
   ]
  },
  {
   "cell_type": "markdown",
   "id": "2c8c98fe-5fd0-4555-bd49-68212eeb30ae",
   "metadata": {},
   "source": [
    "**Let's add some seasonality, for each week number in the calendar week, assigns 1 if the week is a holiday week and 0 otherwise (binary features).**"
   ]
  },
  {
   "cell_type": "code",
   "execution_count": 4,
   "id": "1e897fce-ad62-453a-834e-8b51616c18af",
   "metadata": {},
   "outputs": [],
   "source": [
    "holiday_weeks = [26, 27, 48, 52] # adding some holidays into the data -> 4th of July, Labor Day, Thanksgivig, Christmas, and New Years\n",
    "df['seasonality'] = df['Calendar Week'].apply(lambda x: 1 if x in holiday_weeks else 0)"
   ]
  },
  {
   "cell_type": "code",
   "execution_count": 5,
   "id": "05ae55ff-2a14-4918-9626-d783cf14f613",
   "metadata": {},
   "outputs": [],
   "source": [
    "# Log trnsforming the columns\n",
    "for col in ['COGS', 'Volume of Units Sold in lbs', 'Competitor Prices', 'WF Prices', 'Net Sales', 'Discounts']:\n",
    "    df[f'log_{col}'] = np.log1p(df[col]) # adding the small constant won't hurt"
   ]
  },
  {
   "cell_type": "markdown",
   "id": "9a4102e5-5806-49cb-9fbb-b334e38b9687",
   "metadata": {},
   "source": [
    "## Preparing Features"
   ]
  },
  {
   "cell_type": "code",
   "execution_count": 6,
   "id": "ec121290-1811-4bcb-b1bc-5d5953ba36d0",
   "metadata": {},
   "outputs": [],
   "source": [
    "X = df[['log_price_ratio', 'past_year_demand', 'seasonality', 'avg_basket_size', \n",
    "        'log_COGS', 'log_Volume of Units Sold in lbs', 'log_Competitor Prices', \n",
    "        'log_WF Prices', 'log_Net Sales', 'log_Discounts', 'Gross Margin %']]\n",
    "\n",
    "y = df['Net Sales']  # revenue target variable"
   ]
  },
  {
   "cell_type": "code",
   "execution_count": 7,
   "id": "31a5445f-5385-4ddf-b911-87afed9d92b4",
   "metadata": {},
   "outputs": [],
   "source": [
    "# Because of the how small my dataset is, let's increase the test size\n",
    "\n",
    "X_train, X_temp, y_train, y_temp = train_test_split(X, y, test_size = 0.3, random_state = 42) # 70% training\n",
    "X_val, X_test, y_val, y_test = train_test_split(X_temp, y_temp, test_size = 0.5, random_state = 42) # 15% validtion and testing"
   ]
  },
  {
   "cell_type": "markdown",
   "id": "276c9dbc-c5d4-4a81-99d9-1cb2a5cad662",
   "metadata": {},
   "source": [
    "## RFE Model\n",
    "\n",
    "We could use RFE as a feature selection method before fitting to regularized models such as Ridge, Lasso, and Random Forest. This will help remove the least important features and evaluate the model performance."
   ]
  },
  {
   "cell_type": "code",
   "execution_count": 8,
   "id": "09428998-7ea0-49c8-8f45-77a4071c4bf0",
   "metadata": {},
   "outputs": [
    {
     "data": {
      "text/html": [
       "<style>#sk-container-id-1 {color: black;background-color: white;}#sk-container-id-1 pre{padding: 0;}#sk-container-id-1 div.sk-toggleable {background-color: white;}#sk-container-id-1 label.sk-toggleable__label {cursor: pointer;display: block;width: 100%;margin-bottom: 0;padding: 0.3em;box-sizing: border-box;text-align: center;}#sk-container-id-1 label.sk-toggleable__label-arrow:before {content: \"▸\";float: left;margin-right: 0.25em;color: #696969;}#sk-container-id-1 label.sk-toggleable__label-arrow:hover:before {color: black;}#sk-container-id-1 div.sk-estimator:hover label.sk-toggleable__label-arrow:before {color: black;}#sk-container-id-1 div.sk-toggleable__content {max-height: 0;max-width: 0;overflow: hidden;text-align: left;background-color: #f0f8ff;}#sk-container-id-1 div.sk-toggleable__content pre {margin: 0.2em;color: black;border-radius: 0.25em;background-color: #f0f8ff;}#sk-container-id-1 input.sk-toggleable__control:checked~div.sk-toggleable__content {max-height: 200px;max-width: 100%;overflow: auto;}#sk-container-id-1 input.sk-toggleable__control:checked~label.sk-toggleable__label-arrow:before {content: \"▾\";}#sk-container-id-1 div.sk-estimator input.sk-toggleable__control:checked~label.sk-toggleable__label {background-color: #d4ebff;}#sk-container-id-1 div.sk-label input.sk-toggleable__control:checked~label.sk-toggleable__label {background-color: #d4ebff;}#sk-container-id-1 input.sk-hidden--visually {border: 0;clip: rect(1px 1px 1px 1px);clip: rect(1px, 1px, 1px, 1px);height: 1px;margin: -1px;overflow: hidden;padding: 0;position: absolute;width: 1px;}#sk-container-id-1 div.sk-estimator {font-family: monospace;background-color: #f0f8ff;border: 1px dotted black;border-radius: 0.25em;box-sizing: border-box;margin-bottom: 0.5em;}#sk-container-id-1 div.sk-estimator:hover {background-color: #d4ebff;}#sk-container-id-1 div.sk-parallel-item::after {content: \"\";width: 100%;border-bottom: 1px solid gray;flex-grow: 1;}#sk-container-id-1 div.sk-label:hover label.sk-toggleable__label {background-color: #d4ebff;}#sk-container-id-1 div.sk-serial::before {content: \"\";position: absolute;border-left: 1px solid gray;box-sizing: border-box;top: 0;bottom: 0;left: 50%;z-index: 0;}#sk-container-id-1 div.sk-serial {display: flex;flex-direction: column;align-items: center;background-color: white;padding-right: 0.2em;padding-left: 0.2em;position: relative;}#sk-container-id-1 div.sk-item {position: relative;z-index: 1;}#sk-container-id-1 div.sk-parallel {display: flex;align-items: stretch;justify-content: center;background-color: white;position: relative;}#sk-container-id-1 div.sk-item::before, #sk-container-id-1 div.sk-parallel-item::before {content: \"\";position: absolute;border-left: 1px solid gray;box-sizing: border-box;top: 0;bottom: 0;left: 50%;z-index: -1;}#sk-container-id-1 div.sk-parallel-item {display: flex;flex-direction: column;z-index: 1;position: relative;background-color: white;}#sk-container-id-1 div.sk-parallel-item:first-child::after {align-self: flex-end;width: 50%;}#sk-container-id-1 div.sk-parallel-item:last-child::after {align-self: flex-start;width: 50%;}#sk-container-id-1 div.sk-parallel-item:only-child::after {width: 0;}#sk-container-id-1 div.sk-dashed-wrapped {border: 1px dashed gray;margin: 0 0.4em 0.5em 0.4em;box-sizing: border-box;padding-bottom: 0.4em;background-color: white;}#sk-container-id-1 div.sk-label label {font-family: monospace;font-weight: bold;display: inline-block;line-height: 1.2em;}#sk-container-id-1 div.sk-label-container {text-align: center;}#sk-container-id-1 div.sk-container {/* jupyter's `normalize.less` sets `[hidden] { display: none; }` but bootstrap.min.css set `[hidden] { display: none !important; }` so we also need the `!important` here to be able to override the default hidden behavior on the sphinx rendered scikit-learn.org. See: https://github.com/scikit-learn/scikit-learn/issues/21755 */display: inline-block !important;position: relative;}#sk-container-id-1 div.sk-text-repr-fallback {display: none;}</style><div id=\"sk-container-id-1\" class=\"sk-top-container\"><div class=\"sk-text-repr-fallback\"><pre>RFE(estimator=LinearRegression(), n_features_to_select=5)</pre><b>In a Jupyter environment, please rerun this cell to show the HTML representation or trust the notebook. <br />On GitHub, the HTML representation is unable to render, please try loading this page with nbviewer.org.</b></div><div class=\"sk-container\" hidden><div class=\"sk-item sk-dashed-wrapped\"><div class=\"sk-label-container\"><div class=\"sk-label sk-toggleable\"><input class=\"sk-toggleable__control sk-hidden--visually\" id=\"sk-estimator-id-1\" type=\"checkbox\" ><label for=\"sk-estimator-id-1\" class=\"sk-toggleable__label sk-toggleable__label-arrow\">RFE</label><div class=\"sk-toggleable__content\"><pre>RFE(estimator=LinearRegression(), n_features_to_select=5)</pre></div></div></div><div class=\"sk-parallel\"><div class=\"sk-parallel-item\"><div class=\"sk-item\"><div class=\"sk-label-container\"><div class=\"sk-label sk-toggleable\"><input class=\"sk-toggleable__control sk-hidden--visually\" id=\"sk-estimator-id-2\" type=\"checkbox\" ><label for=\"sk-estimator-id-2\" class=\"sk-toggleable__label sk-toggleable__label-arrow\">estimator: LinearRegression</label><div class=\"sk-toggleable__content\"><pre>LinearRegression()</pre></div></div></div><div class=\"sk-serial\"><div class=\"sk-item\"><div class=\"sk-estimator sk-toggleable\"><input class=\"sk-toggleable__control sk-hidden--visually\" id=\"sk-estimator-id-3\" type=\"checkbox\" ><label for=\"sk-estimator-id-3\" class=\"sk-toggleable__label sk-toggleable__label-arrow\">LinearRegression</label><div class=\"sk-toggleable__content\"><pre>LinearRegression()</pre></div></div></div></div></div></div></div></div></div></div>"
      ],
      "text/plain": [
       "RFE(estimator=LinearRegression(), n_features_to_select=5)"
      ]
     },
     "execution_count": 8,
     "metadata": {},
     "output_type": "execute_result"
    }
   ],
   "source": [
    "from sklearn.feature_selection import RFE\n",
    "from sklearn.linear_model import LinearRegression\n",
    "\n",
    "model = LinearRegression()\n",
    "\n",
    "rfe = RFE(model, n_features_to_select = 5) # let's select 5\n",
    "rfe.fit(X_train, y_train)"
   ]
  },
  {
   "cell_type": "code",
   "execution_count": 9,
   "id": "78ddf738-37cb-4547-94b6-2c2430b8bd17",
   "metadata": {},
   "outputs": [
    {
     "name": "stdout",
     "output_type": "stream",
     "text": [
      "Selected Features by RFE: Index(['log_price_ratio', 'log_Volume of Units Sold in lbs',\n",
      "       'log_Competitor Prices', 'log_WF Prices', 'log_Net Sales'],\n",
      "      dtype='object')\n"
     ]
    }
   ],
   "source": [
    "selected_features = X_train.columns[rfe.support_]\n",
    "print(\"Selected Features by RFE:\", selected_features)"
   ]
  },
  {
   "cell_type": "code",
   "execution_count": 10,
   "id": "e897f35f-719e-449f-a98d-8250ef82cc7f",
   "metadata": {},
   "outputs": [],
   "source": [
    "X_train_rfe = X_train[selected_features]\n",
    "X_val_rfe = X_val[selected_features]\n",
    "X_test_rfe = X_test[selected_features]"
   ]
  },
  {
   "cell_type": "markdown",
   "id": "d6784c0f-7603-4c9b-a5d7-c4032a8fa710",
   "metadata": {},
   "source": [
    "It's impressive that, once again, just like in my non document model experimentation for the PED, the selection aligns with the economic principle: pricing, demand, and revenue are key drivers in sales prediction. Similarly, in the real world, incorporating the index (my price/competition) highlights that relative pricing plays a major role in predicting sales.\n",
    "\n",
    "The reason I decided to use RFE is that it is a wrapper method that evaluates the importance of features based on the linear regression model. When I worked on the PED model, Ridge, Lasso, Elastic Net, Random Forest, and Decision Trees all produced inconsistent results due to the simplicity of the pricing data similar to real world scenarios. The data within Snowflake is just as simple as the dummy datasets I previously experimented with, so I will stick to the Linear Regression model wihtout complicating myself.\n",
    "\n",
    "From my past experimentations:\n",
    "\n",
    "- Lasso: Dropped the most important correlated features.\n",
    "- Ridge: Useful if we expect all features within the data to contribute, as it retains all features but reduces their impact.\n",
    "- Non-linear models (Random Forest and Decision Trees): More suitable for complex data but prone to overfitting."
   ]
  },
  {
   "cell_type": "markdown",
   "id": "a6b410c7-d5c9-4aba-8c25-5ec249fe93aa",
   "metadata": {},
   "source": [
    "## Training"
   ]
  },
  {
   "cell_type": "code",
   "execution_count": 12,
   "id": "7a7c13ce-67df-4111-a6dc-7d684e1a17f7",
   "metadata": {},
   "outputs": [
    {
     "data": {
      "text/html": [
       "<style>#sk-container-id-2 {color: black;background-color: white;}#sk-container-id-2 pre{padding: 0;}#sk-container-id-2 div.sk-toggleable {background-color: white;}#sk-container-id-2 label.sk-toggleable__label {cursor: pointer;display: block;width: 100%;margin-bottom: 0;padding: 0.3em;box-sizing: border-box;text-align: center;}#sk-container-id-2 label.sk-toggleable__label-arrow:before {content: \"▸\";float: left;margin-right: 0.25em;color: #696969;}#sk-container-id-2 label.sk-toggleable__label-arrow:hover:before {color: black;}#sk-container-id-2 div.sk-estimator:hover label.sk-toggleable__label-arrow:before {color: black;}#sk-container-id-2 div.sk-toggleable__content {max-height: 0;max-width: 0;overflow: hidden;text-align: left;background-color: #f0f8ff;}#sk-container-id-2 div.sk-toggleable__content pre {margin: 0.2em;color: black;border-radius: 0.25em;background-color: #f0f8ff;}#sk-container-id-2 input.sk-toggleable__control:checked~div.sk-toggleable__content {max-height: 200px;max-width: 100%;overflow: auto;}#sk-container-id-2 input.sk-toggleable__control:checked~label.sk-toggleable__label-arrow:before {content: \"▾\";}#sk-container-id-2 div.sk-estimator input.sk-toggleable__control:checked~label.sk-toggleable__label {background-color: #d4ebff;}#sk-container-id-2 div.sk-label input.sk-toggleable__control:checked~label.sk-toggleable__label {background-color: #d4ebff;}#sk-container-id-2 input.sk-hidden--visually {border: 0;clip: rect(1px 1px 1px 1px);clip: rect(1px, 1px, 1px, 1px);height: 1px;margin: -1px;overflow: hidden;padding: 0;position: absolute;width: 1px;}#sk-container-id-2 div.sk-estimator {font-family: monospace;background-color: #f0f8ff;border: 1px dotted black;border-radius: 0.25em;box-sizing: border-box;margin-bottom: 0.5em;}#sk-container-id-2 div.sk-estimator:hover {background-color: #d4ebff;}#sk-container-id-2 div.sk-parallel-item::after {content: \"\";width: 100%;border-bottom: 1px solid gray;flex-grow: 1;}#sk-container-id-2 div.sk-label:hover label.sk-toggleable__label {background-color: #d4ebff;}#sk-container-id-2 div.sk-serial::before {content: \"\";position: absolute;border-left: 1px solid gray;box-sizing: border-box;top: 0;bottom: 0;left: 50%;z-index: 0;}#sk-container-id-2 div.sk-serial {display: flex;flex-direction: column;align-items: center;background-color: white;padding-right: 0.2em;padding-left: 0.2em;position: relative;}#sk-container-id-2 div.sk-item {position: relative;z-index: 1;}#sk-container-id-2 div.sk-parallel {display: flex;align-items: stretch;justify-content: center;background-color: white;position: relative;}#sk-container-id-2 div.sk-item::before, #sk-container-id-2 div.sk-parallel-item::before {content: \"\";position: absolute;border-left: 1px solid gray;box-sizing: border-box;top: 0;bottom: 0;left: 50%;z-index: -1;}#sk-container-id-2 div.sk-parallel-item {display: flex;flex-direction: column;z-index: 1;position: relative;background-color: white;}#sk-container-id-2 div.sk-parallel-item:first-child::after {align-self: flex-end;width: 50%;}#sk-container-id-2 div.sk-parallel-item:last-child::after {align-self: flex-start;width: 50%;}#sk-container-id-2 div.sk-parallel-item:only-child::after {width: 0;}#sk-container-id-2 div.sk-dashed-wrapped {border: 1px dashed gray;margin: 0 0.4em 0.5em 0.4em;box-sizing: border-box;padding-bottom: 0.4em;background-color: white;}#sk-container-id-2 div.sk-label label {font-family: monospace;font-weight: bold;display: inline-block;line-height: 1.2em;}#sk-container-id-2 div.sk-label-container {text-align: center;}#sk-container-id-2 div.sk-container {/* jupyter's `normalize.less` sets `[hidden] { display: none; }` but bootstrap.min.css set `[hidden] { display: none !important; }` so we also need the `!important` here to be able to override the default hidden behavior on the sphinx rendered scikit-learn.org. See: https://github.com/scikit-learn/scikit-learn/issues/21755 */display: inline-block !important;position: relative;}#sk-container-id-2 div.sk-text-repr-fallback {display: none;}</style><div id=\"sk-container-id-2\" class=\"sk-top-container\"><div class=\"sk-text-repr-fallback\"><pre>LinearRegression()</pre><b>In a Jupyter environment, please rerun this cell to show the HTML representation or trust the notebook. <br />On GitHub, the HTML representation is unable to render, please try loading this page with nbviewer.org.</b></div><div class=\"sk-container\" hidden><div class=\"sk-item\"><div class=\"sk-estimator sk-toggleable\"><input class=\"sk-toggleable__control sk-hidden--visually\" id=\"sk-estimator-id-4\" type=\"checkbox\" checked><label for=\"sk-estimator-id-4\" class=\"sk-toggleable__label sk-toggleable__label-arrow\">LinearRegression</label><div class=\"sk-toggleable__content\"><pre>LinearRegression()</pre></div></div></div></div></div>"
      ],
      "text/plain": [
       "LinearRegression()"
      ]
     },
     "execution_count": 12,
     "metadata": {},
     "output_type": "execute_result"
    }
   ],
   "source": [
    "model.fit(X_train_rfe, y_train)"
   ]
  },
  {
   "cell_type": "code",
   "execution_count": 13,
   "id": "f19d1964-e6c6-4981-8dec-7f927008c6c4",
   "metadata": {},
   "outputs": [],
   "source": [
    "y_train_pred = model.predict(X_train_rfe)"
   ]
  },
  {
   "cell_type": "code",
   "execution_count": 14,
   "id": "3cef385b-d632-4009-9336-f986836a0801",
   "metadata": {},
   "outputs": [],
   "source": [
    "train_rmse = mean_squared_error(y_train, y_train_pred, squared = False)\n",
    "train_r2 = r2_score(y_train, y_train_pred)"
   ]
  },
  {
   "cell_type": "markdown",
   "id": "3b044d93-52e4-4999-b64e-911dd4823cf4",
   "metadata": {},
   "source": [
    "## Validation"
   ]
  },
  {
   "cell_type": "code",
   "execution_count": 15,
   "id": "4a527f3c-64c9-4a59-adef-6b96c4957446",
   "metadata": {},
   "outputs": [],
   "source": [
    "y_val_pred = model.predict(X_val_rfe)"
   ]
  },
  {
   "cell_type": "code",
   "execution_count": 16,
   "id": "ada9123d-521e-4611-8374-402af4dc191b",
   "metadata": {},
   "outputs": [],
   "source": [
    "val_rmse = mean_squared_error(y_val, y_val_pred, squared = False)\n",
    "val_r2 = r2_score(y_val, y_val_pred)"
   ]
  },
  {
   "cell_type": "markdown",
   "id": "d0ec52a8-877c-4444-8f34-55a36ec7af6c",
   "metadata": {},
   "source": [
    "## Testing"
   ]
  },
  {
   "cell_type": "code",
   "execution_count": 17,
   "id": "0bc603d7-5a4c-4b29-8823-c1e9d15fdb0c",
   "metadata": {},
   "outputs": [],
   "source": [
    "y_test_pred = model.predict(X_test_rfe)"
   ]
  },
  {
   "cell_type": "code",
   "execution_count": 18,
   "id": "60c0dc92-3d33-4ac6-927f-38461e0edf19",
   "metadata": {},
   "outputs": [],
   "source": [
    "test_rmse = mean_squared_error(y_test, y_test_pred, squared = False)\n",
    "test_r2 = r2_score(y_test, y_test_pred)"
   ]
  },
  {
   "cell_type": "markdown",
   "id": "8992a166-0eb4-4e60-abaf-01b43ba9a5be",
   "metadata": {},
   "source": [
    "## Metrics Performance"
   ]
  },
  {
   "cell_type": "code",
   "execution_count": 19,
   "id": "967971e2-e35c-4818-a554-198c186ff58f",
   "metadata": {},
   "outputs": [
    {
     "data": {
      "text/html": [
       "<div>\n",
       "<style scoped>\n",
       "    .dataframe tbody tr th:only-of-type {\n",
       "        vertical-align: middle;\n",
       "    }\n",
       "\n",
       "    .dataframe tbody tr th {\n",
       "        vertical-align: top;\n",
       "    }\n",
       "\n",
       "    .dataframe thead th {\n",
       "        text-align: right;\n",
       "    }\n",
       "</style>\n",
       "<table border=\"1\" class=\"dataframe\">\n",
       "  <thead>\n",
       "    <tr style=\"text-align: right;\">\n",
       "      <th></th>\n",
       "      <th>Set</th>\n",
       "      <th>RMSE</th>\n",
       "      <th>R^2</th>\n",
       "    </tr>\n",
       "  </thead>\n",
       "  <tbody>\n",
       "    <tr>\n",
       "      <th>0</th>\n",
       "      <td>Training</td>\n",
       "      <td>35.507034</td>\n",
       "      <td>0.979918</td>\n",
       "    </tr>\n",
       "    <tr>\n",
       "      <th>1</th>\n",
       "      <td>Validation</td>\n",
       "      <td>61.244814</td>\n",
       "      <td>0.974160</td>\n",
       "    </tr>\n",
       "    <tr>\n",
       "      <th>2</th>\n",
       "      <td>Testing</td>\n",
       "      <td>38.567854</td>\n",
       "      <td>0.954225</td>\n",
       "    </tr>\n",
       "  </tbody>\n",
       "</table>\n",
       "</div>"
      ],
      "text/plain": [
       "          Set       RMSE       R^2\n",
       "0    Training  35.507034  0.979918\n",
       "1  Validation  61.244814  0.974160\n",
       "2     Testing  38.567854  0.954225"
      ]
     },
     "execution_count": 19,
     "metadata": {},
     "output_type": "execute_result"
    }
   ],
   "source": [
    "metrics = {\n",
    "    'Set': ['Training', 'Validation', 'Testing'],\n",
    "    'RMSE': [train_rmse, val_rmse, test_rmse],\n",
    "    'R^2': [train_r2, val_r2, test_r2]\n",
    "}\n",
    "\n",
    "metrics_df = pd.DataFrame(metrics)\n",
    "metrics_df"
   ]
  },
  {
   "cell_type": "markdown",
   "id": "0fda71c9-130e-45e4-ba1a-7fe0ca0d0e62",
   "metadata": {},
   "source": [
    "**R-Squared:**\n",
    "\n",
    "- 97.99% of the variance in the training data.\n",
    "- 97.42% of the variance on unseen validation data, which is very close to training.\n",
    "- 95.42% of the variance on the final test data.\n",
    "\n",
    "**RMSE:**\n",
    "- Training Low error on the training set indicates the model fits the training data well.\n",
    "- Validation: Higher than training, which is expected since the model is applied to unseen data.\n",
    "- Testing: Closer to training RMSE, indicating the model performs well on unseen data.\n",
    "\n",
    "\n",
    "**These scores indicate a well generalized and balanced model with minimal overfitting, as there is only a slight drop in R-squared from training to testing. Obviously, this model is not perfect, but the test RMSE is close to the training RMSE, which is a strong indicator of model generalization. In the future, i could try some cross validation to ensure the results are no dependent on a specific data split.**"
   ]
  },
  {
   "cell_type": "markdown",
   "id": "5a7494b9-8152-4d61-8d81-98682b6800d9",
   "metadata": {},
   "source": [
    "## Sales Prediction: Linear Regression\n",
    "\n",
    "In dynamic pricing, my goal is to predict sales for the near future (next week. This ensures predictions relfect current market dynamics. In the below, we're calculating the current averages for the most recent weeks. Observation, yearly avgs are more suitable for longer-term pricing forecasting."
   ]
  },
  {
   "cell_type": "code",
   "execution_count": 19,
   "id": "7a969e46-7201-42b0-b8d3-1b2dec6bc290",
   "metadata": {},
   "outputs": [],
   "source": [
    "recent_data = df[\n",
    "    (df['PLU'] == 1155) & \n",
    "    (df['Calendar Year'] == 2024) & \n",
    "    (df['Calendar Week'] >= df['Calendar Week'].max() - 4)]\n",
    "\n",
    "avg_volume_lbs = recent_data['Volume of Units Sold in lbs'].mean() # avg\n",
    "avg_net_sales = recent_data['Net Sales'].mean() # avg\n",
    "avg_competitor_price = recent_data['Competitor Prices'].mean() # avg"
   ]
  },
  {
   "cell_type": "code",
   "execution_count": 23,
   "id": "8e171486-9518-4bd2-a370-10cc0424e182",
   "metadata": {},
   "outputs": [],
   "source": [
    "price_scenarios = [9.98, 10.48, 10.98] # min, mean, max of the WF data"
   ]
  },
  {
   "cell_type": "code",
   "execution_count": 24,
   "id": "ccd71ff0-a549-4132-9394-d952de5e9fe2",
   "metadata": {},
   "outputs": [],
   "source": [
    "scenario_data = []\n",
    "\n",
    "for price in price_scenarios:\n",
    "    log_wf_price = np.log1p(price)\n",
    "    log_competitor_price = np.log1p(avg_competitor_price)\n",
    "    log_price_ratio = np.log1p(avg_competitor_price / price)\n",
    "    log_volume_lbs = np.log1p(avg_volume_lbs)\n",
    "    log_net_sales = np.log1p(avg_net_sales)\n",
    "    \n",
    "    scenario_data.append([log_price_ratio, log_volume_lbs, log_competitor_price, log_wf_price, log_net_sales])"
   ]
  },
  {
   "cell_type": "code",
   "execution_count": 25,
   "id": "daa45cf7-75be-4300-8907-9a55a610b69e",
   "metadata": {},
   "outputs": [],
   "source": [
    "scenario_df = pd.DataFrame(scenario_data, columns = selected_features)"
   ]
  },
  {
   "cell_type": "code",
   "execution_count": 26,
   "id": "8c8ef92d-87a0-4520-9296-f4b3ef052abe",
   "metadata": {},
   "outputs": [],
   "source": [
    "sales_predictions = model.predict(scenario_df) # simple linear regression model"
   ]
  },
  {
   "cell_type": "code",
   "execution_count": 27,
   "id": "17097bcc-24f1-448b-871e-cc22075415eb",
   "metadata": {},
   "outputs": [
    {
     "data": {
      "text/html": [
       "<div>\n",
       "<style scoped>\n",
       "    .dataframe tbody tr th:only-of-type {\n",
       "        vertical-align: middle;\n",
       "    }\n",
       "\n",
       "    .dataframe tbody tr th {\n",
       "        vertical-align: top;\n",
       "    }\n",
       "\n",
       "    .dataframe thead th {\n",
       "        text-align: right;\n",
       "    }\n",
       "</style>\n",
       "<table border=\"1\" class=\"dataframe\">\n",
       "  <thead>\n",
       "    <tr style=\"text-align: right;\">\n",
       "      <th></th>\n",
       "      <th>WF Price</th>\n",
       "      <th>Predicted Sales</th>\n",
       "    </tr>\n",
       "  </thead>\n",
       "  <tbody>\n",
       "    <tr>\n",
       "      <th>0</th>\n",
       "      <td>9.98</td>\n",
       "      <td>-11974.281872</td>\n",
       "    </tr>\n",
       "    <tr>\n",
       "      <th>1</th>\n",
       "      <td>10.48</td>\n",
       "      <td>-9486.861842</td>\n",
       "    </tr>\n",
       "    <tr>\n",
       "      <th>2</th>\n",
       "      <td>10.98</td>\n",
       "      <td>-7108.287257</td>\n",
       "    </tr>\n",
       "  </tbody>\n",
       "</table>\n",
       "</div>"
      ],
      "text/plain": [
       "   WF Price  Predicted Sales\n",
       "0      9.98    -11974.281872\n",
       "1     10.48     -9486.861842\n",
       "2     10.98     -7108.287257"
      ]
     },
     "execution_count": 27,
     "metadata": {},
     "output_type": "execute_result"
    }
   ],
   "source": [
    "predicted_sales = pd.DataFrame({\n",
    "    'WF Price': price_scenarios,\n",
    "    'Predicted Sales': sales_predictions\n",
    "})\n",
    "\n",
    "predicted_sales"
   ]
  },
  {
   "cell_type": "markdown",
   "id": "3c97c8df-05e4-49eb-bfc8-a772eb101b11",
   "metadata": {},
   "source": [
    "**What does this means?**\n",
    "\n",
    "Linear regression assumes a straight line relationship between features like volume, pricing, and target sales. However, in the real world the relationship between price and sales are often non-linear. Linear regression oversimplifies these dynamics, leading to poor performance for certain price points. The above negative predicted sales results are unrealistic. What to do in this case? real world/non-linear relationship? Let's try **Random Forest**!\n",
    "\n",
    "Random Forest uses multiple decision trees to better balance the influence of different features. It will capture the interaction and importance of multiple features withouth assuming the linearity."
   ]
  },
  {
   "cell_type": "markdown",
   "id": "a7aae50d-25de-4bf6-9d80-b38daae4fd6b",
   "metadata": {},
   "source": [
    "## Sales Prediction: Random Forest"
   ]
  },
  {
   "cell_type": "code",
   "execution_count": 20,
   "id": "522a2213-4a5c-44a3-b2c3-5b878990d39e",
   "metadata": {},
   "outputs": [],
   "source": [
    "# from sklearn.ensemble import RandomForestRegressor"
   ]
  },
  {
   "cell_type": "code",
   "execution_count": 21,
   "id": "e73c299d-d47d-4ed2-86f7-59cfea2e2e97",
   "metadata": {},
   "outputs": [
    {
     "data": {
      "text/html": [
       "<style>#sk-container-id-3 {color: black;background-color: white;}#sk-container-id-3 pre{padding: 0;}#sk-container-id-3 div.sk-toggleable {background-color: white;}#sk-container-id-3 label.sk-toggleable__label {cursor: pointer;display: block;width: 100%;margin-bottom: 0;padding: 0.3em;box-sizing: border-box;text-align: center;}#sk-container-id-3 label.sk-toggleable__label-arrow:before {content: \"▸\";float: left;margin-right: 0.25em;color: #696969;}#sk-container-id-3 label.sk-toggleable__label-arrow:hover:before {color: black;}#sk-container-id-3 div.sk-estimator:hover label.sk-toggleable__label-arrow:before {color: black;}#sk-container-id-3 div.sk-toggleable__content {max-height: 0;max-width: 0;overflow: hidden;text-align: left;background-color: #f0f8ff;}#sk-container-id-3 div.sk-toggleable__content pre {margin: 0.2em;color: black;border-radius: 0.25em;background-color: #f0f8ff;}#sk-container-id-3 input.sk-toggleable__control:checked~div.sk-toggleable__content {max-height: 200px;max-width: 100%;overflow: auto;}#sk-container-id-3 input.sk-toggleable__control:checked~label.sk-toggleable__label-arrow:before {content: \"▾\";}#sk-container-id-3 div.sk-estimator input.sk-toggleable__control:checked~label.sk-toggleable__label {background-color: #d4ebff;}#sk-container-id-3 div.sk-label input.sk-toggleable__control:checked~label.sk-toggleable__label {background-color: #d4ebff;}#sk-container-id-3 input.sk-hidden--visually {border: 0;clip: rect(1px 1px 1px 1px);clip: rect(1px, 1px, 1px, 1px);height: 1px;margin: -1px;overflow: hidden;padding: 0;position: absolute;width: 1px;}#sk-container-id-3 div.sk-estimator {font-family: monospace;background-color: #f0f8ff;border: 1px dotted black;border-radius: 0.25em;box-sizing: border-box;margin-bottom: 0.5em;}#sk-container-id-3 div.sk-estimator:hover {background-color: #d4ebff;}#sk-container-id-3 div.sk-parallel-item::after {content: \"\";width: 100%;border-bottom: 1px solid gray;flex-grow: 1;}#sk-container-id-3 div.sk-label:hover label.sk-toggleable__label {background-color: #d4ebff;}#sk-container-id-3 div.sk-serial::before {content: \"\";position: absolute;border-left: 1px solid gray;box-sizing: border-box;top: 0;bottom: 0;left: 50%;z-index: 0;}#sk-container-id-3 div.sk-serial {display: flex;flex-direction: column;align-items: center;background-color: white;padding-right: 0.2em;padding-left: 0.2em;position: relative;}#sk-container-id-3 div.sk-item {position: relative;z-index: 1;}#sk-container-id-3 div.sk-parallel {display: flex;align-items: stretch;justify-content: center;background-color: white;position: relative;}#sk-container-id-3 div.sk-item::before, #sk-container-id-3 div.sk-parallel-item::before {content: \"\";position: absolute;border-left: 1px solid gray;box-sizing: border-box;top: 0;bottom: 0;left: 50%;z-index: -1;}#sk-container-id-3 div.sk-parallel-item {display: flex;flex-direction: column;z-index: 1;position: relative;background-color: white;}#sk-container-id-3 div.sk-parallel-item:first-child::after {align-self: flex-end;width: 50%;}#sk-container-id-3 div.sk-parallel-item:last-child::after {align-self: flex-start;width: 50%;}#sk-container-id-3 div.sk-parallel-item:only-child::after {width: 0;}#sk-container-id-3 div.sk-dashed-wrapped {border: 1px dashed gray;margin: 0 0.4em 0.5em 0.4em;box-sizing: border-box;padding-bottom: 0.4em;background-color: white;}#sk-container-id-3 div.sk-label label {font-family: monospace;font-weight: bold;display: inline-block;line-height: 1.2em;}#sk-container-id-3 div.sk-label-container {text-align: center;}#sk-container-id-3 div.sk-container {/* jupyter's `normalize.less` sets `[hidden] { display: none; }` but bootstrap.min.css set `[hidden] { display: none !important; }` so we also need the `!important` here to be able to override the default hidden behavior on the sphinx rendered scikit-learn.org. See: https://github.com/scikit-learn/scikit-learn/issues/21755 */display: inline-block !important;position: relative;}#sk-container-id-3 div.sk-text-repr-fallback {display: none;}</style><div id=\"sk-container-id-3\" class=\"sk-top-container\"><div class=\"sk-text-repr-fallback\"><pre>RandomForestRegressor(random_state=42)</pre><b>In a Jupyter environment, please rerun this cell to show the HTML representation or trust the notebook. <br />On GitHub, the HTML representation is unable to render, please try loading this page with nbviewer.org.</b></div><div class=\"sk-container\" hidden><div class=\"sk-item\"><div class=\"sk-estimator sk-toggleable\"><input class=\"sk-toggleable__control sk-hidden--visually\" id=\"sk-estimator-id-5\" type=\"checkbox\" checked><label for=\"sk-estimator-id-5\" class=\"sk-toggleable__label sk-toggleable__label-arrow\">RandomForestRegressor</label><div class=\"sk-toggleable__content\"><pre>RandomForestRegressor(random_state=42)</pre></div></div></div></div></div>"
      ],
      "text/plain": [
       "RandomForestRegressor(random_state=42)"
      ]
     },
     "execution_count": 21,
     "metadata": {},
     "output_type": "execute_result"
    }
   ],
   "source": [
    "rf_model = RandomForestRegressor(n_estimators = 100, random_state = 42)\n",
    "rf_model.fit(X_train_rfe, y_train)"
   ]
  },
  {
   "cell_type": "code",
   "execution_count": 22,
   "id": "6e640fc4-988c-4f1f-995b-94e06ffc175a",
   "metadata": {},
   "outputs": [],
   "source": [
    "price_scenarios = [9.98, 10.48, 10.98] # again min mean max"
   ]
  },
  {
   "cell_type": "code",
   "execution_count": 23,
   "id": "cfa8c428-ee90-4e35-9080-1a60f53df197",
   "metadata": {},
   "outputs": [],
   "source": [
    "recent_data = df[\n",
    "    (df['PLU'] == 1155) & \n",
    "    (df['Calendar Year'] == 2024) & \n",
    "    (df['Calendar Week'] >= df['Calendar Week'].max() - 4)\n",
    "]\n",
    "avg_volume_lbs = recent_data['Volume of Units Sold in lbs'].mean()\n",
    "avg_net_sales = recent_data['Net Sales'].mean()\n",
    "avg_competitor_price = recent_data['Competitor Prices'].mean()"
   ]
  },
  {
   "cell_type": "code",
   "execution_count": 24,
   "id": "7588a6af-ceec-4bbf-9885-6e5c5a8bc06a",
   "metadata": {},
   "outputs": [],
   "source": [
    "scenario_data = []\n",
    "\n",
    "for price in price_scenarios:\n",
    "    log_wf_price = np.log1p(price)\n",
    "    log_competitor_price = np.log1p(avg_competitor_price)\n",
    "    log_price_ratio = np.log1p(avg_competitor_price / price)\n",
    "    log_volume_lbs = np.log1p(avg_volume_lbs)\n",
    "    log_net_sales = np.log1p(avg_net_sales)\n",
    "    \n",
    "    scenario_data.append([log_price_ratio, log_volume_lbs, log_competitor_price, log_wf_price, log_net_sales])"
   ]
  },
  {
   "cell_type": "code",
   "execution_count": 25,
   "id": "611c6d4e-8ff9-4a23-a621-f23872996dd9",
   "metadata": {},
   "outputs": [],
   "source": [
    "scenario_df = pd.DataFrame(scenario_data, columns = selected_features)"
   ]
  },
  {
   "cell_type": "code",
   "execution_count": 26,
   "id": "049d1c4a-e1c1-46a3-b499-0386d1072e34",
   "metadata": {},
   "outputs": [],
   "source": [
    "rf_sales_predictions = rf_model.predict(scenario_df)"
   ]
  },
  {
   "cell_type": "code",
   "execution_count": 27,
   "id": "1e98c9fb-b4c5-4afb-b8d6-cd32699378b3",
   "metadata": {},
   "outputs": [
    {
     "data": {
      "text/html": [
       "<div>\n",
       "<style scoped>\n",
       "    .dataframe tbody tr th:only-of-type {\n",
       "        vertical-align: middle;\n",
       "    }\n",
       "\n",
       "    .dataframe tbody tr th {\n",
       "        vertical-align: top;\n",
       "    }\n",
       "\n",
       "    .dataframe thead th {\n",
       "        text-align: right;\n",
       "    }\n",
       "</style>\n",
       "<table border=\"1\" class=\"dataframe\">\n",
       "  <thead>\n",
       "    <tr style=\"text-align: right;\">\n",
       "      <th></th>\n",
       "      <th>WF Price</th>\n",
       "      <th>Predicted Sales</th>\n",
       "    </tr>\n",
       "  </thead>\n",
       "  <tbody>\n",
       "    <tr>\n",
       "      <th>0</th>\n",
       "      <td>9.98</td>\n",
       "      <td>1296.9295</td>\n",
       "    </tr>\n",
       "    <tr>\n",
       "      <th>1</th>\n",
       "      <td>10.48</td>\n",
       "      <td>1292.4001</td>\n",
       "    </tr>\n",
       "    <tr>\n",
       "      <th>2</th>\n",
       "      <td>10.98</td>\n",
       "      <td>1276.2167</td>\n",
       "    </tr>\n",
       "  </tbody>\n",
       "</table>\n",
       "</div>"
      ],
      "text/plain": [
       "   WF Price  Predicted Sales\n",
       "0      9.98        1296.9295\n",
       "1     10.48        1292.4001\n",
       "2     10.98        1276.2167"
      ]
     },
     "execution_count": 27,
     "metadata": {},
     "output_type": "execute_result"
    }
   ],
   "source": [
    "rf_predicted_sales = pd.DataFrame({\n",
    "    'WF Price': price_scenarios,\n",
    "    'Predicted Sales': rf_sales_predictions\n",
    "})\n",
    "\n",
    "rf_predicted_sales"
   ]
  },
  {
   "cell_type": "markdown",
   "id": "9b6df190-2e7c-4aa9-8b9b-5cc999576394",
   "metadata": {},
   "source": [
    "The predicted sales values decrease slightly as the price increases. Now, this makes sense:\n",
    "\n",
    "- Lower prices typically attract higher demand.\n",
    "- The difference between the highest predicted sales (9.98/lb: 1296.93 units) and the lowest (10.98/lb: 1276.22 units) is only around 20 units.\n",
    "\n",
    "Howeever, real data will lead to real and more insightful results.\n",
    "\n",
    "Let's try calculate the Revenue:\n",
    "\n",
    "$$\n",
    "\\text{Revenue} = \\text{Price} \\times \\text{Predicted Sales}\n",
    "$$"
   ]
  },
  {
   "cell_type": "code",
   "execution_count": 28,
   "id": "086cabc4-f35b-48e6-bacb-10568fe2637a",
   "metadata": {},
   "outputs": [
    {
     "data": {
      "text/html": [
       "<div>\n",
       "<style scoped>\n",
       "    .dataframe tbody tr th:only-of-type {\n",
       "        vertical-align: middle;\n",
       "    }\n",
       "\n",
       "    .dataframe tbody tr th {\n",
       "        vertical-align: top;\n",
       "    }\n",
       "\n",
       "    .dataframe thead th {\n",
       "        text-align: right;\n",
       "    }\n",
       "</style>\n",
       "<table border=\"1\" class=\"dataframe\">\n",
       "  <thead>\n",
       "    <tr style=\"text-align: right;\">\n",
       "      <th></th>\n",
       "      <th>WF Price</th>\n",
       "      <th>Predicted Sales</th>\n",
       "      <th>Revenue</th>\n",
       "    </tr>\n",
       "  </thead>\n",
       "  <tbody>\n",
       "    <tr>\n",
       "      <th>0</th>\n",
       "      <td>9.98</td>\n",
       "      <td>1296.9295</td>\n",
       "      <td>12943.356410</td>\n",
       "    </tr>\n",
       "    <tr>\n",
       "      <th>1</th>\n",
       "      <td>10.48</td>\n",
       "      <td>1292.4001</td>\n",
       "      <td>13544.353048</td>\n",
       "    </tr>\n",
       "    <tr>\n",
       "      <th>2</th>\n",
       "      <td>10.98</td>\n",
       "      <td>1276.2167</td>\n",
       "      <td>14012.859366</td>\n",
       "    </tr>\n",
       "  </tbody>\n",
       "</table>\n",
       "</div>"
      ],
      "text/plain": [
       "   WF Price  Predicted Sales       Revenue\n",
       "0      9.98        1296.9295  12943.356410\n",
       "1     10.48        1292.4001  13544.353048\n",
       "2     10.98        1276.2167  14012.859366"
      ]
     },
     "execution_count": 28,
     "metadata": {},
     "output_type": "execute_result"
    }
   ],
   "source": [
    "rf_predicted_sales['Revenue'] = rf_predicted_sales['WF Price'] * rf_predicted_sales['Predicted Sales']\n",
    "rf_predicted_sales"
   ]
  },
  {
   "cell_type": "markdown",
   "id": "5237712d-ef79-4531-b788-65dfad13927d",
   "metadata": {},
   "source": [
    "**Most important feature from the Random Forest Model -> Log_NetSales.**"
   ]
  },
  {
   "cell_type": "code",
   "execution_count": 29,
   "id": "ad06416e-bcae-45a0-b7d2-565baa4e3aaf",
   "metadata": {},
   "outputs": [
    {
     "data": {
      "image/png": "[encoded data removed]",
      "text/plain": [
       "<Figure size 1000x600 with 1 Axes>"
      ]
     },
     "metadata": {},
     "output_type": "display_data"
    }
   ],
   "source": [
    "feature_importances = rf_model.feature_importances_\n",
    "features = X_train_rfe.columns\n",
    "\n",
    "\n",
    "plt.figure(figsize=(10, 6))\n",
    "plt.barh(features, feature_importances)\n",
    "plt.xlabel('Feature Importance')\n",
    "plt.ylabel('Features')\n",
    "plt.title('Random Forest -> Feature Importance')\n",
    "plt.show()"
   ]
  },
  {
   "cell_type": "markdown",
   "id": "3689d7fd-4b64-4622-8ae7-e80c3d4326b9",
   "metadata": {},
   "source": [
    "Let's quickly analyze if the model had a good performance:"
   ]
  },
  {
   "cell_type": "code",
   "execution_count": 30,
   "id": "5fc867be-8f64-41d5-b0fb-f8b5060b04da",
   "metadata": {},
   "outputs": [],
   "source": [
    "train_rmse = mean_squared_error(y_train, rf_model.predict(X_train_rfe), squared = False)\n",
    "val_rmse = mean_squared_error(y_val, rf_model.predict(X_val_rfe), squared = False)\n",
    "rmse_test = mean_squared_error(y_test, rf_model.predict(X_test_rfe), squared = False)\n",
    "\n",
    "train_r2 = r2_score(y_train, rf_model.predict(X_train_rfe))\n",
    "val_r2 = r2_score(y_val, rf_model.predict(X_val_rfe))\n",
    "test_r2 = r2_score(y_test, rf_model.predict(X_test_rfe))\n",
    "\n",
    "train_mae = mean_absolute_error(y_train, rf_model.predict(X_train_rfe))\n",
    "val_mae = mean_absolute_error(y_val, rf_model.predict(X_val_rfe))\n",
    "test_mae = mean_absolute_error(y_test, rf_model.predict(X_test_rfe))"
   ]
  },
  {
   "cell_type": "code",
   "execution_count": 32,
   "id": "71e52d36-5546-4aaa-840a-f66ee118380a",
   "metadata": {},
   "outputs": [
    {
     "data": {
      "text/html": [
       "<div>\n",
       "<style scoped>\n",
       "    .dataframe tbody tr th:only-of-type {\n",
       "        vertical-align: middle;\n",
       "    }\n",
       "\n",
       "    .dataframe tbody tr th {\n",
       "        vertical-align: top;\n",
       "    }\n",
       "\n",
       "    .dataframe thead th {\n",
       "        text-align: right;\n",
       "    }\n",
       "</style>\n",
       "<table border=\"1\" class=\"dataframe\">\n",
       "  <thead>\n",
       "    <tr style=\"text-align: right;\">\n",
       "      <th></th>\n",
       "      <th>Set</th>\n",
       "      <th>RMSE</th>\n",
       "      <th>R^2</th>\n",
       "      <th>MAE</th>\n",
       "    </tr>\n",
       "  </thead>\n",
       "  <tbody>\n",
       "    <tr>\n",
       "      <th>0</th>\n",
       "      <td>Training</td>\n",
       "      <td>38.432758</td>\n",
       "      <td>0.976473</td>\n",
       "      <td>12.795311</td>\n",
       "    </tr>\n",
       "    <tr>\n",
       "      <th>1</th>\n",
       "      <td>Validation</td>\n",
       "      <td>82.749574</td>\n",
       "      <td>0.952828</td>\n",
       "      <td>61.767575</td>\n",
       "    </tr>\n",
       "    <tr>\n",
       "      <th>2</th>\n",
       "      <td>Testing</td>\n",
       "      <td>38.567854</td>\n",
       "      <td>0.987273</td>\n",
       "      <td>16.187350</td>\n",
       "    </tr>\n",
       "  </tbody>\n",
       "</table>\n",
       "</div>"
      ],
      "text/plain": [
       "          Set       RMSE       R^2        MAE\n",
       "0    Training  38.432758  0.976473  12.795311\n",
       "1  Validation  82.749574  0.952828  61.767575\n",
       "2     Testing  38.567854  0.987273  16.187350"
      ]
     },
     "execution_count": 32,
     "metadata": {},
     "output_type": "execute_result"
    }
   ],
   "source": [
    "metrics_rf_df = {\n",
    "    'Set': ['Training', 'Validation', 'Testing'],\n",
    "    'RMSE': [train_rmse, val_rmse, test_rmse],\n",
    "    'R^2': [train_r2, val_r2, test_r2],\n",
    "    'MAE': [train_mae, val_mae, test_mae]\n",
    "}\n",
    "\n",
    "metrics_rf_df = pd.DataFrame(metrics_rf_df)\n",
    "metrics_rf_df"
   ]
  },
  {
   "cell_type": "markdown",
   "id": "f4f52978-0db1-413e-9793-48bbf0191b2d",
   "metadata": {},
   "source": [
    "- Both R-squared for training and testing are very strong. Indicating the model fits well and generalizes effectively for unseen test data.\n",
    "- Low RMSE and MAE for the test set suggest the model performs very well on unseen data that resembels the training distirbution.\n",
    "- The residual variability could indicate some room for imporvement (cross valdiation)."
   ]
  },
  {
   "cell_type": "markdown",
   "id": "d42b0af5-3d63-4e88-aec5-6545d68b3e3a",
   "metadata": {},
   "source": [
    "## Conclusion\n",
    "\n",
    "**What are the most impactful features for sales prediction, and how can feature selection techniques improve model performance? what the most impactful features are for sales prediction and how feature selection techniques can improve model’s performance. By selecting the top 5 most impactful features, we simplified the model without losing predictive accuracy. Obviously, this reduced the risk of overfitting by removing irrelevant features. One important thing to note here is that even with fewer features, the Random Forest model achieved good R-squared scores demonstrating that feature selection retained the most predictive information!**\n",
    "\n",
    "Linear Regression vs Random Forest\n",
    "\n",
    "**The Random Forest model showed better generalization for sales prediction. The \"log_net_sales\" were the most dominant feature withi the dataset contributing nearly 90% of the predictive power.**"
   ]
  },
  {
   "cell_type": "markdown",
   "id": "f4ebea4d-eb2c-44ef-a719-d1a8d4da0d59",
   "metadata": {},
   "source": [
    "# Key Question 4:\n",
    "\n",
    "**Can we segment my pricing strategies by income level (regionally) to maximize customer accessibility and profitabilty?**\n",
    "\n",
    "Regional pricing is very important because companies may set lower prices to attract price sensitive customers, while in less competitive regions, higher prices may be sustainable. This strategy could also help manage supply chain issues. For example, a surplus of PLU 1155 in one store may lead to regional discounts to quickly push that inventory.\n",
    "\n",
    "The following information can be easily found in Snowflake. I don’t feel it is necessary to generate a huge dataset when regional pricing can be analyzed in a more targeted way. The Southwest (SW) region is a focus area that we will be exploring very soon, with intentions of modeling pricing strategies based on income ranges in the future.\n",
    "\n",
    "The following dummy dataframes contain cities from the SW region, median income sourced from Google search (although BLS should be the direct source), sales volume, discount binary data features, average historical prices, and competition data."
   ]
  },
  {
   "cell_type": "code",
   "execution_count": 40,
   "id": "bf046e3c-db44-4912-80a0-dc9ca5cd82df",
   "metadata": {},
   "outputs": [],
   "source": [
    "# Dummy BLS and Google Search data for SW region\n",
    "bls_income_data = pd.DataFrame({\n",
    "    'Region': ['Fort Worth', 'Dallas', 'Plano', 'Irving', 'Arlington'],\n",
    "    'Median_Income': [37699, 37395, 52926, 39682, 35917]\n",
    "})\n",
    "\n",
    "# Dummy sales data for the SW region\n",
    "sales_data = pd.DataFrame({\n",
    "    'PLU': [1155, 1155, 1155, 1155, 1155],\n",
    "    'Region': ['Fort Worth', 'Dallas', 'Plano', 'Irving', 'Arlington'],\n",
    "    'Price': [9.98, 10.98, 11.98, 8.98, 12.98], # current pricing for each city wihtin the region\n",
    "    'Sales_Volume': [1200, 1500, 800, 950, 1100],\n",
    "    'Discount_Flag': [0, 1, 0, 1, 0]\n",
    "})\n",
    "\n",
    "# Dummy historical pricing data for the same PLU and region\n",
    "pricing_data = pd.DataFrame({\n",
    "    'Region': ['Fort Worth', 'Dallas', 'Plano', 'Irving', 'Arlington'],\n",
    "    'Avg_Historical_Price': [9.50, 10.25, 11.00, 9.80, 9.60],\n",
    "    'Competitor_Price': [9.89, 10.00, 12.25, 9.99, 11.80]\n",
    "})"
   ]
  },
  {
   "cell_type": "markdown",
   "id": "b7f4663b-d3e7-41dd-8fba-1e068cc68aab",
   "metadata": {},
   "source": [
    "We wil apply log transformation into the price elasticity function including the the small constant to get much more precise estimates. We're also including optimal pricing to it to identify the pric epoint within each income segment (low, middle, high)"
   ]
  },
  {
   "cell_type": "code",
   "execution_count": 41,
   "id": "acf419ed-56d3-4c06-af64-806e3e8d0a89",
   "metadata": {},
   "outputs": [],
   "source": [
    "# Merging the data\n",
    "merged_data = sales_data.merge(bls_income_data, on = 'Region', how = 'left')\n",
    "merged_data = merged_data.merge(pricing_data, on = 'Region', how = 'left')\n",
    "\n",
    "# Segmenting SW region by income levels\n",
    "def income_segment(income):\n",
    "    if income < 38000: # low income based on media income scenarios\n",
    "        return 'Low Income'\n",
    "    elif 38000 <= income <= 50000: # middle income range\n",
    "        return 'Middle Income'\n",
    "    else:\n",
    "        return 'High Income'\n",
    "\n",
    "merged_data['Income_Segment'] = merged_data['Median_Income'].apply(income_segment)\n",
    "\n",
    "# Elasticity -> using log-log transformation\n",
    "def calculate_elasticity(df):\n",
    "    df['log_price'] = np.log1p(df['Price'])\n",
    "    df['log_sales'] = np.log1p(df['Sales_Volume'])\n",
    "    coefficients = np.polyfit(df['log_price'], df['log_sales'], deg = 1)\n",
    "    return coefficients[0] # coefficient\n",
    "\n",
    "elasticity_results = []\n",
    "for segment in merged_data['Income_Segment'].unique():\n",
    "    segment_data = merged_data[merged_data['Income_Segment'] == segment]\n",
    "    elasticity = calculate_elasticity(segment_data)\n",
    "    elasticity_results.append({'Income_Segment': segment, 'Elasticity': elasticity})\n",
    "\n",
    "elasticity_df = pd.DataFrame(elasticity_results)\n",
    "\n",
    "# Optimal pricing\n",
    "optimal_prices = []\n",
    "for segment in merged_data['Income_Segment'].unique():\n",
    "    segment_data = merged_data[merged_data['Income_Segment'] == segment]\n",
    "    segment_data['Revenue'] = segment_data['Price'] * segment_data['Sales_Volume'] # revenue = price x sales volume\n",
    "    max_revenue_row = segment_data.loc[segment_data['Revenue'].idxmax()] # getting price with maximum revenue\n",
    "    optimal_prices.append({'Income_Segment': segment, 'Optimal_Price': max_revenue_row['Price']})\n",
    "\n",
    "optimal_prices_df = pd.DataFrame(optimal_prices)"
   ]
  },
  {
   "cell_type": "code",
   "execution_count": 43,
   "id": "6b09dc8d-4760-4bab-87fb-5b4e15520046",
   "metadata": {},
   "outputs": [
    {
     "data": {
      "text/html": [
       "<div>\n",
       "<style scoped>\n",
       "    .dataframe tbody tr th:only-of-type {\n",
       "        vertical-align: middle;\n",
       "    }\n",
       "\n",
       "    .dataframe tbody tr th {\n",
       "        vertical-align: top;\n",
       "    }\n",
       "\n",
       "    .dataframe thead th {\n",
       "        text-align: right;\n",
       "    }\n",
       "</style>\n",
       "<table border=\"1\" class=\"dataframe\">\n",
       "  <thead>\n",
       "    <tr style=\"text-align: right;\">\n",
       "      <th></th>\n",
       "      <th>Region</th>\n",
       "      <th>Income_Segment</th>\n",
       "      <th>Elasticity</th>\n",
       "      <th>Optimal_Price</th>\n",
       "    </tr>\n",
       "  </thead>\n",
       "  <tbody>\n",
       "    <tr>\n",
       "      <th>0</th>\n",
       "      <td>Fort Worth</td>\n",
       "      <td>Low Income</td>\n",
       "      <td>-0.550354</td>\n",
       "      <td>10.98</td>\n",
       "    </tr>\n",
       "    <tr>\n",
       "      <th>1</th>\n",
       "      <td>Dallas</td>\n",
       "      <td>Low Income</td>\n",
       "      <td>-0.550354</td>\n",
       "      <td>10.98</td>\n",
       "    </tr>\n",
       "    <tr>\n",
       "      <th>2</th>\n",
       "      <td>Arlington</td>\n",
       "      <td>Low Income</td>\n",
       "      <td>-0.550354</td>\n",
       "      <td>10.98</td>\n",
       "    </tr>\n",
       "    <tr>\n",
       "      <th>3</th>\n",
       "      <td>Plano</td>\n",
       "      <td>High Income</td>\n",
       "      <td>1.304095</td>\n",
       "      <td>11.98</td>\n",
       "    </tr>\n",
       "    <tr>\n",
       "      <th>4</th>\n",
       "      <td>Irving</td>\n",
       "      <td>Middle Income</td>\n",
       "      <td>1.490386</td>\n",
       "      <td>8.98</td>\n",
       "    </tr>\n",
       "  </tbody>\n",
       "</table>\n",
       "</div>"
      ],
      "text/plain": [
       "       Region Income_Segment  Elasticity  Optimal_Price\n",
       "0  Fort Worth     Low Income   -0.550354          10.98\n",
       "1      Dallas     Low Income   -0.550354          10.98\n",
       "2   Arlington     Low Income   -0.550354          10.98\n",
       "3       Plano    High Income    1.304095          11.98\n",
       "4      Irving  Middle Income    1.490386           8.98"
      ]
     },
     "execution_count": 43,
     "metadata": {},
     "output_type": "execute_result"
    }
   ],
   "source": [
    "result_df = pd.merge(elasticity_df, optimal_prices_df, on = 'Income_Segment')\n",
    "\n",
    "region_mapping = merged_data[['Region', 'Income_Segment']].drop_duplicates()\n",
    "result_df = pd.merge(result_df, region_mapping, on = 'Income_Segment')\n",
    "\n",
    "result_df = result_df[['Region', 'Income_Segment', 'Elasticity', 'Optimal_Price']]\n",
    "\n",
    "result_df"
   ]
  },
  {
   "cell_type": "markdown",
   "id": "4aa2e9f0-9639-4ba7-a9b6-9cc403ce0e23",
   "metadata": {},
   "source": [
    "- 0.55 indicates inelastic demand: customers in these regions are less sensitive to price changes.\n",
    "- Price increases won’t significantly reduce sales, so maintaining the price at 10.98/lbs reasonable.\n",
    "- 1.30 and 1.49 indicate elastic demand, customeres here are price sensitive.\n",
    "- Lowering price to 8.98/lb in Irving will maximize sales and revenue\n",
    "\n",
    "Low income (10.98), middle income (lower prices to 8.98/lb to capture more sales), and hgh income (prices at 11.98/lb for maximum profitability."
   ]
  },
  {
   "cell_type": "markdown",
   "id": "50717e9c-7af3-4346-b226-76da0bf53f33",
   "metadata": {},
   "source": [
    "**Can we segment my pricing strategies by income level (regionally) to maximize customer accessibility and profitabilty? Yes, by analyzing regional income ranges, we could set lower prices in price sensitive areas to attract customers and higher prices in regions with stronger purchasing power to maximize margins.**"
   ]
  }
 ],
 "metadata": {
  "kernelspec": {
   "display_name": "Python 3 (ipykernel)",
   "language": "python",
   "name": "python3"
  },
  "language_info": {
   "codemirror_mode": {
    "name": "ipython",
    "version": 3
   },
   "file_extension": ".py",
   "mimetype": "text/x-python",
   "name": "python",
   "nbconvert_exporter": "python",
   "pygments_lexer": "ipython3",
   "version": "3.9.12"
  }
 },
 "nbformat": 4,
 "nbformat_minor": 5
}

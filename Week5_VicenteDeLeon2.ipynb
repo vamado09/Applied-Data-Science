{
  "nbformat": 4,
  "nbformat_minor": 0,
  "metadata": {
    "colab": {
      "provenance": [],
      "authorship_tag": "ABX9TyPuhqcoYPFoq2agr0IuToLq",
      "include_colab_link": true
    },
    "kernelspec": {
      "name": "python3",
      "display_name": "Python 3"
    },
    "language_info": {
      "name": "python"
    }
  },
  "cells": [
    {
      "cell_type": "markdown",
      "metadata": {
        "id": "view-in-github",
        "colab_type": "text"
      },
      "source": [
        "<a href=\"https://colab.research.google.com/github/vamado09/Applied-Data-Science/blob/main/Week5_VicenteDeLeon2.ipynb\" target=\"_parent\"><img src=\"https://colab.research.google.com/assets/colab-badge.svg\" alt=\"Open In Colab\"/></a>"
      ]
    },
    {
      "cell_type": "markdown",
      "source": [
        "Vicente De Leon\n",
        "\n",
        "IU_id: 2001014594\n",
        "\n",
        "APPLIED DATA SCIENCE: 9998"
      ],
      "metadata": {
        "id": "nL7JKPLBlYpc"
      }
    },
    {
      "cell_type": "code",
      "execution_count": null,
      "metadata": {
        "id": "8Er5K-rblUfP"
      },
      "outputs": [],
      "source": [
        "!pip install factor_analyzer"
      ]
    },
    {
      "cell_type": "code",
      "source": [
        "import pandas as pd\n",
        "from sklearn import datasets\n",
        "import numpy as np\n",
        "from sklearn.preprocessing import StandardScaler\n",
        "from factor_analyzer import FactorAnalyzer # from R package psych\n",
        "from sklearn.decomposition import FactorAnalysis, PCA\n",
        "import matplotlib.pyplot as plt\n",
        "from factor_analyzer.factor_analyzer import calculate_bartlett_sphericity\n",
        "from factor_analyzer.factor_analyzer import calculate_kmo\n",
        "\n",
        "%matplotlib inline\n",
        "import warnings\n",
        "warnings.filterwarnings('ignore')"
      ],
      "metadata": {
        "id": "AFGFf-dbmTgW"
      },
      "execution_count": 2,
      "outputs": []
    },
    {
      "cell_type": "code",
      "source": [
        "iris = datasets.load_iris()\n",
        "\n",
        "iris_X = StandardScaler().fit_transform(iris['data'])\n",
        "pd.DataFrame(iris_X).head()"
      ],
      "metadata": {
        "colab": {
          "base_uri": "https://localhost:8080/",
          "height": 201
        },
        "id": "0g4Tct-xmluQ",
        "outputId": "c3b0f318-97cb-4998-8fe5-7a780515d255"
      },
      "execution_count": 3,
      "outputs": [
        {
          "output_type": "execute_result",
          "data": {
            "text/plain": [
              "          0         1         2         3\n",
              "0 -0.900681  1.019004 -1.340227 -1.315444\n",
              "1 -1.143017 -0.131979 -1.340227 -1.315444\n",
              "2 -1.385353  0.328414 -1.397064 -1.315444\n",
              "3 -1.506521  0.098217 -1.283389 -1.315444\n",
              "4 -1.021849  1.249201 -1.340227 -1.315444"
            ],
            "text/html": [
              "\n",
              "  <div id=\"df-38c41ca8-c5c8-4b64-9218-0bc2bd4c8e75\" class=\"colab-df-container\">\n",
              "    <div>\n",
              "<style scoped>\n",
              "    .dataframe tbody tr th:only-of-type {\n",
              "        vertical-align: middle;\n",
              "    }\n",
              "\n",
              "    .dataframe tbody tr th {\n",
              "        vertical-align: top;\n",
              "    }\n",
              "\n",
              "    .dataframe thead th {\n",
              "        text-align: right;\n",
              "    }\n",
              "</style>\n",
              "<table border=\"1\" class=\"dataframe\">\n",
              "  <thead>\n",
              "    <tr style=\"text-align: right;\">\n",
              "      <th></th>\n",
              "      <th>0</th>\n",
              "      <th>1</th>\n",
              "      <th>2</th>\n",
              "      <th>3</th>\n",
              "    </tr>\n",
              "  </thead>\n",
              "  <tbody>\n",
              "    <tr>\n",
              "      <th>0</th>\n",
              "      <td>-0.900681</td>\n",
              "      <td>1.019004</td>\n",
              "      <td>-1.340227</td>\n",
              "      <td>-1.315444</td>\n",
              "    </tr>\n",
              "    <tr>\n",
              "      <th>1</th>\n",
              "      <td>-1.143017</td>\n",
              "      <td>-0.131979</td>\n",
              "      <td>-1.340227</td>\n",
              "      <td>-1.315444</td>\n",
              "    </tr>\n",
              "    <tr>\n",
              "      <th>2</th>\n",
              "      <td>-1.385353</td>\n",
              "      <td>0.328414</td>\n",
              "      <td>-1.397064</td>\n",
              "      <td>-1.315444</td>\n",
              "    </tr>\n",
              "    <tr>\n",
              "      <th>3</th>\n",
              "      <td>-1.506521</td>\n",
              "      <td>0.098217</td>\n",
              "      <td>-1.283389</td>\n",
              "      <td>-1.315444</td>\n",
              "    </tr>\n",
              "    <tr>\n",
              "      <th>4</th>\n",
              "      <td>-1.021849</td>\n",
              "      <td>1.249201</td>\n",
              "      <td>-1.340227</td>\n",
              "      <td>-1.315444</td>\n",
              "    </tr>\n",
              "  </tbody>\n",
              "</table>\n",
              "</div>\n",
              "    <div class=\"colab-df-buttons\">\n",
              "\n",
              "  <div class=\"colab-df-container\">\n",
              "    <button class=\"colab-df-convert\" onclick=\"convertToInteractive('df-38c41ca8-c5c8-4b64-9218-0bc2bd4c8e75')\"\n",
              "            title=\"Convert this dataframe to an interactive table.\"\n",
              "            style=\"display:none;\">\n",
              "\n",
              "  <svg xmlns=\"http://www.w3.org/2000/svg\" height=\"24px\" viewBox=\"0 -960 960 960\">\n",
              "    <path d=\"M120-120v-720h720v720H120Zm60-500h600v-160H180v160Zm220 220h160v-160H400v160Zm0 220h160v-160H400v160ZM180-400h160v-160H180v160Zm440 0h160v-160H620v160ZM180-180h160v-160H180v160Zm440 0h160v-160H620v160Z\"/>\n",
              "  </svg>\n",
              "    </button>\n",
              "\n",
              "  <style>\n",
              "    .colab-df-container {\n",
              "      display:flex;\n",
              "      gap: 12px;\n",
              "    }\n",
              "\n",
              "    .colab-df-convert {\n",
              "      background-color: #E8F0FE;\n",
              "      border: none;\n",
              "      border-radius: 50%;\n",
              "      cursor: pointer;\n",
              "      display: none;\n",
              "      fill: #1967D2;\n",
              "      height: 32px;\n",
              "      padding: 0 0 0 0;\n",
              "      width: 32px;\n",
              "    }\n",
              "\n",
              "    .colab-df-convert:hover {\n",
              "      background-color: #E2EBFA;\n",
              "      box-shadow: 0px 1px 2px rgba(60, 64, 67, 0.3), 0px 1px 3px 1px rgba(60, 64, 67, 0.15);\n",
              "      fill: #174EA6;\n",
              "    }\n",
              "\n",
              "    .colab-df-buttons div {\n",
              "      margin-bottom: 4px;\n",
              "    }\n",
              "\n",
              "    [theme=dark] .colab-df-convert {\n",
              "      background-color: #3B4455;\n",
              "      fill: #D2E3FC;\n",
              "    }\n",
              "\n",
              "    [theme=dark] .colab-df-convert:hover {\n",
              "      background-color: #434B5C;\n",
              "      box-shadow: 0px 1px 3px 1px rgba(0, 0, 0, 0.15);\n",
              "      filter: drop-shadow(0px 1px 2px rgba(0, 0, 0, 0.3));\n",
              "      fill: #FFFFFF;\n",
              "    }\n",
              "  </style>\n",
              "\n",
              "    <script>\n",
              "      const buttonEl =\n",
              "        document.querySelector('#df-38c41ca8-c5c8-4b64-9218-0bc2bd4c8e75 button.colab-df-convert');\n",
              "      buttonEl.style.display =\n",
              "        google.colab.kernel.accessAllowed ? 'block' : 'none';\n",
              "\n",
              "      async function convertToInteractive(key) {\n",
              "        const element = document.querySelector('#df-38c41ca8-c5c8-4b64-9218-0bc2bd4c8e75');\n",
              "        const dataTable =\n",
              "          await google.colab.kernel.invokeFunction('convertToInteractive',\n",
              "                                                    [key], {});\n",
              "        if (!dataTable) return;\n",
              "\n",
              "        const docLinkHtml = 'Like what you see? Visit the ' +\n",
              "          '<a target=\"_blank\" href=https://colab.research.google.com/notebooks/data_table.ipynb>data table notebook</a>'\n",
              "          + ' to learn more about interactive tables.';\n",
              "        element.innerHTML = '';\n",
              "        dataTable['output_type'] = 'display_data';\n",
              "        await google.colab.output.renderOutput(dataTable, element);\n",
              "        const docLink = document.createElement('div');\n",
              "        docLink.innerHTML = docLinkHtml;\n",
              "        element.appendChild(docLink);\n",
              "      }\n",
              "    </script>\n",
              "  </div>\n",
              "\n",
              "\n",
              "<div id=\"df-bc29eff0-040b-42cd-ba96-9d7f1902ad66\">\n",
              "  <button class=\"colab-df-quickchart\" onclick=\"quickchart('df-bc29eff0-040b-42cd-ba96-9d7f1902ad66')\"\n",
              "            title=\"Suggest charts\"\n",
              "            style=\"display:none;\">\n",
              "\n",
              "<svg xmlns=\"http://www.w3.org/2000/svg\" height=\"24px\"viewBox=\"0 0 24 24\"\n",
              "     width=\"24px\">\n",
              "    <g>\n",
              "        <path d=\"M19 3H5c-1.1 0-2 .9-2 2v14c0 1.1.9 2 2 2h14c1.1 0 2-.9 2-2V5c0-1.1-.9-2-2-2zM9 17H7v-7h2v7zm4 0h-2V7h2v10zm4 0h-2v-4h2v4z\"/>\n",
              "    </g>\n",
              "</svg>\n",
              "  </button>\n",
              "\n",
              "<style>\n",
              "  .colab-df-quickchart {\n",
              "      --bg-color: #E8F0FE;\n",
              "      --fill-color: #1967D2;\n",
              "      --hover-bg-color: #E2EBFA;\n",
              "      --hover-fill-color: #174EA6;\n",
              "      --disabled-fill-color: #AAA;\n",
              "      --disabled-bg-color: #DDD;\n",
              "  }\n",
              "\n",
              "  [theme=dark] .colab-df-quickchart {\n",
              "      --bg-color: #3B4455;\n",
              "      --fill-color: #D2E3FC;\n",
              "      --hover-bg-color: #434B5C;\n",
              "      --hover-fill-color: #FFFFFF;\n",
              "      --disabled-bg-color: #3B4455;\n",
              "      --disabled-fill-color: #666;\n",
              "  }\n",
              "\n",
              "  .colab-df-quickchart {\n",
              "    background-color: var(--bg-color);\n",
              "    border: none;\n",
              "    border-radius: 50%;\n",
              "    cursor: pointer;\n",
              "    display: none;\n",
              "    fill: var(--fill-color);\n",
              "    height: 32px;\n",
              "    padding: 0;\n",
              "    width: 32px;\n",
              "  }\n",
              "\n",
              "  .colab-df-quickchart:hover {\n",
              "    background-color: var(--hover-bg-color);\n",
              "    box-shadow: 0 1px 2px rgba(60, 64, 67, 0.3), 0 1px 3px 1px rgba(60, 64, 67, 0.15);\n",
              "    fill: var(--button-hover-fill-color);\n",
              "  }\n",
              "\n",
              "  .colab-df-quickchart-complete:disabled,\n",
              "  .colab-df-quickchart-complete:disabled:hover {\n",
              "    background-color: var(--disabled-bg-color);\n",
              "    fill: var(--disabled-fill-color);\n",
              "    box-shadow: none;\n",
              "  }\n",
              "\n",
              "  .colab-df-spinner {\n",
              "    border: 2px solid var(--fill-color);\n",
              "    border-color: transparent;\n",
              "    border-bottom-color: var(--fill-color);\n",
              "    animation:\n",
              "      spin 1s steps(1) infinite;\n",
              "  }\n",
              "\n",
              "  @keyframes spin {\n",
              "    0% {\n",
              "      border-color: transparent;\n",
              "      border-bottom-color: var(--fill-color);\n",
              "      border-left-color: var(--fill-color);\n",
              "    }\n",
              "    20% {\n",
              "      border-color: transparent;\n",
              "      border-left-color: var(--fill-color);\n",
              "      border-top-color: var(--fill-color);\n",
              "    }\n",
              "    30% {\n",
              "      border-color: transparent;\n",
              "      border-left-color: var(--fill-color);\n",
              "      border-top-color: var(--fill-color);\n",
              "      border-right-color: var(--fill-color);\n",
              "    }\n",
              "    40% {\n",
              "      border-color: transparent;\n",
              "      border-right-color: var(--fill-color);\n",
              "      border-top-color: var(--fill-color);\n",
              "    }\n",
              "    60% {\n",
              "      border-color: transparent;\n",
              "      border-right-color: var(--fill-color);\n",
              "    }\n",
              "    80% {\n",
              "      border-color: transparent;\n",
              "      border-right-color: var(--fill-color);\n",
              "      border-bottom-color: var(--fill-color);\n",
              "    }\n",
              "    90% {\n",
              "      border-color: transparent;\n",
              "      border-bottom-color: var(--fill-color);\n",
              "    }\n",
              "  }\n",
              "</style>\n",
              "\n",
              "  <script>\n",
              "    async function quickchart(key) {\n",
              "      const quickchartButtonEl =\n",
              "        document.querySelector('#' + key + ' button');\n",
              "      quickchartButtonEl.disabled = true;  // To prevent multiple clicks.\n",
              "      quickchartButtonEl.classList.add('colab-df-spinner');\n",
              "      try {\n",
              "        const charts = await google.colab.kernel.invokeFunction(\n",
              "            'suggestCharts', [key], {});\n",
              "      } catch (error) {\n",
              "        console.error('Error during call to suggestCharts:', error);\n",
              "      }\n",
              "      quickchartButtonEl.classList.remove('colab-df-spinner');\n",
              "      quickchartButtonEl.classList.add('colab-df-quickchart-complete');\n",
              "    }\n",
              "    (() => {\n",
              "      let quickchartButtonEl =\n",
              "        document.querySelector('#df-bc29eff0-040b-42cd-ba96-9d7f1902ad66 button');\n",
              "      quickchartButtonEl.style.display =\n",
              "        google.colab.kernel.accessAllowed ? 'block' : 'none';\n",
              "    })();\n",
              "  </script>\n",
              "</div>\n",
              "\n",
              "    </div>\n",
              "  </div>\n"
            ],
            "application/vnd.google.colaboratory.intrinsic+json": {
              "type": "dataframe",
              "summary": "{\n  \"name\": \"pd\",\n  \"rows\": 5,\n  \"fields\": [\n    {\n      \"column\": 0,\n      \"properties\": {\n        \"dtype\": \"number\",\n        \"std\": 0.2512590439362386,\n        \"min\": -1.5065205225160663,\n        \"max\": -0.9006811702978099,\n        \"num_unique_values\": 5,\n        \"samples\": [\n          -1.1430169111851116,\n          -1.0218490407414607,\n          -1.3853526520724144\n        ],\n        \"semantic_type\": \"\",\n        \"description\": \"\"\n      }\n    },\n    {\n      \"column\": 1,\n      \"properties\": {\n        \"dtype\": \"number\",\n        \"std\": 0.5958495556873261,\n        \"min\": -0.1319794793216258,\n        \"max\": 1.2492011182302531,\n        \"num_unique_values\": 5,\n        \"samples\": [\n          -0.1319794793216258,\n          1.2492011182302531,\n          0.3284140531956675\n        ],\n        \"semantic_type\": \"\",\n        \"description\": \"\"\n      }\n    },\n    {\n      \"column\": 2,\n      \"properties\": {\n        \"dtype\": \"number\",\n        \"std\": 0.04019012999580358,\n        \"min\": -1.3970639535363667,\n        \"max\": -1.2833890997091604,\n        \"num_unique_values\": 3,\n        \"samples\": [\n          -1.3402265266227635,\n          -1.3970639535363667,\n          -1.2833890997091604\n        ],\n        \"semantic_type\": \"\",\n        \"description\": \"\"\n      }\n    },\n    {\n      \"column\": 3,\n      \"properties\": {\n        \"dtype\": \"number\",\n        \"std\": 0.0,\n        \"min\": -1.3154442950077407,\n        \"max\": -1.3154442950077407,\n        \"num_unique_values\": 1,\n        \"samples\": [\n          -1.3154442950077407\n        ],\n        \"semantic_type\": \"\",\n        \"description\": \"\"\n      }\n    }\n  ]\n}"
            }
          },
          "metadata": {},
          "execution_count": 3
        }
      ]
    },
    {
      "cell_type": "code",
      "source": [
        "feature_names = iris['feature_names']"
      ],
      "metadata": {
        "id": "KGOZA6gEm2kk"
      },
      "execution_count": 4,
      "outputs": []
    },
    {
      "cell_type": "markdown",
      "source": [
        "# Covariance Matrix"
      ],
      "metadata": {
        "id": "61nfFyYxnBDr"
      }
    },
    {
      "cell_type": "code",
      "source": [
        "plt.figure()\n",
        "ax = plt.axes()\n",
        "im = ax.imshow(np.corrcoef(iris_X.T), cmap='RdBu', vmin=-1, vmax=1)\n",
        "ax.set_xticks([0, 1, 2, 3])\n",
        "ax.set_xticklabels(list(feature_names), rotation=90)\n",
        "ax.set_yticks([0, 1, 2, 3])\n",
        "ax.set_yticklabels(list(feature_names))\n",
        "plt.colorbar(im)\n",
        "ax.set_title('Iris feature correlation matrix')\n",
        "plt.tight_layout()\n",
        "plt.show()"
      ],
      "metadata": {
        "colab": {
          "base_uri": "https://localhost:8080/",
          "height": 487
        },
        "id": "W00FzV5Am8WV",
        "outputId": "1611c2a9-e2f8-4638-a24a-e4786a3b0bfb"
      },
      "execution_count": 5,
      "outputs": [
        {
          "output_type": "display_data",
          "data": {
            "text/plain": [
              "<Figure size 640x480 with 2 Axes>"
            ],
            "image/png": "[encoded data removed]"
          },
          "metadata": {}
        }
      ]
    },
    {
      "cell_type": "markdown",
      "source": [
        "I like working with heat maps, I had this project at work in which I collected NPS data from customer services to determine which store and distribution centar had the most negative sentiment. Really cool visualization!"
      ],
      "metadata": {
        "id": "nzzfnBhmpU64"
      }
    },
    {
      "cell_type": "markdown",
      "source": [
        "# Adequacy Test\n",
        "\n",
        "**Barlett Spercity**: Bartlett Test of Sphericity is used to check that the correlation matrix of the variables in your dataset diverges significantly from the identity matrix.\n",
        "\n",
        "Good source: https://factor-analyzer.readthedocs.io/en/latest/"
      ],
      "metadata": {
        "id": "T03Da9FOrx8X"
      }
    },
    {
      "cell_type": "code",
      "source": [
        "chi_square_value,p_value = calculate_bartlett_sphericity(iris_X)\n",
        "chi_square_value, p_value"
      ],
      "metadata": {
        "colab": {
          "base_uri": "https://localhost:8080/"
        },
        "id": "BB1WyiPlm8Uh",
        "outputId": "e79ed345-1e1f-48bb-bbeb-0895c284acd2"
      },
      "execution_count": 6,
      "outputs": [
        {
          "output_type": "execute_result",
          "data": {
            "text/plain": [
              "(706.9592430234726, 1.9226796044171964e-149)"
            ]
          },
          "metadata": {},
          "execution_count": 6
        }
      ]
    },
    {
      "cell_type": "markdown",
      "source": [
        "The p-value is extremely low, which means that we can reject the null hypothesis (indicating that the variables are correlated). This makes it suitable for factor analysis."
      ],
      "metadata": {
        "id": "xfcBX33myKDN"
      }
    },
    {
      "cell_type": "markdown",
      "source": [
        "![Screenshot 2024-09-29 at 1.20.10 PM.png](data:image/png;base64,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)"
      ],
      "metadata": {
        "id": "F7z2wrjZzDHB"
      }
    },
    {
      "cell_type": "code",
      "source": [
        "kmo_all,kmo_model = calculate_kmo(iris_X)\n",
        "kmo_model"
      ],
      "metadata": {
        "colab": {
          "base_uri": "https://localhost:8080/"
        },
        "id": "SbA0CPTgm8SK",
        "outputId": "2acc265e-0a86-4a3c-fe6a-34f33ea88122"
      },
      "execution_count": 7,
      "outputs": [
        {
          "output_type": "execute_result",
          "data": {
            "text/plain": [
              "0.540076675009722"
            ]
          },
          "metadata": {},
          "execution_count": 7
        }
      ]
    },
    {
      "cell_type": "markdown",
      "source": [
        "0.504 is the KMO value, which might suggest that the data is not highly suitable for factor analysis.\n",
        "\n",
        "![Screenshot 2024-09-29 at 1.19.00 PM.png](data:image/png;base64,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)"
      ],
      "metadata": {
        "id": "5sTqthrHyXU9"
      }
    },
    {
      "cell_type": "markdown",
      "source": [
        "# Number of Factors"
      ],
      "metadata": {
        "id": "zj9eBLAbthq2"
      }
    },
    {
      "cell_type": "code",
      "source": [
        "fa = FactorAnalyzer()\n",
        "fa.fit(iris_X)\n",
        "\n",
        "# Checking Eigenvalues\n",
        "ev, v = fa.get_eigenvalues()"
      ],
      "metadata": {
        "id": "YpFSbmMjm8Qm"
      },
      "execution_count": 8,
      "outputs": []
    },
    {
      "cell_type": "code",
      "source": [
        "plt.scatter(range(1,iris_X.shape[1]+1),ev)\n",
        "plt.plot(range(1,iris_X.shape[1]+1),ev)\n",
        "plt.title('Scree Plot')\n",
        "plt.xlabel('Factors')\n",
        "plt.ylabel('Eigenvalue')\n",
        "plt.grid()\n",
        "plt.show()"
      ],
      "metadata": {
        "colab": {
          "base_uri": "https://localhost:8080/",
          "height": 471
        },
        "id": "pROcu33im8Ok",
        "outputId": "6ab631c1-f52c-47d1-c69a-fc559f6792dd"
      },
      "execution_count": 9,
      "outputs": [
        {
          "output_type": "display_data",
          "data": {
            "text/plain": [
              "<Figure size 640x480 with 1 Axes>"
            ],
            "image/png": "[encoded data removed]"
          },
          "metadata": {}
        }
      ]
    },
    {
      "cell_type": "markdown",
      "source": [
        "The plot shows that the first two factors eigenvalues greater than 1 (around 3 and 1.5). This suggests that two factors are the most significant for capturing the variance in the dataset."
      ],
      "metadata": {
        "id": "iTqYVcwYzTws"
      }
    },
    {
      "cell_type": "markdown",
      "source": [
        "# Perform Factor Analysis\n",
        "\n",
        "Varimax -> is a technique to make the output of factor analysis easier to interpret by making the loadings more distinct."
      ],
      "metadata": {
        "id": "DzBd3W0ntyNq"
      }
    },
    {
      "cell_type": "code",
      "source": [
        "fa = FactorAnalyzer(rotation = 'varimax', n_factors=2)\n",
        "fa.fit(iris_X, 2, )"
      ],
      "metadata": {
        "colab": {
          "base_uri": "https://localhost:8080/",
          "height": 78
        },
        "id": "BTzHvtlmtxhY",
        "outputId": "faef1e29-ffc5-4b32-d07c-9a48bf764b45"
      },
      "execution_count": 10,
      "outputs": [
        {
          "output_type": "execute_result",
          "data": {
            "text/plain": [
              "FactorAnalyzer(n_factors=2, rotation='varimax', rotation_kwargs={})"
            ],
            "text/html": [
              "<style>#sk-container-id-1 {\n",
              "  /* Definition of color scheme common for light and dark mode */\n",
              "  --sklearn-color-text: black;\n",
              "  --sklearn-color-line: gray;\n",
              "  /* Definition of color scheme for unfitted estimators */\n",
              "  --sklearn-color-unfitted-level-0: #fff5e6;\n",
              "  --sklearn-color-unfitted-level-1: #f6e4d2;\n",
              "  --sklearn-color-unfitted-level-2: #ffe0b3;\n",
              "  --sklearn-color-unfitted-level-3: chocolate;\n",
              "  /* Definition of color scheme for fitted estimators */\n",
              "  --sklearn-color-fitted-level-0: #f0f8ff;\n",
              "  --sklearn-color-fitted-level-1: #d4ebff;\n",
              "  --sklearn-color-fitted-level-2: #b3dbfd;\n",
              "  --sklearn-color-fitted-level-3: cornflowerblue;\n",
              "\n",
              "  /* Specific color for light theme */\n",
              "  --sklearn-color-text-on-default-background: var(--sg-text-color, var(--theme-code-foreground, var(--jp-content-font-color1, black)));\n",
              "  --sklearn-color-background: var(--sg-background-color, var(--theme-background, var(--jp-layout-color0, white)));\n",
              "  --sklearn-color-border-box: var(--sg-text-color, var(--theme-code-foreground, var(--jp-content-font-color1, black)));\n",
              "  --sklearn-color-icon: #696969;\n",
              "\n",
              "  @media (prefers-color-scheme: dark) {\n",
              "    /* Redefinition of color scheme for dark theme */\n",
              "    --sklearn-color-text-on-default-background: var(--sg-text-color, var(--theme-code-foreground, var(--jp-content-font-color1, white)));\n",
              "    --sklearn-color-background: var(--sg-background-color, var(--theme-background, var(--jp-layout-color0, #111)));\n",
              "    --sklearn-color-border-box: var(--sg-text-color, var(--theme-code-foreground, var(--jp-content-font-color1, white)));\n",
              "    --sklearn-color-icon: #878787;\n",
              "  }\n",
              "}\n",
              "\n",
              "#sk-container-id-1 {\n",
              "  color: var(--sklearn-color-text);\n",
              "}\n",
              "\n",
              "#sk-container-id-1 pre {\n",
              "  padding: 0;\n",
              "}\n",
              "\n",
              "#sk-container-id-1 input.sk-hidden--visually {\n",
              "  border: 0;\n",
              "  clip: rect(1px 1px 1px 1px);\n",
              "  clip: rect(1px, 1px, 1px, 1px);\n",
              "  height: 1px;\n",
              "  margin: -1px;\n",
              "  overflow: hidden;\n",
              "  padding: 0;\n",
              "  position: absolute;\n",
              "  width: 1px;\n",
              "}\n",
              "\n",
              "#sk-container-id-1 div.sk-dashed-wrapped {\n",
              "  border: 1px dashed var(--sklearn-color-line);\n",
              "  margin: 0 0.4em 0.5em 0.4em;\n",
              "  box-sizing: border-box;\n",
              "  padding-bottom: 0.4em;\n",
              "  background-color: var(--sklearn-color-background);\n",
              "}\n",
              "\n",
              "#sk-container-id-1 div.sk-container {\n",
              "  /* jupyter's `normalize.less` sets `[hidden] { display: none; }`\n",
              "     but bootstrap.min.css set `[hidden] { display: none !important; }`\n",
              "     so we also need the `!important` here to be able to override the\n",
              "     default hidden behavior on the sphinx rendered scikit-learn.org.\n",
              "     See: https://github.com/scikit-learn/scikit-learn/issues/21755 */\n",
              "  display: inline-block !important;\n",
              "  position: relative;\n",
              "}\n",
              "\n",
              "#sk-container-id-1 div.sk-text-repr-fallback {\n",
              "  display: none;\n",
              "}\n",
              "\n",
              "div.sk-parallel-item,\n",
              "div.sk-serial,\n",
              "div.sk-item {\n",
              "  /* draw centered vertical line to link estimators */\n",
              "  background-image: linear-gradient(var(--sklearn-color-text-on-default-background), var(--sklearn-color-text-on-default-background));\n",
              "  background-size: 2px 100%;\n",
              "  background-repeat: no-repeat;\n",
              "  background-position: center center;\n",
              "}\n",
              "\n",
              "/* Parallel-specific style estimator block */\n",
              "\n",
              "#sk-container-id-1 div.sk-parallel-item::after {\n",
              "  content: \"\";\n",
              "  width: 100%;\n",
              "  border-bottom: 2px solid var(--sklearn-color-text-on-default-background);\n",
              "  flex-grow: 1;\n",
              "}\n",
              "\n",
              "#sk-container-id-1 div.sk-parallel {\n",
              "  display: flex;\n",
              "  align-items: stretch;\n",
              "  justify-content: center;\n",
              "  background-color: var(--sklearn-color-background);\n",
              "  position: relative;\n",
              "}\n",
              "\n",
              "#sk-container-id-1 div.sk-parallel-item {\n",
              "  display: flex;\n",
              "  flex-direction: column;\n",
              "}\n",
              "\n",
              "#sk-container-id-1 div.sk-parallel-item:first-child::after {\n",
              "  align-self: flex-end;\n",
              "  width: 50%;\n",
              "}\n",
              "\n",
              "#sk-container-id-1 div.sk-parallel-item:last-child::after {\n",
              "  align-self: flex-start;\n",
              "  width: 50%;\n",
              "}\n",
              "\n",
              "#sk-container-id-1 div.sk-parallel-item:only-child::after {\n",
              "  width: 0;\n",
              "}\n",
              "\n",
              "/* Serial-specific style estimator block */\n",
              "\n",
              "#sk-container-id-1 div.sk-serial {\n",
              "  display: flex;\n",
              "  flex-direction: column;\n",
              "  align-items: center;\n",
              "  background-color: var(--sklearn-color-background);\n",
              "  padding-right: 1em;\n",
              "  padding-left: 1em;\n",
              "}\n",
              "\n",
              "\n",
              "/* Toggleable style: style used for estimator/Pipeline/ColumnTransformer box that is\n",
              "clickable and can be expanded/collapsed.\n",
              "- Pipeline and ColumnTransformer use this feature and define the default style\n",
              "- Estimators will overwrite some part of the style using the `sk-estimator` class\n",
              "*/\n",
              "\n",
              "/* Pipeline and ColumnTransformer style (default) */\n",
              "\n",
              "#sk-container-id-1 div.sk-toggleable {\n",
              "  /* Default theme specific background. It is overwritten whether we have a\n",
              "  specific estimator or a Pipeline/ColumnTransformer */\n",
              "  background-color: var(--sklearn-color-background);\n",
              "}\n",
              "\n",
              "/* Toggleable label */\n",
              "#sk-container-id-1 label.sk-toggleable__label {\n",
              "  cursor: pointer;\n",
              "  display: block;\n",
              "  width: 100%;\n",
              "  margin-bottom: 0;\n",
              "  padding: 0.5em;\n",
              "  box-sizing: border-box;\n",
              "  text-align: center;\n",
              "}\n",
              "\n",
              "#sk-container-id-1 label.sk-toggleable__label-arrow:before {\n",
              "  /* Arrow on the left of the label */\n",
              "  content: \"▸\";\n",
              "  float: left;\n",
              "  margin-right: 0.25em;\n",
              "  color: var(--sklearn-color-icon);\n",
              "}\n",
              "\n",
              "#sk-container-id-1 label.sk-toggleable__label-arrow:hover:before {\n",
              "  color: var(--sklearn-color-text);\n",
              "}\n",
              "\n",
              "/* Toggleable content - dropdown */\n",
              "\n",
              "#sk-container-id-1 div.sk-toggleable__content {\n",
              "  max-height: 0;\n",
              "  max-width: 0;\n",
              "  overflow: hidden;\n",
              "  text-align: left;\n",
              "  /* unfitted */\n",
              "  background-color: var(--sklearn-color-unfitted-level-0);\n",
              "}\n",
              "\n",
              "#sk-container-id-1 div.sk-toggleable__content.fitted {\n",
              "  /* fitted */\n",
              "  background-color: var(--sklearn-color-fitted-level-0);\n",
              "}\n",
              "\n",
              "#sk-container-id-1 div.sk-toggleable__content pre {\n",
              "  margin: 0.2em;\n",
              "  border-radius: 0.25em;\n",
              "  color: var(--sklearn-color-text);\n",
              "  /* unfitted */\n",
              "  background-color: var(--sklearn-color-unfitted-level-0);\n",
              "}\n",
              "\n",
              "#sk-container-id-1 div.sk-toggleable__content.fitted pre {\n",
              "  /* unfitted */\n",
              "  background-color: var(--sklearn-color-fitted-level-0);\n",
              "}\n",
              "\n",
              "#sk-container-id-1 input.sk-toggleable__control:checked~div.sk-toggleable__content {\n",
              "  /* Expand drop-down */\n",
              "  max-height: 200px;\n",
              "  max-width: 100%;\n",
              "  overflow: auto;\n",
              "}\n",
              "\n",
              "#sk-container-id-1 input.sk-toggleable__control:checked~label.sk-toggleable__label-arrow:before {\n",
              "  content: \"▾\";\n",
              "}\n",
              "\n",
              "/* Pipeline/ColumnTransformer-specific style */\n",
              "\n",
              "#sk-container-id-1 div.sk-label input.sk-toggleable__control:checked~label.sk-toggleable__label {\n",
              "  color: var(--sklearn-color-text);\n",
              "  background-color: var(--sklearn-color-unfitted-level-2);\n",
              "}\n",
              "\n",
              "#sk-container-id-1 div.sk-label.fitted input.sk-toggleable__control:checked~label.sk-toggleable__label {\n",
              "  background-color: var(--sklearn-color-fitted-level-2);\n",
              "}\n",
              "\n",
              "/* Estimator-specific style */\n",
              "\n",
              "/* Colorize estimator box */\n",
              "#sk-container-id-1 div.sk-estimator input.sk-toggleable__control:checked~label.sk-toggleable__label {\n",
              "  /* unfitted */\n",
              "  background-color: var(--sklearn-color-unfitted-level-2);\n",
              "}\n",
              "\n",
              "#sk-container-id-1 div.sk-estimator.fitted input.sk-toggleable__control:checked~label.sk-toggleable__label {\n",
              "  /* fitted */\n",
              "  background-color: var(--sklearn-color-fitted-level-2);\n",
              "}\n",
              "\n",
              "#sk-container-id-1 div.sk-label label.sk-toggleable__label,\n",
              "#sk-container-id-1 div.sk-label label {\n",
              "  /* The background is the default theme color */\n",
              "  color: var(--sklearn-color-text-on-default-background);\n",
              "}\n",
              "\n",
              "/* On hover, darken the color of the background */\n",
              "#sk-container-id-1 div.sk-label:hover label.sk-toggleable__label {\n",
              "  color: var(--sklearn-color-text);\n",
              "  background-color: var(--sklearn-color-unfitted-level-2);\n",
              "}\n",
              "\n",
              "/* Label box, darken color on hover, fitted */\n",
              "#sk-container-id-1 div.sk-label.fitted:hover label.sk-toggleable__label.fitted {\n",
              "  color: var(--sklearn-color-text);\n",
              "  background-color: var(--sklearn-color-fitted-level-2);\n",
              "}\n",
              "\n",
              "/* Estimator label */\n",
              "\n",
              "#sk-container-id-1 div.sk-label label {\n",
              "  font-family: monospace;\n",
              "  font-weight: bold;\n",
              "  display: inline-block;\n",
              "  line-height: 1.2em;\n",
              "}\n",
              "\n",
              "#sk-container-id-1 div.sk-label-container {\n",
              "  text-align: center;\n",
              "}\n",
              "\n",
              "/* Estimator-specific */\n",
              "#sk-container-id-1 div.sk-estimator {\n",
              "  font-family: monospace;\n",
              "  border: 1px dotted var(--sklearn-color-border-box);\n",
              "  border-radius: 0.25em;\n",
              "  box-sizing: border-box;\n",
              "  margin-bottom: 0.5em;\n",
              "  /* unfitted */\n",
              "  background-color: var(--sklearn-color-unfitted-level-0);\n",
              "}\n",
              "\n",
              "#sk-container-id-1 div.sk-estimator.fitted {\n",
              "  /* fitted */\n",
              "  background-color: var(--sklearn-color-fitted-level-0);\n",
              "}\n",
              "\n",
              "/* on hover */\n",
              "#sk-container-id-1 div.sk-estimator:hover {\n",
              "  /* unfitted */\n",
              "  background-color: var(--sklearn-color-unfitted-level-2);\n",
              "}\n",
              "\n",
              "#sk-container-id-1 div.sk-estimator.fitted:hover {\n",
              "  /* fitted */\n",
              "  background-color: var(--sklearn-color-fitted-level-2);\n",
              "}\n",
              "\n",
              "/* Specification for estimator info (e.g. \"i\" and \"?\") */\n",
              "\n",
              "/* Common style for \"i\" and \"?\" */\n",
              "\n",
              ".sk-estimator-doc-link,\n",
              "a:link.sk-estimator-doc-link,\n",
              "a:visited.sk-estimator-doc-link {\n",
              "  float: right;\n",
              "  font-size: smaller;\n",
              "  line-height: 1em;\n",
              "  font-family: monospace;\n",
              "  background-color: var(--sklearn-color-background);\n",
              "  border-radius: 1em;\n",
              "  height: 1em;\n",
              "  width: 1em;\n",
              "  text-decoration: none !important;\n",
              "  margin-left: 1ex;\n",
              "  /* unfitted */\n",
              "  border: var(--sklearn-color-unfitted-level-1) 1pt solid;\n",
              "  color: var(--sklearn-color-unfitted-level-1);\n",
              "}\n",
              "\n",
              ".sk-estimator-doc-link.fitted,\n",
              "a:link.sk-estimator-doc-link.fitted,\n",
              "a:visited.sk-estimator-doc-link.fitted {\n",
              "  /* fitted */\n",
              "  border: var(--sklearn-color-fitted-level-1) 1pt solid;\n",
              "  color: var(--sklearn-color-fitted-level-1);\n",
              "}\n",
              "\n",
              "/* On hover */\n",
              "div.sk-estimator:hover .sk-estimator-doc-link:hover,\n",
              ".sk-estimator-doc-link:hover,\n",
              "div.sk-label-container:hover .sk-estimator-doc-link:hover,\n",
              ".sk-estimator-doc-link:hover {\n",
              "  /* unfitted */\n",
              "  background-color: var(--sklearn-color-unfitted-level-3);\n",
              "  color: var(--sklearn-color-background);\n",
              "  text-decoration: none;\n",
              "}\n",
              "\n",
              "div.sk-estimator.fitted:hover .sk-estimator-doc-link.fitted:hover,\n",
              ".sk-estimator-doc-link.fitted:hover,\n",
              "div.sk-label-container:hover .sk-estimator-doc-link.fitted:hover,\n",
              ".sk-estimator-doc-link.fitted:hover {\n",
              "  /* fitted */\n",
              "  background-color: var(--sklearn-color-fitted-level-3);\n",
              "  color: var(--sklearn-color-background);\n",
              "  text-decoration: none;\n",
              "}\n",
              "\n",
              "/* Span, style for the box shown on hovering the info icon */\n",
              ".sk-estimator-doc-link span {\n",
              "  display: none;\n",
              "  z-index: 9999;\n",
              "  position: relative;\n",
              "  font-weight: normal;\n",
              "  right: .2ex;\n",
              "  padding: .5ex;\n",
              "  margin: .5ex;\n",
              "  width: min-content;\n",
              "  min-width: 20ex;\n",
              "  max-width: 50ex;\n",
              "  color: var(--sklearn-color-text);\n",
              "  box-shadow: 2pt 2pt 4pt #999;\n",
              "  /* unfitted */\n",
              "  background: var(--sklearn-color-unfitted-level-0);\n",
              "  border: .5pt solid var(--sklearn-color-unfitted-level-3);\n",
              "}\n",
              "\n",
              ".sk-estimator-doc-link.fitted span {\n",
              "  /* fitted */\n",
              "  background: var(--sklearn-color-fitted-level-0);\n",
              "  border: var(--sklearn-color-fitted-level-3);\n",
              "}\n",
              "\n",
              ".sk-estimator-doc-link:hover span {\n",
              "  display: block;\n",
              "}\n",
              "\n",
              "/* \"?\"-specific style due to the `<a>` HTML tag */\n",
              "\n",
              "#sk-container-id-1 a.estimator_doc_link {\n",
              "  float: right;\n",
              "  font-size: 1rem;\n",
              "  line-height: 1em;\n",
              "  font-family: monospace;\n",
              "  background-color: var(--sklearn-color-background);\n",
              "  border-radius: 1rem;\n",
              "  height: 1rem;\n",
              "  width: 1rem;\n",
              "  text-decoration: none;\n",
              "  /* unfitted */\n",
              "  color: var(--sklearn-color-unfitted-level-1);\n",
              "  border: var(--sklearn-color-unfitted-level-1) 1pt solid;\n",
              "}\n",
              "\n",
              "#sk-container-id-1 a.estimator_doc_link.fitted {\n",
              "  /* fitted */\n",
              "  border: var(--sklearn-color-fitted-level-1) 1pt solid;\n",
              "  color: var(--sklearn-color-fitted-level-1);\n",
              "}\n",
              "\n",
              "/* On hover */\n",
              "#sk-container-id-1 a.estimator_doc_link:hover {\n",
              "  /* unfitted */\n",
              "  background-color: var(--sklearn-color-unfitted-level-3);\n",
              "  color: var(--sklearn-color-background);\n",
              "  text-decoration: none;\n",
              "}\n",
              "\n",
              "#sk-container-id-1 a.estimator_doc_link.fitted:hover {\n",
              "  /* fitted */\n",
              "  background-color: var(--sklearn-color-fitted-level-3);\n",
              "}\n",
              "</style><div id=\"sk-container-id-1\" class=\"sk-top-container\"><div class=\"sk-text-repr-fallback\"><pre>FactorAnalyzer(n_factors=2, rotation=&#x27;varimax&#x27;, rotation_kwargs={})</pre><b>In a Jupyter environment, please rerun this cell to show the HTML representation or trust the notebook. <br />On GitHub, the HTML representation is unable to render, please try loading this page with nbviewer.org.</b></div><div class=\"sk-container\" hidden><div class=\"sk-item\"><div class=\"sk-estimator fitted sk-toggleable\"><input class=\"sk-toggleable__control sk-hidden--visually\" id=\"sk-estimator-id-1\" type=\"checkbox\" checked><label for=\"sk-estimator-id-1\" class=\"sk-toggleable__label fitted sk-toggleable__label-arrow fitted\">&nbsp;FactorAnalyzer<span class=\"sk-estimator-doc-link fitted\">i<span>Fitted</span></span></label><div class=\"sk-toggleable__content fitted\"><pre>FactorAnalyzer(n_factors=2, rotation=&#x27;varimax&#x27;, rotation_kwargs={})</pre></div> </div></div></div></div>"
            ]
          },
          "metadata": {},
          "execution_count": 10
        }
      ]
    },
    {
      "cell_type": "code",
      "source": [
        "fa.get_eigenvalues()"
      ],
      "metadata": {
        "colab": {
          "base_uri": "https://localhost:8080/"
        },
        "id": "HcUCJmZztxYQ",
        "outputId": "3429d6da-718b-4ab8-ab27-0bd7ef7ffb4b"
      },
      "execution_count": 11,
      "outputs": [
        {
          "output_type": "execute_result",
          "data": {
            "text/plain": [
              "(array([2.91849782, 0.91403047, 0.14675688, 0.02071484]),\n",
              " array([ 2.84243329,  0.88505993,  0.00853874, -0.01435222]))"
            ]
          },
          "metadata": {},
          "execution_count": 11
        }
      ]
    },
    {
      "cell_type": "code",
      "source": [
        "print(pd.DataFrame(fa.loadings_,index=feature_names))"
      ],
      "metadata": {
        "colab": {
          "base_uri": "https://localhost:8080/"
        },
        "id": "9feXTlwKtxV6",
        "outputId": "ea8c668b-7053-44b4-9482-265277421b5a"
      },
      "execution_count": 12,
      "outputs": [
        {
          "output_type": "stream",
          "name": "stdout",
          "text": [
            "                          0         1\n",
            "sepal length (cm)  0.901205  0.017890\n",
            "sepal width (cm)  -0.150413  0.986195\n",
            "petal length (cm)  0.964153 -0.284619\n",
            "petal width (cm)   0.921401 -0.233245\n"
          ]
        }
      ]
    },
    {
      "cell_type": "code",
      "source": [
        "print(pd.DataFrame(fa.get_factor_variance(), index=['sum','proportional','cumulative']))"
      ],
      "metadata": {
        "colab": {
          "base_uri": "https://localhost:8080/"
        },
        "id": "sPIAlVCRtxTW",
        "outputId": "e14bab03-6a20-4c85-caec-a6ba0d197f82"
      },
      "execution_count": 13,
      "outputs": [
        {
          "output_type": "stream",
          "name": "stdout",
          "text": [
            "                     0         1\n",
            "sum           2.613367  1.108312\n",
            "proportional  0.653342  0.277078\n",
            "cumulative    0.653342  0.930420\n"
          ]
        }
      ]
    },
    {
      "cell_type": "markdown",
      "source": [
        "Sources:\n",
        "\n",
        "- Skilearn - Factor Analysis: https://scikit-learn.org/stable/modules/generated/sklearn.decomposition.FactorAnalysis.html\n",
        "\n",
        "- Numpy - Correlation:v=https://www.scaler.com/topics/numpy-correlation/\n",
        "- Barlett sphercity: https://help.displayr.com/hc/en-us/articles/4402124219151-How-to-Do-a-Bartlett-s-Test-of-Sphericity\n",
        "- Factor Analyzer: https://pypi.org/project/factor-analyzer/\n",
        "- Factor Analyzer: https://factor-analyzer.readthedocs.io/en/latest/\n",
        "- Factor Analyzer: https://factor-analyzer.readthedocs.io/en/latest/factor_analyzer.html\n",
        "- rotation: https://scikit-learn.org/stable/auto_examples/decomposition/plot_varimax_fa.html\n"
      ],
      "metadata": {
        "id": "T7PFe_6hmHvw"
      }
    }
  ]
}